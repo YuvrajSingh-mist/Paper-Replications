{
  "cells": [
    {
      "cell_type": "code",
      "execution_count": 1,
      "metadata": {
        "colab": {
          "base_uri": "https://localhost:8080/"
        },
        "id": "yT4-cJTxT7vN",
        "outputId": "9fab5d1b-1e46-4a4f-8934-66975bedfe7a"
      },
      "outputs": [
        {
          "name": "stderr",
          "output_type": "stream",
          "text": [
            "/home/yuvraj-singh/anaconda3/envs/unsloth_env/lib/python3.11/site-packages/albumentations/__init__.py:13: UserWarning: A new version of Albumentations is available: 1.4.18 (you have 1.4.17). Upgrade using: pip install -U albumentations. To disable automatic update checks, set the environment variable NO_ALBUMENTATIONS_UPDATE to 1.\n",
            "  check_for_updates()\n"
          ]
        }
      ],
      "source": [
        "import torch\n",
        "import torch.nn as nn\n",
        "import torch.nn.functional as F\n",
        "from dataclasses import dataclass\n",
        "\n",
        "from pathlib import Path\n",
        "from transformers import RobertaTokenizer, RobertaModel\n",
        "from torch.utils.data import Dataset, DataLoader\n",
        "from torch.utils.data import random_split\n",
        "from PIL import Image\n",
        "\n",
        "# from transformers import ViTImageProcessor, ViTForImageClassification, ViTFeatureExtractor\n",
        "import os\n",
        "# from going_modular import engine\n",
        "# import engine\n",
        "\n",
        "from going_modular import engine\n",
        "import pandas as pd\n",
        "import numpy as np\n",
        "import itertools\n",
        "\n",
        "import albumentations as A\n",
        "from albumentations.pytorch import ToTensorV2\n",
        "from dataclasses import dataclass\n"
      ]
    },
    {
      "cell_type": "code",
      "execution_count": 3,
      "metadata": {
        "id": "aZpNtlnvVtW1"
      },
      "outputs": [],
      "source": [
        "df = pd.read_csv('/content/drive/MyDrive/data/flickr8000/captions.txt', sep=',')\n",
        "# df = df.sample(frac=0.01, random_state=42)"
      ]
    },
    {
      "cell_type": "code",
      "execution_count": 5,
      "metadata": {
        "id": "17LoPNOQT7vO"
      },
      "outputs": [],
      "source": [
        "@dataclass\n",
        "class llavaArgs:\n",
        "    batch_size = 32\n",
        "    device = 'cuda'\n",
        "    vis_embd_out = 768\n",
        "    text_embd_out = 768\n",
        "    vocab_size = 50257\n",
        "    block_size = 256\n",
        "    lr = 1e-3\n",
        "    text_hidden =  768 * 4"
      ]
    },
    {
      "cell_type": "code",
      "execution_count": 6,
      "metadata": {
        "id": "OnNrJXeCT7vO"
      },
      "outputs": [],
      "source": [
        "import torch\n",
        "import torch.nn as nn\n",
        "from transformers import CLIPModel, CLIPFeatureExtractor\n",
        "from PIL import Image\n",
        "import requests\n",
        "\n",
        "# Vision model class using CLIP\n",
        "class VisionModel(nn.Module):\n",
        "    def __init__(self):\n",
        "        super().__init__()\n",
        "\n",
        "        self.model = CLIPModel.from_pretrained(\"openai/clip-vit-base-patch16\").vision_model\n",
        "\n",
        "\n",
        "        self.feature_extractor = CLIPFeatureExtractor.from_pretrained(\"openai/clip-vit-base-patch16\")\n",
        "\n",
        "        self.multimodalVisionLayerProjector = nn.Linear(in_features=llavaArgs.vis_embd_out, out_features=llavaArgs.text_embd_out, device=llavaArgs.device) # Use proper dimensions\n",
        "\n",
        "        self.main = nn.Sequential(\n",
        "            nn.Flatten()\n",
        "        )\n",
        "\n",
        "\n",
        "        for p in self.model.parameters():\n",
        "            p.requires_grad = False\n",
        "\n",
        "    def forward(self, x):\n",
        "\n",
        "        # inputs = self.feature_extractor(x['image'], return_tensors=\"pt\")\n",
        "        # inputs = inputs.to(llavaArgs.device)\n",
        "\n",
        "\n",
        "        with torch.no_grad():\n",
        "            outputs = self.model(x)\n",
        "\n",
        "\n",
        "        x = outputs.pooler_output  # Get the pooled image embeddings (shape: [batch_size, 768])\n",
        "\n",
        "\n",
        "        x = self.main(x)\n",
        "        # return x\n",
        "        return self.multimodalVisionLayerProjector(x)\n"
      ]
    },
    {
      "cell_type": "code",
      "execution_count": null,
      "metadata": {
        "colab": {
          "base_uri": "https://localhost:8080/"
        },
        "id": "Y-7bjKyPT7vO",
        "outputId": "0389dfd1-962e-458e-b229-ba3ec4b4d711"
      },
      "outputs": [
        {
          "name": "stderr",
          "output_type": "stream",
          "text": [
            "/usr/local/lib/python3.10/dist-packages/transformers/tokenization_utils_base.py:1601: FutureWarning: `clean_up_tokenization_spaces` was not set. It will be set to `True` by default. This behavior will be depracted in transformers v4.45, and will be then set to `False` by default. For more details check this issue: https://github.com/huggingface/transformers/issues/31884\n",
            "  warnings.warn(\n"
          ]
        }
      ],
      "source": [
        "#Language Decoder\n",
        "\n",
        "from transformers import AutoTokenizer, AutoModelForCausalLM, BitsAndBytesConfig\n",
        "\n",
        "# bnb_config = BitsAndBytesConfig(\n",
        "#     load_in_4bit=True,\n",
        "#     bnb_4bit_use_double_quant=True,\n",
        "#     bnb_4bit_quant_type=\"nf4\",\n",
        "#      bnb_4bit_compute_dtype=torch.bfloat16\n",
        "#     )\n",
        "\n",
        "tokenizer = AutoTokenizer.from_pretrained(\"openai-community/gpt2\")\n",
        "\n",
        "class TextModel(nn.Module):\n",
        "    def __init__(self):\n",
        "        super().__init__()\n",
        "\n",
        "\n",
        "\n",
        "\n",
        "        self.model = AutoModelForCausalLM.from_pretrained(\"openai-community/gpt2\", device_map='cuda', torch_dtype='auto', output_hidden_states=True)\n",
        "        self.tokenizer = tokenizer\n",
        "        self.linear_layer = nn.Linear(in_features=llavaArgs.text_embd_out, out_features=llavaArgs.vocab_size, device=llavaArgs.device, bias=False) # Takes in logits of dimensions- embeds_dims and converts it into dimension of vocab_size (logits in range of vocab_size)\n",
        "\n",
        "\n",
        "        for p in self.model.parameters():\n",
        "            p.requires_grad = False\n",
        "\n",
        "    def forward(self, x, embeds=True):\n",
        "\n",
        "        if(embeds):\n",
        "\n",
        "          x = self.model(inputs_embeds=x).hidden_states[-1]\n",
        "          x = self.linear_layer(x)\n",
        "          return x\n",
        "        else:\n",
        "          x = self.model(input_ids = x['input_ids'], attention_mask = x['attention_mask'])\n",
        "          return x\n",
        "\n",
        "\n"
      ]
    },
    {
      "cell_type": "code",
      "execution_count": 17,
      "metadata": {
        "id": "BsgaT1nET7vP"
      },
      "outputs": [],
      "source": [
        "#Projector\n",
        "\n",
        "class Projector(nn.Module):\n",
        "    def __init__(self):\n",
        "\n",
        "        super().__init__()\n",
        "\n",
        "        self.linear_layer = nn.Linear(in_features=llavaArgs.vis_embd_out, out_features=llavaArgs.text_embd_out, device=llavaArgs.device)\n",
        "\n",
        "    def forward(self, x):\n",
        "        out = self.linear_layer(x)\n",
        "        return out"
      ]
    },
    {
      "cell_type": "code",
      "execution_count": 19,
      "metadata": {
        "id": "SXGRX3ptVUtn"
      },
      "outputs": [],
      "source": [
        "train_transforms = A.Compose(\n",
        "    [\n",
        "        A.Resize(height=224, width=224),\n",
        "        A.CenterCrop(height=224, width=224),\n",
        "        # A.Normalize(mean=[0.48145466, 0.4578275, 0.40821073], std=[0.26862954, 0.26130258, 0.27577711], max_pixel_value=224.0,),\n",
        "        # A.ToFloat(max_value=224),\n",
        "        ToTensorV2(),\n",
        "    ]\n",
        ")\n",
        "\n",
        "test_tyransforms = A.Compose(\n",
        "    [\n",
        "        # A.Normalize(mean=[0.48145466, 0.4578275, 0.40821073], std=[0.26862954, 0.26130258, 0.27577711], max_pixel_value=224.0,),\n",
        "        # A.ToFloat(max_value=224),\n",
        "        ToTensorV2(),\n",
        "    ]\n",
        ")\n",
        "\n",
        "class CLiPDatatset(Dataset):\n",
        "    def __init__(self, path):\n",
        "        self.tokenizer = tokenizer\n",
        "        self.path = path\n",
        "        self.block_size = llavaArgs.block_size\n",
        "        # self.dir = os.listdir(self.path)\n",
        "    def __len__(self):\n",
        "\n",
        "        return df.shape[0]\n",
        "\n",
        "    def __getitem__(self, idx):\n",
        "\n",
        "        self.tokenizer.pad_token = self.tokenizer.eos_token\n",
        "\n",
        "        text, img = df.iloc[idx][1], df.iloc[idx][0]\n",
        "        # print(text)\n",
        "        # print(img)\n",
        "        img_path = os.path.join(self.path, img)\n",
        "        # print(img_path)\n",
        "        img = np.array(Image.open(img_path))\n",
        "\n",
        "        input_transformed = train_transforms(image = img)['image']\n",
        "\n",
        "        text_tokenized = self.tokenizer(text, return_tensors='pt', padding='max_length', truncation=True, max_length=llavaArgs.block_size)\n",
        "\n",
        "\n",
        "        # Get the input_ids tensor\n",
        "        input_ids = text_tokenized['input_ids'][0]  # Access the actual input IDs tensor\n",
        "\n",
        "        if input_ids.size(0) > 1:\n",
        "                    # Create x (input) and y (target) sequences for next word prediction\n",
        "                    x = input_ids[:-1]  # All tokens except the last one\n",
        "                    y = input_ids[1:]   # All tokens except the first one\n",
        "        else:\n",
        "            # If the sequence is too short, x and y will be identical\n",
        "            x = input_ids\n",
        "            y = input_ids\n",
        "\n",
        "        # Apply block size limit\n",
        "        if x.size(0) > self.block_size:\n",
        "            x = x[:self.block_size]\n",
        "            y = y[:self.block_size]\n",
        "\n",
        "        # Padding x\n",
        "        if x.size(0) < self.block_size:\n",
        "            padding_size = self.block_size - x.size(0)\n",
        "            x = torch.cat([x, torch.full((padding_size,), tokenizer.pad_token_id)])\n",
        "\n",
        "        # Padding y\n",
        "        if y.size(0) < self.block_size:\n",
        "            padding_size = self.block_size - y.size(0)\n",
        "            y = torch.cat([y, torch.full((padding_size,), tokenizer.pad_token_id)])\n",
        "\n",
        "\n",
        "        attention_mask = torch.ones_like(x)\n",
        "        torch.where(input_ids == tokenizer.pad_token_id, torch.tensor(0), attention_mask)\n",
        "        # Pack inputs and outputs in dictionaries\n",
        "        x_encoded_items = {\n",
        "            'input_ids': x,\n",
        "            # 'attention_mask': text_tokenized['attention_mask'][0][:x.size(0)],  # Corresponding attention mask\n",
        "            'attention_mask': attention_mask,\n",
        "            'image': input_transformed,\n",
        "        }\n",
        "        y_encoded_items = {\n",
        "            'input_ids': y,\n",
        "        }\n",
        "\n",
        "        return x_encoded_items, y_encoded_items\n",
        "\n",
        "\n",
        "\n",
        "\n",
        "\n",
        "dir = '/content/drive/MyDrive/data/flickr8000/Images'\n",
        "dataset = CLiPDatatset(dir)\n",
        "\n",
        "# Assuming 'dataset' is already created\n",
        "# Split the dataset into training and validation sets\n",
        "train_size = int(0.2 * len(dataset))\n",
        "val_size = len(dataset) - train_size\n",
        "train_dataset, val_dataset = random_split(dataset, [train_size, val_size])\n",
        "\n",
        "\n",
        "#Creating dataloaders\n",
        "\n",
        "trainloader = DataLoader(train_dataset, batch_size=llavaArgs.batch_size, shuffle=True)\n",
        "valloader = DataLoader(val_dataset, batch_size=llavaArgs.batch_size, shuffle=False)\n",
        "\n"
      ]
    },
    {
      "cell_type": "code",
      "execution_count": 20,
      "metadata": {
        "id": "DQEq_lqtT7vP"
      },
      "outputs": [],
      "source": [
        "class Llava(nn.Module):\n",
        "    def __init__(self):\n",
        "\n",
        "        super().__init__()\n",
        "\n",
        "\n",
        "        self.projector = Projector()\n",
        "        self.vision = VisionModel()\n",
        "        self.lang = TextModel()\n",
        "        # self.embd = nn.Embedding(num_embeddings=llavaArgs.vocab_size, embedding_dim=llavaArgs.text_embd_out, device=llavaArgs.device, dtype=torch.float32)\n",
        "\n",
        "    def forward(self, x):\n",
        "        # print(X)\n",
        "        vis_out = self.vision(x['image']).unsqueeze(1)\n",
        "        # print(vis_out.shape)\n",
        "        text_out = self.lang(x, False).hidden_states[-1]\n",
        "\n",
        "\n",
        "        combined = vis_out + text_out\n",
        "\n",
        "        combined_out = self.lang(combined, embeds=True)\n",
        "\n",
        "\n",
        "        return combined_out\n"
      ]
    },
    {
      "cell_type": "code",
      "execution_count": 22,
      "metadata": {
        "colab": {
          "base_uri": "https://localhost:8080/"
        },
        "id": "FealIa53T7vP",
        "outputId": "40685046-628e-433e-97b1-510e0e4eae27"
      },
      "outputs": [
        {
          "name": "stderr",
          "output_type": "stream",
          "text": [
            "/usr/local/lib/python3.10/dist-packages/transformers/models/clip/feature_extraction_clip.py:28: FutureWarning: The class CLIPFeatureExtractor is deprecated and will be removed in version 5 of Transformers. Please use CLIPImageProcessor instead.\n",
            "  warnings.warn(\n"
          ]
        },
        {
          "data": {
            "text/plain": [
              "Llava(\n",
              "  (projector): Projector(\n",
              "    (linear_layer): Linear(in_features=768, out_features=768, bias=True)\n",
              "  )\n",
              "  (vision): VisionModel(\n",
              "    (model): CLIPVisionTransformer(\n",
              "      (embeddings): CLIPVisionEmbeddings(\n",
              "        (patch_embedding): Conv2d(3, 768, kernel_size=(16, 16), stride=(16, 16), bias=False)\n",
              "        (position_embedding): Embedding(197, 768)\n",
              "      )\n",
              "      (pre_layrnorm): LayerNorm((768,), eps=1e-05, elementwise_affine=True)\n",
              "      (encoder): CLIPEncoder(\n",
              "        (layers): ModuleList(\n",
              "          (0-11): 12 x CLIPEncoderLayer(\n",
              "            (self_attn): CLIPSdpaAttention(\n",
              "              (k_proj): Linear(in_features=768, out_features=768, bias=True)\n",
              "              (v_proj): Linear(in_features=768, out_features=768, bias=True)\n",
              "              (q_proj): Linear(in_features=768, out_features=768, bias=True)\n",
              "              (out_proj): Linear(in_features=768, out_features=768, bias=True)\n",
              "            )\n",
              "            (layer_norm1): LayerNorm((768,), eps=1e-05, elementwise_affine=True)\n",
              "            (mlp): CLIPMLP(\n",
              "              (activation_fn): QuickGELUActivation()\n",
              "              (fc1): Linear(in_features=768, out_features=3072, bias=True)\n",
              "              (fc2): Linear(in_features=3072, out_features=768, bias=True)\n",
              "            )\n",
              "            (layer_norm2): LayerNorm((768,), eps=1e-05, elementwise_affine=True)\n",
              "          )\n",
              "        )\n",
              "      )\n",
              "      (post_layernorm): LayerNorm((768,), eps=1e-05, elementwise_affine=True)\n",
              "    )\n",
              "    (multimodalVisionLayerProjector): Linear(in_features=768, out_features=768, bias=True)\n",
              "    (main): Sequential(\n",
              "      (0): Flatten(start_dim=1, end_dim=-1)\n",
              "    )\n",
              "  )\n",
              "  (lang): TextModel(\n",
              "    (model): GPT2LMHeadModel(\n",
              "      (transformer): GPT2Model(\n",
              "        (wte): Embedding(50257, 768)\n",
              "        (wpe): Embedding(1024, 768)\n",
              "        (drop): Dropout(p=0.1, inplace=False)\n",
              "        (h): ModuleList(\n",
              "          (0-11): 12 x GPT2Block(\n",
              "            (ln_1): LayerNorm((768,), eps=1e-05, elementwise_affine=True)\n",
              "            (attn): GPT2SdpaAttention(\n",
              "              (c_attn): Conv1D()\n",
              "              (c_proj): Conv1D()\n",
              "              (attn_dropout): Dropout(p=0.1, inplace=False)\n",
              "              (resid_dropout): Dropout(p=0.1, inplace=False)\n",
              "            )\n",
              "            (ln_2): LayerNorm((768,), eps=1e-05, elementwise_affine=True)\n",
              "            (mlp): GPT2MLP(\n",
              "              (c_fc): Conv1D()\n",
              "              (c_proj): Conv1D()\n",
              "              (act): NewGELUActivation()\n",
              "              (dropout): Dropout(p=0.1, inplace=False)\n",
              "            )\n",
              "          )\n",
              "        )\n",
              "        (ln_f): LayerNorm((768,), eps=1e-05, elementwise_affine=True)\n",
              "      )\n",
              "      (lm_head): Linear(in_features=768, out_features=50257, bias=False)\n",
              "    )\n",
              "    (linear_layer): Linear(in_features=768, out_features=50257, bias=False)\n",
              "  )\n",
              ")"
            ]
          },
          "execution_count": 22,
          "metadata": {},
          "output_type": "execute_result"
        }
      ],
      "source": [
        "llava = Llava()\n",
        "llava.to(llavaArgs.device)"
      ]
    },
    {
      "cell_type": "code",
      "execution_count": 25,
      "metadata": {
        "id": "r9GoVSokNUdE"
      },
      "outputs": [],
      "source": []
    },
    {
      "cell_type": "code",
      "execution_count": 30,
      "metadata": {
        "colab": {
          "base_uri": "https://localhost:8080/"
        },
        "id": "guKPG0z_Drh9",
        "outputId": "8973c951-30eb-4075-a17d-d72933c77574"
      },
      "outputs": [
        {
          "name": "stdout",
          "output_type": "stream",
          "text": [
            "Total trainable parameters: 39778560\n"
          ]
        }
      ],
      "source": [
        "def count_parameters(model):\n",
        "    return sum(p.numel() for p in model.parameters() if p.requires_grad)\n",
        "\n",
        "# Assuming 'llava' is an instance of the Llava model\n",
        "total_params = count_parameters(llava)\n",
        "print(f\"Total trainable parameters: {total_params}\")\n"
      ]
    },
    {
      "cell_type": "code",
      "execution_count": 31,
      "metadata": {
        "colab": {
          "base_uri": "https://localhost:8080/",
          "height": 191,
          "referenced_widgets": [
            "9c83447d17bf4e7f9685d34cc3e12b02",
            "2e9fe9e49a2442518286361b680aeb0d",
            "c5c5159f78454656a5566993a4697561",
            "5c931cb8ee8643a585740a84311dad7e",
            "1978c97149cc4a91b9e9eee70c7f2da8",
            "fd0876fec0cd4677993fca6ecdab57ec",
            "7edc3cd0f71245a599eae0c44fdd95f0",
            "eb900d6cbbd24dc78b8d75f35d25056b",
            "d69925dc796641618c9cf0f6de92fb81",
            "29c261dde64a463bacb6eac52d15270b",
            "27348db4c96d44c9b670222bc7e9cfe6"
          ]
        },
        "id": "vfMPNgBqPwW_",
        "outputId": "4cfded67-8b59-4ad7-e306-9b55258cc4fb"
      },
      "outputs": [
        {
          "data": {
            "application/vnd.jupyter.widget-view+json": {
              "model_id": "9c83447d17bf4e7f9685d34cc3e12b02",
              "version_major": 2,
              "version_minor": 0
            },
            "text/plain": [
              "  0%|          | 0/5 [00:00<?, ?it/s]"
            ]
          },
          "metadata": {},
          "output_type": "display_data"
        },
        {
          "name": "stderr",
          "output_type": "stream",
          "text": [
            "<ipython-input-19-9aa1dd775ec7>:33: FutureWarning: Series.__getitem__ treating keys as positions is deprecated. In a future version, integer keys will always be treated as labels (consistent with DataFrame behavior). To access a value by position, use `ser.iloc[pos]`\n",
            "  text, img = df.iloc[idx][1], df.iloc[idx][0]\n"
          ]
        },
        {
          "name": "stdout",
          "output_type": "stream",
          "text": [
            "Epoch: 1 | train_loss: 0.7070 | test_loss: 0.2627 \n",
            "Epoch: 2 | train_loss: 0.2632 | test_loss: 0.2507 \n",
            "Epoch: 3 | train_loss: 0.2523 | test_loss: 0.2407 \n",
            "Epoch: 4 | train_loss: 0.2428 | test_loss: 0.2315 \n",
            "Epoch: 5 | train_loss: 0.2341 | test_loss: 0.2239 \n"
          ]
        }
      ],
      "source": [
        "optimizer = torch.optim.Adam(lr=llavaArgs.lr, params=llava.parameters())\n",
        "loss_fn = nn.CrossEntropyLoss()\n",
        "\n",
        "results = engine.train(model=llava,\n",
        "                       writer=None,\n",
        "                       train_dataloader=trainloader,\n",
        "                       test_dataloader=valloader,\n",
        "                       optimizer=optimizer,\n",
        "                       loss_fn=loss_fn,\n",
        "                       epochs=5,\n",
        "                       device=llavaArgs.device)"
      ]
    }
  ],
  "metadata": {
    "accelerator": "GPU",
    "colab": {
      "gpuType": "L4",
      "machine_shape": "hm",
      "provenance": []
    },
    "kernelspec": {
      "display_name": "unsloth_env",
      "language": "python",
      "name": "python3"
    },
    "language_info": {
      "codemirror_mode": {
        "name": "ipython",
        "version": 3
      },
      "file_extension": ".py",
      "mimetype": "text/x-python",
      "name": "python",
      "nbconvert_exporter": "python",
      "pygments_lexer": "ipython3",
      "version": "3.11.11"
    },
    "widgets": {
      "application/vnd.jupyter.widget-state+json": {
        "1978c97149cc4a91b9e9eee70c7f2da8": {
          "model_module": "@jupyter-widgets/base",
          "model_module_version": "1.2.0",
          "model_name": "LayoutModel",
          "state": {
            "_model_module": "@jupyter-widgets/base",
            "_model_module_version": "1.2.0",
            "_model_name": "LayoutModel",
            "_view_count": null,
            "_view_module": "@jupyter-widgets/base",
            "_view_module_version": "1.2.0",
            "_view_name": "LayoutView",
            "align_content": null,
            "align_items": null,
            "align_self": null,
            "border": null,
            "bottom": null,
            "display": null,
            "flex": null,
            "flex_flow": null,
            "grid_area": null,
            "grid_auto_columns": null,
            "grid_auto_flow": null,
            "grid_auto_rows": null,
            "grid_column": null,
            "grid_gap": null,
            "grid_row": null,
            "grid_template_areas": null,
            "grid_template_columns": null,
            "grid_template_rows": null,
            "height": null,
            "justify_content": null,
            "justify_items": null,
            "left": null,
            "margin": null,
            "max_height": null,
            "max_width": null,
            "min_height": null,
            "min_width": null,
            "object_fit": null,
            "object_position": null,
            "order": null,
            "overflow": null,
            "overflow_x": null,
            "overflow_y": null,
            "padding": null,
            "right": null,
            "top": null,
            "visibility": null,
            "width": null
          }
        },
        "27348db4c96d44c9b670222bc7e9cfe6": {
          "model_module": "@jupyter-widgets/controls",
          "model_module_version": "1.5.0",
          "model_name": "DescriptionStyleModel",
          "state": {
            "_model_module": "@jupyter-widgets/controls",
            "_model_module_version": "1.5.0",
            "_model_name": "DescriptionStyleModel",
            "_view_count": null,
            "_view_module": "@jupyter-widgets/base",
            "_view_module_version": "1.2.0",
            "_view_name": "StyleView",
            "description_width": ""
          }
        },
        "29c261dde64a463bacb6eac52d15270b": {
          "model_module": "@jupyter-widgets/base",
          "model_module_version": "1.2.0",
          "model_name": "LayoutModel",
          "state": {
            "_model_module": "@jupyter-widgets/base",
            "_model_module_version": "1.2.0",
            "_model_name": "LayoutModel",
            "_view_count": null,
            "_view_module": "@jupyter-widgets/base",
            "_view_module_version": "1.2.0",
            "_view_name": "LayoutView",
            "align_content": null,
            "align_items": null,
            "align_self": null,
            "border": null,
            "bottom": null,
            "display": null,
            "flex": null,
            "flex_flow": null,
            "grid_area": null,
            "grid_auto_columns": null,
            "grid_auto_flow": null,
            "grid_auto_rows": null,
            "grid_column": null,
            "grid_gap": null,
            "grid_row": null,
            "grid_template_areas": null,
            "grid_template_columns": null,
            "grid_template_rows": null,
            "height": null,
            "justify_content": null,
            "justify_items": null,
            "left": null,
            "margin": null,
            "max_height": null,
            "max_width": null,
            "min_height": null,
            "min_width": null,
            "object_fit": null,
            "object_position": null,
            "order": null,
            "overflow": null,
            "overflow_x": null,
            "overflow_y": null,
            "padding": null,
            "right": null,
            "top": null,
            "visibility": null,
            "width": null
          }
        },
        "2e9fe9e49a2442518286361b680aeb0d": {
          "model_module": "@jupyter-widgets/controls",
          "model_module_version": "1.5.0",
          "model_name": "HTMLModel",
          "state": {
            "_dom_classes": [],
            "_model_module": "@jupyter-widgets/controls",
            "_model_module_version": "1.5.0",
            "_model_name": "HTMLModel",
            "_view_count": null,
            "_view_module": "@jupyter-widgets/controls",
            "_view_module_version": "1.5.0",
            "_view_name": "HTMLView",
            "description": "",
            "description_tooltip": null,
            "layout": "IPY_MODEL_fd0876fec0cd4677993fca6ecdab57ec",
            "placeholder": "​",
            "style": "IPY_MODEL_7edc3cd0f71245a599eae0c44fdd95f0",
            "value": "100%"
          }
        },
        "5c931cb8ee8643a585740a84311dad7e": {
          "model_module": "@jupyter-widgets/controls",
          "model_module_version": "1.5.0",
          "model_name": "HTMLModel",
          "state": {
            "_dom_classes": [],
            "_model_module": "@jupyter-widgets/controls",
            "_model_module_version": "1.5.0",
            "_model_name": "HTMLModel",
            "_view_count": null,
            "_view_module": "@jupyter-widgets/controls",
            "_view_module_version": "1.5.0",
            "_view_name": "HTMLView",
            "description": "",
            "description_tooltip": null,
            "layout": "IPY_MODEL_29c261dde64a463bacb6eac52d15270b",
            "placeholder": "​",
            "style": "IPY_MODEL_27348db4c96d44c9b670222bc7e9cfe6",
            "value": " 5/5 [2:06:23&lt;00:00, 1468.83s/it]"
          }
        },
        "7edc3cd0f71245a599eae0c44fdd95f0": {
          "model_module": "@jupyter-widgets/controls",
          "model_module_version": "1.5.0",
          "model_name": "DescriptionStyleModel",
          "state": {
            "_model_module": "@jupyter-widgets/controls",
            "_model_module_version": "1.5.0",
            "_model_name": "DescriptionStyleModel",
            "_view_count": null,
            "_view_module": "@jupyter-widgets/base",
            "_view_module_version": "1.2.0",
            "_view_name": "StyleView",
            "description_width": ""
          }
        },
        "9c83447d17bf4e7f9685d34cc3e12b02": {
          "model_module": "@jupyter-widgets/controls",
          "model_module_version": "1.5.0",
          "model_name": "HBoxModel",
          "state": {
            "_dom_classes": [],
            "_model_module": "@jupyter-widgets/controls",
            "_model_module_version": "1.5.0",
            "_model_name": "HBoxModel",
            "_view_count": null,
            "_view_module": "@jupyter-widgets/controls",
            "_view_module_version": "1.5.0",
            "_view_name": "HBoxView",
            "box_style": "",
            "children": [
              "IPY_MODEL_2e9fe9e49a2442518286361b680aeb0d",
              "IPY_MODEL_c5c5159f78454656a5566993a4697561",
              "IPY_MODEL_5c931cb8ee8643a585740a84311dad7e"
            ],
            "layout": "IPY_MODEL_1978c97149cc4a91b9e9eee70c7f2da8"
          }
        },
        "c5c5159f78454656a5566993a4697561": {
          "model_module": "@jupyter-widgets/controls",
          "model_module_version": "1.5.0",
          "model_name": "FloatProgressModel",
          "state": {
            "_dom_classes": [],
            "_model_module": "@jupyter-widgets/controls",
            "_model_module_version": "1.5.0",
            "_model_name": "FloatProgressModel",
            "_view_count": null,
            "_view_module": "@jupyter-widgets/controls",
            "_view_module_version": "1.5.0",
            "_view_name": "ProgressView",
            "bar_style": "success",
            "description": "",
            "description_tooltip": null,
            "layout": "IPY_MODEL_eb900d6cbbd24dc78b8d75f35d25056b",
            "max": 5,
            "min": 0,
            "orientation": "horizontal",
            "style": "IPY_MODEL_d69925dc796641618c9cf0f6de92fb81",
            "value": 5
          }
        },
        "d69925dc796641618c9cf0f6de92fb81": {
          "model_module": "@jupyter-widgets/controls",
          "model_module_version": "1.5.0",
          "model_name": "ProgressStyleModel",
          "state": {
            "_model_module": "@jupyter-widgets/controls",
            "_model_module_version": "1.5.0",
            "_model_name": "ProgressStyleModel",
            "_view_count": null,
            "_view_module": "@jupyter-widgets/base",
            "_view_module_version": "1.2.0",
            "_view_name": "StyleView",
            "bar_color": null,
            "description_width": ""
          }
        },
        "eb900d6cbbd24dc78b8d75f35d25056b": {
          "model_module": "@jupyter-widgets/base",
          "model_module_version": "1.2.0",
          "model_name": "LayoutModel",
          "state": {
            "_model_module": "@jupyter-widgets/base",
            "_model_module_version": "1.2.0",
            "_model_name": "LayoutModel",
            "_view_count": null,
            "_view_module": "@jupyter-widgets/base",
            "_view_module_version": "1.2.0",
            "_view_name": "LayoutView",
            "align_content": null,
            "align_items": null,
            "align_self": null,
            "border": null,
            "bottom": null,
            "display": null,
            "flex": null,
            "flex_flow": null,
            "grid_area": null,
            "grid_auto_columns": null,
            "grid_auto_flow": null,
            "grid_auto_rows": null,
            "grid_column": null,
            "grid_gap": null,
            "grid_row": null,
            "grid_template_areas": null,
            "grid_template_columns": null,
            "grid_template_rows": null,
            "height": null,
            "justify_content": null,
            "justify_items": null,
            "left": null,
            "margin": null,
            "max_height": null,
            "max_width": null,
            "min_height": null,
            "min_width": null,
            "object_fit": null,
            "object_position": null,
            "order": null,
            "overflow": null,
            "overflow_x": null,
            "overflow_y": null,
            "padding": null,
            "right": null,
            "top": null,
            "visibility": null,
            "width": null
          }
        },
        "fd0876fec0cd4677993fca6ecdab57ec": {
          "model_module": "@jupyter-widgets/base",
          "model_module_version": "1.2.0",
          "model_name": "LayoutModel",
          "state": {
            "_model_module": "@jupyter-widgets/base",
            "_model_module_version": "1.2.0",
            "_model_name": "LayoutModel",
            "_view_count": null,
            "_view_module": "@jupyter-widgets/base",
            "_view_module_version": "1.2.0",
            "_view_name": "LayoutView",
            "align_content": null,
            "align_items": null,
            "align_self": null,
            "border": null,
            "bottom": null,
            "display": null,
            "flex": null,
            "flex_flow": null,
            "grid_area": null,
            "grid_auto_columns": null,
            "grid_auto_flow": null,
            "grid_auto_rows": null,
            "grid_column": null,
            "grid_gap": null,
            "grid_row": null,
            "grid_template_areas": null,
            "grid_template_columns": null,
            "grid_template_rows": null,
            "height": null,
            "justify_content": null,
            "justify_items": null,
            "left": null,
            "margin": null,
            "max_height": null,
            "max_width": null,
            "min_height": null,
            "min_width": null,
            "object_fit": null,
            "object_position": null,
            "order": null,
            "overflow": null,
            "overflow_x": null,
            "overflow_y": null,
            "padding": null,
            "right": null,
            "top": null,
            "visibility": null,
            "width": null
          }
        }
      }
    }
  },
  "nbformat": 4,
  "nbformat_minor": 0
}
