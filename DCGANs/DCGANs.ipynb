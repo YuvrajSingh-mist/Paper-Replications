{
  "cells": [
    {
      "cell_type": "code",
      "execution_count": 25,
      "metadata": {
        "id": "5nP_WUZ9FN-R"
      },
      "outputs": [],
      "source": [
        "import torch\n",
        "from pathlib import Path\n",
        "import torch\n",
        "import torchvision\n",
        "from torch import nn\n",
        "from torchvision import transforms\n"
      ]
    },
    {
      "cell_type": "code",
      "execution_count": 27,
      "metadata": {
        "colab": {
          "base_uri": "https://localhost:8080/",
          "height": 36
        },
        "id": "HOGoxeeJFN-T",
        "outputId": "2b04ae0f-66a2-4dd1-df50-b29549acb396"
      },
      "outputs": [
        {
          "data": {
            "text/plain": [
              "'cuda'"
            ]
          },
          "execution_count": 27,
          "metadata": {},
          "output_type": "execute_result"
        }
      ],
      "source": [
        "device = \"cuda\" if torch.cuda.is_available() else \"cpu\"\n",
        "device"
      ]
    },
    {
      "cell_type": "code",
      "execution_count": 28,
      "metadata": {
        "id": "OU3O1CJTFN-T"
      },
      "outputs": [],
      "source": [
        "#Transforms for images\n",
        "transforms = torchvision.transforms.Compose([\n",
        "    transforms.Resize(size=(64,64)),\n",
        "    transforms.ToTensor(),\n",
        "    transforms.Normalize((0.5,0.5,0.5), (0.5,0.5,0.5))\n",
        "\n",
        "])"
      ]
    },
    {
      "cell_type": "code",
      "execution_count": 29,
      "metadata": {
        "colab": {
          "base_uri": "https://localhost:8080/"
        },
        "id": "IjduuQ6CFN-T",
        "outputId": "5ddc34d6-5ec5-4efa-b097-64317091f4b2"
      },
      "outputs": [
        {
          "name": "stdout",
          "output_type": "stream",
          "text": [
            "Downloading https://www.cs.toronto.edu/~kriz/cifar-10-python.tar.gz to data/train/cifar-10-python.tar.gz\n"
          ]
        },
        {
          "name": "stderr",
          "output_type": "stream",
          "text": [
            "100%|██████████| 170498071/170498071 [00:33<00:00, 5017851.56it/s]\n"
          ]
        },
        {
          "name": "stdout",
          "output_type": "stream",
          "text": [
            "Extracting data/train/cifar-10-python.tar.gz to data/train\n",
            "Downloading https://www.cs.toronto.edu/~kriz/cifar-10-python.tar.gz to data/test/cifar-10-python.tar.gz\n"
          ]
        },
        {
          "name": "stderr",
          "output_type": "stream",
          "text": [
            "100%|██████████| 170498071/170498071 [00:42<00:00, 4039871.24it/s]\n"
          ]
        },
        {
          "name": "stdout",
          "output_type": "stream",
          "text": [
            "Extracting data/test/cifar-10-python.tar.gz to data/test\n"
          ]
        }
      ],
      "source": [
        "#Loading CIFAR10 Dataset\n",
        "import torchvision\n",
        "from torch.utils.data import DataLoader\n",
        "import os\n",
        "\n",
        "data_path = Path('data/')\n",
        "\n",
        "train_dir = data_path / \"train\"\n",
        "# test_dir = data_path / \"test\"\n",
        "\n",
        "train_data = torchvision.datasets.CIFAR10(root = train_dir , train=True, download=True, transform=transforms)\n",
        "# test_data = torchvision.datasets.CIFAR10(root = test_dir, train=False, download=True)\n",
        "\n",
        "train_dataloader = DataLoader(dataset=train_data, num_workers=os.cpu_count(), batch_size=128, shuffle=True)\n",
        "# test_dataloader = DataLoader(dataset=test_data, num_workers=os.cpu_count(), batch_size=128, shuffle=True)\n"
      ]
    },
    {
      "cell_type": "code",
      "execution_count": null,
      "metadata": {},
      "outputs": [],
      "source": [
        "#Loading the CelebA dataset\n",
        "data_path = Path('data/img_align_celeba')\n",
        "dataset = torchvision.utils.dataset.ImageFolder(root=data_path,\n",
        "                           transform=transforms.Compose([\n",
        "                               transforms.Resize(64,64),\n",
        "                               transforms.ToTensor(),\n",
        "                               transforms.Normalize((0.5, 0.5, 0.5), (0.5, 0.5, 0.5)),\n",
        "                           ]))\n",
        "#Creating a dataloader\n",
        "dataloader = DataLoader(dataset=dataset, num_workers=os.cpu_count(), batch_size=128, shuffle=True)"
      ]
    },
    {
      "cell_type": "code",
      "execution_count": 30,
      "metadata": {
        "id": "Mf6_wWp-FN-T"
      },
      "outputs": [],
      "source": [
        "def weights_init(m):\n",
        "    classname = m.__class__.__name__\n",
        "    if classname.find('Conv') != -1:\n",
        "        nn.init.normal_(m.weight.data, 0.0, 0.02)  #mean = 0, std = 0.02\n"
      ]
    },
    {
      "cell_type": "code",
      "execution_count": 43,
      "metadata": {
        "id": "igQOSe-jFN-U"
      },
      "outputs": [],
      "source": [
        "class Generator(nn.Module):\n",
        "    def __init__(\n",
        "        self,\n",
        "        latent_vector_size = 100,\n",
        "        no_of_channels = 3,\n",
        "        kernel_size = (4,4),\n",
        "        stride: int = 2,\n",
        "        number_of_feature_maps: int = 64,\n",
        "        padding: int = 1,\n",
        "    ):\n",
        "\n",
        "        super().__init__()\n",
        "\n",
        "        # self.wi = weight_initialization()\n",
        "        self.main = nn.Sequential(\n",
        "\n",
        "\n",
        "\n",
        "            nn.ConvTranspose2d(latent_vector_size, number_of_feature_maps * 16 , kernel_size=kernel_size, stride=stride, padding=0, bias=False),\n",
        "            nn.BatchNorm2d(number_of_feature_maps * 16),\n",
        "            nn.ReLU(),\n",
        "\n",
        "            #shape = (...,1024, 4, 4)\n",
        "            nn.ConvTranspose2d(number_of_feature_maps * 16, number_of_feature_maps * 8 , kernel_size=kernel_size, stride=stride, padding=padding, bias=False),\n",
        "            nn.BatchNorm2d(number_of_feature_maps * 8),\n",
        "            nn.ReLU(),\n",
        "\n",
        "            #shape = (..., 512, 8, 8)\n",
        "            nn.ConvTranspose2d(number_of_feature_maps * 8, number_of_feature_maps * 4 , kernel_size=kernel_size, stride=stride, padding=padding, bias=False),\n",
        "            nn.ReLU(),\n",
        "            nn.BatchNorm2d(number_of_feature_maps * 4),\n",
        "\n",
        "             #shape = (..., 256, 16, 16)\n",
        "            nn.ConvTranspose2d(number_of_feature_maps * 4, number_of_feature_maps * 2 , kernel_size=kernel_size, stride=stride, padding=padding, bias=False),\n",
        "            nn.ReLU(),\n",
        "            nn.BatchNorm2d(number_of_feature_maps * 2),\n",
        "\n",
        "             #shape = (..., 128, 32, 32)\n",
        "            nn.ConvTranspose2d(number_of_feature_maps * 2, no_of_channels , kernel_size=kernel_size, stride=stride, padding=padding, bias=False),\n",
        "            nn.Tanh()\n",
        "            #shape = (..., 3, 64, 64)\n",
        "        )\n",
        "\n",
        "    def forward(self, x):\n",
        "        x = self.main(x)\n",
        "        return x"
      ]
    },
    {
      "cell_type": "code",
      "execution_count": 44,
      "metadata": {
        "colab": {
          "base_uri": "https://localhost:8080/"
        },
        "id": "_-xlwOgCFN-U",
        "outputId": "a92be60b-873b-429f-ba31-749b830bee13"
      },
      "outputs": [
        {
          "name": "stdout",
          "output_type": "stream",
          "text": [
            "Generator(\n",
            "  (main): Sequential(\n",
            "    (0): ConvTranspose2d(100, 1024, kernel_size=(4, 4), stride=(2, 2), bias=False)\n",
            "    (1): BatchNorm2d(1024, eps=1e-05, momentum=0.1, affine=True, track_running_stats=True)\n",
            "    (2): ReLU(inplace=True)\n",
            "    (3): ConvTranspose2d(1024, 512, kernel_size=(4, 4), stride=(2, 2), padding=(1, 1), bias=False)\n",
            "    (4): BatchNorm2d(512, eps=1e-05, momentum=0.1, affine=True, track_running_stats=True)\n",
            "    (5): ReLU(inplace=True)\n",
            "    (6): ConvTranspose2d(512, 256, kernel_size=(4, 4), stride=(2, 2), padding=(1, 1), bias=False)\n",
            "    (7): ReLU(inplace=True)\n",
            "    (8): BatchNorm2d(256, eps=1e-05, momentum=0.1, affine=True, track_running_stats=True)\n",
            "    (9): ConvTranspose2d(256, 128, kernel_size=(4, 4), stride=(2, 2), padding=(1, 1), bias=False)\n",
            "    (10): ReLU(inplace=True)\n",
            "    (11): BatchNorm2d(128, eps=1e-05, momentum=0.1, affine=True, track_running_stats=True)\n",
            "    (12): ConvTranspose2d(128, 3, kernel_size=(4, 4), stride=(2, 2), padding=(1, 1), bias=False)\n",
            "    (13): Tanh()\n",
            "  )\n",
            ")\n"
          ]
        }
      ],
      "source": [
        "#Intializing the Generator instance\n",
        "generator = Generator().to(device)\n",
        "\n",
        "#Applying the weights transformation\n",
        "generator.apply(weights_init)\n",
        "\n",
        "#Printing the structure\n",
        "print(generator)"
      ]
    },
    {
      "cell_type": "code",
      "execution_count": 45,
      "metadata": {
        "colab": {
          "base_uri": "https://localhost:8080/"
        },
        "id": "8x5GjkITFN-U",
        "outputId": "58dd820e-c88a-499e-8355-4ae8964aa1b1"
      },
      "outputs": [
        {
          "data": {
            "text/plain": [
              "========================================================================================================================\n",
              "Layer (type (var_name))                  Input Shape          Output Shape         Param #              Trainable\n",
              "========================================================================================================================\n",
              "Generator (Generator)                    [128, 100, 1, 1]     [128, 3, 64, 64]     --                   True\n",
              "├─Sequential (main)                      [128, 100, 1, 1]     [128, 3, 64, 64]     --                   True\n",
              "│    └─ConvTranspose2d (0)               [128, 100, 1, 1]     [128, 1024, 4, 4]    1,638,400            True\n",
              "│    └─BatchNorm2d (1)                   [128, 1024, 4, 4]    [128, 1024, 4, 4]    2,048                True\n",
              "│    └─ReLU (2)                          [128, 1024, 4, 4]    [128, 1024, 4, 4]    --                   --\n",
              "│    └─ConvTranspose2d (3)               [128, 1024, 4, 4]    [128, 512, 8, 8]     8,388,608            True\n",
              "│    └─BatchNorm2d (4)                   [128, 512, 8, 8]     [128, 512, 8, 8]     1,024                True\n",
              "│    └─ReLU (5)                          [128, 512, 8, 8]     [128, 512, 8, 8]     --                   --\n",
              "│    └─ConvTranspose2d (6)               [128, 512, 8, 8]     [128, 256, 16, 16]   2,097,152            True\n",
              "│    └─ReLU (7)                          [128, 256, 16, 16]   [128, 256, 16, 16]   --                   --\n",
              "│    └─BatchNorm2d (8)                   [128, 256, 16, 16]   [128, 256, 16, 16]   512                  True\n",
              "│    └─ConvTranspose2d (9)               [128, 256, 16, 16]   [128, 128, 32, 32]   524,288              True\n",
              "│    └─ReLU (10)                         [128, 128, 32, 32]   [128, 128, 32, 32]   --                   --\n",
              "│    └─BatchNorm2d (11)                  [128, 128, 32, 32]   [128, 128, 32, 32]   256                  True\n",
              "│    └─ConvTranspose2d (12)              [128, 128, 32, 32]   [128, 3, 64, 64]     6,144                True\n",
              "│    └─Tanh (13)                         [128, 3, 64, 64]     [128, 3, 64, 64]     --                   --\n",
              "========================================================================================================================\n",
              "Total params: 12,658,432\n",
              "Trainable params: 12,658,432\n",
              "Non-trainable params: 0\n",
              "Total mult-adds (G): 212.74\n",
              "========================================================================================================================\n",
              "Input size (MB): 0.05\n",
              "Forward/backward pass size (MB): 515.90\n",
              "Params size (MB): 50.63\n",
              "Estimated Total Size (MB): 566.58\n",
              "========================================================================================================================"
            ]
          },
          "execution_count": 45,
          "metadata": {},
          "output_type": "execute_result"
        }
      ],
      "source": [
        "from torchinfo import summary\n",
        "\n",
        "\n",
        "summary(model=generator,\n",
        "        input_size=(128, 100, 1, 1),\n",
        "        col_names=[\"input_size\", \"output_size\", \"num_params\", \"trainable\"],\n",
        "        col_width=20,\n",
        "        row_settings=[\"var_names\"])"
      ]
    },
    {
      "cell_type": "code",
      "execution_count": 46,
      "metadata": {
        "id": "izJWPwLkFN-U"
      },
      "outputs": [],
      "source": [
        "class Discriminator(nn.Module):\n",
        "    def __init__(\n",
        "        self,\n",
        "        no_of_channels = 3,\n",
        "        kernel_size = (4,4),\n",
        "        stride: int = 2,\n",
        "        number_of_feature_maps: int = 64,\n",
        "        padding: int = 1,\n",
        "        lr_slope=0.2,\n",
        "    ):\n",
        "\n",
        "        super().__init__()\n",
        "\n",
        "         #shape = (..., 3, 64, 64)\n",
        "        self.main = nn.Sequential(\n",
        "            nn.Conv2d(no_of_channels, number_of_feature_maps * 2 , kernel_size=kernel_size, stride=stride, padding=padding, bias=False),\n",
        "            # nn.BatchNorm2d(number_of_feature_maps * 8),\n",
        "            nn.LeakyReLU(negative_slope=lr_slope),\n",
        "\n",
        "                #shape = (...,1024, 32, 32)\n",
        "            nn.Conv2d(number_of_feature_maps * 2, number_of_feature_maps * 4 , kernel_size=kernel_size, stride=stride, padding=padding, bias=False),\n",
        "            nn.BatchNorm2d(number_of_feature_maps * 4),\n",
        "            nn.LeakyReLU(negative_slope=lr_slope),\n",
        "\n",
        "                #shape = (..., 512, 16, 16)\n",
        "            nn.Conv2d(number_of_feature_maps * 4, number_of_feature_maps * 8 , kernel_size=kernel_size, stride=stride, padding=padding, bias=False),\n",
        "            nn.BatchNorm2d(number_of_feature_maps * 8),\n",
        "            nn.LeakyReLU(negative_slope=lr_slope),\n",
        "\n",
        "                #shape = (..., 256, 8, 8)\n",
        "            nn.Conv2d(number_of_feature_maps * 8, number_of_feature_maps * 16 , kernel_size=kernel_size, stride=stride, padding=padding, bias=False),\n",
        "            nn.BatchNorm2d(number_of_feature_maps * 16),\n",
        "            nn.LeakyReLU(negative_slope=lr_slope),\n",
        "            #  shape = (..., 128, 4, 4)\n",
        "\n",
        "            nn.Conv2d(number_of_feature_maps * 16, 1 , kernel_size=kernel_size, stride=4, padding=padding, bias=False),\n",
        "            #shape = (...,1,1)\n",
        "            nn.Flatten(),\n",
        "            nn.Sigmoid(),\n",
        "         )\n",
        "\n",
        "    def forward(self, x):\n",
        "        return self.main(x)"
      ]
    },
    {
      "cell_type": "code",
      "execution_count": 47,
      "metadata": {
        "colab": {
          "base_uri": "https://localhost:8080/"
        },
        "id": "ZUQEbynaFN-U",
        "outputId": "af2e4d54-e5e8-4157-fa7d-47e799d6b27a"
      },
      "outputs": [
        {
          "name": "stdout",
          "output_type": "stream",
          "text": [
            "Discriminator(\n",
            "  (main): Sequential(\n",
            "    (0): Conv2d(3, 128, kernel_size=(4, 4), stride=(2, 2), padding=(1, 1), bias=False)\n",
            "    (1): LeakyReLU(negative_slope=0.2, inplace=True)\n",
            "    (2): Conv2d(128, 256, kernel_size=(4, 4), stride=(2, 2), padding=(1, 1), bias=False)\n",
            "    (3): BatchNorm2d(256, eps=1e-05, momentum=0.1, affine=True, track_running_stats=True)\n",
            "    (4): LeakyReLU(negative_slope=0.2, inplace=True)\n",
            "    (5): Conv2d(256, 512, kernel_size=(4, 4), stride=(2, 2), padding=(1, 1), bias=False)\n",
            "    (6): BatchNorm2d(512, eps=1e-05, momentum=0.1, affine=True, track_running_stats=True)\n",
            "    (7): LeakyReLU(negative_slope=0.2, inplace=True)\n",
            "    (8): Conv2d(512, 1024, kernel_size=(4, 4), stride=(2, 2), padding=(1, 1), bias=False)\n",
            "    (9): BatchNorm2d(1024, eps=1e-05, momentum=0.1, affine=True, track_running_stats=True)\n",
            "    (10): LeakyReLU(negative_slope=0.2, inplace=True)\n",
            "    (11): Conv2d(1024, 1, kernel_size=(4, 4), stride=(4, 4), padding=(1, 1), bias=False)\n",
            "    (12): Flatten(start_dim=1, end_dim=-1)\n",
            "    (13): Sigmoid()\n",
            "  )\n",
            ")\n"
          ]
        }
      ],
      "source": [
        "#Intializing the Discriminator instance\n",
        "discriminator = Discriminator().to(device)\n",
        "#Apply the wieght intilization function layer by layer\n",
        "discriminator = discriminator.apply(weights_init)\n",
        "#Printing the structure\n",
        "print(discriminator)"
      ]
    },
    {
      "cell_type": "code",
      "execution_count": 48,
      "metadata": {
        "colab": {
          "base_uri": "https://localhost:8080/"
        },
        "id": "9nswZOUxFN-V",
        "outputId": "3e5798ad-d514-4e7a-80ea-386a377f786e"
      },
      "outputs": [
        {
          "data": {
            "text/plain": [
              "========================================================================================================================\n",
              "Layer (type (var_name))                  Input Shape          Output Shape         Param #              Trainable\n",
              "========================================================================================================================\n",
              "Discriminator (Discriminator)            [128, 3, 64, 64]     [128, 1]             --                   True\n",
              "├─Sequential (main)                      [128, 3, 64, 64]     [128, 1]             --                   True\n",
              "│    └─Conv2d (0)                        [128, 3, 64, 64]     [128, 128, 32, 32]   6,144                True\n",
              "│    └─LeakyReLU (1)                     [128, 128, 32, 32]   [128, 128, 32, 32]   --                   --\n",
              "│    └─Conv2d (2)                        [128, 128, 32, 32]   [128, 256, 16, 16]   524,288              True\n",
              "│    └─BatchNorm2d (3)                   [128, 256, 16, 16]   [128, 256, 16, 16]   512                  True\n",
              "│    └─LeakyReLU (4)                     [128, 256, 16, 16]   [128, 256, 16, 16]   --                   --\n",
              "│    └─Conv2d (5)                        [128, 256, 16, 16]   [128, 512, 8, 8]     2,097,152            True\n",
              "│    └─BatchNorm2d (6)                   [128, 512, 8, 8]     [128, 512, 8, 8]     1,024                True\n",
              "│    └─LeakyReLU (7)                     [128, 512, 8, 8]     [128, 512, 8, 8]     --                   --\n",
              "│    └─Conv2d (8)                        [128, 512, 8, 8]     [128, 1024, 4, 4]    8,388,608            True\n",
              "│    └─BatchNorm2d (9)                   [128, 1024, 4, 4]    [128, 1024, 4, 4]    2,048                True\n",
              "│    └─LeakyReLU (10)                    [128, 1024, 4, 4]    [128, 1024, 4, 4]    --                   --\n",
              "│    └─Conv2d (11)                       [128, 1024, 4, 4]    [128, 1, 1, 1]       16,384               True\n",
              "│    └─Flatten (12)                      [128, 1, 1, 1]       [128, 1]             --                   --\n",
              "│    └─Sigmoid (13)                      [128, 1]             [128, 1]             --                   --\n",
              "========================================================================================================================\n",
              "Total params: 11,036,160\n",
              "Trainable params: 11,036,160\n",
              "Non-trainable params: 0\n",
              "Total mult-adds (G): 52.35\n",
              "========================================================================================================================\n",
              "Input size (MB): 6.29\n",
              "Forward/backward pass size (MB): 369.10\n",
              "Params size (MB): 44.14\n",
              "Estimated Total Size (MB): 419.54\n",
              "========================================================================================================================"
            ]
          },
          "execution_count": 48,
          "metadata": {},
          "output_type": "execute_result"
        }
      ],
      "source": [
        "from torchinfo import summary\n",
        "\n",
        "\n",
        "summary(model=discriminator,\n",
        "        input_size=(128, 3, 64, 64),\n",
        "        col_names=[\"input_size\", \"output_size\", \"num_params\", \"trainable\"],\n",
        "        col_width=20,\n",
        "        row_settings=[\"var_names\"])"
      ]
    },
    {
      "cell_type": "code",
      "execution_count": 52,
      "metadata": {
        "id": "ugXl-J8cFN-V"
      },
      "outputs": [],
      "source": [
        "epochs = 30\n",
        "beta_1 = 0.5\n",
        "lr_optimizer = 0.0002\n",
        "loss_fn = nn.BCELoss()  #BCELoss function\n",
        "\n",
        "generator = Generator().to(device)\n",
        "discriminator = Discriminator().to(device)\n",
        "\n",
        "optimizerD = torch.optim.Adam(params=discriminator.parameters(), betas=(beta_1, 0.999), lr=lr_optimizer) #For discriminator\n",
        "optimizerG = torch.optim.Adam(params=generator.parameters(), betas=(beta_1, 0.999), lr=lr_optimizer) #For generator\n",
        "\n",
        "batch_size = 128\n",
        "latent_vector_size = 100\n",
        "\n",
        "real_label = 1\n",
        "fake_label = 0\n",
        "\n",
        "\n",
        "loss_g = []\n",
        "loss_d = []\n",
        "img_list = []\n",
        "\n",
        "# Fixed noise for generating the images\n",
        "fixed_noise = torch.randn((batch_size, latent_vector_size, 1, 1), dtype=torch.float32, device=device)"
      ]
    },
    {
      "cell_type": "code",
      "execution_count": 53,
      "metadata": {
        "id": "fJps83qfFN-V"
      },
      "outputs": [],
      "source": [
        "import shutil\n",
        "save_images = Path('output_images/')\n",
        "shutil.rmtree(save_images)\n",
        "shutil.rmtree(Path('weights/'))\n",
        "save_images.mkdir()\n",
        "Path('weights/').mkdir()"
      ]
    },
    {
      "cell_type": "code",
      "execution_count": 54,
      "metadata": {
        "colab": {
          "base_uri": "https://localhost:8080/",
          "height": 1000
        },
        "id": "05j9aKXJFN-V",
        "outputId": "38b9cc00-b7ad-4a83-c573-7f54bfe09cab"
      },
      "outputs": [
        {
          "name": "stdout",
          "output_type": "stream",
          "text": [
            "Iterations:  0 Epoch:  0 Generator loss:  5.775015354156494 Discriminator loss:  1.3180489540100098\n",
            "saving the output\n",
            "Iterations:  300 Epoch:  0 Generator loss:  2.508517026901245 Discriminator loss:  0.9978139400482178\n",
            "saving the output\n",
            "Iterations:  600 Epoch:  1 Generator loss:  2.6749417781829834 Discriminator loss:  0.8628716468811035\n",
            "saving the output\n",
            "Iterations:  900 Epoch:  2 Generator loss:  0.7185548543930054 Discriminator loss:  1.2825517654418945\n",
            "saving the output\n",
            "Iterations:  1200 Epoch:  3 Generator loss:  2.142946720123291 Discriminator loss:  1.0675123929977417\n",
            "saving the output\n",
            "Iterations:  1500 Epoch:  3 Generator loss:  3.3442420959472656 Discriminator loss:  0.6606197953224182\n",
            "saving the output\n",
            "Iterations:  1800 Epoch:  4 Generator loss:  4.498741149902344 Discriminator loss:  0.2591347396373749\n",
            "saving the output\n",
            "Iterations:  2100 Epoch:  5 Generator loss:  2.0226926803588867 Discriminator loss:  0.9655534625053406\n",
            "saving the output\n",
            "Iterations:  2400 Epoch:  6 Generator loss:  1.398581624031067 Discriminator loss:  1.454891324043274\n",
            "saving the output\n",
            "Iterations:  2700 Epoch:  6 Generator loss:  3.8230090141296387 Discriminator loss:  0.06192674860358238\n",
            "saving the output\n",
            "Iterations:  3000 Epoch:  7 Generator loss:  4.786401271820068 Discriminator loss:  0.11671372503042221\n",
            "saving the output\n",
            "Iterations:  3300 Epoch:  8 Generator loss:  3.6196179389953613 Discriminator loss:  1.4604902267456055\n",
            "saving the output\n",
            "Iterations:  3600 Epoch:  9 Generator loss:  3.8238627910614014 Discriminator loss:  0.11280657351016998\n",
            "saving the output\n",
            "Iterations:  3900 Epoch:  9 Generator loss:  3.054292678833008 Discriminator loss:  0.651924729347229\n",
            "saving the output\n",
            "Iterations:  4200 Epoch:  10 Generator loss:  1.1196223497390747 Discriminator loss:  0.5422656536102295\n",
            "saving the output\n",
            "Iterations:  4500 Epoch:  11 Generator loss:  7.674983978271484 Discriminator loss:  0.11120488494634628\n",
            "saving the output\n",
            "Iterations:  4800 Epoch:  12 Generator loss:  2.7721314430236816 Discriminator loss:  0.9130269885063171\n",
            "saving the output\n",
            "Iterations:  5100 Epoch:  13 Generator loss:  3.2854390144348145 Discriminator loss:  0.5877382159233093\n",
            "saving the output\n",
            "Iterations:  5400 Epoch:  13 Generator loss:  3.6635079383850098 Discriminator loss:  0.16289232671260834\n",
            "saving the output\n",
            "Iterations:  5700 Epoch:  14 Generator loss:  1.4977284669876099 Discriminator loss:  0.9471457004547119\n",
            "saving the output\n",
            "Iterations:  6000 Epoch:  15 Generator loss:  4.156430244445801 Discriminator loss:  0.08556441962718964\n",
            "saving the output\n",
            "Iterations:  6300 Epoch:  16 Generator loss:  2.8179125785827637 Discriminator loss:  0.36701899766921997\n",
            "saving the output\n",
            "Iterations:  6600 Epoch:  16 Generator loss:  6.5591535568237305 Discriminator loss:  0.73398756980896\n",
            "saving the output\n",
            "Iterations:  6900 Epoch:  17 Generator loss:  3.2648167610168457 Discriminator loss:  0.3593510389328003\n",
            "saving the output\n",
            "Iterations:  7200 Epoch:  18 Generator loss:  3.7882497310638428 Discriminator loss:  0.3328356146812439\n",
            "saving the output\n",
            "Iterations:  7500 Epoch:  19 Generator loss:  4.213680744171143 Discriminator loss:  0.914859414100647\n",
            "saving the output\n",
            "Iterations:  7800 Epoch:  19 Generator loss:  1.9661965370178223 Discriminator loss:  0.475508451461792\n",
            "saving the output\n",
            "Iterations:  8100 Epoch:  20 Generator loss:  2.70566987991333 Discriminator loss:  0.4573335647583008\n",
            "saving the output\n",
            "Iterations:  8400 Epoch:  21 Generator loss:  2.3804054260253906 Discriminator loss:  0.33959028124809265\n",
            "saving the output\n",
            "Iterations:  8700 Epoch:  22 Generator loss:  2.6233112812042236 Discriminator loss:  0.6246341466903687\n",
            "saving the output\n",
            "Iterations:  9000 Epoch:  23 Generator loss:  6.9619855880737305 Discriminator loss:  0.19247806072235107\n",
            "saving the output\n",
            "Iterations:  9300 Epoch:  23 Generator loss:  1.806170105934143 Discriminator loss:  0.7834023833274841\n",
            "saving the output\n",
            "Iterations:  9600 Epoch:  24 Generator loss:  3.571592330932617 Discriminator loss:  0.19814755022525787\n",
            "saving the output\n",
            "Iterations:  9900 Epoch:  25 Generator loss:  5.944005012512207 Discriminator loss:  1.1539366245269775\n",
            "saving the output\n",
            "Iterations:  10200 Epoch:  26 Generator loss:  6.780823230743408 Discriminator loss:  0.007882243022322655\n",
            "saving the output\n",
            "Iterations:  10500 Epoch:  26 Generator loss:  6.089559078216553 Discriminator loss:  0.07569558173418045\n",
            "saving the output\n",
            "Iterations:  10800 Epoch:  27 Generator loss:  5.647139072418213 Discriminator loss:  0.049034565687179565\n",
            "saving the output\n",
            "Iterations:  11100 Epoch:  28 Generator loss:  1.7395756244659424 Discriminator loss:  0.49276578426361084\n",
            "saving the output\n",
            "Iterations:  11400 Epoch:  29 Generator loss:  4.644326686859131 Discriminator loss:  0.5042052865028381\n",
            "saving the output\n",
            "Iterations:  11700 Epoch:  29 Generator loss:  4.556344985961914 Discriminator loss:  0.09741821885108948\n",
            "saving the output\n"
          ]
        }
      ],
      "source": [
        "#Training loop\n",
        "\n",
        "generator.train()\n",
        "discriminator.train()\n",
        "iters = 0\n",
        "\n",
        "\n",
        "for epoch in range(epochs):\n",
        "    for i, (X, _) in enumerate(train_dataloader):\n",
        "\n",
        "        X = X.to(device)\n",
        "\n",
        "        #Train the discriminator (with real data)\n",
        "\n",
        "        ############################\n",
        "        # (1) Update D network: maximize: log(1 - D(G(z)))\n",
        "        ###########################\n",
        "\n",
        "        current_batch_size = X.shape[0]  #Getting the current batch size\n",
        "        \n",
        "        real_data = torch.ones((current_batch_size,), device=device, dtype=torch.float32)\n",
        "\n",
        "        # 1. Forward pass\n",
        "        y_pred = discriminator(X).view(-1)\n",
        "\n",
        "        # 2. Calculate  and accumulate loss\n",
        "        loss_real = loss_fn(y_pred, real_data)\n",
        "\n",
        "\n",
        "        # 3. Optimizer zero grad\n",
        "        optimizerD.zero_grad()\n",
        "\n",
        "        # 4. Loss backward\n",
        "        loss_real.backward(retain_graph=True)\n",
        "\n",
        "\n",
        "        #Train the discriminator (with fake data)\n",
        "\n",
        "        noise = torch.randn((batch_size, latent_vector_size, 1, 1), device=device)\n",
        "        fake_data = torch.zeros((batch_size,), device=device, dtype=torch.float32)\n",
        "        noise_generated_by_generator = generator(noise)\n",
        "\n",
        "        #1. Forward pass\n",
        "        y_pred = discriminator(noise_generated_by_generator).view(-1)\n",
        "\n",
        "\n",
        "        # 2. Calculate  and accumulate loss\n",
        "        loss_fake = loss_fn(y_pred, fake_data)\n",
        "\n",
        "\n",
        "        # 4. Loss backward\n",
        "        loss_fake.backward(retain_graph=True)\n",
        "\n",
        "        # 5. Optimizer step\n",
        "        optimizerD.step()\n",
        "\n",
        "        #Accumulating total discriminator loss\n",
        "        discriminator_combined_loss = loss_real + loss_fake\n",
        "        loss_d.append(discriminator_combined_loss.item())\n",
        "\n",
        "\n",
        "\n",
        "        ############################\n",
        "        # (2) Update G network: maximize log(D(G(z)))\n",
        "        ###########################\n",
        "\n",
        "        labels = torch.ones((batch_size,), device=device, dtype=torch.float32)\n",
        "\n",
        "        #1. Forward pass\n",
        "        y_pred = discriminator(noise_generated_by_generator).view(-1)\n",
        "        # y_pred = torch.argmax(probs, dim=1).type(torch.float32)\n",
        "\n",
        "\n",
        "        #2. Calculate and accumulate loss\n",
        "        loss_gen = loss_fn(y_pred,labels)\n",
        "\n",
        "\n",
        "        # 3. Optimizer zero grad\n",
        "        optimizerG.zero_grad()\n",
        "\n",
        "        # 4. Loss backward\n",
        "        loss_gen.backward()\n",
        "\n",
        "        # 5. Optimizer step\n",
        "        optimizerG.step()\n",
        "\n",
        "        loss_g.append(loss_gen.item())\n",
        "\n",
        "        if iters % 300 == 0:\n",
        "          print(\"Iterations: \", iters, \"Epoch: \", epoch, \"Generator loss: \", loss_gen.item(), \"Discriminator loss: \", discriminator_combined_loss.item())\n",
        "\n",
        "        #save the output\n",
        "        if iters % 300 == 0:\n",
        "          print('saving the output')\n",
        "          torchvision.utils.save_image(X,'{}/real_images_steps_{}.png'.format(save_images, iters),normalize=True)\n",
        "          fake = generator(fixed_noise)\n",
        "          torchvision.utils.save_image(fake,'{}/fake_images_steps_{}.png'.format(save_images, iters),normalize=True)\n",
        "\n",
        "\n",
        "          # Check pointing for every epoch\n",
        "          torch.save(generator.state_dict(), 'weights/generator_steps_%d.pth' % (iters))\n",
        "          torch.save(discriminator.state_dict(), 'weights/discriminator_steps_%d.pth' % (iters))\n",
        "\n",
        "\n",
        "        iters += 1\n"
      ]
    },
    {
      "cell_type": "code",
      "execution_count": 55,
      "metadata": {
        "id": "ql_-Z82gFN-V"
      },
      "outputs": [
        {
          "data": {
            "image/png": "[encoded data removed]",
            "text/plain": [
              "<Figure size 1000x500 with 1 Axes>"
            ]
          },
          "metadata": {},
          "output_type": "display_data"
        }
      ],
      "source": [
        "import matplotlib.pyplot as plt\n",
        "import matplotlib.animation as animation\n",
        "from IPython.display import HTML\n",
        "import numpy as np\n",
        "\n",
        "plt.figure(figsize=(10,5))\n",
        "plt.title(\"Generator and Discriminator Loss During Training\")\n",
        "plt.plot(loss_g,label=\"G\")\n",
        "plt.plot(loss_d,label=\"D\")\n",
        "plt.xlabel(\"Iterations\")\n",
        "plt.ylabel(\"Loss\")\n",
        "plt.legend()\n",
        "plt.show()\n",
        "\n"
      ]
    },
    {
      "cell_type": "code",
      "execution_count": null,
      "metadata": {},
      "outputs": [],
      "source": []
    }
  ],
  "metadata": {
    "accelerator": "GPU",
    "colab": {
      "gpuType": "L4",
      "machine_shape": "hm",
      "provenance": []
    },
    "kernelspec": {
      "display_name": "Python 3",
      "name": "python3"
    },
    "language_info": {
      "codemirror_mode": {
        "name": "ipython",
        "version": 3
      },
      "file_extension": ".py",
      "mimetype": "text/x-python",
      "name": "python",
      "nbconvert_exporter": "python",
      "pygments_lexer": "ipython3",
      "version": "3.10.13"
    }
  },
  "nbformat": 4,
  "nbformat_minor": 0
}
