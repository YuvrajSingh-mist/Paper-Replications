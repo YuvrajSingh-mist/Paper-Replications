{
 "cells": [
  {
   "cell_type": "code",
   "execution_count": 1,
   "id": "7eb22efc",
   "metadata": {
    "execution": {
     "iopub.execute_input": "2025-06-14T04:10:52.308664Z",
     "iopub.status.busy": "2025-06-14T04:10:52.308027Z",
     "iopub.status.idle": "2025-06-14T04:10:55.950288Z",
     "shell.execute_reply": "2025-06-14T04:10:55.949676Z",
     "shell.execute_reply.started": "2025-06-14T04:10:52.308642Z"
    },
    "trusted": true
   },
   "outputs": [],
   "source": [
    "import torch\n",
    "import torch.nn as nn"
   ]
  },
  {
   "cell_type": "code",
   "execution_count": 2,
   "id": "0726f14d",
   "metadata": {
    "execution": {
     "iopub.execute_input": "2025-06-14T04:10:55.952233Z",
     "iopub.status.busy": "2025-06-14T04:10:55.951537Z",
     "iopub.status.idle": "2025-06-14T04:10:59.094147Z",
     "shell.execute_reply": "2025-06-14T04:10:59.093557Z",
     "shell.execute_reply.started": "2025-06-14T04:10:55.952206Z"
    },
    "trusted": true
   },
   "outputs": [],
   "source": [
    "from torchvision import datasets, transforms\n",
    "\n",
    "# Define a transform to normalize the data and convert to tensor\n",
    "transform = transforms.Compose([\n",
    "    transforms.ToTensor(),\n",
    "    # transforms.Normalize((0.5,), (0.5,))\n",
    "])\n",
    "\n",
    "# Download and load the MNIST dataset\n",
    "mnist_dataset = datasets.MNIST(root='./data', train=True, download=True, transform=transform)\n",
    "mnist_loader = torch.utils.data.DataLoader(mnist_dataset, batch_size=64, shuffle=True)"
   ]
  },
  {
   "cell_type": "code",
   "execution_count": 29,
   "id": "4ca4b7b3",
   "metadata": {
    "execution": {
     "iopub.execute_input": "2025-06-14T04:44:31.659704Z",
     "iopub.status.busy": "2025-06-14T04:44:31.659150Z",
     "iopub.status.idle": "2025-06-14T04:44:31.665536Z",
     "shell.execute_reply": "2025-06-14T04:44:31.664800Z",
     "shell.execute_reply.started": "2025-06-14T04:44:31.659679Z"
    },
    "trusted": true
   },
   "outputs": [],
   "source": [
    "class Encoder(nn.Module):\n",
    "    def __init__(self, input_dim, hidden_dim, output_dim, leaky = 0.01):\n",
    "        super(Encoder, self).__init__()\n",
    "        self.conv = nn.Sequential(\n",
    "            nn.Conv2d(input_dim, hidden_dim, kernel_size=3, stride=1, padding=1),\n",
    "            nn.LeakyReLU(leaky),\n",
    "            nn.Conv2d(hidden_dim , hidden_dim , kernel_size=3, stride=2, padding=1),\n",
    "            nn.LeakyReLU(leaky),\n",
    "            nn.Conv2d(hidden_dim, hidden_dim , kernel_size=3, stride=2, padding=1),\n",
    "            nn.LeakyReLU(leaky),\n",
    "            nn.Conv2d(hidden_dim , hidden_dim , kernel_size=3, stride=1, padding=1),\n",
    "            nn.LeakyReLU(leaky),\n",
    "            nn.Flatten(),\n",
    "        )\n",
    "        self.fc2 = nn.Linear(3136, output_dim)\n",
    "\n",
    "    def forward(self, x):\n",
    "        x = self.conv(x)\n",
    "        x = self.fc2(x)\n",
    "        # x = nn.functional.sigmoid(x)\n",
    "        return x\n",
    "    \n",
    "# class Decoder(nn.Module):"
   ]
  },
  {
   "cell_type": "code",
   "execution_count": 30,
   "id": "3f6f62c1",
   "metadata": {
    "execution": {
     "iopub.execute_input": "2025-06-14T04:44:31.816571Z",
     "iopub.status.busy": "2025-06-14T04:44:31.816163Z",
     "iopub.status.idle": "2025-06-14T04:44:31.866502Z",
     "shell.execute_reply": "2025-06-14T04:44:31.865999Z",
     "shell.execute_reply.started": "2025-06-14T04:44:31.816553Z"
    },
    "trusted": true
   },
   "outputs": [
    {
     "data": {
      "text/plain": [
       "==========================================================================================\n",
       "Layer (type:depth-idx)                   Output Shape              Param #\n",
       "==========================================================================================\n",
       "Encoder                                  [1, 2]                    --\n",
       "├─Sequential: 1-1                        [1, 3136]                 --\n",
       "│    └─Conv2d: 2-1                       [1, 64, 28, 28]           640\n",
       "│    └─LeakyReLU: 2-2                    [1, 64, 28, 28]           --\n",
       "│    └─Conv2d: 2-3                       [1, 64, 14, 14]           36,928\n",
       "│    └─LeakyReLU: 2-4                    [1, 64, 14, 14]           --\n",
       "│    └─Conv2d: 2-5                       [1, 64, 7, 7]             36,928\n",
       "│    └─LeakyReLU: 2-6                    [1, 64, 7, 7]             --\n",
       "│    └─Conv2d: 2-7                       [1, 64, 7, 7]             36,928\n",
       "│    └─LeakyReLU: 2-8                    [1, 64, 7, 7]             --\n",
       "│    └─Flatten: 2-9                      [1, 3136]                 --\n",
       "├─Linear: 1-2                            [1, 2]                    6,274\n",
       "==========================================================================================\n",
       "Total params: 117,698\n",
       "Trainable params: 117,698\n",
       "Non-trainable params: 0\n",
       "Total mult-adds (Units.MEGABYTES): 11.36\n",
       "==========================================================================================\n",
       "Input size (MB): 0.00\n",
       "Forward/backward pass size (MB): 0.55\n",
       "Params size (MB): 0.47\n",
       "Estimated Total Size (MB): 1.03\n",
       "=========================================================================================="
      ]
     },
     "execution_count": 30,
     "metadata": {},
     "output_type": "execute_result"
    }
   ],
   "source": [
    "enc = Encoder(input_dim=1, hidden_dim=64, output_dim=2).to('cuda')\n",
    "x = torch.randn(1, 1, 28, 28).to('cuda')  # Example input tensor\n",
    "# output = enc(x)\n",
    "# print(\"Output shape:\", output.shape)  # Should print the shape of the output tensor\n",
    "\n",
    "from torchinfo import summary\n",
    "summary(enc, (1,1,28,28), device='cuda')  # Print the model summary"
   ]
  },
  {
   "cell_type": "code",
   "execution_count": 26,
   "id": "7d3ee362",
   "metadata": {
    "execution": {
     "iopub.execute_input": "2025-06-14T04:43:36.622622Z",
     "iopub.status.busy": "2025-06-14T04:43:36.621981Z",
     "iopub.status.idle": "2025-06-14T04:43:36.625880Z",
     "shell.execute_reply": "2025-06-14T04:43:36.625132Z",
     "shell.execute_reply.started": "2025-06-14T04:43:36.622599Z"
    },
    "trusted": true
   },
   "outputs": [],
   "source": [
    "# x.shape"
   ]
  },
  {
   "cell_type": "code",
   "execution_count": 33,
   "id": "23c8b0dc",
   "metadata": {
    "execution": {
     "iopub.execute_input": "2025-06-14T04:45:15.444260Z",
     "iopub.status.busy": "2025-06-14T04:45:15.443986Z",
     "iopub.status.idle": "2025-06-14T04:45:15.450303Z",
     "shell.execute_reply": "2025-06-14T04:45:15.449586Z",
     "shell.execute_reply.started": "2025-06-14T04:45:15.444240Z"
    },
    "trusted": true
   },
   "outputs": [],
   "source": [
    "\n",
    "\n",
    "class Decoder(nn.Module):\n",
    "    def __init__(self, input_dim, hidden_dim, output_dim, leaky = 0.01):\n",
    "        super(Decoder, self).__init__()\n",
    "        self.linear = nn.Linear(output_dim, 3136)\n",
    "        self.conv = nn.Sequential(\n",
    "            \n",
    "            # Reshape(-1, hidden_dim * 2, 16, 16),\n",
    "            nn.ConvTranspose2d(input_dim, hidden_dim , kernel_size=3, stride=1, padding=1),\n",
    "            nn.LeakyReLU(leaky),\n",
    "            nn.ConvTranspose2d(hidden_dim, hidden_dim , kernel_size=3, stride=1, padding=1),\n",
    "            nn.LeakyReLU(leaky),\n",
    "            \n",
    "            nn.ConvTranspose2d(hidden_dim , hidden_dim , kernel_size=3, stride=2, padding=1, output_padding=1),\n",
    "            nn.LeakyReLU(leaky),\n",
    "            nn.ConvTranspose2d(hidden_dim , 1, kernel_size=3, stride=2, padding=1, output_padding=1),\n",
    "            nn.LeakyReLU(leaky),\n",
    "        )\n",
    "\n",
    "    def forward(self, x):\n",
    "        x = self.linear(x)\n",
    "        x = x.view(-1, 64, 7, 7)\n",
    "        x = self.conv(x)\n",
    "        x = nn.functional.sigmoid(x)    \n",
    "        return x"
   ]
  },
  {
   "cell_type": "code",
   "execution_count": 34,
   "id": "0d50fc0d",
   "metadata": {
    "execution": {
     "iopub.execute_input": "2025-06-14T04:45:15.843225Z",
     "iopub.status.busy": "2025-06-14T04:45:15.843018Z",
     "iopub.status.idle": "2025-06-14T04:45:15.853782Z",
     "shell.execute_reply": "2025-06-14T04:45:15.853160Z",
     "shell.execute_reply.started": "2025-06-14T04:45:15.843208Z"
    },
    "trusted": true
   },
   "outputs": [
    {
     "data": {
      "text/plain": [
       "==========================================================================================\n",
       "Layer (type:depth-idx)                   Output Shape              Param #\n",
       "==========================================================================================\n",
       "Decoder                                  [1, 1, 28, 28]            --\n",
       "├─Linear: 1-1                            [1, 3136]                 9,408\n",
       "├─Sequential: 1-2                        [1, 1, 28, 28]            --\n",
       "│    └─ConvTranspose2d: 2-1              [1, 64, 7, 7]             36,928\n",
       "│    └─LeakyReLU: 2-2                    [1, 64, 7, 7]             --\n",
       "│    └─ConvTranspose2d: 2-3              [1, 64, 7, 7]             36,928\n",
       "│    └─LeakyReLU: 2-4                    [1, 64, 7, 7]             --\n",
       "│    └─ConvTranspose2d: 2-5              [1, 64, 14, 14]           36,928\n",
       "│    └─LeakyReLU: 2-6                    [1, 64, 14, 14]           --\n",
       "│    └─ConvTranspose2d: 2-7              [1, 1, 28, 28]            577\n",
       "│    └─LeakyReLU: 2-8                    [1, 1, 28, 28]            --\n",
       "==========================================================================================\n",
       "Total params: 120,769\n",
       "Trainable params: 120,769\n",
       "Non-trainable params: 0\n",
       "Total mult-adds (Units.MEGABYTES): 11.32\n",
       "==========================================================================================\n",
       "Input size (MB): 0.00\n",
       "Forward/backward pass size (MB): 0.18\n",
       "Params size (MB): 0.48\n",
       "Estimated Total Size (MB): 0.67\n",
       "=========================================================================================="
      ]
     },
     "execution_count": 34,
     "metadata": {},
     "output_type": "execute_result"
    }
   ],
   "source": [
    "summary(Decoder(input_dim=64, hidden_dim=64, output_dim=2).to('cuda'), (1, 2), device='cuda')  # Print the model summary"
   ]
  },
  {
   "cell_type": "code",
   "execution_count": 35,
   "id": "c9434576",
   "metadata": {
    "execution": {
     "iopub.execute_input": "2025-06-14T04:45:18.933013Z",
     "iopub.status.busy": "2025-06-14T04:45:18.932776Z",
     "iopub.status.idle": "2025-06-14T04:45:18.937476Z",
     "shell.execute_reply": "2025-06-14T04:45:18.936758Z",
     "shell.execute_reply.started": "2025-06-14T04:45:18.932995Z"
    },
    "trusted": true
   },
   "outputs": [],
   "source": [
    "class Autoencoder(nn.Module):\n",
    "    def __init__(self, input_dim, hidden_dim, output_dim):\n",
    "        super(Autoencoder, self).__init__()\n",
    "        self.encoder = Encoder(input_dim, hidden_dim, output_dim)\n",
    "        self.decoder = Decoder(hidden_dim , hidden_dim , output_dim)\n",
    "\n",
    "    def forward(self, x):\n",
    "        encoded = self.encoder(x)\n",
    "        # print(x.shape)\n",
    "        decoded = self.decoder(encoded)\n",
    "        return decoded"
   ]
  },
  {
   "cell_type": "code",
   "execution_count": 40,
   "id": "22013168",
   "metadata": {
    "execution": {
     "iopub.execute_input": "2025-06-14T05:02:38.050289Z",
     "iopub.status.busy": "2025-06-14T05:02:38.049951Z",
     "iopub.status.idle": "2025-06-14T05:02:38.067806Z",
     "shell.execute_reply": "2025-06-14T05:02:38.067230Z",
     "shell.execute_reply.started": "2025-06-14T05:02:38.050271Z"
    },
    "trusted": true
   },
   "outputs": [
    {
     "data": {
      "text/plain": [
       "==========================================================================================\n",
       "Layer (type:depth-idx)                   Output Shape              Param #\n",
       "==========================================================================================\n",
       "Autoencoder                              [1, 1, 28, 28]            --\n",
       "├─Encoder: 1-1                           [1, 2]                    --\n",
       "│    └─Sequential: 2-1                   [1, 3136]                 --\n",
       "│    │    └─Conv2d: 3-1                  [1, 64, 28, 28]           640\n",
       "│    │    └─LeakyReLU: 3-2               [1, 64, 28, 28]           --\n",
       "│    │    └─Conv2d: 3-3                  [1, 64, 14, 14]           36,928\n",
       "│    │    └─LeakyReLU: 3-4               [1, 64, 14, 14]           --\n",
       "│    │    └─Conv2d: 3-5                  [1, 64, 7, 7]             36,928\n",
       "│    │    └─LeakyReLU: 3-6               [1, 64, 7, 7]             --\n",
       "│    │    └─Conv2d: 3-7                  [1, 64, 7, 7]             36,928\n",
       "│    │    └─LeakyReLU: 3-8               [1, 64, 7, 7]             --\n",
       "│    │    └─Flatten: 3-9                 [1, 3136]                 --\n",
       "│    └─Linear: 2-2                       [1, 2]                    6,274\n",
       "├─Decoder: 1-2                           [1, 1, 28, 28]            --\n",
       "│    └─Linear: 2-3                       [1, 3136]                 9,408\n",
       "│    └─Sequential: 2-4                   [1, 1, 28, 28]            --\n",
       "│    │    └─ConvTranspose2d: 3-10        [1, 64, 7, 7]             36,928\n",
       "│    │    └─LeakyReLU: 3-11              [1, 64, 7, 7]             --\n",
       "│    │    └─ConvTranspose2d: 3-12        [1, 64, 7, 7]             36,928\n",
       "│    │    └─LeakyReLU: 3-13              [1, 64, 7, 7]             --\n",
       "│    │    └─ConvTranspose2d: 3-14        [1, 64, 14, 14]           36,928\n",
       "│    │    └─LeakyReLU: 3-15              [1, 64, 14, 14]           --\n",
       "│    │    └─ConvTranspose2d: 3-16        [1, 1, 28, 28]            577\n",
       "│    │    └─LeakyReLU: 3-17              [1, 1, 28, 28]            --\n",
       "==========================================================================================\n",
       "Total params: 238,467\n",
       "Trainable params: 238,467\n",
       "Non-trainable params: 0\n",
       "Total mult-adds (Units.MEGABYTES): 22.68\n",
       "==========================================================================================\n",
       "Input size (MB): 0.00\n",
       "Forward/backward pass size (MB): 0.73\n",
       "Params size (MB): 0.95\n",
       "Estimated Total Size (MB): 1.69\n",
       "=========================================================================================="
      ]
     },
     "execution_count": 40,
     "metadata": {},
     "output_type": "execute_result"
    }
   ],
   "source": [
    "autoencoder = Autoencoder(input_dim=1, hidden_dim=64, output_dim=2).to('cuda')\n",
    "summary(autoencoder, (1, 1, 28, 28), device='cuda')  # Print the model summary"
   ]
  },
  {
   "cell_type": "code",
   "execution_count": null,
   "id": "14a1584c",
   "metadata": {
    "execution": {
     "iopub.execute_input": "2025-06-14T05:02:38.240365Z",
     "iopub.status.busy": "2025-06-14T05:02:38.240160Z",
     "iopub.status.idle": "2025-06-14T05:02:38.249359Z",
     "shell.execute_reply": "2025-06-14T05:02:38.248555Z",
     "shell.execute_reply.started": "2025-06-14T05:02:38.240350Z"
    },
    "trusted": true
   },
   "outputs": [],
   "source": [
    "from torch.utils.data import random_split, DataLoader\n",
    "\n",
    "# Define the split sizes\n",
    "train_size = int(0.8 * len(mnist_dataset))\n",
    "val_size = len(mnist_dataset) - train_size\n",
    "\n",
    "# Split the dataset\n",
    "train_dataset, val_dataset = random_split(mnist_dataset, [train_size, val_size])\n",
    "\n",
    "# Create DataLoaders\n",
    "train_loader = DataLoader(train_dataset, batch_size=64, shuffle=True)\n",
    "val_loader = DataLoader(val_dataset, batch_size=64, shuffle=False)"
   ]
  },
  {
   "cell_type": "code",
   "execution_count": 42,
   "id": "21d1f76f",
   "metadata": {
    "execution": {
     "iopub.execute_input": "2025-06-14T05:02:38.453551Z",
     "iopub.status.busy": "2025-06-14T05:02:38.453095Z",
     "iopub.status.idle": "2025-06-14T05:25:16.718313Z",
     "shell.execute_reply": "2025-06-14T05:25:16.717523Z",
     "shell.execute_reply.started": "2025-06-14T05:02:38.453531Z"
    },
    "trusted": true
   },
   "outputs": [
    {
     "name": "stdout",
     "output_type": "stream",
     "text": [
      "Epoch 1, Loss: 0.10979873687028885\n",
      "Epoch 2, Loss: 0.116000235080719\n",
      "Epoch 3, Loss: 0.10831580311059952\n",
      "Epoch 4, Loss: 0.1173040121793747\n",
      "Epoch 5, Loss: 0.10627396404743195\n",
      "Epoch 6, Loss: 0.11320386081933975\n",
      "Epoch 7, Loss: 0.11243826895952225\n",
      "Epoch 8, Loss: 0.10839948803186417\n",
      "Epoch 9, Loss: 0.11539704352617264\n",
      "Epoch 10, Loss: 0.060189057141542435\n",
      "Epoch 11, Loss: 0.051073506474494934\n",
      "Epoch 12, Loss: 0.04845587909221649\n",
      "Epoch 13, Loss: 0.04664718732237816\n",
      "Epoch 14, Loss: 0.0490368977189064\n",
      "Epoch 15, Loss: 0.04527375102043152\n",
      "Epoch 16, Loss: 0.044807981699705124\n",
      "Epoch 17, Loss: 0.04178055748343468\n",
      "Epoch 18, Loss: 0.04291572421789169\n",
      "Epoch 19, Loss: 0.046612489968538284\n",
      "Epoch 20, Loss: 0.04315045475959778\n",
      "Epoch 21, Loss: 0.039879895746707916\n",
      "Epoch 22, Loss: 0.04184161499142647\n",
      "Epoch 23, Loss: 0.03853415697813034\n",
      "Epoch 24, Loss: 0.03953186795115471\n",
      "Epoch 25, Loss: 0.0466708168387413\n",
      "Epoch 26, Loss: 0.03849957510828972\n",
      "Epoch 27, Loss: 0.03954695910215378\n",
      "Epoch 28, Loss: 0.038018640130758286\n",
      "Epoch 29, Loss: 0.04032890871167183\n",
      "Epoch 30, Loss: 0.038851745426654816\n",
      "Epoch 31, Loss: 0.03715524449944496\n",
      "Epoch 32, Loss: 0.03683808445930481\n",
      "Epoch 33, Loss: 0.03967466205358505\n",
      "Epoch 34, Loss: 0.040813446044921875\n",
      "Epoch 35, Loss: 0.03686848282814026\n",
      "Epoch 36, Loss: 0.0395856574177742\n",
      "Epoch 37, Loss: 0.037386614829301834\n",
      "Epoch 38, Loss: 0.03537946194410324\n",
      "Epoch 39, Loss: 0.0393388494849205\n",
      "Epoch 40, Loss: 0.03743761405348778\n",
      "Epoch 41, Loss: 0.03995419293642044\n",
      "Epoch 42, Loss: 0.036215391010046005\n",
      "Epoch 43, Loss: 0.03794030100107193\n",
      "Epoch 44, Loss: 0.03759939968585968\n",
      "Epoch 45, Loss: 0.041571956127882004\n",
      "Epoch 46, Loss: 0.03521988168358803\n",
      "Epoch 47, Loss: 0.0372588075697422\n",
      "Epoch 48, Loss: 0.03539271652698517\n",
      "Epoch 49, Loss: 0.03736937791109085\n",
      "Epoch 50, Loss: 0.03826962783932686\n",
      "Epoch 51, Loss: 0.03428967669606209\n",
      "Epoch 52, Loss: 0.04057721048593521\n",
      "Epoch 53, Loss: 0.035698872059583664\n",
      "Epoch 54, Loss: 0.03577243164181709\n",
      "Epoch 55, Loss: 0.03761877119541168\n",
      "Epoch 56, Loss: 0.03521382436156273\n",
      "Epoch 57, Loss: 0.03721606358885765\n",
      "Epoch 58, Loss: 0.03681408241391182\n",
      "Epoch 59, Loss: 0.03673090785741806\n",
      "Epoch 60, Loss: 0.03442755341529846\n",
      "Epoch 61, Loss: 0.03928353264927864\n",
      "Epoch 62, Loss: 0.03493376448750496\n",
      "Epoch 63, Loss: 0.03502678498625755\n",
      "Epoch 64, Loss: 0.042072441428899765\n",
      "Epoch 65, Loss: 0.04119114577770233\n",
      "Epoch 66, Loss: 0.03829437494277954\n",
      "Epoch 67, Loss: 0.037738487124443054\n",
      "Epoch 68, Loss: 0.03884640336036682\n",
      "Epoch 69, Loss: 0.0330841988325119\n",
      "Epoch 70, Loss: 0.03751760721206665\n",
      "Epoch 71, Loss: 0.03432602807879448\n",
      "Epoch 72, Loss: 0.03633952885866165\n",
      "Epoch 73, Loss: 0.03852735459804535\n",
      "Epoch 74, Loss: 0.03665481507778168\n",
      "Epoch 75, Loss: 0.03578023612499237\n",
      "Epoch 76, Loss: 0.03984031081199646\n",
      "Epoch 77, Loss: 0.03770720586180687\n",
      "Epoch 78, Loss: 0.0329921655356884\n",
      "Epoch 79, Loss: 0.0369977205991745\n",
      "Epoch 80, Loss: 0.035218603909015656\n",
      "Epoch 81, Loss: 0.03538811206817627\n",
      "Epoch 82, Loss: 0.03499296307563782\n",
      "Epoch 83, Loss: 0.03680209070444107\n",
      "Epoch 84, Loss: 0.035974763333797455\n",
      "Epoch 85, Loss: 0.03568551689386368\n",
      "Epoch 86, Loss: 0.03401966392993927\n",
      "Epoch 87, Loss: 0.03612685948610306\n",
      "Epoch 88, Loss: 0.035664018243551254\n",
      "Epoch 89, Loss: 0.034213386476039886\n",
      "Epoch 90, Loss: 0.037958450615406036\n",
      "Epoch 91, Loss: 0.033138155937194824\n",
      "Epoch 92, Loss: 0.0379694364964962\n",
      "Epoch 93, Loss: 0.03560991212725639\n",
      "Epoch 94, Loss: 0.03441915661096573\n",
      "Epoch 95, Loss: 0.034485530108213425\n",
      "Epoch 96, Loss: 0.035429030656814575\n",
      "Epoch 97, Loss: 0.0332990400493145\n",
      "Epoch 98, Loss: 0.03749994933605194\n",
      "Epoch 99, Loss: 0.034699469804763794\n",
      "Epoch 100, Loss: 0.031806934624910355\n",
      "Epoch 101, Loss: 0.03280745819211006\n",
      "Epoch 102, Loss: 0.03441436216235161\n",
      "Epoch 103, Loss: 0.036537520587444305\n",
      "Epoch 104, Loss: 0.0330972895026207\n",
      "Epoch 105, Loss: 0.03539099916815758\n",
      "Epoch 106, Loss: 0.037251830101013184\n",
      "Epoch 107, Loss: 0.0361754335463047\n",
      "Epoch 108, Loss: 0.029265442863106728\n",
      "Epoch 109, Loss: 0.03360587731003761\n",
      "Epoch 110, Loss: 0.03602506220340729\n",
      "Epoch 111, Loss: 0.032845254987478256\n",
      "Epoch 112, Loss: 0.038637202233076096\n",
      "Epoch 113, Loss: 0.0338473841547966\n",
      "Epoch 114, Loss: 0.033830948173999786\n",
      "Epoch 115, Loss: 0.03554864227771759\n",
      "Epoch 116, Loss: 0.03895588591694832\n",
      "Epoch 117, Loss: 0.032641466706991196\n",
      "Epoch 118, Loss: 0.036653198301792145\n",
      "Epoch 119, Loss: 0.03658027574419975\n",
      "Epoch 120, Loss: 0.03328597545623779\n",
      "Epoch 121, Loss: 0.037936292588710785\n",
      "Epoch 122, Loss: 0.03388763964176178\n",
      "Epoch 123, Loss: 0.030836470425128937\n",
      "Epoch 124, Loss: 0.03705122694373131\n",
      "Epoch 125, Loss: 0.04008293151855469\n",
      "Epoch 126, Loss: 0.0314156748354435\n",
      "Epoch 127, Loss: 0.03513428941369057\n",
      "Epoch 128, Loss: 0.03562489524483681\n",
      "Epoch 129, Loss: 0.03683235123753548\n",
      "Epoch 130, Loss: 0.03287467360496521\n",
      "Epoch 131, Loss: 0.03301037475466728\n",
      "Epoch 132, Loss: 0.03457975015044212\n",
      "Epoch 133, Loss: 0.031713422387838364\n",
      "Epoch 134, Loss: 0.03186089172959328\n",
      "Epoch 135, Loss: 0.03434859588742256\n",
      "Epoch 136, Loss: 0.03354250639677048\n",
      "Epoch 137, Loss: 0.034928224980831146\n",
      "Epoch 138, Loss: 0.03276154771447182\n",
      "Epoch 139, Loss: 0.03468159958720207\n",
      "Epoch 140, Loss: 0.036547087132930756\n",
      "Epoch 141, Loss: 0.03762088343501091\n",
      "Epoch 142, Loss: 0.03616953268647194\n",
      "Epoch 143, Loss: 0.03168385103344917\n",
      "Epoch 144, Loss: 0.03620189055800438\n",
      "Epoch 145, Loss: 0.03899848088622093\n",
      "Epoch 146, Loss: 0.033122118562459946\n",
      "Epoch 147, Loss: 0.033257856965065\n",
      "Epoch 148, Loss: 0.03434313088655472\n",
      "Epoch 149, Loss: 0.034291744232177734\n",
      "Epoch 150, Loss: 0.03528811037540436\n",
      "Epoch 151, Loss: 0.035300131887197495\n",
      "Epoch 152, Loss: 0.03427008539438248\n",
      "Epoch 153, Loss: 0.033366866409778595\n",
      "Epoch 154, Loss: 0.029752342030405998\n",
      "Epoch 155, Loss: 0.03817194327712059\n",
      "Epoch 156, Loss: 0.03479394689202309\n",
      "Epoch 157, Loss: 0.03592165559530258\n",
      "Epoch 158, Loss: 0.03100113570690155\n",
      "Epoch 159, Loss: 0.034041788429021835\n",
      "Epoch 160, Loss: 0.03452786058187485\n",
      "Epoch 161, Loss: 0.0341549851000309\n",
      "Epoch 162, Loss: 0.037125393748283386\n",
      "Epoch 163, Loss: 0.03468317165970802\n",
      "Epoch 164, Loss: 0.035984497517347336\n",
      "Epoch 165, Loss: 0.03443319723010063\n",
      "Epoch 166, Loss: 0.03278844431042671\n",
      "Epoch 167, Loss: 0.03769472986459732\n",
      "Epoch 168, Loss: 0.03518184646964073\n",
      "Epoch 169, Loss: 0.03651493787765503\n",
      "Epoch 170, Loss: 0.03303733468055725\n",
      "Epoch 171, Loss: 0.03317698463797569\n",
      "Epoch 172, Loss: 0.03649391233921051\n",
      "Epoch 173, Loss: 0.0330955907702446\n",
      "Epoch 174, Loss: 0.0348505862057209\n",
      "Epoch 175, Loss: 0.0339345820248127\n",
      "Epoch 176, Loss: 0.03339899703860283\n",
      "Epoch 177, Loss: 0.03167108818888664\n",
      "Epoch 178, Loss: 0.031210429966449738\n",
      "Epoch 179, Loss: 0.0334932804107666\n",
      "Epoch 180, Loss: 0.03494832292199135\n",
      "Epoch 181, Loss: 0.0332048125565052\n",
      "Epoch 182, Loss: 0.033835455775260925\n",
      "Epoch 183, Loss: 0.03554757311940193\n",
      "Epoch 184, Loss: 0.03532378375530243\n",
      "Epoch 185, Loss: 0.031906917691230774\n",
      "Epoch 186, Loss: 0.03344809636473656\n",
      "Epoch 187, Loss: 0.029404234141111374\n",
      "Epoch 188, Loss: 0.032204095274209976\n",
      "Epoch 189, Loss: 0.03248186409473419\n",
      "Epoch 190, Loss: 0.03287563845515251\n",
      "Epoch 191, Loss: 0.032276805490255356\n",
      "Epoch 192, Loss: 0.03100184164941311\n",
      "Epoch 193, Loss: 0.03885053098201752\n",
      "Epoch 194, Loss: 0.03388571739196777\n",
      "Epoch 195, Loss: 0.03226252272725105\n",
      "Epoch 196, Loss: 0.033207956701517105\n",
      "Epoch 197, Loss: 0.034679461270570755\n",
      "Epoch 198, Loss: 0.03202229365706444\n",
      "Epoch 199, Loss: 0.03167729079723358\n",
      "Epoch 200, Loss: 0.034495413303375244\n"
     ]
    }
   ],
   "source": [
    "\n",
    "optimizer = torch.optim.Adam(autoencoder.parameters(), lr=0.0005)\n",
    "# Training the autoencoder\n",
    "epochs = 200  # Number of epochs for training\n",
    "    \n",
    "for epoch in range(epochs):\n",
    "    for data, _ in train_loader:\n",
    "        data = data.to('cuda')\n",
    "        optimizer.zero_grad()\n",
    "        output = autoencoder(data)\n",
    "        loss = nn.functional.mse_loss(output, data)\n",
    "        loss.backward()\n",
    "        optimizer.step()\n",
    "    \n",
    "    print(f'Epoch {epoch+1}, Loss: {loss.item()}')"
   ]
  },
  {
   "cell_type": "code",
   "execution_count": 43,
   "id": "7476937d-05d4-4f25-bae8-7a11cf3f8b57",
   "metadata": {
    "execution": {
     "iopub.execute_input": "2025-06-14T05:25:16.719864Z",
     "iopub.status.busy": "2025-06-14T05:25:16.719607Z",
     "iopub.status.idle": "2025-06-14T05:25:17.602528Z",
     "shell.execute_reply": "2025-06-14T05:25:17.601807Z",
     "shell.execute_reply.started": "2025-06-14T05:25:16.719847Z"
    },
    "trusted": true
   },
   "outputs": [
    {
     "data": {
      "image/png": "[encoded data removed]",
      "text/plain": [
       "<Figure size 1500x400 with 16 Axes>"
      ]
     },
     "metadata": {},
     "output_type": "display_data"
    }
   ],
   "source": [
    "import matplotlib.pyplot as plt\n",
    "import numpy as np\n",
    "\n",
    "with torch.no_grad():\n",
    "    for data, _ in val_loader:\n",
    "        data = data.to('cuda')\n",
    "        res = autoencoder(data)\n",
    "        break\n",
    "\n",
    "# Move tensors to CPU and convert to numpy for visualization\n",
    "original_images = data.cpu().numpy()\n",
    "reconstructed_images = res.cpu().numpy()\n",
    "\n",
    "# Plot original vs reconstructed images\n",
    "fig, axes = plt.subplots(2, 8, figsize=(15, 4))\n",
    "fig.suptitle('Original (top) vs Reconstructed (bottom)')\n",
    "\n",
    "for i in range(8):\n",
    "    # Original images\n",
    "    axes[0, i].imshow(original_images[i].squeeze(), cmap='gray')\n",
    "    axes[0, i].set_title(f'Original {i+1}')\n",
    "    axes[0, i].axis('off')\n",
    "    \n",
    "    # Reconstructed images\n",
    "    axes[1, i].imshow(reconstructed_images[i].squeeze(), cmap='gray')\n",
    "    axes[1, i].set_title(f'Reconstructed {i+1}')\n",
    "    axes[1, i].axis('off')\n",
    "\n",
    "plt.tight_layout()\n",
    "plt.show()"
   ]
  },
  {
   "cell_type": "code",
   "execution_count": null,
   "id": "ff7b3bdc-2670-44e9-8cc4-0bdcdf3b54e2",
   "metadata": {
    "trusted": true
   },
   "outputs": [],
   "source": []
  }
 ],
 "metadata": {
  "kaggle": {
   "accelerator": "nvidiaTeslaT4",
   "dataSources": [],
   "dockerImageVersionId": 31041,
   "isGpuEnabled": true,
   "isInternetEnabled": true,
   "language": "python",
   "sourceType": "notebook"
  },
  "kernelspec": {
   "display_name": "mt",
   "language": "python",
   "name": "python3"
  },
  "language_info": {
   "codemirror_mode": {
    "name": "ipython",
    "version": 3
   },
   "file_extension": ".py",
   "mimetype": "text/x-python",
   "name": "python",
   "nbconvert_exporter": "python",
   "pygments_lexer": "ipython3",
   "version": "3.11.11"
  }
 },
 "nbformat": 4,
 "nbformat_minor": 5
}
