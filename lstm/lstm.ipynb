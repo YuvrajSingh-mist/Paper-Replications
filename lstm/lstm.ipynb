{
 "cells": [
  {
   "cell_type": "code",
   "execution_count": 1,
   "metadata": {},
   "outputs": [],
   "source": [
    "import torch\n",
    "import torch.nn as nn"
   ]
  },
  {
   "cell_type": "code",
   "execution_count": null,
   "metadata": {},
   "outputs": [],
   "source": [
    "import wandb\n",
    "!wandb login"
   ]
  },
  {
   "cell_type": "code",
   "execution_count": 3,
   "metadata": {},
   "outputs": [],
   "source": [
    "from dataclasses import dataclass\n",
    "\n",
    "\n",
    "@dataclass \n",
    "class ModelArgs:\n",
    "    device = 'cuda'\n",
    "    no_of_neurons = 128\n",
    "    block_size = 64\n",
    "    batch_size = 32\n",
    "    dropout = 0.1\n",
    "    epoch = 50\n",
    "    max_lr = 1e-4"
   ]
  },
  {
   "cell_type": "code",
   "execution_count": null,
   "metadata": {},
   "outputs": [],
   "source": [
    "ModelArgs.device"
   ]
  },
  {
   "cell_type": "code",
   "execution_count": 5,
   "metadata": {},
   "outputs": [],
   "source": [
    "torch.set_default_device(ModelArgs.device)"
   ]
  },
  {
   "cell_type": "code",
   "execution_count": 6,
   "metadata": {},
   "outputs": [],
   "source": [
    "import torch\n",
    "from torch.utils.data import Dataset, DataLoader\n",
    "\n",
    "\n",
    "torch.manual_seed(0)\n",
    "\n",
    "\n",
    "num_samples = 1000  \n",
    "seq_length = ModelArgs.block_size  \n",
    "device = ModelArgs.device  \n",
    "\n",
    "\n",
    "t = torch.linspace(0, 100, num_samples + seq_length, device=device)\n",
    "data = torch.sin(t) + 0.1 * torch.randn_like(t)  \n",
    "\n",
    "\n",
    "X_tensor = torch.stack([data[i:i+seq_length] for i in range(num_samples)])\n",
    "y_tensor = data[seq_length:]  # Next value prediction\n",
    "\n",
    "train_size = int(0.8 * num_samples)\n",
    "\n",
    "X_train, y_train = X_tensor[:train_size], y_tensor[:train_size]  \n",
    "X_val, y_val = X_tensor[train_size:], y_tensor[train_size:]  \n",
    "\n",
    "\n",
    "class TimeSeriesDataset(Dataset):\n",
    "    def __init__(self, X, y):\n",
    "        self.X = X\n",
    "        self.y = y\n",
    "\n",
    "    def __len__(self):\n",
    "        return len(self.X)\n",
    "\n",
    "    def __getitem__(self, idx):\n",
    "        return self.X[idx], self.y[idx]\n",
    "\n",
    "\n",
    "train_dataset = TimeSeriesDataset(X_train, y_train)\n",
    "val_dataset = TimeSeriesDataset(X_val, y_val)\n",
    "\n",
    "\n",
    "device = torch.device(\"cuda\" if torch.cuda.is_available() else \"cpu\")\n",
    "\n",
    "\n",
    "generator = torch.Generator(device=device)\n",
    "\n",
    "\n",
    "train_loader = DataLoader(\n",
    "    train_dataset,\n",
    "    batch_size=ModelArgs.batch_size,\n",
    "    shuffle=True,  \n",
    "    generator=generator,  \n",
    "    drop_last=True\n",
    ")\n",
    "\n",
    "val_loader = DataLoader(\n",
    "    val_dataset,\n",
    "    drop_last=True,\n",
    "    batch_size=ModelArgs.batch_size,\n",
    "    shuffle=False, \n",
    ")\n",
    "\n"
   ]
  },
  {
   "cell_type": "code",
   "execution_count": 7,
   "metadata": {},
   "outputs": [],
   "source": [
    "class InputGate(nn.Module):\n",
    "    def __init__(self, device, no_of_neurons):\n",
    "        super().__init__()\n",
    "        self.it = nn.Linear(in_features=ModelArgs.block_size + ModelArgs.no_of_neurons, out_features=no_of_neurons, device=device, dtype=torch.float32)\n",
    "        self.ct_bar = nn.Linear(in_features=ModelArgs.block_size + ModelArgs.no_of_neurons, out_features=no_of_neurons, device=device, dtype=torch.float32)\n",
    "        \n",
    "    def forward(self, x, ht_1):\n",
    "        x = torch.cat([x, ht_1], dim=-1)\n",
    "        it = torch.nn.functional.sigmoid(self.it(x))\n",
    "        ct_bar = torch.nn.functional.tanh(self.ct_bar(x))\n",
    "        # out = torch.nn.functional.sigmoid(self.linear(x))\n",
    "        return it, ct_bar"
   ]
  },
  {
   "cell_type": "code",
   "execution_count": 8,
   "metadata": {},
   "outputs": [],
   "source": [
    "class OutputGate(nn.Module):\n",
    "    def __init__(self, device, no_of_neurons) -> None:\n",
    "        super().__init__()\n",
    "        self.linear = nn.Linear(in_features=ModelArgs.block_size + ModelArgs.no_of_neurons, out_features=no_of_neurons, device=device, dtype=torch.float32)\n",
    "    def forward(self, x, ht_1):\n",
    "        x = torch.cat([x, ht_1], dim=-1)\n",
    "        out = torch.nn.functional.sigmoid(self.linear(x))\n",
    "        return out"
   ]
  },
  {
   "cell_type": "code",
   "execution_count": 9,
   "metadata": {},
   "outputs": [],
   "source": [
    "class ForgetGate(nn.Module):\n",
    "    \n",
    "    def __init__(self, device, no_of_neurons):\n",
    "        super().__init__()\n",
    "        self.linear = nn.Linear(in_features=ModelArgs.block_size + ModelArgs.no_of_neurons, out_features=no_of_neurons, device=device, dtype=torch.float32)\n",
    "        \n",
    "    def forward(self, x, ht_1):\n",
    "        # print(\"Forgot: \", x.shape)\n",
    "        # print(\"Forget: \", ht_1.shape)\n",
    "        x = torch.cat([x, ht_1], dim=-1)\n",
    "        out = torch.nn.functional.sigmoid(self.linear(x))\n",
    "        return out"
   ]
  },
  {
   "cell_type": "code",
   "execution_count": 10,
   "metadata": {},
   "outputs": [],
   "source": [
    "class LSTMBlock(nn.Module):\n",
    "    def __init__(self, device, no_of_neurons):\n",
    "        super().__init__()\n",
    "        self.ip = InputGate(device=device, no_of_neurons=no_of_neurons)\n",
    "        self.op = OutputGate(device=device, no_of_neurons=no_of_neurons)\n",
    "        self.forget = ForgetGate(device=device, no_of_neurons=no_of_neurons)\n",
    "        \n",
    "    def forward(self, x, ht_1, ct_1):\n",
    "        # print(\"Block: \", x.shape)\n",
    "        # print(\"Block: \", ht_1.shape)\n",
    "        # print(\"Block: \", ct_1.shape)\n",
    "        ft = self.forget(x, ht_1) * ct_1\n",
    "        it, ct_bar = self.ip(x , ht_1)\n",
    "        ct_bar_prime = it * ct_bar\n",
    "        ct = ft * ct_1 + ct_bar_prime\n",
    "        ht = self.op(x, ht_1) * torch.nn.functional.tanh(ct)\n",
    "        return ht, ct"
   ]
  },
  {
   "cell_type": "code",
   "execution_count": 11,
   "metadata": {},
   "outputs": [],
   "source": [
    "class LSTM(nn.Module):\n",
    "    def __init__(self, device, no_of_neurons, out_features):\n",
    "        super().__init__()\n",
    "        self.block1 = LSTMBlock(device=device, no_of_neurons=no_of_neurons)\n",
    "        self.block2 = LSTMBlock(device=device, no_of_neurons=no_of_neurons)\n",
    "        self.ht_1 = torch.randn(ModelArgs.batch_size, no_of_neurons, device=device, requires_grad=True, dtype=torch.float32)\n",
    "        self.ct_1 = torch.randn(ModelArgs.batch_size, no_of_neurons,device=device, requires_grad=True, dtype=torch.float32)\n",
    "        self.output = nn.Linear(in_features=ModelArgs.no_of_neurons, out_features=out_features, device=device, dtype=torch.float32)\n",
    "        self.dropout = nn.Dropout(p=ModelArgs.dropout)\n",
    "        # self.embedding = nn.Embedding()\n",
    "        \n",
    "    def forward(self, x):\n",
    "        # x = \n",
    "        # print(\"LSTM: \",x.shape)\n",
    "        # print(\"LSTM: \", self.ht_1.shape)\n",
    "        # print(\"LSTM: \", self.ct_1.shape)\n",
    "        ht, ct = self.block1(x, self.ht_1, self.ct_1)\n",
    "        # print(ht.shape)\n",
    "        # print(ct.shape)\n",
    "        ht, ct = self.block2(x, ht, ct)\n",
    "        ht = self.dropout(ht)\n",
    "        # print(\"After: \", ht.shape)\n",
    "        out = torch.nn.functional.sigmoid((self.output(ht)))\n",
    "        return out"
   ]
  },
  {
   "cell_type": "code",
   "execution_count": 12,
   "metadata": {},
   "outputs": [],
   "source": [
    "model = LSTM(device=ModelArgs.device, no_of_neurons=ModelArgs.no_of_neurons, out_features=1)\n",
    "model = model.to(ModelArgs.device)"
   ]
  },
  {
   "cell_type": "code",
   "execution_count": null,
   "metadata": {},
   "outputs": [],
   "source": [
    "!pip install torchinfo\n",
    "\n",
    "from torchinfo import summary\n",
    "\n",
    "x = torch.randint(0, 100, (ModelArgs.batch_size,ModelArgs.block_size))  # Random integer between 0 and 100\n",
    "x = x.to(ModelArgs.device)\n",
    "summary(model=model,\n",
    "        input_data=x,\n",
    "        # input_size=(ModelArgs.batch_size, ModelArgs.block_size, ModelArgs.embeddings_dims),\n",
    "        col_names=[\"input_size\", \"output_size\", \"num_params\", \"trainable\"],\n",
    "        col_width=20,\n",
    "        row_settings=[\"var_names\"])\n"
   ]
  },
  {
   "cell_type": "code",
   "execution_count": 14,
   "metadata": {},
   "outputs": [],
   "source": [
    "criterion = nn.MSELoss()\n",
    "optimizer = torch.optim.AdamW(model.parameters(), lr=ModelArgs.max_lr)"
   ]
  },
  {
   "cell_type": "code",
   "execution_count": null,
   "metadata": {},
   "outputs": [],
   "source": [
    "model.train()\n",
    "train_losses =  torch.zeros(len(train_loader))\n",
    "val_losses = torch.zeros(len(val_loader))\n",
    "wandb.init(\n",
    "    project='LSTM-From-Scratch'\n",
    ")\n",
    "for epoch in range(ModelArgs.epoch):\n",
    "    \n",
    "    count = 0\n",
    "    for X, y in train_loader:\n",
    "        y_pred = model(X)\n",
    "        # print(y_pred.shape)\n",
    "        loss = criterion(y_pred, y)\n",
    "        train_losses[count] = loss.item()\n",
    "        # print(\"Loss: \", loss.item())\n",
    "        \n",
    "        optimizer.zero_grad()\n",
    "        loss.backward()\n",
    "        optimizer.step()\n",
    "        count += 1\n",
    "        \n",
    "    # count = 0\n",
    "    model.eval()\n",
    "    count = 0\n",
    "    for X, y in val_loader:\n",
    "        y_pred = model(X)\n",
    "        # print(y_pred.shape)\n",
    "        loss = criterion(y_pred, y)\n",
    "        \n",
    "        # print(\"Loss: \", loss.item())\n",
    "        val_losses[count] = loss.item()\n",
    "        \n",
    "        # optimizer.zero_grad()\n",
    "        # loss.backward()\n",
    "        # optimizer.step()\n",
    "        count += 1\n",
    "    model.train()\n",
    "    wandb.log({\n",
    "      \"Train Loss\": train_losses.mean(),\n",
    "      \"Val Loss\": val_losses.mean(),\n",
    "      \"epoch\": epoch  \n",
    "    })\n",
    "    print(\"Epoch: \", epoch, \"|\", \"Train Loss: \", train_losses.mean(),  \"|\", \"Val Loss: \", val_losses.mean())\n"
   ]
  },
  {
   "cell_type": "code",
   "execution_count": null,
   "metadata": {},
   "outputs": [],
   "source": []
  }
 ],
 "metadata": {
  "kernelspec": {
   "display_name": "unsloth_env",
   "language": "python",
   "name": "python3"
  },
  "language_info": {
   "codemirror_mode": {
    "name": "ipython",
    "version": 3
   },
   "file_extension": ".py",
   "mimetype": "text/x-python",
   "name": "python",
   "nbconvert_exporter": "python",
   "pygments_lexer": "ipython3",
   "version": "3.11.11"
  }
 },
 "nbformat": 4,
 "nbformat_minor": 2
}
