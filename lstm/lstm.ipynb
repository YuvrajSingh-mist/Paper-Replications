{
 "cells": [
  {
   "cell_type": "code",
   "execution_count": 86,
   "metadata": {},
   "outputs": [],
   "source": [
    "import torch\n",
    "import torch.nn as nn"
   ]
  },
  {
   "cell_type": "code",
   "execution_count": 87,
   "metadata": {},
   "outputs": [
    {
     "name": "stdout",
     "output_type": "stream",
     "text": [
      "\u001b[34m\u001b[1mwandb\u001b[0m: Currently logged in as: \u001b[33mrajceo2031\u001b[0m (\u001b[33mrentio\u001b[0m) to \u001b[32mhttps://api.wandb.ai\u001b[0m. Use \u001b[1m`wandb login --relogin`\u001b[0m to force relogin\n"
     ]
    }
   ],
   "source": [
    "import wandb\n",
    "!wandb login"
   ]
  },
  {
   "cell_type": "code",
   "execution_count": 88,
   "metadata": {},
   "outputs": [],
   "source": [
    "from dataclasses import dataclass\n",
    "\n",
    "\n",
    "@dataclass \n",
    "class ModelArgs:\n",
    "    device = 'cuda'\n",
    "    no_of_neurons = 128\n",
    "    block_size = 64\n",
    "    batch_size = 32\n",
    "    dropout = 0.1\n",
    "    epoch = 50\n",
    "    max_lr = 1e-4"
   ]
  },
  {
   "cell_type": "code",
   "execution_count": 89,
   "metadata": {},
   "outputs": [
    {
     "data": {
      "text/plain": [
       "'cuda'"
      ]
     },
     "execution_count": 89,
     "metadata": {},
     "output_type": "execute_result"
    }
   ],
   "source": [
    "ModelArgs.device"
   ]
  },
  {
   "cell_type": "code",
   "execution_count": 90,
   "metadata": {},
   "outputs": [],
   "source": [
    "torch.set_default_device(ModelArgs.device)"
   ]
  },
  {
   "cell_type": "code",
   "execution_count": 91,
   "metadata": {},
   "outputs": [],
   "source": [
    "import torch\n",
    "from torch.utils.data import Dataset, DataLoader\n",
    "\n",
    "\n",
    "torch.manual_seed(0)\n",
    "\n",
    "\n",
    "num_samples = 10000 \n",
    "seq_length = ModelArgs.block_size  \n",
    "device = ModelArgs.device  \n",
    "\n",
    "\n",
    "t = torch.linspace(0, 100, num_samples + seq_length, device=device)\n",
    "# data = torch.sin(t) + 0.1 * torch.randn_like(t)  \n",
    "data = t\n",
    "\n",
    "X_tensor = torch.stack([data[i:i+seq_length] for i in range(num_samples)])\n",
    "y_tensor = data[seq_length:]  # Next value prediction\n",
    "\n",
    "train_size = int(0.8 * num_samples)\n",
    "\n",
    "X_train, y_train = X_tensor[:train_size], y_tensor[:train_size]  \n",
    "X_val, y_val = X_tensor[train_size:], y_tensor[train_size:]  \n",
    "\n",
    "\n",
    "class TimeSeriesDataset(Dataset):\n",
    "    def __init__(self, X, y):\n",
    "        self.X = X\n",
    "        self.y = y\n",
    "\n",
    "    def __len__(self):\n",
    "        return len(self.X)\n",
    "\n",
    "    def __getitem__(self, idx):\n",
    "        return self.X[idx], self.y[idx]\n",
    "\n",
    "\n",
    "train_dataset = TimeSeriesDataset(X_train, y_train)\n",
    "val_dataset = TimeSeriesDataset(X_val, y_val)\n",
    "\n",
    "\n",
    "device = torch.device(\"cuda\" if torch.cuda.is_available() else \"cpu\")\n",
    "\n",
    "\n",
    "generator = torch.Generator(device=device)\n",
    "\n",
    "\n",
    "train_loader = DataLoader(\n",
    "    train_dataset,\n",
    "    batch_size=ModelArgs.batch_size,\n",
    "    shuffle=True,  \n",
    "    generator=generator,  \n",
    "    # drop_last=True\n",
    ")\n",
    "\n",
    "val_loader = DataLoader(\n",
    "    val_dataset,\n",
    "    generator=generator, \n",
    "    # drop_last=True,\n",
    "    batch_size=ModelArgs.batch_size,\n",
    "    shuffle=True, \n",
    ")\n",
    "\n"
   ]
  },
  {
   "cell_type": "code",
   "execution_count": 92,
   "metadata": {},
   "outputs": [],
   "source": [
    "class InputGate(nn.Module):\n",
    "    def __init__(self, device, no_of_neurons):\n",
    "        super().__init__()\n",
    "        self.it = nn.Linear(in_features= ModelArgs.no_of_neurons + 1, out_features=no_of_neurons, device=device, dtype=torch.float32)\n",
    "        self.ct_bar = nn.Linear(in_features=ModelArgs.no_of_neurons + 1, out_features=no_of_neurons, device=device, dtype=torch.float32)\n",
    "        \n",
    "    def forward(self, x, ht_1):\n",
    "        x = torch.cat([x, ht_1], dim=-1)\n",
    "        it = torch.nn.functional.sigmoid(self.it(x))\n",
    "        ct_bar = torch.nn.functional.tanh(self.ct_bar(x))\n",
    "        # out = torch.nn.functional.sigmoid(self.linear(x))\n",
    "        return it, ct_bar"
   ]
  },
  {
   "cell_type": "code",
   "execution_count": 93,
   "metadata": {},
   "outputs": [],
   "source": [
    "class OutputGate(nn.Module):\n",
    "    def __init__(self, device, no_of_neurons) -> None:\n",
    "        super().__init__()\n",
    "        self.linear = nn.Linear(in_features= ModelArgs.no_of_neurons + 1, out_features=no_of_neurons, device=device, dtype=torch.float32)\n",
    "    def forward(self, x, ht_1):\n",
    "        x = torch.cat([x, ht_1], dim=-1)\n",
    "        out = torch.nn.functional.sigmoid(self.linear(x))\n",
    "        return out"
   ]
  },
  {
   "cell_type": "code",
   "execution_count": 94,
   "metadata": {},
   "outputs": [],
   "source": [
    "class ForgetGate(nn.Module):\n",
    "    \n",
    "    def __init__(self, device, no_of_neurons):\n",
    "        super().__init__()\n",
    "        self.linear = nn.Linear(in_features=ModelArgs.no_of_neurons + 1, out_features=no_of_neurons, device=device, dtype=torch.float32)\n",
    "        \n",
    "    def forward(self, x, ht_1):\n",
    "        # print(\"Forgot: \", x.shape)\n",
    "        # print(\"Forget: \", ht_1.shape)\n",
    "        x = torch.cat([x, ht_1], dim=-1)\n",
    "        out = torch.nn.functional.sigmoid(self.linear(x))\n",
    "        return out"
   ]
  },
  {
   "cell_type": "code",
   "execution_count": 95,
   "metadata": {},
   "outputs": [],
   "source": [
    "class LSTMBlock(nn.Module):\n",
    "    def __init__(self, device, no_of_neurons):\n",
    "        super().__init__()\n",
    "        self.ip = InputGate(device=device, no_of_neurons=no_of_neurons)\n",
    "        self.op = OutputGate(device=device, no_of_neurons=no_of_neurons)\n",
    "        self.forget = ForgetGate(device=device, no_of_neurons=no_of_neurons)\n",
    "        self.no_of_neurons = no_of_neurons\n",
    "    def forward(self, x, ht_1, ct_1, outputs=None):\n",
    "        # print(\"Block: \", x.shape)\n",
    "        # print(\"Block: \", ht_1.shape)\n",
    "        # print(\"Block: \", ct_1.shape)\n",
    "        \n",
    "        ht_1 = torch.randn(ModelArgs.batch_size, self.no_of_neurons, device=device, requires_grad=True, dtype=torch.float32)\n",
    "        ct_1 = torch.randn(ModelArgs.batch_size, self.no_of_neurons,device=device, requires_grad=True, dtype=torch.float32)\n",
    "        seq_len = x.shape[1]\n",
    "        if(outputs == None):\n",
    "            outputs = []\n",
    "            for t in range(seq_len):\n",
    "                xt = x[:, t].unsqueeze(-1)\n",
    "                ft = self.forget(xt, ht_1) * ct_1\n",
    "                it, ct_bar = self.ip(xt , ht_1)\n",
    "                ct_bar_prime = it * ct_bar\n",
    "                ct = ft * ct_1 + ct_bar_prime\n",
    "                ht = self.op(xt, ht_1) * torch.nn.functional.tanh(ct)\n",
    "                outputs.append(ht)\n",
    "                return ht, ct, torch.stack(outputs, dim=1)"
   ]
  },
  {
   "cell_type": "code",
   "execution_count": 96,
   "metadata": {},
   "outputs": [],
   "source": [
    "class LSTM(nn.Module):\n",
    "    def __init__(self, device, no_of_neurons, out_features):\n",
    "        super().__init__()\n",
    "        self.block1 = LSTMBlock(device=device, no_of_neurons=no_of_neurons)\n",
    "        self.block2 = LSTMBlock(device=device, no_of_neurons=no_of_neurons)\n",
    "        # self.ht_1 = torch.randn(ModelArgs.batch_size, no_of_neurons, device=device, requires_grad=True, dtype=torch.float32)\n",
    "        # self.ct_1 = torch.randn(ModelArgs.batch_size, no_of_neurons,device=device, requires_grad=True, dtype=torch.float32)\n",
    "        self.output = nn.Linear(in_features=ModelArgs.no_of_neurons + 1, out_features=out_features, device=device, dtype=torch.float32)\n",
    "        self.dropout = nn.Dropout(p=ModelArgs.dropout)\n",
    "        # self.embedding = nn.Embedding()\n",
    "        \n",
    "    def forward(self, x):\n",
    "        # x = \n",
    "        # print(\"LSTM: \",x.shape)\n",
    "        # print(\"LSTM: \", self.ht_1.shape)\n",
    "        # print(\"LSTM: \", self.ct_1.shape)\n",
    "        ht, ct = self.block1(x)\n",
    "        # print(ht.shape)\n",
    "        # print(ct.shape)\n",
    "        # ht, ct = self.block2(x, ht, ct)\n",
    "        ht = self.dropout(ht)\n",
    "        # print(\"After: \", ht.shape)\n",
    "        out = self.output(ht)\n",
    "        return out"
   ]
  },
  {
   "cell_type": "code",
   "execution_count": 97,
   "metadata": {},
   "outputs": [],
   "source": [
    "# class DeepLSTM(nn.Module):\n",
    "#     def __init__(self, device, no_of_neurons, out_features):\n",
    "#         super().__init__()\n",
    "#         self.block1 = LSTMBlock(device=device, no_of_neurons=no_of_neurons)\n",
    "#         self.block2 = LSTMBlock(device=device, no_of_neurons=no_of_neurons)\n",
    "#         self.ht_1 = torch.randn(ModelArgs.batch_size, no_of_neurons, device=device, requires_grad=True, dtype=torch.float32)\n",
    "#         self.ct_1 = torch.randn(ModelArgs.batch_size, no_of_neurons,device=device, requires_grad=True, dtype=torch.float32)\n",
    "#         self.output = nn.Linear(in_features=ModelArgs.no_of_neurons, out_features=out_features, device=device, dtype=torch.float32)\n",
    "#         self.dropout = nn.Dropout(p=ModelArgs.dropout)\n",
    "#         # self.embedding = nn.Embedding()\n",
    "        \n",
    "#     def forward(self, x):\n",
    "#         # x = \n",
    "#         # print(\"LSTM: \",x.shape)\n",
    "#         # print(\"LSTM: \", self.ht_1.shape)\n",
    "#         # print(\"LSTM: \", self.ct_1.shape)\n",
    "#         ht, ct = self.block1(x, self.ht_1, self.ct_1)\n",
    "#         # print(ht.shape)\n",
    "#         # print(ct.shape)\n",
    "#         ht, ct = self.block2(x, ht, ct)\n",
    "#         ht = self.dropout(ht)\n",
    "#         # print(\"After: \", ht.shape)\n",
    "#         out = torch.nn.functional.sigmoid((self.output(ht)))\n",
    "#         return out"
   ]
  },
  {
   "cell_type": "code",
   "execution_count": 98,
   "metadata": {},
   "outputs": [],
   "source": [
    "class BiLSTM(nn.Module):\n",
    "    def __init__(self, device, no_of_neurons, out_features):\n",
    "        super().__init__()\n",
    "        self.fwd = LSTMBlock(device=device, no_of_neurons=no_of_neurons)\n",
    "        self.backward = LSTMBlock(device=device, no_of_neurons=no_of_neurons)\n",
    "        self.ht_1 = torch.randn(ModelArgs.batch_size, no_of_neurons, device=device, requires_grad=True, dtype=torch.float32)\n",
    "        self.ct_1 = torch.randn(ModelArgs.batch_size, no_of_neurons,device=device, requires_grad=True, dtype=torch.float32)\n",
    "        # self.ht_1_bwd = torch.randn(ModelArgs.batch_size, no_of_neurons, device=device, requires_grad=True, dtype=torch.float32)\n",
    "        # self.ct_1_bwd = torch.randn(ModelArgs.batch_size, no_of_neurons,device=device, requires_grad=True, dtype=torch.float32)\n",
    "        self.output = nn.Linear(in_features=2*ModelArgs.no_of_neurons, out_features=out_features, device=device, dtype=torch.float32)\n",
    "        self.dropout = nn.Dropout(p=ModelArgs.dropout)\n",
    "        # self.embedding = nn.Embedding()\n",
    "        \n",
    "    def forward(self, x):\n",
    "        # x = \n",
    "        # print(\"LSTM: \",x.shape)\n",
    "        # print(\"LSTM: \", self.ht_1.shape)\n",
    "        # print(\"LSTM: \", self.ct_1.shape)\n",
    "        ht_fwd, ct, otuputs_bwd = self.fwd(x, self.ht_1, self.ct_1)\n",
    "        # print(ht.shape)\n",
    "        # print(ct.shape)\n",
    "        x_rev = torch.flip(x, dims=[0])\n",
    "        ht_bwd, ct, outputs_bwd = self.backward(x_rev, self.ht_1, self.ct_1)\n",
    "        ht = torch.cat([ht_fwd, ht_bwd], axis=-1)\n",
    "        ht = self.dropout(ht)\n",
    "        # print(\"After: \", ht.shape)\n",
    "        out = self.output(ht)\n",
    "        return out"
   ]
  },
  {
   "cell_type": "code",
   "execution_count": 99,
   "metadata": {},
   "outputs": [],
   "source": [
    "model = BiLSTM(device=ModelArgs.device, no_of_neurons=ModelArgs.no_of_neurons, out_features=1)\n",
    "model = model.to(ModelArgs.device)"
   ]
  },
  {
   "cell_type": "code",
   "execution_count": 77,
   "metadata": {},
   "outputs": [
    {
     "name": "stdout",
     "output_type": "stream",
     "text": [
      "--- tensor([[ 0.2053, -0.3194, -0.2658,  ..., -0.5153,  0.8283,  1.0536],\n",
      "        [-0.6247, -0.9844,  2.8202,  ..., -0.6800, -0.0589, -0.9113],\n",
      "        [-1.6264,  1.4028,  0.7094,  ..., -0.9767,  1.2364, -1.1417],\n",
      "        ...,\n",
      "        [ 1.5665, -0.1105,  1.4408,  ...,  0.9286,  1.1715,  1.1295],\n",
      "        [-1.2755,  0.6398, -1.3721,  ...,  0.9117,  0.1014, -0.8110],\n",
      "        [-0.3983,  1.2490,  0.0061,  ..., -1.4961,  0.0137,  0.7716]],\n",
      "       device='cuda:0')\n"
     ]
    },
    {
     "data": {
      "text/plain": [
       "tensor([[-0.3983,  1.2490,  0.0061,  ..., -1.4961,  0.0137,  0.7716],\n",
       "        [-1.2755,  0.6398, -1.3721,  ...,  0.9117,  0.1014, -0.8110],\n",
       "        [ 1.5665, -0.1105,  1.4408,  ...,  0.9286,  1.1715,  1.1295],\n",
       "        ...,\n",
       "        [-1.6264,  1.4028,  0.7094,  ..., -0.9767,  1.2364, -1.1417],\n",
       "        [-0.6247, -0.9844,  2.8202,  ..., -0.6800, -0.0589, -0.9113],\n",
       "        [ 0.2053, -0.3194, -0.2658,  ..., -0.5153,  0.8283,  1.0536]],\n",
       "       device='cuda:0')"
      ]
     },
     "execution_count": 77,
     "metadata": {},
     "output_type": "execute_result"
    }
   ],
   "source": [
    "x = torch.randn((ModelArgs.batch_size, ModelArgs.block_size))\n",
    "print(\"---\", x)\n",
    "x = torch.flip(x, dims=[0])\n",
    "x"
   ]
  },
  {
   "cell_type": "code",
   "execution_count": 80,
   "metadata": {},
   "outputs": [
    {
     "name": "stdout",
     "output_type": "stream",
     "text": [
      "Requirement already satisfied: torchinfo in /home/yuvrajsingh/anaconda3/envs/unsloth_env/lib/python3.11/site-packages (1.8.0)\n"
     ]
    },
    {
     "data": {
      "text/plain": [
       "========================================================================================================================\n",
       "Layer (type (var_name))                  Input Shape          Output Shape         Param #              Trainable\n",
       "========================================================================================================================\n",
       "BiLSTM (BiLSTM)                          [32, 64]             [32, 1]              --                   True\n",
       "├─LSTMBlock (fwd)                        [32, 64]             [32, 128]            --                   True\n",
       "│    └─ForgetGate (forget)               [32, 1]              [32, 128]            --                   True\n",
       "│    │    └─Linear (linear)              [32, 129]            [32, 128]            16,640               True\n",
       "│    └─InputGate (ip)                    [32, 1]              [32, 128]            --                   True\n",
       "│    │    └─Linear (it)                  [32, 129]            [32, 128]            16,640               True\n",
       "│    │    └─Linear (ct_bar)              [32, 129]            [32, 128]            16,640               True\n",
       "│    └─OutputGate (op)                   [32, 1]              [32, 128]            --                   True\n",
       "│    │    └─Linear (linear)              [32, 129]            [32, 128]            16,640               True\n",
       "├─LSTMBlock (backward)                   [32, 64]             [32, 128]            --                   True\n",
       "│    └─ForgetGate (forget)               [32, 1]              [32, 128]            --                   True\n",
       "│    │    └─Linear (linear)              [32, 129]            [32, 128]            16,640               True\n",
       "│    └─InputGate (ip)                    [32, 1]              [32, 128]            --                   True\n",
       "│    │    └─Linear (it)                  [32, 129]            [32, 128]            16,640               True\n",
       "│    │    └─Linear (ct_bar)              [32, 129]            [32, 128]            16,640               True\n",
       "│    └─OutputGate (op)                   [32, 1]              [32, 128]            --                   True\n",
       "│    │    └─Linear (linear)              [32, 129]            [32, 128]            16,640               True\n",
       "├─Dropout (dropout)                      [32, 256]            [32, 256]            --                   --\n",
       "├─Linear (output)                        [32, 256]            [32, 1]              257                  True\n",
       "========================================================================================================================\n",
       "Total params: 133,377\n",
       "Trainable params: 133,377\n",
       "Non-trainable params: 0\n",
       "Total mult-adds (Units.MEGABYTES): 4.27\n",
       "========================================================================================================================\n",
       "Input size (MB): 0.02\n",
       "Forward/backward pass size (MB): 0.26\n",
       "Params size (MB): 0.53\n",
       "Estimated Total Size (MB): 0.81\n",
       "========================================================================================================================"
      ]
     },
     "execution_count": 80,
     "metadata": {},
     "output_type": "execute_result"
    }
   ],
   "source": [
    "!pip install torchinfo\n",
    "\n",
    "from torchinfo import summary\n",
    "\n",
    "x = torch.randint(0, 100, (ModelArgs.batch_size,ModelArgs.block_size))  # Random integer between 0 and 100\n",
    "x = x.to(ModelArgs.device)\n",
    "summary(model=model,\n",
    "        input_data=x,\n",
    "        # input_size=(ModelArgs.batch_size, ModelArgs.block_size, ModelArgs.embeddings_dims),\n",
    "        col_names=[\"input_size\", \"output_size\", \"num_params\", \"trainable\"],\n",
    "        col_width=20,\n",
    "        row_settings=[\"var_names\"])\n"
   ]
  },
  {
   "cell_type": "code",
   "execution_count": 84,
   "metadata": {},
   "outputs": [],
   "source": [
    "criterion = nn.MSELoss()\n",
    "optimizer = torch.optim.AdamW(model.parameters(), lr=ModelArgs.max_lr)"
   ]
  },
  {
   "cell_type": "code",
   "execution_count": 100,
   "metadata": {},
   "outputs": [
    {
     "ename": "RuntimeError",
     "evalue": "Sizes of tensors must match except in dimension 1. Expected size 16 but got size 32 for tensor number 1 in the list.",
     "output_type": "error",
     "traceback": [
      "\u001b[0;31m---------------------------------------------------------------------------\u001b[0m",
      "\u001b[0;31mRuntimeError\u001b[0m                              Traceback (most recent call last)",
      "Cell \u001b[0;32mIn[100], line 26\u001b[0m\n\u001b[1;32m     24\u001b[0m count \u001b[38;5;241m=\u001b[39m \u001b[38;5;241m0\u001b[39m\n\u001b[1;32m     25\u001b[0m \u001b[38;5;28;01mfor\u001b[39;00m X, y \u001b[38;5;129;01min\u001b[39;00m val_loader:\n\u001b[0;32m---> 26\u001b[0m     y_pred \u001b[38;5;241m=\u001b[39m \u001b[43mmodel\u001b[49m\u001b[43m(\u001b[49m\u001b[43mX\u001b[49m\u001b[43m)\u001b[49m\n\u001b[1;32m     27\u001b[0m     \u001b[38;5;66;03m# print(y_pred.shape)\u001b[39;00m\n\u001b[1;32m     28\u001b[0m     loss \u001b[38;5;241m=\u001b[39m criterion(y_pred, y)\n",
      "File \u001b[0;32m~/anaconda3/envs/unsloth_env/lib/python3.11/site-packages/torch/nn/modules/module.py:1736\u001b[0m, in \u001b[0;36mModule._wrapped_call_impl\u001b[0;34m(self, *args, **kwargs)\u001b[0m\n\u001b[1;32m   1734\u001b[0m     \u001b[38;5;28;01mreturn\u001b[39;00m \u001b[38;5;28mself\u001b[39m\u001b[38;5;241m.\u001b[39m_compiled_call_impl(\u001b[38;5;241m*\u001b[39margs, \u001b[38;5;241m*\u001b[39m\u001b[38;5;241m*\u001b[39mkwargs)  \u001b[38;5;66;03m# type: ignore[misc]\u001b[39;00m\n\u001b[1;32m   1735\u001b[0m \u001b[38;5;28;01melse\u001b[39;00m:\n\u001b[0;32m-> 1736\u001b[0m     \u001b[38;5;28;01mreturn\u001b[39;00m \u001b[38;5;28;43mself\u001b[39;49m\u001b[38;5;241;43m.\u001b[39;49m\u001b[43m_call_impl\u001b[49m\u001b[43m(\u001b[49m\u001b[38;5;241;43m*\u001b[39;49m\u001b[43margs\u001b[49m\u001b[43m,\u001b[49m\u001b[43m \u001b[49m\u001b[38;5;241;43m*\u001b[39;49m\u001b[38;5;241;43m*\u001b[39;49m\u001b[43mkwargs\u001b[49m\u001b[43m)\u001b[49m\n",
      "File \u001b[0;32m~/anaconda3/envs/unsloth_env/lib/python3.11/site-packages/torch/nn/modules/module.py:1747\u001b[0m, in \u001b[0;36mModule._call_impl\u001b[0;34m(self, *args, **kwargs)\u001b[0m\n\u001b[1;32m   1742\u001b[0m \u001b[38;5;66;03m# If we don't have any hooks, we want to skip the rest of the logic in\u001b[39;00m\n\u001b[1;32m   1743\u001b[0m \u001b[38;5;66;03m# this function, and just call forward.\u001b[39;00m\n\u001b[1;32m   1744\u001b[0m \u001b[38;5;28;01mif\u001b[39;00m \u001b[38;5;129;01mnot\u001b[39;00m (\u001b[38;5;28mself\u001b[39m\u001b[38;5;241m.\u001b[39m_backward_hooks \u001b[38;5;129;01mor\u001b[39;00m \u001b[38;5;28mself\u001b[39m\u001b[38;5;241m.\u001b[39m_backward_pre_hooks \u001b[38;5;129;01mor\u001b[39;00m \u001b[38;5;28mself\u001b[39m\u001b[38;5;241m.\u001b[39m_forward_hooks \u001b[38;5;129;01mor\u001b[39;00m \u001b[38;5;28mself\u001b[39m\u001b[38;5;241m.\u001b[39m_forward_pre_hooks\n\u001b[1;32m   1745\u001b[0m         \u001b[38;5;129;01mor\u001b[39;00m _global_backward_pre_hooks \u001b[38;5;129;01mor\u001b[39;00m _global_backward_hooks\n\u001b[1;32m   1746\u001b[0m         \u001b[38;5;129;01mor\u001b[39;00m _global_forward_hooks \u001b[38;5;129;01mor\u001b[39;00m _global_forward_pre_hooks):\n\u001b[0;32m-> 1747\u001b[0m     \u001b[38;5;28;01mreturn\u001b[39;00m \u001b[43mforward_call\u001b[49m\u001b[43m(\u001b[49m\u001b[38;5;241;43m*\u001b[39;49m\u001b[43margs\u001b[49m\u001b[43m,\u001b[49m\u001b[43m \u001b[49m\u001b[38;5;241;43m*\u001b[39;49m\u001b[38;5;241;43m*\u001b[39;49m\u001b[43mkwargs\u001b[49m\u001b[43m)\u001b[49m\n\u001b[1;32m   1749\u001b[0m result \u001b[38;5;241m=\u001b[39m \u001b[38;5;28;01mNone\u001b[39;00m\n\u001b[1;32m   1750\u001b[0m called_always_called_hooks \u001b[38;5;241m=\u001b[39m \u001b[38;5;28mset\u001b[39m()\n",
      "Cell \u001b[0;32mIn[98], line 19\u001b[0m, in \u001b[0;36mBiLSTM.forward\u001b[0;34m(self, x)\u001b[0m\n\u001b[1;32m     14\u001b[0m \u001b[38;5;28;01mdef\u001b[39;00m \u001b[38;5;21mforward\u001b[39m(\u001b[38;5;28mself\u001b[39m, x):\n\u001b[1;32m     15\u001b[0m     \u001b[38;5;66;03m# x = \u001b[39;00m\n\u001b[1;32m     16\u001b[0m     \u001b[38;5;66;03m# print(\"LSTM: \",x.shape)\u001b[39;00m\n\u001b[1;32m     17\u001b[0m     \u001b[38;5;66;03m# print(\"LSTM: \", self.ht_1.shape)\u001b[39;00m\n\u001b[1;32m     18\u001b[0m     \u001b[38;5;66;03m# print(\"LSTM: \", self.ct_1.shape)\u001b[39;00m\n\u001b[0;32m---> 19\u001b[0m     ht_fwd, ct, otuputs_bwd \u001b[38;5;241m=\u001b[39m \u001b[38;5;28;43mself\u001b[39;49m\u001b[38;5;241;43m.\u001b[39;49m\u001b[43mfwd\u001b[49m\u001b[43m(\u001b[49m\u001b[43mx\u001b[49m\u001b[43m,\u001b[49m\u001b[43m \u001b[49m\u001b[38;5;28;43mself\u001b[39;49m\u001b[38;5;241;43m.\u001b[39;49m\u001b[43mht_1\u001b[49m\u001b[43m,\u001b[49m\u001b[43m \u001b[49m\u001b[38;5;28;43mself\u001b[39;49m\u001b[38;5;241;43m.\u001b[39;49m\u001b[43mct_1\u001b[49m\u001b[43m)\u001b[49m\n\u001b[1;32m     20\u001b[0m     \u001b[38;5;66;03m# print(ht.shape)\u001b[39;00m\n\u001b[1;32m     21\u001b[0m     \u001b[38;5;66;03m# print(ct.shape)\u001b[39;00m\n\u001b[1;32m     22\u001b[0m     x_rev \u001b[38;5;241m=\u001b[39m torch\u001b[38;5;241m.\u001b[39mflip(x, dims\u001b[38;5;241m=\u001b[39m[\u001b[38;5;241m0\u001b[39m])\n",
      "File \u001b[0;32m~/anaconda3/envs/unsloth_env/lib/python3.11/site-packages/torch/nn/modules/module.py:1736\u001b[0m, in \u001b[0;36mModule._wrapped_call_impl\u001b[0;34m(self, *args, **kwargs)\u001b[0m\n\u001b[1;32m   1734\u001b[0m     \u001b[38;5;28;01mreturn\u001b[39;00m \u001b[38;5;28mself\u001b[39m\u001b[38;5;241m.\u001b[39m_compiled_call_impl(\u001b[38;5;241m*\u001b[39margs, \u001b[38;5;241m*\u001b[39m\u001b[38;5;241m*\u001b[39mkwargs)  \u001b[38;5;66;03m# type: ignore[misc]\u001b[39;00m\n\u001b[1;32m   1735\u001b[0m \u001b[38;5;28;01melse\u001b[39;00m:\n\u001b[0;32m-> 1736\u001b[0m     \u001b[38;5;28;01mreturn\u001b[39;00m \u001b[38;5;28;43mself\u001b[39;49m\u001b[38;5;241;43m.\u001b[39;49m\u001b[43m_call_impl\u001b[49m\u001b[43m(\u001b[49m\u001b[38;5;241;43m*\u001b[39;49m\u001b[43margs\u001b[49m\u001b[43m,\u001b[49m\u001b[43m \u001b[49m\u001b[38;5;241;43m*\u001b[39;49m\u001b[38;5;241;43m*\u001b[39;49m\u001b[43mkwargs\u001b[49m\u001b[43m)\u001b[49m\n",
      "File \u001b[0;32m~/anaconda3/envs/unsloth_env/lib/python3.11/site-packages/torch/nn/modules/module.py:1747\u001b[0m, in \u001b[0;36mModule._call_impl\u001b[0;34m(self, *args, **kwargs)\u001b[0m\n\u001b[1;32m   1742\u001b[0m \u001b[38;5;66;03m# If we don't have any hooks, we want to skip the rest of the logic in\u001b[39;00m\n\u001b[1;32m   1743\u001b[0m \u001b[38;5;66;03m# this function, and just call forward.\u001b[39;00m\n\u001b[1;32m   1744\u001b[0m \u001b[38;5;28;01mif\u001b[39;00m \u001b[38;5;129;01mnot\u001b[39;00m (\u001b[38;5;28mself\u001b[39m\u001b[38;5;241m.\u001b[39m_backward_hooks \u001b[38;5;129;01mor\u001b[39;00m \u001b[38;5;28mself\u001b[39m\u001b[38;5;241m.\u001b[39m_backward_pre_hooks \u001b[38;5;129;01mor\u001b[39;00m \u001b[38;5;28mself\u001b[39m\u001b[38;5;241m.\u001b[39m_forward_hooks \u001b[38;5;129;01mor\u001b[39;00m \u001b[38;5;28mself\u001b[39m\u001b[38;5;241m.\u001b[39m_forward_pre_hooks\n\u001b[1;32m   1745\u001b[0m         \u001b[38;5;129;01mor\u001b[39;00m _global_backward_pre_hooks \u001b[38;5;129;01mor\u001b[39;00m _global_backward_hooks\n\u001b[1;32m   1746\u001b[0m         \u001b[38;5;129;01mor\u001b[39;00m _global_forward_hooks \u001b[38;5;129;01mor\u001b[39;00m _global_forward_pre_hooks):\n\u001b[0;32m-> 1747\u001b[0m     \u001b[38;5;28;01mreturn\u001b[39;00m \u001b[43mforward_call\u001b[49m\u001b[43m(\u001b[49m\u001b[38;5;241;43m*\u001b[39;49m\u001b[43margs\u001b[49m\u001b[43m,\u001b[49m\u001b[43m \u001b[49m\u001b[38;5;241;43m*\u001b[39;49m\u001b[38;5;241;43m*\u001b[39;49m\u001b[43mkwargs\u001b[49m\u001b[43m)\u001b[49m\n\u001b[1;32m   1749\u001b[0m result \u001b[38;5;241m=\u001b[39m \u001b[38;5;28;01mNone\u001b[39;00m\n\u001b[1;32m   1750\u001b[0m called_always_called_hooks \u001b[38;5;241m=\u001b[39m \u001b[38;5;28mset\u001b[39m()\n",
      "Cell \u001b[0;32mIn[95], line 20\u001b[0m, in \u001b[0;36mLSTMBlock.forward\u001b[0;34m(self, x, ht_1, ct_1, outputs)\u001b[0m\n\u001b[1;32m     18\u001b[0m \u001b[38;5;28;01mfor\u001b[39;00m t \u001b[38;5;129;01min\u001b[39;00m \u001b[38;5;28mrange\u001b[39m(seq_len):\n\u001b[1;32m     19\u001b[0m     xt \u001b[38;5;241m=\u001b[39m x[:, t]\u001b[38;5;241m.\u001b[39munsqueeze(\u001b[38;5;241m-\u001b[39m\u001b[38;5;241m1\u001b[39m)\n\u001b[0;32m---> 20\u001b[0m     ft \u001b[38;5;241m=\u001b[39m \u001b[38;5;28;43mself\u001b[39;49m\u001b[38;5;241;43m.\u001b[39;49m\u001b[43mforget\u001b[49m\u001b[43m(\u001b[49m\u001b[43mxt\u001b[49m\u001b[43m,\u001b[49m\u001b[43m \u001b[49m\u001b[43mht_1\u001b[49m\u001b[43m)\u001b[49m \u001b[38;5;241m*\u001b[39m ct_1\n\u001b[1;32m     21\u001b[0m     it, ct_bar \u001b[38;5;241m=\u001b[39m \u001b[38;5;28mself\u001b[39m\u001b[38;5;241m.\u001b[39mip(xt , ht_1)\n\u001b[1;32m     22\u001b[0m     ct_bar_prime \u001b[38;5;241m=\u001b[39m it \u001b[38;5;241m*\u001b[39m ct_bar\n",
      "File \u001b[0;32m~/anaconda3/envs/unsloth_env/lib/python3.11/site-packages/torch/nn/modules/module.py:1736\u001b[0m, in \u001b[0;36mModule._wrapped_call_impl\u001b[0;34m(self, *args, **kwargs)\u001b[0m\n\u001b[1;32m   1734\u001b[0m     \u001b[38;5;28;01mreturn\u001b[39;00m \u001b[38;5;28mself\u001b[39m\u001b[38;5;241m.\u001b[39m_compiled_call_impl(\u001b[38;5;241m*\u001b[39margs, \u001b[38;5;241m*\u001b[39m\u001b[38;5;241m*\u001b[39mkwargs)  \u001b[38;5;66;03m# type: ignore[misc]\u001b[39;00m\n\u001b[1;32m   1735\u001b[0m \u001b[38;5;28;01melse\u001b[39;00m:\n\u001b[0;32m-> 1736\u001b[0m     \u001b[38;5;28;01mreturn\u001b[39;00m \u001b[38;5;28;43mself\u001b[39;49m\u001b[38;5;241;43m.\u001b[39;49m\u001b[43m_call_impl\u001b[49m\u001b[43m(\u001b[49m\u001b[38;5;241;43m*\u001b[39;49m\u001b[43margs\u001b[49m\u001b[43m,\u001b[49m\u001b[43m \u001b[49m\u001b[38;5;241;43m*\u001b[39;49m\u001b[38;5;241;43m*\u001b[39;49m\u001b[43mkwargs\u001b[49m\u001b[43m)\u001b[49m\n",
      "File \u001b[0;32m~/anaconda3/envs/unsloth_env/lib/python3.11/site-packages/torch/nn/modules/module.py:1747\u001b[0m, in \u001b[0;36mModule._call_impl\u001b[0;34m(self, *args, **kwargs)\u001b[0m\n\u001b[1;32m   1742\u001b[0m \u001b[38;5;66;03m# If we don't have any hooks, we want to skip the rest of the logic in\u001b[39;00m\n\u001b[1;32m   1743\u001b[0m \u001b[38;5;66;03m# this function, and just call forward.\u001b[39;00m\n\u001b[1;32m   1744\u001b[0m \u001b[38;5;28;01mif\u001b[39;00m \u001b[38;5;129;01mnot\u001b[39;00m (\u001b[38;5;28mself\u001b[39m\u001b[38;5;241m.\u001b[39m_backward_hooks \u001b[38;5;129;01mor\u001b[39;00m \u001b[38;5;28mself\u001b[39m\u001b[38;5;241m.\u001b[39m_backward_pre_hooks \u001b[38;5;129;01mor\u001b[39;00m \u001b[38;5;28mself\u001b[39m\u001b[38;5;241m.\u001b[39m_forward_hooks \u001b[38;5;129;01mor\u001b[39;00m \u001b[38;5;28mself\u001b[39m\u001b[38;5;241m.\u001b[39m_forward_pre_hooks\n\u001b[1;32m   1745\u001b[0m         \u001b[38;5;129;01mor\u001b[39;00m _global_backward_pre_hooks \u001b[38;5;129;01mor\u001b[39;00m _global_backward_hooks\n\u001b[1;32m   1746\u001b[0m         \u001b[38;5;129;01mor\u001b[39;00m _global_forward_hooks \u001b[38;5;129;01mor\u001b[39;00m _global_forward_pre_hooks):\n\u001b[0;32m-> 1747\u001b[0m     \u001b[38;5;28;01mreturn\u001b[39;00m \u001b[43mforward_call\u001b[49m\u001b[43m(\u001b[49m\u001b[38;5;241;43m*\u001b[39;49m\u001b[43margs\u001b[49m\u001b[43m,\u001b[49m\u001b[43m \u001b[49m\u001b[38;5;241;43m*\u001b[39;49m\u001b[38;5;241;43m*\u001b[39;49m\u001b[43mkwargs\u001b[49m\u001b[43m)\u001b[49m\n\u001b[1;32m   1749\u001b[0m result \u001b[38;5;241m=\u001b[39m \u001b[38;5;28;01mNone\u001b[39;00m\n\u001b[1;32m   1750\u001b[0m called_always_called_hooks \u001b[38;5;241m=\u001b[39m \u001b[38;5;28mset\u001b[39m()\n",
      "Cell \u001b[0;32mIn[94], line 10\u001b[0m, in \u001b[0;36mForgetGate.forward\u001b[0;34m(self, x, ht_1)\u001b[0m\n\u001b[1;32m      7\u001b[0m \u001b[38;5;28;01mdef\u001b[39;00m \u001b[38;5;21mforward\u001b[39m(\u001b[38;5;28mself\u001b[39m, x, ht_1):\n\u001b[1;32m      8\u001b[0m     \u001b[38;5;66;03m# print(\"Forgot: \", x.shape)\u001b[39;00m\n\u001b[1;32m      9\u001b[0m     \u001b[38;5;66;03m# print(\"Forget: \", ht_1.shape)\u001b[39;00m\n\u001b[0;32m---> 10\u001b[0m     x \u001b[38;5;241m=\u001b[39m \u001b[43mtorch\u001b[49m\u001b[38;5;241;43m.\u001b[39;49m\u001b[43mcat\u001b[49m\u001b[43m(\u001b[49m\u001b[43m[\u001b[49m\u001b[43mx\u001b[49m\u001b[43m,\u001b[49m\u001b[43m \u001b[49m\u001b[43mht_1\u001b[49m\u001b[43m]\u001b[49m\u001b[43m,\u001b[49m\u001b[43m \u001b[49m\u001b[43mdim\u001b[49m\u001b[38;5;241;43m=\u001b[39;49m\u001b[38;5;241;43m-\u001b[39;49m\u001b[38;5;241;43m1\u001b[39;49m\u001b[43m)\u001b[49m\n\u001b[1;32m     11\u001b[0m     out \u001b[38;5;241m=\u001b[39m torch\u001b[38;5;241m.\u001b[39mnn\u001b[38;5;241m.\u001b[39mfunctional\u001b[38;5;241m.\u001b[39msigmoid(\u001b[38;5;28mself\u001b[39m\u001b[38;5;241m.\u001b[39mlinear(x))\n\u001b[1;32m     12\u001b[0m     \u001b[38;5;28;01mreturn\u001b[39;00m out\n",
      "File \u001b[0;32m~/anaconda3/envs/unsloth_env/lib/python3.11/site-packages/torch/utils/_device.py:106\u001b[0m, in \u001b[0;36mDeviceContext.__torch_function__\u001b[0;34m(self, func, types, args, kwargs)\u001b[0m\n\u001b[1;32m    104\u001b[0m \u001b[38;5;28;01mif\u001b[39;00m func \u001b[38;5;129;01min\u001b[39;00m _device_constructors() \u001b[38;5;129;01mand\u001b[39;00m kwargs\u001b[38;5;241m.\u001b[39mget(\u001b[38;5;124m'\u001b[39m\u001b[38;5;124mdevice\u001b[39m\u001b[38;5;124m'\u001b[39m) \u001b[38;5;129;01mis\u001b[39;00m \u001b[38;5;28;01mNone\u001b[39;00m:\n\u001b[1;32m    105\u001b[0m     kwargs[\u001b[38;5;124m'\u001b[39m\u001b[38;5;124mdevice\u001b[39m\u001b[38;5;124m'\u001b[39m] \u001b[38;5;241m=\u001b[39m \u001b[38;5;28mself\u001b[39m\u001b[38;5;241m.\u001b[39mdevice\n\u001b[0;32m--> 106\u001b[0m \u001b[38;5;28;01mreturn\u001b[39;00m \u001b[43mfunc\u001b[49m\u001b[43m(\u001b[49m\u001b[38;5;241;43m*\u001b[39;49m\u001b[43margs\u001b[49m\u001b[43m,\u001b[49m\u001b[43m \u001b[49m\u001b[38;5;241;43m*\u001b[39;49m\u001b[38;5;241;43m*\u001b[39;49m\u001b[43mkwargs\u001b[49m\u001b[43m)\u001b[49m\n",
      "\u001b[0;31mRuntimeError\u001b[0m: Sizes of tensors must match except in dimension 1. Expected size 16 but got size 32 for tensor number 1 in the list."
     ]
    }
   ],
   "source": [
    "model.train()\n",
    "train_losses =  torch.zeros(len(train_loader))\n",
    "val_losses = torch.zeros(len(val_loader))\n",
    "wandb.init(\n",
    "    project='LSTM-From-Scratch'\n",
    ")\n",
    "for epoch in range(ModelArgs.epoch):\n",
    "    \n",
    "    count = 0\n",
    "    for X, y in train_loader:\n",
    "        y_pred = model(X)\n",
    "        # print(y_pred.shape)\n",
    "        loss = criterion(y_pred, y)\n",
    "        train_losses[count] = loss.item()\n",
    "        # print(\"Loss: \", loss.item())\n",
    "        \n",
    "        optimizer.zero_grad()\n",
    "        loss.backward()\n",
    "        optimizer.step()\n",
    "        count += 1\n",
    "        \n",
    "    # count = 0\n",
    "    model.eval()\n",
    "    count = 0\n",
    "    for X, y in val_loader:\n",
    "        y_pred = model(X)\n",
    "        # print(y_pred.shape)\n",
    "        loss = criterion(y_pred, y)\n",
    "        \n",
    "        # print(\"Loss: \", loss.item())\n",
    "        val_losses[count] = loss.item()\n",
    "        \n",
    "        # optimizer.zero_grad()\n",
    "        # loss.backward()\n",
    "        # optimizer.step()\n",
    "        count += 1\n",
    "    model.train()\n",
    "    wandb.log({\n",
    "      \"Train Loss\": train_losses.mean(),\n",
    "      \"Val Loss\": val_losses.mean(),\n",
    "      \"epoch\": epoch  \n",
    "    })\n",
    "    print(\"Epoch: \", epoch, \"|\", \"Train Loss: \", train_losses.mean(),  \"|\", \"Val Loss: \", val_losses.mean())\n"
   ]
  },
  {
   "cell_type": "code",
   "execution_count": null,
   "metadata": {},
   "outputs": [],
   "source": []
  }
 ],
 "metadata": {
  "kernelspec": {
   "display_name": "unsloth_env",
   "language": "python",
   "name": "python3"
  },
  "language_info": {
   "codemirror_mode": {
    "name": "ipython",
    "version": 3
   },
   "file_extension": ".py",
   "mimetype": "text/x-python",
   "name": "python",
   "nbconvert_exporter": "python",
   "pygments_lexer": "ipython3",
   "version": "3.11.11"
  }
 },
 "nbformat": 4,
 "nbformat_minor": 2
}
