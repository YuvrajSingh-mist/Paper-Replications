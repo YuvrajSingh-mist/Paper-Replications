{
 "cells": [
  {
   "cell_type": "code",
   "execution_count": 1,
   "metadata": {},
   "outputs": [],
   "source": [
    "import torch\n",
    "import torch.nn as nn"
   ]
  },
  {
   "cell_type": "code",
   "execution_count": 2,
   "metadata": {},
   "outputs": [
    {
     "name": "stdout",
     "output_type": "stream",
     "text": [
      "\u001b[34m\u001b[1mwandb\u001b[0m: Currently logged in as: \u001b[33mrajceo2031\u001b[0m (\u001b[33mrentio\u001b[0m) to \u001b[32mhttps://api.wandb.ai\u001b[0m. Use \u001b[1m`wandb login --relogin`\u001b[0m to force relogin\n"
     ]
    }
   ],
   "source": [
    "import wandb\n",
    "!wandb login"
   ]
  },
  {
   "cell_type": "code",
   "execution_count": 3,
   "metadata": {},
   "outputs": [],
   "source": [
    "from dataclasses import dataclass\n",
    "\n",
    "\n",
    "@dataclass \n",
    "class ModelArgs:\n",
    "    device = 'cuda'\n",
    "    no_of_neurons = 128\n",
    "    block_size = 64\n",
    "    batch_size = 32\n",
    "    dropout = 0.1\n",
    "    epoch = 50\n",
    "    max_lr = 1e-4"
   ]
  },
  {
   "cell_type": "code",
   "execution_count": 4,
   "metadata": {},
   "outputs": [],
   "source": [
    "torch.set_default_device(ModelArgs.device)"
   ]
  },
  {
   "cell_type": "code",
   "execution_count": 5,
   "metadata": {},
   "outputs": [],
   "source": [
    "import torch\n",
    "from torch.utils.data import Dataset, DataLoader\n",
    "\n",
    "\n",
    "torch.manual_seed(0)\n",
    "\n",
    "\n",
    "num_samples = 1000  \n",
    "seq_length = ModelArgs.block_size  \n",
    "device = ModelArgs.device  \n",
    "\n",
    "\n",
    "t = torch.linspace(0, 100, num_samples + seq_length, device=device)\n",
    "data = torch.sin(t) + 0.1 * torch.randn_like(t)  \n",
    "\n",
    "\n",
    "X_tensor = torch.stack([data[i:i+seq_length] for i in range(num_samples)])\n",
    "y_tensor = data[seq_length:]  # Next value prediction\n",
    "\n",
    "train_size = int(0.8 * num_samples)\n",
    "\n",
    "X_train, y_train = X_tensor[:train_size], y_tensor[:train_size]  \n",
    "X_val, y_val = X_tensor[train_size:], y_tensor[train_size:]  \n",
    "\n",
    "\n",
    "class TimeSeriesDataset(Dataset):\n",
    "    def __init__(self, X, y):\n",
    "        self.X = X\n",
    "        self.y = y\n",
    "\n",
    "    def __len__(self):\n",
    "        return len(self.X)\n",
    "\n",
    "    def __getitem__(self, idx):\n",
    "        return self.X[idx], self.y[idx]\n",
    "\n",
    "\n",
    "train_dataset = TimeSeriesDataset(X_train, y_train)\n",
    "val_dataset = TimeSeriesDataset(X_val, y_val)\n",
    "\n",
    "\n",
    "device = torch.device(\"cuda\" if torch.cuda.is_available() else \"cpu\")\n",
    "\n",
    "\n",
    "generator = torch.Generator(device=device)\n",
    "\n",
    "\n",
    "train_loader = DataLoader(\n",
    "    train_dataset,\n",
    "    batch_size=ModelArgs.batch_size,\n",
    "    shuffle=True,  \n",
    "    generator=generator,  \n",
    "    drop_last=True\n",
    ")\n",
    "\n",
    "val_loader = DataLoader(\n",
    "    val_dataset,\n",
    "    drop_last=True,\n",
    "    batch_size=ModelArgs.batch_size,\n",
    "    shuffle=False, \n",
    ")\n",
    "\n"
   ]
  },
  {
   "cell_type": "code",
   "execution_count": 6,
   "metadata": {},
   "outputs": [],
   "source": [
    "class ResetGate(torch.nn.Module):\n",
    "    def __init__(self, device, no_of_neurons):\n",
    "        super().__init__()\n",
    "        self.linear = nn.Linear(in_features=ModelArgs.block_size + ModelArgs.no_of_neurons, out_features=no_of_neurons, device=device, dtype=torch.float32)\n",
    "   \n",
    "    def forward(self, x, ht_1):\n",
    "        x = torch.cat([x, ht_1], dim=-1)\n",
    "        out = torch.nn.functional.sigmoid(self.linear(x))\n",
    "        return out"
   ]
  },
  {
   "cell_type": "code",
   "execution_count": 7,
   "metadata": {},
   "outputs": [],
   "source": [
    "class UpdateGate(nn.Module):\n",
    "    def __init__(self, device, no_of_neurons) -> None:\n",
    "        super().__init__()\n",
    "        self.linear = nn.Linear(in_features=ModelArgs.block_size + ModelArgs.no_of_neurons, out_features=no_of_neurons, device=device, dtype=torch.float32)\n",
    "    def forward(self, x, ht_1):\n",
    "        x = torch.cat([x, ht_1], dim=-1)\n",
    "        out = torch.nn.functional.sigmoid(self.linear(x))\n",
    "        return out"
   ]
  },
  {
   "cell_type": "code",
   "execution_count": 12,
   "metadata": {},
   "outputs": [],
   "source": [
    "class GRUBlock(nn.Module):\n",
    "    def __init__(self, device, no_of_neurons) -> None:\n",
    "        super().__init__()\n",
    "        self.update = UpdateGate(device=device, no_of_neurons=no_of_neurons)\n",
    "        self.reset = ResetGate(device=device, no_of_neurons=no_of_neurons)\n",
    "        self.candidate = nn.Linear(in_features=ModelArgs.no_of_neurons, out_features=no_of_neurons, device=device, dtype=torch.float32)\n",
    "        \n",
    "    def forward(self, x, ht_1):\n",
    "        reset_out = self.reset(x, ht_1)\n",
    "        ht_1_candidate = nn.functional.tanh(self.candidate(reset_out))\n",
    "        update_out = self.update(x, ht_1)\n",
    "        ht = ((1- update_out) * ht_1) + (update_out * ht_1_candidate)\n",
    "        return ht"
   ]
  },
  {
   "cell_type": "code",
   "execution_count": 20,
   "metadata": {},
   "outputs": [],
   "source": [
    "class GRU(nn.Module):\n",
    "    def __init__(self, device, no_of_neurons, out_features):\n",
    "        super().__init__()\n",
    "        self.block1 = GRUBlock(device=device, no_of_neurons=no_of_neurons)\n",
    "        self.block2 = GRUBlock(device=device, no_of_neurons=no_of_neurons)\n",
    "        self.ht_1 = torch.randn(ModelArgs.batch_size, no_of_neurons, device=device, requires_grad=True, dtype=torch.float32)\n",
    "        # self.ct_1 = torch.randn(ModelArgs.batch_size, no_of_neurons,device=device, requires_grad=True, dtype=torch.float32)\n",
    "        self.output = nn.Linear(in_features=ModelArgs.no_of_neurons, out_features=out_features, device=device, dtype=torch.float32)\n",
    "        self.dropout = nn.Dropout(p=ModelArgs.dropout)\n",
    "        # self.embedding = nn.Embedding()\n",
    "        \n",
    "    def forward(self, x):\n",
    "        # x = \n",
    "        # print(\"LSTM: \",x.shape)\n",
    "        # print(\"LSTM: \", self.ht_1.shape)\n",
    "        # print(\"LSTM: \", self.ct_1.shape)\n",
    "        ht = self.block1(x, self.ht_1)\n",
    "        # print(ht.shape)\n",
    "        # print(ct.shape)\n",
    "        ht = self.block2(x, ht)\n",
    "        ht = self.dropout(ht)\n",
    "        # print(\"After: \", ht.shape)\n",
    "        out = self.output(ht)\n",
    "        return out"
   ]
  },
  {
   "cell_type": "code",
   "execution_count": 21,
   "metadata": {},
   "outputs": [],
   "source": [
    "model = GRU(device=ModelArgs.device, no_of_neurons=ModelArgs.no_of_neurons, out_features=1)\n",
    "model = model.to(ModelArgs.device)"
   ]
  },
  {
   "cell_type": "code",
   "execution_count": null,
   "metadata": {},
   "outputs": [
    {
     "name": "stdout",
     "output_type": "stream",
     "text": [
      "Requirement already satisfied: torchinfo in /home/yuvrajsingh/anaconda3/envs/unsloth_env/lib/python3.11/site-packages (1.8.0)\n"
     ]
    },
    {
     "data": {
      "text/plain": [
       "========================================================================================================================\n",
       "Layer (type (var_name))                  Input Shape          Output Shape         Param #              Trainable\n",
       "========================================================================================================================\n",
       "GRU (GRU)                                [32, 64]             [32, 1]              --                   True\n",
       "├─GRUBlock (block1)                      [32, 64]             [32, 128]            --                   True\n",
       "│    └─ResetGate (reset)                 [32, 64]             [32, 128]            --                   True\n",
       "│    │    └─Linear (linear)              [32, 192]            [32, 128]            24,704               True\n",
       "│    └─Linear (candidate)                [32, 128]            [32, 128]            16,512               True\n",
       "│    └─UpdateGate (update)               [32, 64]             [32, 128]            --                   True\n",
       "│    │    └─Linear (linear)              [32, 192]            [32, 128]            24,704               True\n",
       "├─GRUBlock (block2)                      [32, 64]             [32, 128]            --                   True\n",
       "│    └─ResetGate (reset)                 [32, 64]             [32, 128]            --                   True\n",
       "│    │    └─Linear (linear)              [32, 192]            [32, 128]            24,704               True\n",
       "│    └─Linear (candidate)                [32, 128]            [32, 128]            16,512               True\n",
       "│    └─UpdateGate (update)               [32, 64]             [32, 128]            --                   True\n",
       "│    │    └─Linear (linear)              [32, 192]            [32, 128]            24,704               True\n",
       "├─Dropout (dropout)                      [32, 128]            [32, 128]            --                   --\n",
       "├─Linear (output)                        [32, 128]            [32, 1]              129                  True\n",
       "========================================================================================================================\n",
       "Total params: 131,969\n",
       "Trainable params: 131,969\n",
       "Non-trainable params: 0\n",
       "Total mult-adds (Units.MEGABYTES): 4.22\n",
       "========================================================================================================================\n",
       "Input size (MB): 0.02\n",
       "Forward/backward pass size (MB): 0.20\n",
       "Params size (MB): 0.53\n",
       "Estimated Total Size (MB): 0.74\n",
       "========================================================================================================================"
      ]
     },
     "execution_count": 18,
     "metadata": {},
     "output_type": "execute_result"
    }
   ],
   "source": [
    "!pip install torchinfo\n",
    "\n",
    "from torchinfo import summary\n",
    "\n",
    "x = torch.randint(0, 100, (ModelArgs.batch_size,ModelArgs.block_size))  # Random integer between 0 and 100\n",
    "x = x.to(ModelArgs.device)\n",
    "summary(model=model,\n",
    "        input_data=x,\n",
    "        # input_size=(ModelArgs.batch_size, ModelArgs.block_size, ModelArgs.embeddings_dims),\n",
    "        col_names=[\"input_size\", \"output_size\", \"num_params\", \"trainable\"],\n",
    "        col_width=20,\n",
    "        row_settings=[\"var_names\"])\n"
   ]
  },
  {
   "cell_type": "code",
   "execution_count": 22,
   "metadata": {},
   "outputs": [],
   "source": [
    "criterion = nn.MSELoss()\n",
    "optimizer = torch.optim.AdamW(model.parameters(), lr=ModelArgs.max_lr)"
   ]
  },
  {
   "cell_type": "code",
   "execution_count": null,
   "metadata": {},
   "outputs": [
    {
     "name": "stderr",
     "output_type": "stream",
     "text": [
      "\u001b[34m\u001b[1mwandb\u001b[0m: Currently logged in as: \u001b[33mrajceo2031\u001b[0m (\u001b[33mrentio\u001b[0m) to \u001b[32mhttps://api.wandb.ai\u001b[0m. Use \u001b[1m`wandb login --relogin`\u001b[0m to force relogin\n",
      "\u001b[34m\u001b[1mwandb\u001b[0m: Using wandb-core as the SDK backend.  Please refer to https://wandb.me/wandb-core for more information.\n"
     ]
    },
    {
     "data": {
      "application/vnd.jupyter.widget-view+json": {
       "model_id": "afe46a8843e4406db8944380bce7bb90",
       "version_major": 2,
       "version_minor": 0
      },
      "text/plain": [
       "VBox(children=(Label(value='Waiting for wandb.init()...\\r'), FloatProgress(value=0.011112566133346668, max=1.0…"
      ]
     },
     "metadata": {},
     "output_type": "display_data"
    },
    {
     "data": {
      "text/html": [
       "Tracking run with wandb version 0.19.6"
      ],
      "text/plain": [
       "<IPython.core.display.HTML object>"
      ]
     },
     "metadata": {},
     "output_type": "display_data"
    },
    {
     "data": {
      "text/html": [
       "Run data is saved locally in <code>/mnt/c/Users/yuvra/OneDrive/Desktop/Work/pytorch/Paper-Replications/GRU/wandb/run-20250301_233841-8e5vhxph</code>"
      ],
      "text/plain": [
       "<IPython.core.display.HTML object>"
      ]
     },
     "metadata": {},
     "output_type": "display_data"
    },
    {
     "data": {
      "text/html": [
       "Syncing run <strong><a href='https://wandb.ai/rentio/GRU-From-Scratch/runs/8e5vhxph' target=\"_blank\">dashing-feather-1</a></strong> to <a href='https://wandb.ai/rentio/GRU-From-Scratch' target=\"_blank\">Weights & Biases</a> (<a href='https://wandb.me/developer-guide' target=\"_blank\">docs</a>)<br>"
      ],
      "text/plain": [
       "<IPython.core.display.HTML object>"
      ]
     },
     "metadata": {},
     "output_type": "display_data"
    },
    {
     "data": {
      "text/html": [
       " View project at <a href='https://wandb.ai/rentio/GRU-From-Scratch' target=\"_blank\">https://wandb.ai/rentio/GRU-From-Scratch</a>"
      ],
      "text/plain": [
       "<IPython.core.display.HTML object>"
      ]
     },
     "metadata": {},
     "output_type": "display_data"
    },
    {
     "data": {
      "text/html": [
       " View run at <a href='https://wandb.ai/rentio/GRU-From-Scratch/runs/8e5vhxph' target=\"_blank\">https://wandb.ai/rentio/GRU-From-Scratch/runs/8e5vhxph</a>"
      ],
      "text/plain": [
       "<IPython.core.display.HTML object>"
      ]
     },
     "metadata": {},
     "output_type": "display_data"
    },
    {
     "name": "stderr",
     "output_type": "stream",
     "text": [
      "/home/yuvrajsingh/anaconda3/envs/unsloth_env/lib/python3.11/site-packages/torch/utils/_device.py:106: UserWarning: Using a target size (torch.Size([32])) that is different to the input size (torch.Size([32, 1])). This will likely lead to incorrect results due to broadcasting. Please ensure they have the same size.\n",
      "  return func(*args, **kwargs)\n"
     ]
    },
    {
     "name": "stdout",
     "output_type": "stream",
     "text": [
      "Epoch:  0 | Train Loss:  "
     ]
    }
   ],
   "source": [
    "model.train()\n",
    "train_losses =  torch.zeros(len(train_loader))\n",
    "val_losses = torch.zeros(len(val_loader))\n",
    "wandb.init(\n",
    "    project='GRU-From-Scratch'\n",
    ")\n",
    "for epoch in range(ModelArgs.epoch):\n",
    "    \n",
    "    count = 0\n",
    "    for X, y in train_loader:\n",
    "        y_pred = model(X)\n",
    "        # print(y_pred.shape)\n",
    "        loss = criterion(y_pred, y)\n",
    "        train_losses[count] = loss.item()\n",
    "        # print(\"Loss: \", loss.item())\n",
    "        \n",
    "        optimizer.zero_grad()\n",
    "        loss.backward()\n",
    "        optimizer.step()\n",
    "        count += 1\n",
    "        \n",
    "        wandb.log({\n",
    "      \"Train Loss\": loss.item()\n",
    "      \"Val Loss\": loss.item(),\n",
    "      \"step\": count  \n",
    "    })\n",
    "    # count = 0\n",
    "    model.eval()\n",
    "    count = 0\n",
    "    for X, y in val_loader:\n",
    "        y_pred = model(X)\n",
    "        # print(y_pred.shape)\n",
    "        loss = criterion(y_pred, y)\n",
    "        \n",
    "        # print(\"Loss: \", loss.item())\n",
    "        val_losses[count] = loss.item()\n",
    "        \n",
    "        # optimizer.zero_grad()\n",
    "        # loss.backward()\n",
    "        # optimizer.step()\n",
    "        count += 1\n",
    "        wandb.log({\n",
    "      \"Train Loss\": loss.item(),\n",
    "      \"Val Loss\": loss.item(),\n",
    "      \"step\": count  \n",
    "    })\n",
    "    model.train()\n",
    "    wandb.log({\n",
    "      \"Train Loss\": train_losses.mean(),\n",
    "      \"Val Loss\": val_losses.mean(),\n",
    "      \"epoch\": epoch  \n",
    "    })\n",
    "    print(\"Epoch: \", epoch, \"|\", \"Train Loss: \", train_losses.mean(),  \"|\", \"Val Loss: \", val_losses.mean())\n"
   ]
  },
  {
   "cell_type": "code",
   "execution_count": null,
   "metadata": {},
   "outputs": [],
   "source": []
  }
 ],
 "metadata": {
  "kernelspec": {
   "display_name": "unsloth_env",
   "language": "python",
   "name": "python3"
  },
  "language_info": {
   "codemirror_mode": {
    "name": "ipython",
    "version": 3
   },
   "file_extension": ".py",
   "mimetype": "text/x-python",
   "name": "python",
   "nbconvert_exporter": "python",
   "pygments_lexer": "ipython3",
   "version": "3.11.11"
  }
 },
 "nbformat": 4,
 "nbformat_minor": 2
}
