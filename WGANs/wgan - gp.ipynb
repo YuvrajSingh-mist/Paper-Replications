{
  "cells": [
    {
      "cell_type": "code",
      "execution_count": 1,
      "metadata": {
        "id": "5nP_WUZ9FN-R"
      },
      "outputs": [],
      "source": [
        "import torch\n",
        "from pathlib import Path\n",
        "import torch\n",
        "import torchvision\n",
        "from torch import nn\n",
        "from torchvision import transforms\n",
        "from dataclasses import dataclass\n",
        "from torch.utils.tensorboard import SummaryWriter  "
      ]
    },
    {
      "cell_type": "code",
      "execution_count": 2,
      "metadata": {
        "id": "HOGoxeeJFN-T"
      },
      "outputs": [
        {
          "data": {
            "text/plain": [
              "'cuda'"
            ]
          },
          "execution_count": 2,
          "metadata": {},
          "output_type": "execute_result"
        }
      ],
      "source": [
        "device = \"cuda\" if torch.cuda.is_available() else \"cpu\"\n",
        "# device = 'cpu'\n",
        "device"
      ]
    },
    {
      "cell_type": "code",
      "execution_count": 3,
      "metadata": {
        "id": "iiWhk4i2QhCr"
      },
      "outputs": [],
      "source": [
        "@dataclass\n",
        "class ModelArgs:\n",
        "    latent_vector_size = 100\n",
        "    device = 'cpu'\n",
        "    batch_size = 64\n",
        "    lr = 1e-4\n",
        "    num_classes = 10\n",
        "    img_size = 64\n",
        "    no_of_lables = 10\n",
        "    no_of_channels = 1\n",
        "    nCritic = 5\n",
        "    beta_1 = 0\n",
        "    beta_2 = 0.9\n",
        "    penalty_fac = 10\n"
      ]
    },
    {
      "cell_type": "code",
      "execution_count": 4,
      "metadata": {
        "id": "CQ_fOrMNQhCr"
      },
      "outputs": [],
      "source": [
        "ModelArgs.device = device"
      ]
    },
    {
      "cell_type": "code",
      "execution_count": 5,
      "metadata": {},
      "outputs": [],
      "source": [
        "#Transforms for images\n",
        "transforms = torchvision.transforms.Compose([\n",
        "    transforms.Resize(size=(ModelArgs.img_size,ModelArgs.img_size)),\n",
        "    transforms.ToTensor(),\n",
        "    transforms.Normalize((0.5,), (0.5,))\n",
        "\n",
        "])"
      ]
    },
    {
      "cell_type": "code",
      "execution_count": 6,
      "metadata": {
        "colab": {
          "base_uri": "https://localhost:8080/"
        },
        "id": "IjduuQ6CFN-T",
        "outputId": "c6fa2917-3f61-4fd8-8295-3a142d01cce4"
      },
      "outputs": [],
      "source": [
        "#Loading MNIST Dataset\n",
        "import torchvision\n",
        "from torch.utils.data import DataLoader\n",
        "import os\n",
        "\n",
        "data_path = Path('/data/')\n",
        "\n",
        "# train_dir = data_path / \"train\"\n",
        "# test_dir = data_path / \"test\"\n",
        "\n",
        "# Load the training set\n",
        "trainset = torchvision.datasets.MNIST(root='./data', train=True, download=True, transform=transforms)\n",
        "trainloader = torch.utils.data.DataLoader(trainset, batch_size=ModelArgs.batch_size, shuffle=True)\n",
        "\n",
        "# Load the test set\n",
        "testset = torchvision.datasets.MNIST(root='./data', train=False, download=True, transform=transforms)\n",
        "testloader = torch.utils.data.DataLoader(testset, batch_size=ModelArgs.batch_size, shuffle=False)"
      ]
    },
    {
      "cell_type": "code",
      "execution_count": 7,
      "metadata": {
        "id": "Mf6_wWp-FN-T"
      },
      "outputs": [],
      "source": [
        "def weights_init(m):\n",
        "    classname = m.__class__.__name__\n",
        "    if classname.find('Conv') != -1:\n",
        "        nn.init.normal_(m.weight.data, 0.0, 0.02)  #mean = 0, std = 0.02\n"
      ]
    },
    {
      "cell_type": "code",
      "execution_count": 8,
      "metadata": {
        "id": "igQOSe-jFN-U"
      },
      "outputs": [],
      "source": [
        "class Generator(nn.Module):\n",
        "    def __init__(\n",
        "        self,\n",
        "        latent_vector_size = 100,\n",
        "        no_of_channels = 1,\n",
        "        kernel_size = (4,4),\n",
        "        stride: int = 2,\n",
        "        number_of_feature_maps: int = 64,\n",
        "        padding: int = 1,\n",
        "        img_size: int = 1\n",
        "\n",
        "    ):\n",
        "\n",
        "        super().__init__()\n",
        "\n",
        "\n",
        "        self.dense = nn.Linear(in_features=latent_vector_size, out_features=img_size * img_size, device=device)\n",
        "        self.combined_hidden_layer_dimensions = latent_vector_size + ModelArgs.no_of_lables\n",
        "        self.embedding = nn.Embedding(num_embeddings=ModelArgs.num_classes, embedding_dim=latent_vector_size, device=device)\n",
        "        self.img_size = img_size\n",
        "        self.main = nn.Sequential(\n",
        "\n",
        "\n",
        "            nn.ConvTranspose2d(ModelArgs.latent_vector_size + ModelArgs.latent_vector_size, number_of_feature_maps * 16 , kernel_size=kernel_size, stride=stride, padding=0, bias=False),\n",
        "            nn.InstanceNorm2d(number_of_feature_maps * 16),\n",
        "            nn.ReLU(),\n",
        "\n",
        "            #shape = (...,1024, 4, 4)\n",
        "            nn.ConvTranspose2d(number_of_feature_maps * 16, number_of_feature_maps * 8 , kernel_size=kernel_size, stride=stride, padding=padding, bias=False),\n",
        "            nn.InstanceNorm2d(number_of_feature_maps * 8),\n",
        "            nn.ReLU(),\n",
        "\n",
        "            #shape = (..., 512, 8, 8)\n",
        "            nn.ConvTranspose2d(number_of_feature_maps * 8, number_of_feature_maps * 4 , kernel_size=kernel_size, stride=stride, padding=padding, bias=False),\n",
        "            nn.ReLU(),\n",
        "            nn.InstanceNorm2d(number_of_feature_maps * 4),\n",
        "\n",
        "             #shape = (..., 256, 16, 16)\n",
        "            nn.ConvTranspose2d(number_of_feature_maps * 4, number_of_feature_maps * 2 , kernel_size=kernel_size, stride=stride, padding=padding, bias=False),\n",
        "            nn.ReLU(),\n",
        "            nn.InstanceNorm2d(number_of_feature_maps * 2),\n",
        "\n",
        "             #shape = (..., 128, 32, 32)\n",
        "            nn.ConvTranspose2d(number_of_feature_maps * 2, no_of_channels , kernel_size=kernel_size, stride=stride, padding=padding, bias=False),\n",
        "            nn.Tanh()\n",
        "            #shape = (..., 3, 64, 64)\n",
        "        )\n",
        "\n",
        "    def forward(self, x, y):\n",
        "        labels = self.embedding(y)\n",
        "        # print(x.shape)\n",
        "        # print(y.shape)\n",
        "        labels = labels.unsqueeze(2).unsqueeze(3).view(x.shape[0], ModelArgs.latent_vector_size, 1,1)\n",
        "\n",
        "        combined = torch.cat([x, labels], dim=1)\n",
        "        # print(combined.shape)\n",
        "        out = self.main(combined)\n",
        "        return out"
      ]
    },
    {
      "cell_type": "code",
      "execution_count": 9,
      "metadata": {
        "colab": {
          "base_uri": "https://localhost:8080/"
        },
        "id": "_-xlwOgCFN-U",
        "outputId": "22b21844-9096-45bd-f76a-ffc8dc9dd253"
      },
      "outputs": [
        {
          "name": "stdout",
          "output_type": "stream",
          "text": [
            "Generator(\n",
            "  (dense): Linear(in_features=100, out_features=1, bias=True)\n",
            "  (embedding): Embedding(10, 100)\n",
            "  (main): Sequential(\n",
            "    (0): ConvTranspose2d(200, 1024, kernel_size=(4, 4), stride=(2, 2), bias=False)\n",
            "    (1): InstanceNorm2d(1024, eps=1e-05, momentum=0.1, affine=False, track_running_stats=False)\n",
            "    (2): ReLU()\n",
            "    (3): ConvTranspose2d(1024, 512, kernel_size=(4, 4), stride=(2, 2), padding=(1, 1), bias=False)\n",
            "    (4): InstanceNorm2d(512, eps=1e-05, momentum=0.1, affine=False, track_running_stats=False)\n",
            "    (5): ReLU()\n",
            "    (6): ConvTranspose2d(512, 256, kernel_size=(4, 4), stride=(2, 2), padding=(1, 1), bias=False)\n",
            "    (7): ReLU()\n",
            "    (8): InstanceNorm2d(256, eps=1e-05, momentum=0.1, affine=False, track_running_stats=False)\n",
            "    (9): ConvTranspose2d(256, 128, kernel_size=(4, 4), stride=(2, 2), padding=(1, 1), bias=False)\n",
            "    (10): ReLU()\n",
            "    (11): InstanceNorm2d(128, eps=1e-05, momentum=0.1, affine=False, track_running_stats=False)\n",
            "    (12): ConvTranspose2d(128, 1, kernel_size=(4, 4), stride=(2, 2), padding=(1, 1), bias=False)\n",
            "    (13): Tanh()\n",
            "  )\n",
            ")\n"
          ]
        }
      ],
      "source": [
        "#Intializing the Generator instance\n",
        "generator = Generator().to(ModelArgs.device)\n",
        "\n",
        "#Applying the weights transformation\n",
        "generator.apply(weights_init)\n",
        "\n",
        "#Printing the structure\n",
        "print(generator)"
      ]
    },
    {
      "cell_type": "code",
      "execution_count": 51,
      "metadata": {
        "colab": {
          "base_uri": "https://localhost:8080/"
        },
        "id": "hlZVuv-oQhCt",
        "outputId": "28ba05d5-6e4a-40ab-8de2-fc5014eae39d"
      },
      "outputs": [
        {
          "data": {
            "text/plain": [
              "torch.Size([128, 1])"
            ]
          },
          "execution_count": 51,
          "metadata": {},
          "output_type": "execute_result"
        }
      ],
      "source": [
        "torch.randint(0, 10, (128, 1), dtype=torch.long, device=ModelArgs.device).shape"
      ]
    },
    {
      "cell_type": "code",
      "execution_count": 16,
      "metadata": {
        "colab": {
          "base_uri": "https://localhost:8080/"
        },
        "id": "8x5GjkITFN-U",
        "outputId": "831c01f2-0e4d-489e-de78-298656893b67"
      },
      "outputs": [
        {
          "data": {
            "text/plain": [
              "========================================================================================================================\n",
              "Layer (type (var_name))                  Input Shape          Output Shape         Param #              Trainable\n",
              "========================================================================================================================\n",
              "Generator (Generator)                    [64, 100, 1, 1]      [64, 1, 64, 64]      101                  True\n",
              "├─Embedding (embedding)                  [64]                 [64, 100]            1,000                True\n",
              "├─Sequential (main)                      [64, 200, 1, 1]      [64, 1, 64, 64]      --                   True\n",
              "│    └─ConvTranspose2d (0)               [64, 200, 1, 1]      [64, 1024, 4, 4]     3,276,800            True\n",
              "│    └─InstanceNorm2d (1)                [64, 1024, 4, 4]     [64, 1024, 4, 4]     --                   --\n",
              "│    └─ReLU (2)                          [64, 1024, 4, 4]     [64, 1024, 4, 4]     --                   --\n",
              "│    └─ConvTranspose2d (3)               [64, 1024, 4, 4]     [64, 512, 8, 8]      8,388,608            True\n",
              "│    └─InstanceNorm2d (4)                [64, 512, 8, 8]      [64, 512, 8, 8]      --                   --\n",
              "│    └─ReLU (5)                          [64, 512, 8, 8]      [64, 512, 8, 8]      --                   --\n",
              "│    └─ConvTranspose2d (6)               [64, 512, 8, 8]      [64, 256, 16, 16]    2,097,152            True\n",
              "│    └─ReLU (7)                          [64, 256, 16, 16]    [64, 256, 16, 16]    --                   --\n",
              "│    └─InstanceNorm2d (8)                [64, 256, 16, 16]    [64, 256, 16, 16]    --                   --\n",
              "│    └─ConvTranspose2d (9)               [64, 256, 16, 16]    [64, 128, 32, 32]    524,288              True\n",
              "│    └─ReLU (10)                         [64, 128, 32, 32]    [64, 128, 32, 32]    --                   --\n",
              "│    └─InstanceNorm2d (11)               [64, 128, 32, 32]    [64, 128, 32, 32]    --                   --\n",
              "│    └─ConvTranspose2d (12)              [64, 128, 32, 32]    [64, 1, 64, 64]      2,048                True\n",
              "│    └─Tanh (13)                         [64, 1, 64, 64]      [64, 1, 64, 64]      --                   --\n",
              "========================================================================================================================\n",
              "Total params: 14,289,997\n",
              "Trainable params: 14,289,997\n",
              "Non-trainable params: 0\n",
              "Total mult-adds (G): 106.97\n",
              "========================================================================================================================\n",
              "Input size (MB): 0.03\n",
              "Forward/backward pass size (MB): 127.98\n",
              "Params size (MB): 57.16\n",
              "Estimated Total Size (MB): 185.16\n",
              "========================================================================================================================"
            ]
          },
          "execution_count": 16,
          "metadata": {},
          "output_type": "execute_result"
        }
      ],
      "source": [
        "from torchinfo import summary\n",
        "\n",
        "random_data = torch.randn(ModelArgs.batch_size, ModelArgs.latent_vector_size, 1, 1, device=ModelArgs.device)\n",
        "# labels =\n",
        "labels = torch.randint(0, 10, (64,), dtype=torch.long, device=ModelArgs.device)\n",
        "random_data = random_data.to(ModelArgs.device)\n",
        "summary(model=generator,\n",
        "        \n",
        "        # input_size=(128, 100, 10, 1, 1),\n",
        "        input_data=(random_data, labels),\n",
        "        col_names=[\"input_size\", \"output_size\", \"num_params\", \"trainable\"],\n",
        "        col_width=20,\n",
        "        row_settings=[\"var_names\"])"
      ]
    },
    {
      "cell_type": "code",
      "execution_count": 13,
      "metadata": {
        "colab": {
          "base_uri": "https://localhost:8080/"
        },
        "id": "nRkap4OeO-qS",
        "outputId": "c8104443-2f82-4357-f65d-cd87d00a5570"
      },
      "outputs": [
        {
          "data": {
            "text/plain": [
              "(torch.Size([128, 100]), torch.Size([128]))"
            ]
          },
          "execution_count": 13,
          "metadata": {},
          "output_type": "execute_result"
        }
      ],
      "source": [
        "random_data.shape, labels.shape"
      ]
    },
    {
      "cell_type": "code",
      "execution_count": 141,
      "metadata": {
        "id": "OLAsBWTOQhCt"
      },
      "outputs": [
        {
          "name": "stdout",
          "output_type": "stream",
          "text": [
            "torch.Size([64, 1, 64, 64])\n",
            "torch.Size([64])\n"
          ]
        }
      ],
      "source": [
        "\n",
        "for images, labels in trainloader:\n",
        "\n",
        "    print(images.shape)\n",
        "    print(labels.shape)\n",
        "    break\n",
        "\n"
      ]
    },
    {
      "cell_type": "code",
      "execution_count": 10,
      "metadata": {
        "id": "izJWPwLkFN-U"
      },
      "outputs": [],
      "source": [
        "class Critic(nn.Module):\n",
        "    def __init__(\n",
        "        self,\n",
        "        no_of_channels = 1,\n",
        "        kernel_size = (4,4),\n",
        "        stride: int = 2,\n",
        "        number_of_feature_maps: int = 64,\n",
        "        padding: int = 1,\n",
        "        lr_slope=0.2,\n",
        "\n",
        "    ):\n",
        "\n",
        "        super().__init__()\n",
        "        self.embedding = nn.Embedding(num_embeddings=ModelArgs.num_classes, embedding_dim=ModelArgs.img_size * ModelArgs.img_size, device=ModelArgs.device)\n",
        "\n",
        "\n",
        "        self.main = nn.Sequential(\n",
        "            nn.Conv2d(no_of_channels + 1, number_of_feature_maps * 2 , kernel_size=kernel_size, stride=stride, padding=padding, bias=False),\n",
        "            nn.InstanceNorm2d(number_of_feature_maps * 2),\n",
        "            nn.LeakyReLU(negative_slope=lr_slope),\n",
        "\n",
        "                #shape = (...,1024, 32, 32)\n",
        "            nn.Conv2d(number_of_feature_maps * 2, number_of_feature_maps * 4 , kernel_size=kernel_size, stride=stride, padding=padding, bias=False),\n",
        "            nn.InstanceNorm2d(number_of_feature_maps * 4),\n",
        "            nn.LeakyReLU(negative_slope=lr_slope),\n",
        "\n",
        "                #shape = (..., 512, 16, 16)\n",
        "            nn.Conv2d(number_of_feature_maps * 4, number_of_feature_maps * 8 , kernel_size=kernel_size, stride=stride, padding=padding, bias=False),\n",
        "            nn.InstanceNorm2d(number_of_feature_maps * 8),\n",
        "            nn.LeakyReLU(negative_slope=lr_slope),\n",
        "\n",
        "                #shape = (..., 256, 8, 8)\n",
        "            nn.Conv2d(number_of_feature_maps * 8, number_of_feature_maps * 16 , kernel_size=kernel_size, stride=stride, padding=padding, bias=False),\n",
        "            nn.InstanceNorm2d(number_of_feature_maps * 16),\n",
        "            nn.LeakyReLU(negative_slope=lr_slope),\n",
        "            #  shape = (..., 128, 4, 4)\n",
        "\n",
        "            nn.Conv2d(number_of_feature_maps * 16, 1 , kernel_size=kernel_size, stride=4, padding=padding, bias=False),\n",
        "            #shape = (...,1,1)\n",
        "            nn.Flatten(),\n",
        "            # nn.Sigmoid(),\n",
        "         )\n",
        "\n",
        "    def forward(self, x, y):\n",
        "        \n",
        "        y = self.embedding(y)\n",
        "        B,E = y.shape\n",
        "\n",
        "        combined = torch.concat([x, y.unsqueeze(2).unsqueeze(3).view(x.shape[0], ModelArgs.no_of_channels, ModelArgs.img_size, ModelArgs.img_size)], dim=1)\n",
        "\n",
        "        x = self.main(combined)\n",
        "\n",
        "        return x"
      ]
    },
    {
      "cell_type": "code",
      "execution_count": 168,
      "metadata": {},
      "outputs": [],
      "source": [
        "# x.view(B, C, IMG_SIZE*IMG_SIZE)"
      ]
    },
    {
      "cell_type": "code",
      "execution_count": 169,
      "metadata": {
        "colab": {
          "base_uri": "https://localhost:8080/",
          "height": 36
        },
        "id": "2AMYty_pQhCt",
        "outputId": "000a2e4b-33e9-441e-9226-1818a29b0eb2"
      },
      "outputs": [],
      "source": [
        "# ModelArgs.device"
      ]
    },
    {
      "cell_type": "code",
      "execution_count": 18,
      "metadata": {
        "colab": {
          "base_uri": "https://localhost:8080/"
        },
        "id": "ZUQEbynaFN-U",
        "outputId": "9adcde31-f2e4-41b5-aa50-4bbbab863515"
      },
      "outputs": [
        {
          "name": "stdout",
          "output_type": "stream",
          "text": [
            "Critic(\n",
            "  (embedding): Embedding(10, 4096)\n",
            "  (main): Sequential(\n",
            "    (0): Conv2d(2, 128, kernel_size=(4, 4), stride=(2, 2), padding=(1, 1), bias=False)\n",
            "    (1): InstanceNorm2d(128, eps=1e-05, momentum=0.1, affine=False, track_running_stats=False)\n",
            "    (2): LeakyReLU(negative_slope=0.2)\n",
            "    (3): Conv2d(128, 256, kernel_size=(4, 4), stride=(2, 2), padding=(1, 1), bias=False)\n",
            "    (4): InstanceNorm2d(256, eps=1e-05, momentum=0.1, affine=False, track_running_stats=False)\n",
            "    (5): LeakyReLU(negative_slope=0.2)\n",
            "    (6): Conv2d(256, 512, kernel_size=(4, 4), stride=(2, 2), padding=(1, 1), bias=False)\n",
            "    (7): InstanceNorm2d(512, eps=1e-05, momentum=0.1, affine=False, track_running_stats=False)\n",
            "    (8): LeakyReLU(negative_slope=0.2)\n",
            "    (9): Conv2d(512, 1024, kernel_size=(4, 4), stride=(2, 2), padding=(1, 1), bias=False)\n",
            "    (10): InstanceNorm2d(1024, eps=1e-05, momentum=0.1, affine=False, track_running_stats=False)\n",
            "    (11): LeakyReLU(negative_slope=0.2)\n",
            "    (12): Conv2d(1024, 1, kernel_size=(4, 4), stride=(4, 4), padding=(1, 1), bias=False)\n",
            "    (13): Flatten(start_dim=1, end_dim=-1)\n",
            "  )\n",
            ")\n"
          ]
        }
      ],
      "source": [
        "#Intializing the Discriminator instance\n",
        "critic = Critic().to(ModelArgs.device)\n",
        "#Apply the wieght intilization function layer by layer\n",
        "critic = critic.apply(weights_init)\n",
        "#Printing the structure\n",
        "print(critic)"
      ]
    },
    {
      "cell_type": "code",
      "execution_count": 20,
      "metadata": {
        "colab": {
          "base_uri": "https://localhost:8080/"
        },
        "id": "9nswZOUxFN-V",
        "outputId": "d6362f39-7a1d-4a23-8d8a-ae8d5c264672"
      },
      "outputs": [
        {
          "data": {
            "text/plain": [
              "========================================================================================================================\n",
              "Layer (type (var_name))                  Input Shape          Output Shape         Param #              Trainable\n",
              "========================================================================================================================\n",
              "Critic (Critic)                          [64, 1, 64, 64]      [64, 1]              --                   True\n",
              "├─Embedding (embedding)                  [64]                 [64, 4096]           40,960               True\n",
              "├─Sequential (main)                      [64, 2, 64, 64]      [64, 1]              --                   True\n",
              "│    └─Conv2d (0)                        [64, 2, 64, 64]      [64, 128, 32, 32]    4,096                True\n",
              "│    └─InstanceNorm2d (1)                [64, 128, 32, 32]    [64, 128, 32, 32]    --                   --\n",
              "│    └─LeakyReLU (2)                     [64, 128, 32, 32]    [64, 128, 32, 32]    --                   --\n",
              "│    └─Conv2d (3)                        [64, 128, 32, 32]    [64, 256, 16, 16]    524,288              True\n",
              "│    └─InstanceNorm2d (4)                [64, 256, 16, 16]    [64, 256, 16, 16]    --                   --\n",
              "│    └─LeakyReLU (5)                     [64, 256, 16, 16]    [64, 256, 16, 16]    --                   --\n",
              "│    └─Conv2d (6)                        [64, 256, 16, 16]    [64, 512, 8, 8]      2,097,152            True\n",
              "│    └─InstanceNorm2d (7)                [64, 512, 8, 8]      [64, 512, 8, 8]      --                   --\n",
              "│    └─LeakyReLU (8)                     [64, 512, 8, 8]      [64, 512, 8, 8]      --                   --\n",
              "│    └─Conv2d (9)                        [64, 512, 8, 8]      [64, 1024, 4, 4]     8,388,608            True\n",
              "│    └─InstanceNorm2d (10)               [64, 1024, 4, 4]     [64, 1024, 4, 4]     --                   --\n",
              "│    └─LeakyReLU (11)                    [64, 1024, 4, 4]     [64, 1024, 4, 4]     --                   --\n",
              "│    └─Conv2d (12)                       [64, 1024, 4, 4]     [64, 1, 1, 1]        16,384               True\n",
              "│    └─Flatten (13)                      [64, 1, 1, 1]        [64, 1]              --                   --\n",
              "========================================================================================================================\n",
              "Total params: 11,071,488\n",
              "Trainable params: 11,071,488\n",
              "Non-trainable params: 0\n",
              "Total mult-adds (G): 26.04\n",
              "========================================================================================================================\n",
              "Input size (MB): 1.05\n",
              "Forward/backward pass size (MB): 127.93\n",
              "Params size (MB): 44.29\n",
              "Estimated Total Size (MB): 173.26\n",
              "========================================================================================================================"
            ]
          },
          "execution_count": 20,
          "metadata": {},
          "output_type": "execute_result"
        }
      ],
      "source": [
        "from torchinfo import summary\n",
        "\n",
        "images = torch.randn(64, 1, 64, 64)\n",
        "labels = torch.randint(0, 10, (64,), dtype=torch.long)\n",
        "\n",
        "summary(model=critic,\n",
        "        # input_size=(100, 1, 64, 64, 10),\n",
        "        input_data=(images.to(ModelArgs.device), labels.to(ModelArgs.device)),\n",
        "        col_names=[\"input_size\", \"output_size\", \"num_params\", \"trainable\"],\n",
        "        col_width=20,\n",
        "        row_settings=[\"var_names\"])"
      ]
    },
    {
      "cell_type": "code",
      "execution_count": 22,
      "metadata": {
        "id": "ugXl-J8cFN-V"
      },
      "outputs": [],
      "source": [
        "\n",
        "\n",
        "generator = Generator().to(ModelArgs.device).apply(weights_init)\n",
        "critic = Critic().to(ModelArgs.device).apply(weights_init)\n",
        "\n",
        "\n",
        "epochs = 10000 #30\n",
        "\n",
        "\n",
        "optimizerC = torch.optim.Adam(params=critic.parameters(), lr=ModelArgs.lr, betas=(ModelArgs.beta_1, ModelArgs.beta_2)) #For discriminator\n",
        "optimizerG = torch.optim.Adam(params=generator.parameters(), lr=ModelArgs.lr,  betas=(ModelArgs.beta_1, ModelArgs.beta_2)) #For generator\n",
        "\n",
        "\n",
        "\n",
        "real_label = 1\n",
        "fake_label = 0\n",
        "\n",
        "\n",
        "loss_g = []\n",
        "loss_d = []\n",
        "img_list = []\n",
        "\n",
        "# Fixed noise for generating the images\n",
        "fixed_noise = torch.randn((ModelArgs.batch_size, ModelArgs.latent_vector_size, 1, 1), dtype=torch.float32, device=ModelArgs.device)"
      ]
    },
    {
      "cell_type": "code",
      "execution_count": 12,
      "metadata": {
        "id": "fJps83qfFN-V"
      },
      "outputs": [],
      "source": [
        "import shutil\n",
        "save_images = Path('output_images/MNIST/WGAN-GP')\n"
      ]
    },
    {
      "cell_type": "code",
      "execution_count": 192,
      "metadata": {
        "colab": {
          "base_uri": "https://localhost:8080/",
          "height": 332
        },
        "id": "05j9aKXJFN-V",
        "outputId": "65200ebf-480f-4d01-d8f2-c98ee184cec1"
      },
      "outputs": [
        {
          "name": "stdout",
          "output_type": "stream",
          "text": [
            "Iterations:  0 Epoch:  0 Generator loss:  91.44364929199219 Discriminator loss:  -141.4761962890625\n",
            "saving the output\n",
            "Iterations:  300 Epoch:  0 Generator loss:  876.3487548828125 Discriminator loss:  -1752.4580078125\n",
            "saving the output\n",
            "Iterations:  600 Epoch:  0 Generator loss:  1699.2119140625 Discriminator loss:  -3404.365234375\n",
            "Iterations:  900 Epoch:  0 Generator loss:  2584.794921875 Discriminator loss:  -5115.1220703125\n",
            "saving the output\n"
          ]
        }
      ],
      "source": [
        "# #Training loop\n",
        "\n",
        "# generator.train()\n",
        "# critic.train()\n",
        "# iters = 0\n",
        "\n",
        "# writer_fake = SummaryWriter(f\"logs/fake\")\n",
        "# writer_real = SummaryWriter(f\"logs/real\")\n",
        "\n",
        "# for epoch in range(epochs):\n",
        "\n",
        "#     for X, y in trainloader:\n",
        "    \n",
        "\n",
        "#         for _ in range(ModelArgs.nCritic):\n",
        "\n",
        "            \n",
        "#             X = X.to(ModelArgs.device)\n",
        "#             y = y.to(ModelArgs.device)\n",
        "            \n",
        "            \n",
        "#             #Train the discriminator (with real data)\n",
        "\n",
        "#             ############################\n",
        "#             # (1) Update D network: maximize: log(1 - D(G(z)))\n",
        "#             ###########################\n",
        "#             # print(\"noise : \", noise.shape)\n",
        "#             # print(\"Labels: \", y.shape)\n",
        "#             # print(X.shape)\n",
        "#             # print(y.shape)\n",
        "#             current_batch_size = X.shape[0]  #Getting the current batch size\n",
        "\n",
        "#             critic_real = critic(X,y).view(-1)\n",
        "            \n",
        "#             noise = torch.randn((current_batch_size, ModelArgs.latent_vector_size, 1, 1), device=device)\n",
        "            \n",
        "#             # print('generated noise; ', noise.shape)\n",
        "#             noise_generated_by_generator = generator(noise, y)\n",
        "            \n",
        "#             critic_fake = critic(noise_generated_by_generator, y).view(-1)\n",
        "#             loss_tot = -(critic_real.mean() - critic_fake.mean())\n",
        "            \n",
        "#             # 3. Optimizer zero grad\n",
        "#             optimizerC.zero_grad()\n",
        "\n",
        "#             # 4. Loss backward\n",
        "#             loss_tot.backward(retain_graph=True)\n",
        "                \n",
        "#             optimizerC.step()\n",
        "#             loss_d.append(loss_tot.item())\n",
        "\n",
        "            \n",
        "#             for p in critic.parameters():\n",
        "#                 p.clamp(-(ModelArgs.c), ModelArgs.c)\n",
        "\n",
        "#         ############################\n",
        "#         # (2) Update G network: minimize log(D(G(z)))\n",
        "#         ###########################\n",
        "        \n",
        "#         #1. Forward pass\n",
        "#         noise = torch.randn((current_batch_size, ModelArgs.latent_vector_size, 1, 1), device=device)\n",
        "#         noise_generated_by_generator = generator(noise, y)\n",
        "#         critic_gen = critic(noise_generated_by_generator, y).view(-1)\n",
        "        \n",
        "#         loss = -(critic_gen.mean())\n",
        "        \n",
        "#         # 3. Optimizer zero grad\n",
        "#         optimizerG.zero_grad()\n",
        "\n",
        "#         # 4. Loss backward\n",
        "#         loss.backward(retain_graph=True)\n",
        "            \n",
        "#         optimizerG.step()\n",
        "        \n",
        "#         loss_g.append(loss.item())\n",
        "\n",
        "#         if iters % 300 == 0:\n",
        "#             print(\"Iterations: \", iters, \"Epoch: \", epoch, \"Generator loss: \", loss.item(), \"Discriminator loss: \", loss_tot.item())\n",
        "\n",
        "#         #save the output\n",
        "#         with torch.no_grad():\n",
        "#             if iters % 500 == 0:\n",
        "#                 print('saving the output')\n",
        "#                 torchvision.utils.save_image(X,'{}/real_images_iters_{}.png'.format(save_images, iters),normalize=True)\n",
        "#                 fake = generator(fixed_noise, y)\n",
        "#                 torchvision.utils.save_image(fake,'{}/fake_images_iters_{}.png'.format(save_images, iters),normalize=True)\n",
        "\n",
        "#                 img_grid_fake = torchvision.utils.make_grid(fake, normalize=True)\n",
        "#                 img_grid_real = torchvision.utils.make_grid(X, normalize=True)\n",
        "                    \n",
        "#                 writer_fake.add_image(\n",
        "#                             \"Mnist Fake Images\", img_grid_fake, global_step=iters\n",
        "#                         )\n",
        "#                 writer_real.add_image(\n",
        "#                             \"Mnist Real Images\", img_grid_real, global_step=iters\n",
        "#                         )\n",
        "                        \n",
        "\n",
        "#                 # Check pointing for every epoch\n",
        "#                 # torch.save(generator.state_dict(), 'weights/CelebA/generator_steps_%d.pth' % (iters))\n",
        "#                 # torch.save(discriminator.state_dict(), 'weights/CelebA/discriminator_steps_%d.pth' % (iters))\n",
        "\n",
        "\n",
        "#             iters += 1\n"
      ]
    },
    {
      "cell_type": "code",
      "execution_count": 23,
      "metadata": {},
      "outputs": [
        {
          "name": "stderr",
          "output_type": "stream",
          "text": [
            "  0%|          | 1/10000 [00:01<3:42:34,  1.34s/it]"
          ]
        },
        {
          "name": "stdout",
          "output_type": "stream",
          "text": [
            "Iterations:  0 Epoch:  0 Generator loss:  11.519918441772461 Discriminator loss:  -16.449831008911133\n",
            "saving the output\n"
          ]
        },
        {
          "name": "stderr",
          "output_type": "stream",
          "text": [
            "  5%|▌         | 501/10000 [07:27<2:21:21,  1.12it/s]"
          ]
        },
        {
          "name": "stdout",
          "output_type": "stream",
          "text": [
            "Iterations:  0 Epoch:  500 Generator loss:  29.872150421142578 Discriminator loss:  -12.99435806274414\n",
            "saving the output\n"
          ]
        },
        {
          "name": "stderr",
          "output_type": "stream",
          "text": [
            " 10%|█         | 1001/10000 [14:55<2:24:29,  1.04it/s]"
          ]
        },
        {
          "name": "stdout",
          "output_type": "stream",
          "text": [
            "Iterations:  0 Epoch:  1000 Generator loss:  26.392879486083984 Discriminator loss:  -8.301973342895508\n",
            "saving the output\n"
          ]
        },
        {
          "name": "stderr",
          "output_type": "stream",
          "text": [
            " 15%|█▌        | 1501/10000 [22:21<2:01:47,  1.16it/s]"
          ]
        },
        {
          "name": "stdout",
          "output_type": "stream",
          "text": [
            "Iterations:  0 Epoch:  1500 Generator loss:  25.922199249267578 Discriminator loss:  -5.191593170166016\n",
            "saving the output\n"
          ]
        },
        {
          "name": "stderr",
          "output_type": "stream",
          "text": [
            " 20%|██        | 2001/10000 [29:49<2:09:00,  1.03it/s]"
          ]
        },
        {
          "name": "stdout",
          "output_type": "stream",
          "text": [
            "Iterations:  0 Epoch:  2000 Generator loss:  28.132633209228516 Discriminator loss:  -6.464010238647461\n",
            "saving the output\n"
          ]
        },
        {
          "name": "stderr",
          "output_type": "stream",
          "text": [
            " 25%|██▌       | 2501/10000 [37:16<1:55:49,  1.08it/s]"
          ]
        },
        {
          "name": "stdout",
          "output_type": "stream",
          "text": [
            "Iterations:  0 Epoch:  2500 Generator loss:  30.21761131286621 Discriminator loss:  -5.609255313873291\n",
            "saving the output\n"
          ]
        },
        {
          "name": "stderr",
          "output_type": "stream",
          "text": [
            " 30%|███       | 3001/10000 [44:44<1:53:01,  1.03it/s]"
          ]
        },
        {
          "name": "stdout",
          "output_type": "stream",
          "text": [
            "Iterations:  0 Epoch:  3000 Generator loss:  29.239627838134766 Discriminator loss:  -5.099191665649414\n",
            "saving the output\n"
          ]
        },
        {
          "name": "stderr",
          "output_type": "stream",
          "text": [
            " 35%|███▌      | 3501/10000 [52:11<1:43:01,  1.05it/s]"
          ]
        },
        {
          "name": "stdout",
          "output_type": "stream",
          "text": [
            "Iterations:  0 Epoch:  3500 Generator loss:  30.635303497314453 Discriminator loss:  -5.528763294219971\n",
            "saving the output\n"
          ]
        },
        {
          "name": "stderr",
          "output_type": "stream",
          "text": [
            " 40%|████      | 4001/10000 [59:40<1:36:03,  1.04it/s]"
          ]
        },
        {
          "name": "stdout",
          "output_type": "stream",
          "text": [
            "Iterations:  0 Epoch:  4000 Generator loss:  27.488082885742188 Discriminator loss:  -5.733362197875977\n",
            "saving the output\n"
          ]
        },
        {
          "name": "stderr",
          "output_type": "stream",
          "text": [
            " 45%|████▌     | 4501/10000 [1:07:08<1:28:46,  1.03it/s]"
          ]
        },
        {
          "name": "stdout",
          "output_type": "stream",
          "text": [
            "Iterations:  0 Epoch:  4500 Generator loss:  31.62683868408203 Discriminator loss:  -3.0006814002990723\n",
            "saving the output\n"
          ]
        },
        {
          "name": "stderr",
          "output_type": "stream",
          "text": [
            " 50%|█████     | 5001/10000 [1:14:36<1:11:28,  1.17it/s]"
          ]
        },
        {
          "name": "stdout",
          "output_type": "stream",
          "text": [
            "Iterations:  0 Epoch:  5000 Generator loss:  30.13888168334961 Discriminator loss:  -3.87677001953125\n",
            "saving the output\n"
          ]
        },
        {
          "name": "stderr",
          "output_type": "stream",
          "text": [
            " 55%|█████▌    | 5501/10000 [1:22:04<1:12:27,  1.03it/s]"
          ]
        },
        {
          "name": "stdout",
          "output_type": "stream",
          "text": [
            "Iterations:  0 Epoch:  5500 Generator loss:  27.979583740234375 Discriminator loss:  -2.9862051010131836\n",
            "saving the output\n"
          ]
        },
        {
          "name": "stderr",
          "output_type": "stream",
          "text": [
            " 60%|██████    | 6000/10000 [1:29:55<54:33,  1.22it/s]  "
          ]
        },
        {
          "name": "stdout",
          "output_type": "stream",
          "text": [
            "Iterations:  0 Epoch:  6000 Generator loss:  29.947967529296875 Discriminator loss:  -2.7335898876190186\n",
            "saving the output\n"
          ]
        },
        {
          "name": "stderr",
          "output_type": "stream",
          "text": [
            " 65%|██████▍   | 6499/10000 [1:38:34<54:58,  1.06it/s]  "
          ]
        },
        {
          "name": "stdout",
          "output_type": "stream",
          "text": [
            "Iterations:  0 Epoch:  6500 Generator loss:  29.766986846923828 Discriminator loss:  -3.5634653568267822\n",
            "saving the output\n"
          ]
        },
        {
          "name": "stderr",
          "output_type": "stream",
          "text": [
            " 70%|███████   | 7001/10000 [1:46:25<48:42,  1.03it/s]  "
          ]
        },
        {
          "name": "stdout",
          "output_type": "stream",
          "text": [
            "Iterations:  0 Epoch:  7000 Generator loss:  29.27762222290039 Discriminator loss:  -3.1902260780334473\n",
            "saving the output\n"
          ]
        },
        {
          "name": "stderr",
          "output_type": "stream",
          "text": [
            " 75%|███████▌  | 7500/10000 [1:53:53<39:32,  1.05it/s]"
          ]
        },
        {
          "name": "stdout",
          "output_type": "stream",
          "text": [
            "Iterations:  0 Epoch:  7500 Generator loss:  29.01172637939453 Discriminator loss:  -4.491480827331543\n",
            "saving the output\n"
          ]
        },
        {
          "name": "stderr",
          "output_type": "stream",
          "text": [
            " 80%|████████  | 8001/10000 [2:01:21<32:06,  1.04it/s]"
          ]
        },
        {
          "name": "stdout",
          "output_type": "stream",
          "text": [
            "Iterations:  0 Epoch:  8000 Generator loss:  29.1839542388916 Discriminator loss:  -2.944528818130493\n",
            "saving the output\n"
          ]
        },
        {
          "name": "stderr",
          "output_type": "stream",
          "text": [
            " 85%|████████▌ | 8501/10000 [2:08:54<24:19,  1.03it/s]"
          ]
        },
        {
          "name": "stdout",
          "output_type": "stream",
          "text": [
            "Iterations:  0 Epoch:  8500 Generator loss:  27.04527473449707 Discriminator loss:  -0.4785466194152832\n",
            "saving the output\n"
          ]
        },
        {
          "name": "stderr",
          "output_type": "stream",
          "text": [
            " 90%|█████████ | 9001/10000 [2:16:24<14:14,  1.17it/s]"
          ]
        },
        {
          "name": "stdout",
          "output_type": "stream",
          "text": [
            "Iterations:  0 Epoch:  9000 Generator loss:  29.589115142822266 Discriminator loss:  -1.7277418375015259\n",
            "saving the output\n"
          ]
        },
        {
          "name": "stderr",
          "output_type": "stream",
          "text": [
            " 95%|█████████▌| 9501/10000 [2:23:53<07:59,  1.04it/s]"
          ]
        },
        {
          "name": "stdout",
          "output_type": "stream",
          "text": [
            "Iterations:  0 Epoch:  9500 Generator loss:  26.414043426513672 Discriminator loss:  -1.4622870683670044\n",
            "saving the output\n"
          ]
        },
        {
          "name": "stderr",
          "output_type": "stream",
          "text": [
            "100%|██████████| 10000/10000 [2:31:18<00:00,  1.10it/s]\n"
          ]
        }
      ],
      "source": [
        "#Training loop\n",
        "import random\n",
        "from tqdm import tqdm\n",
        "\n",
        "\n",
        "generator.train()\n",
        "critic.train()\n",
        "iters = 0\n",
        "\n",
        "writer_fake = SummaryWriter(f\"logs/WGAN-GP/fake\")\n",
        "writer_real = SummaryWriter(f\"logs/WGAN-GP/real\")\n",
        "\n",
        "for epoch in tqdm(range(epochs)):\n",
        "\n",
        "    # for X, y in trainloader:\n",
        "    \n",
        "    \n",
        "    # count = 0\n",
        "    for _ in range(ModelArgs.nCritic):\n",
        "    \n",
        "        \n",
        "        # if(count>=ModelArgs.batch_size):\n",
        "        #     break\n",
        "        data_iter = iter(trainloader)\n",
        "\n",
        "        X, y = next(data_iter)\n",
        "    \n",
        "        X = X.to(ModelArgs.device)\n",
        "        y = y.to(ModelArgs.device)\n",
        "        \n",
        "        random_no = random.random()\n",
        "        # count += 1\n",
        "        #Train the discriminator (with real data)\n",
        "\n",
        "        ############################\n",
        "        # (1) Update D network: maximize: log(1 - D(G(z)))\n",
        "        ###########################\n",
        "        # print(\"noise : \", noise.shape)\n",
        "        # print(\"Labels: \", y.shape)\n",
        "        # print(X.shape)\n",
        "        # print(y.shape)\n",
        "        current_batch_size = X.shape[0]  #Getting the current batch size\n",
        "\n",
        "        critic_real = critic(X,y).view(-1)\n",
        "        \n",
        "        noise = torch.randn((current_batch_size, ModelArgs.latent_vector_size, 1, 1), device=ModelArgs.device)\n",
        "        \n",
        "        # print('generated noise; ', noise.shape)\n",
        "        noise_generated_by_generator = generator(noise, y)\n",
        "        \n",
        "        critic_fake = critic(noise_generated_by_generator, y)\n",
        "        \n",
        "        interpolated = random_no * X + (1-random_no) * noise_generated_by_generator\n",
        "        \n",
        "        interpolated_critic_result = critic(interpolated, y).view(-1) \n",
        "        \n",
        "        grad_interpolated_critic_result = torch.autograd.grad(\n",
        "            create_graph = True,\n",
        "            retain_graph = True,\n",
        "            inputs = interpolated,\n",
        "            outputs = interpolated_critic_result,\n",
        "            grad_outputs = torch.ones_like(y)\n",
        "            \n",
        "        )[0] #Because it will be a tuple consisting of a single tensor\n",
        "        # print(\"Autograd result: \",grad_interpolated_critic_result.shape)\n",
        "        loss_tot = torch.mean(critic_fake) - torch.mean(critic_real) + ModelArgs.penalty_fac * (torch.mean((grad_interpolated_critic_result.view(current_batch_size, -1).norm(2, dim=1) - 1)**2))\n",
        "        \n",
        "        # 3. Optimizer zero grad\n",
        "        optimizerC.zero_grad()\n",
        "\n",
        "        # 4. Loss backward\n",
        "        loss_tot.backward()\n",
        "        # loss_tot.backward(retain_graph=True)\n",
        "            \n",
        "        optimizerC.step()\n",
        "        \n",
        "    ############################\n",
        "    # (2) Update G network: minimize log(D(G(z)))\n",
        "    ###########################\n",
        "\n",
        "    #1. Forward pass\n",
        "    noise = torch.randn((current_batch_size, ModelArgs.latent_vector_size, 1, 1), device=ModelArgs.device)\n",
        "    noise_generated_by_generator = generator(noise, y)\n",
        "    critic_gen = critic(noise_generated_by_generator, y).view(-1)\n",
        "    \n",
        "    loss = -(torch.mean(critic_gen))\n",
        "    \n",
        "    # 3. Optimizer zero grad\n",
        "    optimizerG.zero_grad()\n",
        "\n",
        "    # 4. Loss backward\n",
        "    loss.backward(retain_graph=True)\n",
        "        \n",
        "    optimizerG.step()\n",
        "    \n",
        "    loss_g.append(loss.item())\n",
        "\n",
        "    # break\n",
        "\n",
        "    if epoch % 500 == 0:\n",
        "        print(\"Iterations: \", iters, \"Epoch: \", epoch, \"Generator loss: \", loss.item(), \"Discriminator loss: \", loss_tot.item())\n",
        "\n",
        "    #save the output\n",
        "    with torch.no_grad():\n",
        "        \n",
        "        \n",
        "        \n",
        "        if epoch % 500 == 0:\n",
        "            \n",
        "            print('saving the output')\n",
        "            # torchvision.utils.save_image(X,'{}/real_images_epoch_{}.png'.format(save_images, epoch),normalize=True)\n",
        "            fake = generator(fixed_noise, y)\n",
        "            # torchvision.utils.save_image(fake,'{}/fake_images_epoch_{}.png'.format(save_images, epoch),normalize=True)\n",
        "\n",
        "            img_grid_fake = torchvision.utils.make_grid(fake, normalize=True)\n",
        "            img_grid_real = torchvision.utils.make_grid(X, normalize=True)\n",
        "                \n",
        "            writer_fake.add_image(\n",
        "                        \"Mnist Fake Images\", img_grid_fake, global_step=epoch\n",
        "                    )\n",
        "            writer_real.add_image(\n",
        "                        \"Mnist Real Images\", img_grid_real, global_step=epoch\n",
        "                    )\n",
        "                    \n",
        "\n",
        "            # Check pointing for every epoch\n",
        "            # torch.save(generator.state_dict(), 'weights/CelebA/generator_steps_%d.pth' % (iters))\n",
        "            # torch.save(discriminator.state_dict(), 'weights/CelebA/discriminator_steps_%d.pth' % (iters))\n",
        "\n",
        "\n",
        "        # iters += 1\n"
      ]
    },
    {
      "cell_type": "code",
      "execution_count": null,
      "metadata": {
        "id": "SjpDdznGQhCu",
        "outputId": "5e51cdf3-03f1-4fac-9ae8-7c062d3d2c9d"
      },
      "outputs": [
        {
          "data": {
            "image/png": "[encoded data removed]",
            "text/plain": [
              "<Figure size 1000x500 with 1 Axes>"
            ]
          },
          "metadata": {},
          "output_type": "display_data"
        }
      ],
      "source": [
        "#For MNIST\n",
        "import matplotlib.pyplot as plt\n",
        "import matplotlib.animation as animation\n",
        "from IPython.display import HTML\n",
        "import numpy as np\n",
        "\n",
        "plt.figure(figsize=(10,5))\n",
        "plt.title(\"Generator and Discriminator Loss During Training\")\n",
        "plt.plot(loss_g,label=\"G\")\n",
        "plt.plot(loss_d,label=\"D\")\n",
        "plt.xlabel(\"Iterations\")\n",
        "plt.ylabel(\"Loss\")\n",
        "plt.legend()\n",
        "plt.show()\n",
        "\n"
      ]
    }
  ],
  "metadata": {
    "colab": {
      "provenance": []
    },
    "kernelspec": {
      "display_name": "Python 3",
      "name": "python3"
    },
    "language_info": {
      "codemirror_mode": {
        "name": "ipython",
        "version": 3
      },
      "file_extension": ".py",
      "mimetype": "text/x-python",
      "name": "python",
      "nbconvert_exporter": "python",
      "pygments_lexer": "ipython3",
      "version": "3.10.14"
    }
  },
  "nbformat": 4,
  "nbformat_minor": 0
}
