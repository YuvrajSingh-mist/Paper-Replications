{
  "cells": [
    {
      "cell_type": "code",
      "execution_count": 3,
      "metadata": {
        "id": "5nP_WUZ9FN-R"
      },
      "outputs": [],
      "source": [
        "import torch\n",
        "from pathlib import Path\n",
        "import torchvision\n",
        "from torch import nn\n",
        "from torchvision import transforms\n",
        "from dataclasses import dataclass\n",
        "from torch.utils.tensorboard import SummaryWriter  "
      ]
    },
    {
      "cell_type": "code",
      "execution_count": 4,
      "metadata": {
        "id": "HOGoxeeJFN-T"
      },
      "outputs": [
        {
          "data": {
            "text/plain": [
              "'cuda'"
            ]
          },
          "execution_count": 4,
          "metadata": {},
          "output_type": "execute_result"
        }
      ],
      "source": [
        "device = \"cuda\" if torch.cuda.is_available() else \"cpu\"\n",
        "# device = 'cpu'\n",
        "device"
      ]
    },
    {
      "cell_type": "code",
      "execution_count": 5,
      "metadata": {
        "id": "iiWhk4i2QhCr"
      },
      "outputs": [],
      "source": [
        "@dataclass\n",
        "class ModelArgs:\n",
        "    latent_vector_size = 100\n",
        "    device = 'cpu'\n",
        "    batch_size = 64\n",
        "    lr = 5e-5\n",
        "    num_classes = 10\n",
        "    img_size = 64\n",
        "    no_of_lables = 10\n",
        "    no_of_channels = 1\n",
        "    c = 1e-2\n",
        "    nCritic = 5\n"
      ]
    },
    {
      "cell_type": "code",
      "execution_count": 6,
      "metadata": {
        "id": "CQ_fOrMNQhCr"
      },
      "outputs": [],
      "source": [
        "ModelArgs.device = device"
      ]
    },
    {
      "cell_type": "code",
      "execution_count": 7,
      "metadata": {},
      "outputs": [],
      "source": [
        "#Transforms for images\n",
        "transforms = torchvision.transforms.Compose([\n",
        "    transforms.Resize(size=(ModelArgs.img_size,ModelArgs.img_size)),\n",
        "    transforms.ToTensor(),\n",
        "    transforms.Normalize((0.5,), (0.5,))\n",
        "\n",
        "])"
      ]
    },
    {
      "cell_type": "code",
      "execution_count": 8,
      "metadata": {
        "colab": {
          "base_uri": "https://localhost:8080/"
        },
        "id": "IjduuQ6CFN-T",
        "outputId": "c6fa2917-3f61-4fd8-8295-3a142d01cce4"
      },
      "outputs": [],
      "source": [
        "#Loading MNIST Dataset\n",
        "import torchvision\n",
        "from torch.utils.data import DataLoader\n",
        "import os\n",
        "\n",
        "data_path = Path('/data/')\n",
        "\n",
        "# train_dir = data_path / \"train\"\n",
        "# test_dir = data_path / \"test\"\n",
        "\n",
        "# Load the training set\n",
        "trainset = torchvision.datasets.MNIST(root='./data', train=True, download=True, transform=transforms)\n",
        "trainloader = torch.utils.data.DataLoader(trainset, batch_size=ModelArgs.batch_size, shuffle=True)\n",
        "\n",
        "# Load the test set\n",
        "testset = torchvision.datasets.MNIST(root='./data', train=False, download=True, transform=transforms)\n",
        "testloader = torch.utils.data.DataLoader(testset, batch_size=ModelArgs.batch_size, shuffle=False)"
      ]
    },
    {
      "cell_type": "code",
      "execution_count": 9,
      "metadata": {
        "id": "Mf6_wWp-FN-T"
      },
      "outputs": [],
      "source": [
        "def weights_init(m):\n",
        "    classname = m.__class__.__name__\n",
        "    if classname.find('Conv') != -1:\n",
        "        nn.init.normal_(m.weight.data, 0.0, 0.02)  #mean = 0, std = 0.02\n"
      ]
    },
    {
      "cell_type": "code",
      "execution_count": 10,
      "metadata": {
        "id": "igQOSe-jFN-U"
      },
      "outputs": [],
      "source": [
        "class Generator(nn.Module):\n",
        "    def __init__(\n",
        "        self,\n",
        "        latent_vector_size = 100,\n",
        "        no_of_channels = 1,\n",
        "        kernel_size = (4,4),\n",
        "        stride: int = 2,\n",
        "        number_of_feature_maps: int = 64,\n",
        "        padding: int = 1,\n",
        "\n",
        "        img_size: int = 1\n",
        "\n",
        "    ):\n",
        "\n",
        "        super().__init__()\n",
        "\n",
        "        self.dense = nn.Linear(in_features=latent_vector_size, out_features=img_size * img_size, device=ModelArgs.device)\n",
        "        self.combined_hidden_layer_dimensions = latent_vector_size + ModelArgs.no_of_lables\n",
        "        self.embedding = nn.Embedding(num_embeddings=ModelArgs.num_classes, embedding_dim=latent_vector_size, device=ModelArgs.device)\n",
        "\n",
        "        self.img_size = img_size\n",
        "        self.main = nn.Sequential(\n",
        "\n",
        "\n",
        "\n",
        "            nn.ConvTranspose2d(ModelArgs.latent_vector_size + ModelArgs.latent_vector_size, number_of_feature_maps * 16 , kernel_size=kernel_size, stride=stride, padding=0, bias=False),\n",
        "            nn.BatchNorm2d(number_of_feature_maps * 16),\n",
        "            nn.ReLU(),\n",
        "\n",
        "            #shape = (...,1024, 4, 4)\n",
        "            nn.ConvTranspose2d(number_of_feature_maps * 16, number_of_feature_maps * 8 , kernel_size=kernel_size, stride=stride, padding=padding, bias=False),\n",
        "            nn.BatchNorm2d(number_of_feature_maps * 8),\n",
        "            nn.ReLU(),\n",
        "\n",
        "            #shape = (..., 512, 8, 8)\n",
        "            nn.ConvTranspose2d(number_of_feature_maps * 8, number_of_feature_maps * 4 , kernel_size=kernel_size, stride=stride, padding=padding, bias=False),\n",
        "            nn.BatchNorm2d(number_of_feature_maps * 4),\n",
        "            nn.ReLU(),\n",
        "            \n",
        "\n",
        "             #shape = (..., 256, 16, 16)\n",
        "            nn.ConvTranspose2d(number_of_feature_maps * 4, number_of_feature_maps * 2 , kernel_size=kernel_size, stride=stride, padding=padding, bias=False),\n",
        "            nn.BatchNorm2d(number_of_feature_maps * 2),\n",
        "            nn.ReLU(),\n",
        "            \n",
        "\n",
        "             #shape = (..., 128, 32, 32)\n",
        "            nn.ConvTranspose2d(number_of_feature_maps * 2, no_of_channels , kernel_size=kernel_size, stride=stride, padding=padding, bias=False),\n",
        "            nn.Tanh()\n",
        "            #shape = (..., 3, 64, 64)\n",
        "        )\n",
        "\n",
        "    def forward(self, x, y):\n",
        "        labels = self.embedding(y)\n",
        "        # print(x.shape)\n",
        "        # print(y.shape)\n",
        "        labels = labels.unsqueeze(2).unsqueeze(3).view(x.shape[0], ModelArgs.latent_vector_size, 1,1)\n",
        "\n",
        "        combined = torch.cat([x, labels], dim=1)\n",
        "        # print(combined.shape)\n",
        "        out = self.main(combined)\n",
        "        return out"
      ]
    },
    {
      "cell_type": "code",
      "execution_count": 166,
      "metadata": {
        "colab": {
          "base_uri": "https://localhost:8080/"
        },
        "id": "_-xlwOgCFN-U",
        "outputId": "22b21844-9096-45bd-f76a-ffc8dc9dd253"
      },
      "outputs": [
        {
          "name": "stdout",
          "output_type": "stream",
          "text": [
            "Generator(\n",
            "  (dense): Linear(in_features=100, out_features=1, bias=True)\n",
            "  (embedding): Embedding(10, 100)\n",
            "  (main): Sequential(\n",
            "    (0): ConvTranspose2d(200, 1024, kernel_size=(4, 4), stride=(2, 2), bias=False)\n",
            "    (1): BatchNorm2d(1024, eps=1e-05, momentum=0.1, affine=True, track_running_stats=True)\n",
            "    (2): ReLU()\n",
            "    (3): ConvTranspose2d(1024, 512, kernel_size=(4, 4), stride=(2, 2), padding=(1, 1), bias=False)\n",
            "    (4): BatchNorm2d(512, eps=1e-05, momentum=0.1, affine=True, track_running_stats=True)\n",
            "    (5): ReLU()\n",
            "    (6): ConvTranspose2d(512, 256, kernel_size=(4, 4), stride=(2, 2), padding=(1, 1), bias=False)\n",
            "    (7): ReLU()\n",
            "    (8): BatchNorm2d(256, eps=1e-05, momentum=0.1, affine=True, track_running_stats=True)\n",
            "    (9): ConvTranspose2d(256, 128, kernel_size=(4, 4), stride=(2, 2), padding=(1, 1), bias=False)\n",
            "    (10): ReLU()\n",
            "    (11): BatchNorm2d(128, eps=1e-05, momentum=0.1, affine=True, track_running_stats=True)\n",
            "    (12): ConvTranspose2d(128, 1, kernel_size=(4, 4), stride=(2, 2), padding=(1, 1), bias=False)\n",
            "    (13): Tanh()\n",
            "  )\n",
            ")\n"
          ]
        }
      ],
      "source": [
        "#Intializing the Generator instance\n",
        "generator = Generator().to(ModelArgs.device)\n",
        "\n",
        "#Applying the weights transformation\n",
        "generator.apply(weights_init)\n",
        "\n",
        "#Printing the structure\n",
        "print(generator)"
      ]
    },
    {
      "cell_type": "code",
      "execution_count": 51,
      "metadata": {
        "colab": {
          "base_uri": "https://localhost:8080/"
        },
        "id": "hlZVuv-oQhCt",
        "outputId": "28ba05d5-6e4a-40ab-8de2-fc5014eae39d"
      },
      "outputs": [
        {
          "data": {
            "text/plain": [
              "torch.Size([128, 1])"
            ]
          },
          "execution_count": 51,
          "metadata": {},
          "output_type": "execute_result"
        }
      ],
      "source": [
        "torch.randint(0, 10, (128, 1), dtype=torch.long, device=ModelArgs.device).shape"
      ]
    },
    {
      "cell_type": "code",
      "execution_count": 76,
      "metadata": {
        "colab": {
          "base_uri": "https://localhost:8080/"
        },
        "id": "8x5GjkITFN-U",
        "outputId": "831c01f2-0e4d-489e-de78-298656893b67"
      },
      "outputs": [
        {
          "name": "stdout",
          "output_type": "stream",
          "text": [
            "torch.Size([64, 100, 1, 1])\n",
            "torch.Size([64])\n"
          ]
        },
        {
          "data": {
            "text/plain": [
              "========================================================================================================================\n",
              "Layer (type (var_name))                  Input Shape          Output Shape         Param #              Trainable\n",
              "========================================================================================================================\n",
              "Generator (Generator)                    [64, 100, 1, 1]      [64, 1, 64, 64]      101                  True\n",
              "├─Embedding (embedding)                  [64]                 [64, 100]            1,000                True\n",
              "├─Sequential (main)                      [64, 200, 1, 1]      [64, 1, 64, 64]      --                   True\n",
              "│    └─ConvTranspose2d (0)               [64, 200, 1, 1]      [64, 1024, 4, 4]     3,276,800            True\n",
              "│    └─BatchNorm2d (1)                   [64, 1024, 4, 4]     [64, 1024, 4, 4]     2,048                True\n",
              "│    └─ReLU (2)                          [64, 1024, 4, 4]     [64, 1024, 4, 4]     --                   --\n",
              "│    └─ConvTranspose2d (3)               [64, 1024, 4, 4]     [64, 512, 8, 8]      8,388,608            True\n",
              "│    └─BatchNorm2d (4)                   [64, 512, 8, 8]      [64, 512, 8, 8]      1,024                True\n",
              "│    └─ReLU (5)                          [64, 512, 8, 8]      [64, 512, 8, 8]      --                   --\n",
              "│    └─ConvTranspose2d (6)               [64, 512, 8, 8]      [64, 256, 16, 16]    2,097,152            True\n",
              "│    └─ReLU (7)                          [64, 256, 16, 16]    [64, 256, 16, 16]    --                   --\n",
              "│    └─BatchNorm2d (8)                   [64, 256, 16, 16]    [64, 256, 16, 16]    512                  True\n",
              "│    └─ConvTranspose2d (9)               [64, 256, 16, 16]    [64, 128, 32, 32]    524,288              True\n",
              "│    └─ReLU (10)                         [64, 128, 32, 32]    [64, 128, 32, 32]    --                   --\n",
              "│    └─BatchNorm2d (11)                  [64, 128, 32, 32]    [64, 128, 32, 32]    256                  True\n",
              "│    └─ConvTranspose2d (12)              [64, 128, 32, 32]    [64, 1, 64, 64]      2,048                True\n",
              "│    └─Tanh (13)                         [64, 1, 64, 64]      [64, 1, 64, 64]      --                   --\n",
              "========================================================================================================================\n",
              "Total params: 14,293,837\n",
              "Trainable params: 14,293,837\n",
              "Non-trainable params: 0\n",
              "Total mult-adds (G): 106.97\n",
              "========================================================================================================================\n",
              "Input size (MB): 0.03\n",
              "Forward/backward pass size (MB): 253.81\n",
              "Params size (MB): 57.17\n",
              "Estimated Total Size (MB): 311.01\n",
              "========================================================================================================================"
            ]
          },
          "execution_count": 76,
          "metadata": {},
          "output_type": "execute_result"
        }
      ],
      "source": [
        "from torchinfo import summary\n",
        "\n",
        "random_data = torch.randn(ModelArgs.batch_size, ModelArgs.latent_vector_size, 1, 1, device=ModelArgs.device)\n",
        "# labels =\n",
        "labels = torch.randint(0, 10, (64,), dtype=torch.long, device=ModelArgs.device)\n",
        "random_data = random_data.to(ModelArgs.device)\n",
        "summary(model=generator,\n",
        "        \n",
        "        # input_size=(128, 100, 10, 1, 1),\n",
        "        input_data=(random_data, labels),\n",
        "        col_names=[\"input_size\", \"output_size\", \"num_params\", \"trainable\"],\n",
        "        col_width=20,\n",
        "        row_settings=[\"var_names\"])"
      ]
    },
    {
      "cell_type": "code",
      "execution_count": 11,
      "metadata": {
        "id": "izJWPwLkFN-U"
      },
      "outputs": [],
      "source": [
        "class Critic(nn.Module):\n",
        "    def __init__(\n",
        "        self,\n",
        "        no_of_channels = 1,\n",
        "        kernel_size = (4,4),\n",
        "        stride: int = 2,\n",
        "        number_of_feature_maps: int = 64,\n",
        "        padding: int = 1,\n",
        "        lr_slope=0.2,\n",
        "\n",
        "    ):\n",
        "\n",
        "        super().__init__()\n",
        "        self.embedding = nn.Embedding(num_embeddings=ModelArgs.num_classes, embedding_dim=ModelArgs.img_size * ModelArgs.img_size, device=ModelArgs.device)\n",
        "\n",
        "\n",
        "        self.main = nn.Sequential(\n",
        "            nn.Conv2d(no_of_channels + 1, number_of_feature_maps * 2 , kernel_size=kernel_size, stride=stride, padding=padding, bias=False),\n",
        "            nn.BatchNorm2d(number_of_feature_maps * 2),\n",
        "            nn.LeakyReLU(negative_slope=lr_slope),\n",
        "\n",
        "                #shape = (...,1024, 32, 32)\n",
        "            nn.Conv2d(number_of_feature_maps * 2, number_of_feature_maps * 4 , kernel_size=kernel_size, stride=stride, padding=padding, bias=False),\n",
        "            nn.BatchNorm2d(number_of_feature_maps * 4),\n",
        "            nn.LeakyReLU(negative_slope=lr_slope),\n",
        "\n",
        "                #shape = (..., 512, 16, 16)\n",
        "            nn.Conv2d(number_of_feature_maps * 4, number_of_feature_maps * 8 , kernel_size=kernel_size, stride=stride, padding=padding, bias=False),\n",
        "            nn.BatchNorm2d(number_of_feature_maps * 8),\n",
        "            nn.LeakyReLU(negative_slope=lr_slope),\n",
        "\n",
        "                #shape = (..., 256, 8, 8)\n",
        "            nn.Conv2d(number_of_feature_maps * 8, number_of_feature_maps * 16 , kernel_size=kernel_size, stride=stride, padding=padding, bias=False),\n",
        "            nn.BatchNorm2d(number_of_feature_maps * 16),\n",
        "            nn.LeakyReLU(negative_slope=lr_slope),\n",
        "            #  shape = (..., 128, 4, 4)\n",
        "\n",
        "            nn.Conv2d(number_of_feature_maps * 16, 1 , kernel_size=kernel_size, stride=4, padding=padding, bias=False),\n",
        "\n",
        "         )\n",
        "\n",
        "    def forward(self, x, y):\n",
        "        \n",
        "        y = self.embedding(y)\n",
        "        B,E = y.shape\n",
        "\n",
        "        combined = torch.concat([x, y.unsqueeze(2).unsqueeze(3).view(x.shape[0], ModelArgs.no_of_channels, ModelArgs.img_size, ModelArgs.img_size)], dim=1)\n",
        "\n",
        "        x = self.main(combined)\n",
        "\n",
        "        return x"
      ]
    },
    {
      "cell_type": "code",
      "execution_count": 52,
      "metadata": {
        "colab": {
          "base_uri": "https://localhost:8080/"
        },
        "id": "ZUQEbynaFN-U",
        "outputId": "9adcde31-f2e4-41b5-aa50-4bbbab863515"
      },
      "outputs": [
        {
          "name": "stdout",
          "output_type": "stream",
          "text": [
            "Critic(\n",
            "  (embedding): Embedding(10, 4096)\n",
            "  (main): Sequential(\n",
            "    (0): Conv2d(2, 128, kernel_size=(4, 4), stride=(2, 2), padding=(1, 1), bias=False)\n",
            "    (1): BatchNorm2d(128, eps=1e-05, momentum=0.1, affine=True, track_running_stats=True)\n",
            "    (2): LeakyReLU(negative_slope=0.2)\n",
            "    (3): Conv2d(128, 256, kernel_size=(4, 4), stride=(2, 2), padding=(1, 1), bias=False)\n",
            "    (4): BatchNorm2d(256, eps=1e-05, momentum=0.1, affine=True, track_running_stats=True)\n",
            "    (5): LeakyReLU(negative_slope=0.2)\n",
            "    (6): Conv2d(256, 512, kernel_size=(4, 4), stride=(2, 2), padding=(1, 1), bias=False)\n",
            "    (7): BatchNorm2d(512, eps=1e-05, momentum=0.1, affine=True, track_running_stats=True)\n",
            "    (8): LeakyReLU(negative_slope=0.2)\n",
            "    (9): Conv2d(512, 1024, kernel_size=(4, 4), stride=(2, 2), padding=(1, 1), bias=False)\n",
            "    (10): BatchNorm2d(1024, eps=1e-05, momentum=0.1, affine=True, track_running_stats=True)\n",
            "    (11): LeakyReLU(negative_slope=0.2)\n",
            "    (12): Conv2d(1024, 1, kernel_size=(4, 4), stride=(4, 4), padding=(1, 1), bias=False)\n",
            "  )\n",
            ")\n"
          ]
        }
      ],
      "source": [
        "#Intializing the Discriminator instance\n",
        "critic = Critic().to(ModelArgs.device)\n",
        "#Apply the wieght intilization function layer by layer\n",
        "critic = critic.apply(weights_init)\n",
        "#Printing the structure\n",
        "print(critic)"
      ]
    },
    {
      "cell_type": "code",
      "execution_count": 54,
      "metadata": {
        "colab": {
          "base_uri": "https://localhost:8080/"
        },
        "id": "9nswZOUxFN-V",
        "outputId": "d6362f39-7a1d-4a23-8d8a-ae8d5c264672"
      },
      "outputs": [
        {
          "data": {
            "text/plain": [
              "========================================================================================================================\n",
              "Layer (type (var_name))                  Input Shape          Output Shape         Param #              Trainable\n",
              "========================================================================================================================\n",
              "Critic (Critic)                          [64, 1, 64, 64]      [64, 1, 1, 1]        --                   True\n",
              "├─Embedding (embedding)                  [64]                 [64, 4096]           40,960               True\n",
              "├─Sequential (main)                      [64, 2, 64, 64]      [64, 1, 1, 1]        --                   True\n",
              "│    └─Conv2d (0)                        [64, 2, 64, 64]      [64, 128, 32, 32]    4,096                True\n",
              "│    └─BatchNorm2d (1)                   [64, 128, 32, 32]    [64, 128, 32, 32]    256                  True\n",
              "│    └─LeakyReLU (2)                     [64, 128, 32, 32]    [64, 128, 32, 32]    --                   --\n",
              "│    └─Conv2d (3)                        [64, 128, 32, 32]    [64, 256, 16, 16]    524,288              True\n",
              "│    └─BatchNorm2d (4)                   [64, 256, 16, 16]    [64, 256, 16, 16]    512                  True\n",
              "│    └─LeakyReLU (5)                     [64, 256, 16, 16]    [64, 256, 16, 16]    --                   --\n",
              "│    └─Conv2d (6)                        [64, 256, 16, 16]    [64, 512, 8, 8]      2,097,152            True\n",
              "│    └─BatchNorm2d (7)                   [64, 512, 8, 8]      [64, 512, 8, 8]      1,024                True\n",
              "│    └─LeakyReLU (8)                     [64, 512, 8, 8]      [64, 512, 8, 8]      --                   --\n",
              "│    └─Conv2d (9)                        [64, 512, 8, 8]      [64, 1024, 4, 4]     8,388,608            True\n",
              "│    └─BatchNorm2d (10)                  [64, 1024, 4, 4]     [64, 1024, 4, 4]     2,048                True\n",
              "│    └─LeakyReLU (11)                    [64, 1024, 4, 4]     [64, 1024, 4, 4]     --                   --\n",
              "│    └─Conv2d (12)                       [64, 1024, 4, 4]     [64, 1, 1, 1]        16,384               True\n",
              "========================================================================================================================\n",
              "Total params: 11,075,328\n",
              "Trainable params: 11,075,328\n",
              "Non-trainable params: 0\n",
              "Total mult-adds (G): 26.04\n",
              "========================================================================================================================\n",
              "Input size (MB): 1.05\n",
              "Forward/backward pass size (MB): 253.76\n",
              "Params size (MB): 44.30\n",
              "Estimated Total Size (MB): 299.11\n",
              "========================================================================================================================"
            ]
          },
          "execution_count": 54,
          "metadata": {},
          "output_type": "execute_result"
        }
      ],
      "source": [
        "from torchinfo import summary\n",
        "\n",
        "images = torch.randn(64, 1, 64, 64)\n",
        "labels = torch.randint(0, 10, (64,), dtype=torch.long)\n",
        "\n",
        "summary(model=critic,\n",
        "        # input_size=(100, 1, 64, 64, 10),\n",
        "        input_data=(images.to(ModelArgs.device), labels.to(ModelArgs.device)),\n",
        "        col_names=[\"input_size\", \"output_size\", \"num_params\", \"trainable\"],\n",
        "        col_width=20,\n",
        "        row_settings=[\"var_names\"])"
      ]
    },
    {
      "cell_type": "code",
      "execution_count": 25,
      "metadata": {
        "id": "ugXl-J8cFN-V"
      },
      "outputs": [],
      "source": [
        "\n",
        "\n",
        "generator = Generator().to(ModelArgs.device).apply(weights_init)\n",
        "critic = Critic().to(ModelArgs.device).apply(weights_init)\n",
        "\n",
        "\n",
        "\n",
        "epochs = 10000 #30\n",
        "\n",
        "\n",
        "optimizerC = torch.optim.RMSprop(params=critic.parameters(), lr=ModelArgs.lr) #For discriminator\n",
        "optimizerG = torch.optim.RMSprop(params=generator.parameters(), lr=ModelArgs.lr) #For generator\n",
        "\n",
        "\n",
        "\n",
        "real_label = 1\n",
        "fake_label = 0\n",
        "\n",
        "\n",
        "loss_g = []\n",
        "loss_d = []\n",
        "img_list = []\n",
        "    \n",
        "\n",
        "# # Fixed noise for generating the images\n",
        "fixed_noise = torch.randn((ModelArgs.batch_size, ModelArgs.latent_vector_size, 1, 1), dtype=torch.float32, device=ModelArgs.device)"
      ]
    },
    {
      "cell_type": "code",
      "execution_count": 23,
      "metadata": {
        "id": "fJps83qfFN-V"
      },
      "outputs": [],
      "source": [
        "import shutil\n",
        "save_images = Path('output_images/MNIST')\n"
      ]
    },
    {
      "cell_type": "code",
      "execution_count": 26,
      "metadata": {
        "colab": {
          "base_uri": "https://localhost:8080/",
          "height": 332
        },
        "id": "05j9aKXJFN-V",
        "outputId": "65200ebf-480f-4d01-d8f2-c98ee184cec1"
      },
      "outputs": [
        {
          "name": "stderr",
          "output_type": "stream",
          "text": [
            "  0%|          | 0/10000 [00:00<?, ?it/s]"
          ]
        },
        {
          "name": "stderr",
          "output_type": "stream",
          "text": [
            "  0%|          | 1/10000 [00:00<2:27:37,  1.13it/s]"
          ]
        },
        {
          "name": "stdout",
          "output_type": "stream",
          "text": [
            "Epoch:  0 Generator loss:  67.1589584350586 Discriminator loss:  -110.96104431152344\n",
            "saving the output\n"
          ]
        },
        {
          "name": "stderr",
          "output_type": "stream",
          "text": [
            "  1%|          | 101/10000 [00:52<1:19:51,  2.07it/s]"
          ]
        },
        {
          "name": "stdout",
          "output_type": "stream",
          "text": [
            "Epoch:  100 Generator loss:  204.52890014648438 Discriminator loss:  -457.029296875\n",
            "saving the output\n"
          ]
        },
        {
          "name": "stderr",
          "output_type": "stream",
          "text": [
            "  2%|▏         | 201/10000 [01:47<1:37:34,  1.67it/s]"
          ]
        },
        {
          "name": "stdout",
          "output_type": "stream",
          "text": [
            "Epoch:  200 Generator loss:  416.69805908203125 Discriminator loss:  -739.1362915039062\n",
            "saving the output\n"
          ]
        },
        {
          "name": "stderr",
          "output_type": "stream",
          "text": [
            "  3%|▎         | 301/10000 [02:39<1:36:46,  1.67it/s]"
          ]
        },
        {
          "name": "stdout",
          "output_type": "stream",
          "text": [
            "Epoch:  300 Generator loss:  597.2041015625 Discriminator loss:  -1078.3162841796875\n",
            "saving the output\n"
          ]
        },
        {
          "name": "stderr",
          "output_type": "stream",
          "text": [
            "  4%|▍         | 401/10000 [03:31<1:24:25,  1.90it/s]"
          ]
        },
        {
          "name": "stdout",
          "output_type": "stream",
          "text": [
            "Epoch:  400 Generator loss:  728.41796875 Discriminator loss:  -1369.512451171875\n",
            "saving the output\n"
          ]
        },
        {
          "name": "stderr",
          "output_type": "stream",
          "text": [
            "  5%|▌         | 501/10000 [04:23<1:29:32,  1.77it/s]"
          ]
        },
        {
          "name": "stdout",
          "output_type": "stream",
          "text": [
            "Epoch:  500 Generator loss:  1078.882568359375 Discriminator loss:  -2073.3583984375\n",
            "saving the output\n"
          ]
        },
        {
          "name": "stderr",
          "output_type": "stream",
          "text": [
            "  6%|▌         | 601/10000 [05:15<1:28:26,  1.77it/s]"
          ]
        },
        {
          "name": "stdout",
          "output_type": "stream",
          "text": [
            "Epoch:  600 Generator loss:  1270.7742919921875 Discriminator loss:  -2061.97021484375\n",
            "saving the output\n"
          ]
        },
        {
          "name": "stderr",
          "output_type": "stream",
          "text": [
            "  7%|▋         | 701/10000 [06:06<1:17:21,  2.00it/s]"
          ]
        },
        {
          "name": "stdout",
          "output_type": "stream",
          "text": [
            "Epoch:  700 Generator loss:  1588.5242919921875 Discriminator loss:  -3156.283203125\n",
            "saving the output\n"
          ]
        },
        {
          "name": "stderr",
          "output_type": "stream",
          "text": [
            "  8%|▊         | 801/10000 [06:58<1:28:44,  1.73it/s]"
          ]
        },
        {
          "name": "stdout",
          "output_type": "stream",
          "text": [
            "Epoch:  800 Generator loss:  1786.45947265625 Discriminator loss:  -3382.288330078125\n",
            "saving the output\n"
          ]
        },
        {
          "name": "stderr",
          "output_type": "stream",
          "text": [
            "  9%|▉         | 901/10000 [07:49<1:24:40,  1.79it/s]"
          ]
        },
        {
          "name": "stdout",
          "output_type": "stream",
          "text": [
            "Epoch:  900 Generator loss:  2138.578125 Discriminator loss:  -3863.49609375\n",
            "saving the output\n"
          ]
        },
        {
          "name": "stderr",
          "output_type": "stream",
          "text": [
            " 10%|█         | 1001/10000 [08:42<1:30:12,  1.66it/s]"
          ]
        },
        {
          "name": "stdout",
          "output_type": "stream",
          "text": [
            "Epoch:  1000 Generator loss:  2602.70458984375 Discriminator loss:  -4997.04052734375\n",
            "saving the output\n"
          ]
        },
        {
          "name": "stderr",
          "output_type": "stream",
          "text": [
            " 11%|█         | 1101/10000 [09:33<1:28:45,  1.67it/s]"
          ]
        },
        {
          "name": "stdout",
          "output_type": "stream",
          "text": [
            "Epoch:  1100 Generator loss:  1598.454345703125 Discriminator loss:  -5043.9384765625\n",
            "saving the output\n"
          ]
        },
        {
          "name": "stderr",
          "output_type": "stream",
          "text": [
            " 12%|█▏        | 1201/10000 [10:24<1:24:14,  1.74it/s]"
          ]
        },
        {
          "name": "stdout",
          "output_type": "stream",
          "text": [
            "Epoch:  1200 Generator loss:  2841.954833984375 Discriminator loss:  -6090.7978515625\n",
            "saving the output\n"
          ]
        },
        {
          "name": "stderr",
          "output_type": "stream",
          "text": [
            " 13%|█▎        | 1301/10000 [11:16<1:25:43,  1.69it/s]"
          ]
        },
        {
          "name": "stdout",
          "output_type": "stream",
          "text": [
            "Epoch:  1300 Generator loss:  3862.17724609375 Discriminator loss:  -7859.525390625\n",
            "saving the output\n"
          ]
        },
        {
          "name": "stderr",
          "output_type": "stream",
          "text": [
            " 14%|█▍        | 1401/10000 [12:07<1:22:03,  1.75it/s]"
          ]
        },
        {
          "name": "stdout",
          "output_type": "stream",
          "text": [
            "Epoch:  1400 Generator loss:  4215.3173828125 Discriminator loss:  -8505.833984375\n",
            "saving the output\n"
          ]
        },
        {
          "name": "stderr",
          "output_type": "stream",
          "text": [
            " 15%|█▌        | 1501/10000 [12:59<1:21:41,  1.73it/s]"
          ]
        },
        {
          "name": "stdout",
          "output_type": "stream",
          "text": [
            "Epoch:  1500 Generator loss:  4685.98388671875 Discriminator loss:  -9552.9931640625\n",
            "saving the output\n"
          ]
        },
        {
          "name": "stderr",
          "output_type": "stream",
          "text": [
            " 16%|█▌        | 1601/10000 [13:51<1:16:10,  1.84it/s]"
          ]
        },
        {
          "name": "stdout",
          "output_type": "stream",
          "text": [
            "Epoch:  1600 Generator loss:  5138.703125 Discriminator loss:  -10479.14453125\n",
            "saving the output\n"
          ]
        },
        {
          "name": "stderr",
          "output_type": "stream",
          "text": [
            " 17%|█▋        | 1701/10000 [14:42<1:18:19,  1.77it/s]"
          ]
        },
        {
          "name": "stdout",
          "output_type": "stream",
          "text": [
            "Epoch:  1700 Generator loss:  5558.93310546875 Discriminator loss:  -11350.0859375\n",
            "saving the output\n"
          ]
        },
        {
          "name": "stderr",
          "output_type": "stream",
          "text": [
            " 18%|█▊        | 1801/10000 [15:35<1:19:09,  1.73it/s]"
          ]
        },
        {
          "name": "stdout",
          "output_type": "stream",
          "text": [
            "Epoch:  1800 Generator loss:  6047.86474609375 Discriminator loss:  -12342.248046875\n",
            "saving the output\n"
          ]
        },
        {
          "name": "stderr",
          "output_type": "stream",
          "text": [
            " 19%|█▉        | 1901/10000 [16:29<1:15:00,  1.80it/s]"
          ]
        },
        {
          "name": "stdout",
          "output_type": "stream",
          "text": [
            "Epoch:  1900 Generator loss:  -5707.587890625 Discriminator loss:  -6661.7919921875\n",
            "saving the output\n"
          ]
        },
        {
          "name": "stderr",
          "output_type": "stream",
          "text": [
            " 20%|██        | 2001/10000 [17:19<1:12:23,  1.84it/s]"
          ]
        },
        {
          "name": "stdout",
          "output_type": "stream",
          "text": [
            "Epoch:  2000 Generator loss:  7000.421875 Discriminator loss:  -14293.2548828125\n",
            "saving the output\n"
          ]
        },
        {
          "name": "stderr",
          "output_type": "stream",
          "text": [
            " 21%|██        | 2101/10000 [18:09<1:06:44,  1.97it/s]"
          ]
        },
        {
          "name": "stdout",
          "output_type": "stream",
          "text": [
            "Epoch:  2100 Generator loss:  7503.51953125 Discriminator loss:  -15322.8974609375\n",
            "saving the output\n"
          ]
        },
        {
          "name": "stderr",
          "output_type": "stream",
          "text": [
            " 22%|██▏       | 2201/10000 [19:01<1:12:09,  1.80it/s]"
          ]
        },
        {
          "name": "stdout",
          "output_type": "stream",
          "text": [
            "Epoch:  2200 Generator loss:  8010.5458984375 Discriminator loss:  -16369.478515625\n",
            "saving the output\n"
          ]
        },
        {
          "name": "stderr",
          "output_type": "stream",
          "text": [
            " 23%|██▎       | 2301/10000 [19:52<1:13:43,  1.74it/s]"
          ]
        },
        {
          "name": "stdout",
          "output_type": "stream",
          "text": [
            "Epoch:  2300 Generator loss:  8537.9541015625 Discriminator loss:  -17443.369140625\n",
            "saving the output\n"
          ]
        },
        {
          "name": "stderr",
          "output_type": "stream",
          "text": [
            " 24%|██▍       | 2401/10000 [20:44<39:13,  3.23it/s]  "
          ]
        },
        {
          "name": "stdout",
          "output_type": "stream",
          "text": [
            "Epoch:  2400 Generator loss:  9039.408203125 Discriminator loss:  -18484.79296875\n",
            "saving the output\n"
          ]
        },
        {
          "name": "stderr",
          "output_type": "stream",
          "text": [
            " 25%|██▌       | 2501/10000 [21:35<1:11:27,  1.75it/s]"
          ]
        },
        {
          "name": "stdout",
          "output_type": "stream",
          "text": [
            "Epoch:  2500 Generator loss:  9629.451171875 Discriminator loss:  -19679.86328125\n",
            "saving the output\n"
          ]
        },
        {
          "name": "stderr",
          "output_type": "stream",
          "text": [
            " 26%|██▌       | 2601/10000 [22:26<1:13:11,  1.68it/s]"
          ]
        },
        {
          "name": "stdout",
          "output_type": "stream",
          "text": [
            "Epoch:  2600 Generator loss:  10189.755859375 Discriminator loss:  -20827.61328125\n",
            "saving the output\n"
          ]
        },
        {
          "name": "stderr",
          "output_type": "stream",
          "text": [
            " 27%|██▋       | 2701/10000 [23:19<1:12:02,  1.69it/s]"
          ]
        },
        {
          "name": "stdout",
          "output_type": "stream",
          "text": [
            "Epoch:  2700 Generator loss:  10778.8115234375 Discriminator loss:  -22033.80078125\n",
            "saving the output\n"
          ]
        },
        {
          "name": "stderr",
          "output_type": "stream",
          "text": [
            " 28%|██▊       | 2801/10000 [24:10<1:12:41,  1.65it/s]"
          ]
        },
        {
          "name": "stdout",
          "output_type": "stream",
          "text": [
            "Epoch:  2800 Generator loss:  11367.0224609375 Discriminator loss:  -23238.369140625\n",
            "saving the output\n"
          ]
        },
        {
          "name": "stderr",
          "output_type": "stream",
          "text": [
            " 29%|██▉       | 2901/10000 [25:02<1:07:19,  1.76it/s]"
          ]
        },
        {
          "name": "stdout",
          "output_type": "stream",
          "text": [
            "Epoch:  2900 Generator loss:  11982.8837890625 Discriminator loss:  -24500.53125\n",
            "saving the output\n"
          ]
        },
        {
          "name": "stderr",
          "output_type": "stream",
          "text": [
            " 30%|███       | 3001/10000 [25:52<1:06:36,  1.75it/s]"
          ]
        },
        {
          "name": "stdout",
          "output_type": "stream",
          "text": [
            "Epoch:  3000 Generator loss:  12598.3681640625 Discriminator loss:  -25767.787109375\n",
            "saving the output\n"
          ]
        },
        {
          "name": "stderr",
          "output_type": "stream",
          "text": [
            " 31%|███       | 3101/10000 [26:43<1:04:37,  1.78it/s]"
          ]
        },
        {
          "name": "stdout",
          "output_type": "stream",
          "text": [
            "Epoch:  3100 Generator loss:  13218.451171875 Discriminator loss:  -27042.89453125\n",
            "saving the output\n"
          ]
        },
        {
          "name": "stderr",
          "output_type": "stream",
          "text": [
            " 32%|███▏      | 3201/10000 [27:32<37:31,  3.02it/s]  "
          ]
        },
        {
          "name": "stdout",
          "output_type": "stream",
          "text": [
            "Epoch:  3200 Generator loss:  13882.2451171875 Discriminator loss:  -28398.568359375\n",
            "saving the output\n"
          ]
        },
        {
          "name": "stderr",
          "output_type": "stream",
          "text": [
            " 33%|███▎      | 3301/10000 [28:25<1:03:18,  1.76it/s]"
          ]
        },
        {
          "name": "stdout",
          "output_type": "stream",
          "text": [
            "Epoch:  3300 Generator loss:  14552.1630859375 Discriminator loss:  -29772.41796875\n",
            "saving the output\n"
          ]
        },
        {
          "name": "stderr",
          "output_type": "stream",
          "text": [
            " 34%|███▍      | 3401/10000 [29:17<1:04:10,  1.71it/s]"
          ]
        },
        {
          "name": "stdout",
          "output_type": "stream",
          "text": [
            "Epoch:  3400 Generator loss:  15227.623046875 Discriminator loss:  -31148.751953125\n",
            "saving the output\n"
          ]
        },
        {
          "name": "stderr",
          "output_type": "stream",
          "text": [
            " 35%|███▌      | 3500/10000 [30:09<55:52,  1.94it/s]  "
          ]
        },
        {
          "name": "stdout",
          "output_type": "stream",
          "text": [
            "Epoch:  3500 Generator loss:  15902.123046875 Discriminator loss:  -32545.44921875\n",
            "saving the output\n"
          ]
        },
        {
          "name": "stderr",
          "output_type": "stream",
          "text": [
            " 36%|███▌      | 3601/10000 [30:59<1:00:19,  1.77it/s]"
          ]
        },
        {
          "name": "stdout",
          "output_type": "stream",
          "text": [
            "Epoch:  3600 Generator loss:  16620.8125 Discriminator loss:  -34015.43359375\n",
            "saving the output\n"
          ]
        },
        {
          "name": "stderr",
          "output_type": "stream",
          "text": [
            " 37%|███▋      | 3701/10000 [31:50<57:50,  1.82it/s]  "
          ]
        },
        {
          "name": "stdout",
          "output_type": "stream",
          "text": [
            "Epoch:  3700 Generator loss:  17287.13671875 Discriminator loss:  -35379.5703125\n",
            "saving the output\n"
          ]
        },
        {
          "name": "stderr",
          "output_type": "stream",
          "text": [
            " 38%|███▊      | 3801/10000 [32:41<57:36,  1.79it/s]"
          ]
        },
        {
          "name": "stdout",
          "output_type": "stream",
          "text": [
            "Epoch:  3800 Generator loss:  18048.95703125 Discriminator loss:  -36952.953125\n",
            "saving the output\n"
          ]
        },
        {
          "name": "stderr",
          "output_type": "stream",
          "text": [
            " 39%|███▉      | 3901/10000 [33:31<57:07,  1.78it/s]"
          ]
        },
        {
          "name": "stdout",
          "output_type": "stream",
          "text": [
            "Epoch:  3900 Generator loss:  18813.65234375 Discriminator loss:  -38513.5078125\n",
            "saving the output\n"
          ]
        },
        {
          "name": "stderr",
          "output_type": "stream",
          "text": [
            " 40%|████      | 4001/10000 [34:22<55:29,  1.80it/s]"
          ]
        },
        {
          "name": "stdout",
          "output_type": "stream",
          "text": [
            "Epoch:  4000 Generator loss:  19574.291015625 Discriminator loss:  -40075.62890625\n",
            "saving the output\n"
          ]
        },
        {
          "name": "stderr",
          "output_type": "stream",
          "text": [
            " 41%|████      | 4101/10000 [35:13<53:18,  1.84it/s]"
          ]
        },
        {
          "name": "stdout",
          "output_type": "stream",
          "text": [
            "Epoch:  4100 Generator loss:  20356.451171875 Discriminator loss:  -41688.96875\n",
            "saving the output\n"
          ]
        },
        {
          "name": "stderr",
          "output_type": "stream",
          "text": [
            " 42%|████▏     | 4201/10000 [36:04<55:29,  1.74it/s]"
          ]
        },
        {
          "name": "stdout",
          "output_type": "stream",
          "text": [
            "Epoch:  4200 Generator loss:  21139.09375 Discriminator loss:  -43290.4765625\n",
            "saving the output\n"
          ]
        },
        {
          "name": "stderr",
          "output_type": "stream",
          "text": [
            " 43%|████▎     | 4300/10000 [36:54<49:06,  1.93it/s]"
          ]
        },
        {
          "name": "stdout",
          "output_type": "stream",
          "text": [
            "Epoch:  4300 Generator loss:  21491.25 Discriminator loss:  -44003.625\n",
            "saving the output\n"
          ]
        },
        {
          "name": "stderr",
          "output_type": "stream",
          "text": [
            " 44%|████▍     | 4401/10000 [37:45<52:13,  1.79it/s]"
          ]
        },
        {
          "name": "stdout",
          "output_type": "stream",
          "text": [
            "Epoch:  4400 Generator loss:  22757.015625 Discriminator loss:  -46612.18359375\n",
            "saving the output\n"
          ]
        },
        {
          "name": "stderr",
          "output_type": "stream",
          "text": [
            " 45%|████▌     | 4501/10000 [38:35<52:16,  1.75it/s]"
          ]
        },
        {
          "name": "stdout",
          "output_type": "stream",
          "text": [
            "Epoch:  4500 Generator loss:  23599.984375 Discriminator loss:  -48339.3046875\n",
            "saving the output\n"
          ]
        },
        {
          "name": "stderr",
          "output_type": "stream",
          "text": [
            " 46%|████▌     | 4601/10000 [39:27<50:56,  1.77it/s]"
          ]
        },
        {
          "name": "stdout",
          "output_type": "stream",
          "text": [
            "Epoch:  4600 Generator loss:  24441.6328125 Discriminator loss:  -50070.6484375\n",
            "saving the output\n"
          ]
        },
        {
          "name": "stderr",
          "output_type": "stream",
          "text": [
            " 47%|████▋     | 4701/10000 [40:17<50:32,  1.75it/s]"
          ]
        },
        {
          "name": "stdout",
          "output_type": "stream",
          "text": [
            "Epoch:  4700 Generator loss:  25303.22265625 Discriminator loss:  -51840.6953125\n",
            "saving the output\n"
          ]
        },
        {
          "name": "stderr",
          "output_type": "stream",
          "text": [
            " 48%|████▊     | 4801/10000 [41:07<42:54,  2.02it/s]"
          ]
        },
        {
          "name": "stdout",
          "output_type": "stream",
          "text": [
            "Epoch:  4800 Generator loss:  26186.359375 Discriminator loss:  -53655.609375\n",
            "saving the output\n"
          ]
        },
        {
          "name": "stderr",
          "output_type": "stream",
          "text": [
            " 49%|████▉     | 4901/10000 [41:59<48:04,  1.77it/s]"
          ]
        },
        {
          "name": "stdout",
          "output_type": "stream",
          "text": [
            "Epoch:  4900 Generator loss:  27079.03515625 Discriminator loss:  -55488.6015625\n",
            "saving the output\n"
          ]
        },
        {
          "name": "stderr",
          "output_type": "stream",
          "text": [
            " 50%|█████     | 5001/10000 [42:49<46:06,  1.81it/s]"
          ]
        },
        {
          "name": "stdout",
          "output_type": "stream",
          "text": [
            "Epoch:  5000 Generator loss:  27975.033203125 Discriminator loss:  -57323.02734375\n",
            "saving the output\n"
          ]
        },
        {
          "name": "stderr",
          "output_type": "stream",
          "text": [
            " 51%|█████     | 5101/10000 [43:40<45:37,  1.79it/s]"
          ]
        },
        {
          "name": "stdout",
          "output_type": "stream",
          "text": [
            "Epoch:  5100 Generator loss:  28824.767578125 Discriminator loss:  -59096.9765625\n",
            "saving the output\n"
          ]
        },
        {
          "name": "stderr",
          "output_type": "stream",
          "text": [
            " 52%|█████▏    | 5201/10000 [44:30<37:41,  2.12it/s]"
          ]
        },
        {
          "name": "stdout",
          "output_type": "stream",
          "text": [
            "Epoch:  5200 Generator loss:  29834.671875 Discriminator loss:  -61145.171875\n",
            "saving the output\n"
          ]
        },
        {
          "name": "stderr",
          "output_type": "stream",
          "text": [
            " 53%|█████▎    | 5301/10000 [45:22<44:16,  1.77it/s]"
          ]
        },
        {
          "name": "stdout",
          "output_type": "stream",
          "text": [
            "Epoch:  5300 Generator loss:  30639.1875 Discriminator loss:  -62815.71875\n",
            "saving the output\n"
          ]
        },
        {
          "name": "stderr",
          "output_type": "stream",
          "text": [
            " 54%|█████▍    | 5401/10000 [46:13<41:44,  1.84it/s]"
          ]
        },
        {
          "name": "stdout",
          "output_type": "stream",
          "text": [
            "Epoch:  5400 Generator loss:  31702.916015625 Discriminator loss:  -64985.90625\n",
            "saving the output\n"
          ]
        },
        {
          "name": "stderr",
          "output_type": "stream",
          "text": [
            " 55%|█████▌    | 5501/10000 [47:01<43:26,  1.73it/s]"
          ]
        },
        {
          "name": "stdout",
          "output_type": "stream",
          "text": [
            "Epoch:  5500 Generator loss:  32681.916015625 Discriminator loss:  -66997.0234375\n",
            "saving the output\n"
          ]
        },
        {
          "name": "stderr",
          "output_type": "stream",
          "text": [
            " 56%|█████▌    | 5601/10000 [47:53<40:01,  1.83it/s]"
          ]
        },
        {
          "name": "stdout",
          "output_type": "stream",
          "text": [
            "Epoch:  5600 Generator loss:  33151.375 Discriminator loss:  -67748.71875\n",
            "saving the output\n"
          ]
        },
        {
          "name": "stderr",
          "output_type": "stream",
          "text": [
            " 57%|█████▋    | 5701/10000 [48:45<37:10,  1.93it/s]"
          ]
        },
        {
          "name": "stdout",
          "output_type": "stream",
          "text": [
            "Epoch:  5700 Generator loss:  34667.9765625 Discriminator loss:  -71073.8046875\n",
            "saving the output\n"
          ]
        },
        {
          "name": "stderr",
          "output_type": "stream",
          "text": [
            " 58%|█████▊    | 5801/10000 [49:35<38:55,  1.80it/s]"
          ]
        },
        {
          "name": "stdout",
          "output_type": "stream",
          "text": [
            "Epoch:  5800 Generator loss:  35712.328125 Discriminator loss:  -73214.46875\n",
            "saving the output\n"
          ]
        },
        {
          "name": "stderr",
          "output_type": "stream",
          "text": [
            " 59%|█████▉    | 5901/10000 [50:25<36:20,  1.88it/s]"
          ]
        },
        {
          "name": "stdout",
          "output_type": "stream",
          "text": [
            "Epoch:  5900 Generator loss:  36743.8125 Discriminator loss:  -75336.328125\n",
            "saving the output\n"
          ]
        },
        {
          "name": "stderr",
          "output_type": "stream",
          "text": [
            " 60%|██████    | 6001/10000 [51:16<36:46,  1.81it/s]"
          ]
        },
        {
          "name": "stdout",
          "output_type": "stream",
          "text": [
            "Epoch:  6000 Generator loss:  37794.08203125 Discriminator loss:  -77495.5234375\n",
            "saving the output\n"
          ]
        },
        {
          "name": "stderr",
          "output_type": "stream",
          "text": [
            " 61%|██████    | 6101/10000 [52:07<38:13,  1.70it/s]"
          ]
        },
        {
          "name": "stdout",
          "output_type": "stream",
          "text": [
            "Epoch:  6100 Generator loss:  38779.33984375 Discriminator loss:  -79549.8125\n",
            "saving the output\n"
          ]
        },
        {
          "name": "stderr",
          "output_type": "stream",
          "text": [
            " 62%|██████▏   | 6201/10000 [52:58<35:29,  1.78it/s]"
          ]
        },
        {
          "name": "stdout",
          "output_type": "stream",
          "text": [
            "Epoch:  6200 Generator loss:  39905.953125 Discriminator loss:  -81844.0\n",
            "saving the output\n"
          ]
        },
        {
          "name": "stderr",
          "output_type": "stream",
          "text": [
            " 63%|██████▎   | 6301/10000 [53:48<34:07,  1.81it/s]"
          ]
        },
        {
          "name": "stdout",
          "output_type": "stream",
          "text": [
            "Epoch:  6300 Generator loss:  41021.140625 Discriminator loss:  -84130.3515625\n",
            "saving the output\n"
          ]
        },
        {
          "name": "stderr",
          "output_type": "stream",
          "text": [
            " 64%|██████▍   | 6401/10000 [54:38<32:40,  1.84it/s]"
          ]
        },
        {
          "name": "stdout",
          "output_type": "stream",
          "text": [
            "Epoch:  6400 Generator loss:  42101.421875 Discriminator loss:  -86357.2734375\n",
            "saving the output\n"
          ]
        },
        {
          "name": "stderr",
          "output_type": "stream",
          "text": [
            " 65%|██████▌   | 6501/10000 [55:29<32:23,  1.80it/s]"
          ]
        },
        {
          "name": "stdout",
          "output_type": "stream",
          "text": [
            "Epoch:  6500 Generator loss:  43191.95703125 Discriminator loss:  -88595.03125\n",
            "saving the output\n"
          ]
        },
        {
          "name": "stderr",
          "output_type": "stream",
          "text": [
            " 66%|██████▌   | 6601/10000 [56:19<31:17,  1.81it/s]"
          ]
        },
        {
          "name": "stdout",
          "output_type": "stream",
          "text": [
            "Epoch:  6600 Generator loss:  44357.421875 Discriminator loss:  -90983.421875\n",
            "saving the output\n"
          ]
        },
        {
          "name": "stderr",
          "output_type": "stream",
          "text": [
            " 67%|██████▋   | 6701/10000 [57:10<30:31,  1.80it/s]"
          ]
        },
        {
          "name": "stdout",
          "output_type": "stream",
          "text": [
            "Epoch:  6700 Generator loss:  45070.3671875 Discriminator loss:  -92392.5\n",
            "saving the output\n"
          ]
        },
        {
          "name": "stderr",
          "output_type": "stream",
          "text": [
            " 68%|██████▊   | 6801/10000 [58:00<29:25,  1.81it/s]"
          ]
        },
        {
          "name": "stdout",
          "output_type": "stream",
          "text": [
            "Epoch:  6800 Generator loss:  46594.84375 Discriminator loss:  -95627.453125\n",
            "saving the output\n"
          ]
        },
        {
          "name": "stderr",
          "output_type": "stream",
          "text": [
            " 69%|██████▉   | 6901/10000 [58:50<26:35,  1.94it/s]"
          ]
        },
        {
          "name": "stdout",
          "output_type": "stream",
          "text": [
            "Epoch:  6900 Generator loss:  47814.609375 Discriminator loss:  -98094.1953125\n",
            "saving the output\n"
          ]
        },
        {
          "name": "stderr",
          "output_type": "stream",
          "text": [
            " 70%|███████   | 7001/10000 [59:41<28:10,  1.77it/s]"
          ]
        },
        {
          "name": "stdout",
          "output_type": "stream",
          "text": [
            "Epoch:  7000 Generator loss:  48989.390625 Discriminator loss:  -100522.3125\n",
            "saving the output\n"
          ]
        },
        {
          "name": "stderr",
          "output_type": "stream",
          "text": [
            " 71%|███████   | 7101/10000 [1:00:31<26:46,  1.80it/s]"
          ]
        },
        {
          "name": "stdout",
          "output_type": "stream",
          "text": [
            "Epoch:  7100 Generator loss:  49934.7890625 Discriminator loss:  -102638.25\n",
            "saving the output\n"
          ]
        },
        {
          "name": "stderr",
          "output_type": "stream",
          "text": [
            " 72%|███████▏  | 7201/10000 [1:01:22<25:30,  1.83it/s]"
          ]
        },
        {
          "name": "stdout",
          "output_type": "stream",
          "text": [
            "Epoch:  7200 Generator loss:  51398.70703125 Discriminator loss:  -105459.2265625\n",
            "saving the output\n"
          ]
        },
        {
          "name": "stderr",
          "output_type": "stream",
          "text": [
            " 73%|███████▎  | 7301/10000 [1:02:13<24:55,  1.80it/s]"
          ]
        },
        {
          "name": "stdout",
          "output_type": "stream",
          "text": [
            "Epoch:  7300 Generator loss:  52641.48046875 Discriminator loss:  -108016.421875\n",
            "saving the output\n"
          ]
        },
        {
          "name": "stderr",
          "output_type": "stream",
          "text": [
            " 74%|███████▍  | 7401/10000 [1:03:03<22:59,  1.88it/s]"
          ]
        },
        {
          "name": "stdout",
          "output_type": "stream",
          "text": [
            "Epoch:  7400 Generator loss:  53880.4921875 Discriminator loss:  -110566.46875\n",
            "saving the output\n"
          ]
        },
        {
          "name": "stderr",
          "output_type": "stream",
          "text": [
            " 75%|███████▌  | 7501/10000 [1:03:54<23:30,  1.77it/s]"
          ]
        },
        {
          "name": "stdout",
          "output_type": "stream",
          "text": [
            "Epoch:  7500 Generator loss:  55066.84375 Discriminator loss:  -113025.3046875\n",
            "saving the output\n"
          ]
        },
        {
          "name": "stderr",
          "output_type": "stream",
          "text": [
            " 76%|███████▌  | 7601/10000 [1:04:45<23:06,  1.73it/s]"
          ]
        },
        {
          "name": "stdout",
          "output_type": "stream",
          "text": [
            "Epoch:  7600 Generator loss:  56400.3046875 Discriminator loss:  -115742.421875\n",
            "saving the output\n"
          ]
        },
        {
          "name": "stderr",
          "output_type": "stream",
          "text": [
            " 77%|███████▋  | 7701/10000 [1:05:36<11:54,  3.22it/s]"
          ]
        },
        {
          "name": "stdout",
          "output_type": "stream",
          "text": [
            "Epoch:  7700 Generator loss:  57673.69921875 Discriminator loss:  -118361.40625\n",
            "saving the output\n"
          ]
        },
        {
          "name": "stderr",
          "output_type": "stream",
          "text": [
            " 78%|███████▊  | 7801/10000 [1:06:27<20:39,  1.77it/s]"
          ]
        },
        {
          "name": "stdout",
          "output_type": "stream",
          "text": [
            "Epoch:  7800 Generator loss:  58991.17578125 Discriminator loss:  -121071.234375\n",
            "saving the output\n"
          ]
        },
        {
          "name": "stderr",
          "output_type": "stream",
          "text": [
            " 79%|███████▉  | 7901/10000 [1:07:17<19:06,  1.83it/s]"
          ]
        },
        {
          "name": "stdout",
          "output_type": "stream",
          "text": [
            "Epoch:  7900 Generator loss:  60305.03515625 Discriminator loss:  -123776.484375\n",
            "saving the output\n"
          ]
        },
        {
          "name": "stderr",
          "output_type": "stream",
          "text": [
            " 80%|████████  | 8001/10000 [1:08:09<19:05,  1.74it/s]"
          ]
        },
        {
          "name": "stdout",
          "output_type": "stream",
          "text": [
            "Epoch:  8000 Generator loss:  61640.29296875 Discriminator loss:  -126518.59375\n",
            "saving the output\n"
          ]
        },
        {
          "name": "stderr",
          "output_type": "stream",
          "text": [
            " 81%|████████  | 8101/10000 [1:08:59<18:05,  1.75it/s]"
          ]
        },
        {
          "name": "stdout",
          "output_type": "stream",
          "text": [
            "Epoch:  8100 Generator loss:  62981.32421875 Discriminator loss:  -129279.609375\n",
            "saving the output\n"
          ]
        },
        {
          "name": "stderr",
          "output_type": "stream",
          "text": [
            " 82%|████████▏ | 8201/10000 [1:09:50<16:29,  1.82it/s]"
          ]
        },
        {
          "name": "stdout",
          "output_type": "stream",
          "text": [
            "Epoch:  8200 Generator loss:  64325.0546875 Discriminator loss:  -132045.734375\n",
            "saving the output\n"
          ]
        },
        {
          "name": "stderr",
          "output_type": "stream",
          "text": [
            " 83%|████████▎ | 8301/10000 [1:10:41<16:20,  1.73it/s]"
          ]
        },
        {
          "name": "stdout",
          "output_type": "stream",
          "text": [
            "Epoch:  8300 Generator loss:  65245.69921875 Discriminator loss:  -132941.328125\n",
            "saving the output\n"
          ]
        },
        {
          "name": "stderr",
          "output_type": "stream",
          "text": [
            " 84%|████████▍ | 8401/10000 [1:11:32<14:56,  1.78it/s]"
          ]
        },
        {
          "name": "stdout",
          "output_type": "stream",
          "text": [
            "Epoch:  8400 Generator loss:  67064.375 Discriminator loss:  -137686.046875\n",
            "saving the output\n"
          ]
        },
        {
          "name": "stderr",
          "output_type": "stream",
          "text": [
            " 85%|████████▌ | 8501/10000 [1:12:22<14:07,  1.77it/s]"
          ]
        },
        {
          "name": "stdout",
          "output_type": "stream",
          "text": [
            "Epoch:  8500 Generator loss:  68362.515625 Discriminator loss:  -140413.75\n",
            "saving the output\n"
          ]
        },
        {
          "name": "stderr",
          "output_type": "stream",
          "text": [
            " 86%|████████▌ | 8601/10000 [1:13:12<08:44,  2.67it/s]"
          ]
        },
        {
          "name": "stdout",
          "output_type": "stream",
          "text": [
            "Epoch:  8600 Generator loss:  69765.2578125 Discriminator loss:  -143307.28125\n",
            "saving the output\n"
          ]
        },
        {
          "name": "stderr",
          "output_type": "stream",
          "text": [
            " 87%|████████▋ | 8701/10000 [1:14:03<12:28,  1.73it/s]"
          ]
        },
        {
          "name": "stdout",
          "output_type": "stream",
          "text": [
            "Epoch:  8700 Generator loss:  71225.046875 Discriminator loss:  -146252.875\n",
            "saving the output\n"
          ]
        },
        {
          "name": "stderr",
          "output_type": "stream",
          "text": [
            " 88%|████████▊ | 8801/10000 [1:14:54<11:40,  1.71it/s]"
          ]
        },
        {
          "name": "stdout",
          "output_type": "stream",
          "text": [
            "Epoch:  8800 Generator loss:  72758.875 Discriminator loss:  -149379.125\n",
            "saving the output\n"
          ]
        },
        {
          "name": "stderr",
          "output_type": "stream",
          "text": [
            " 89%|████████▉ | 8901/10000 [1:15:44<10:12,  1.80it/s]"
          ]
        },
        {
          "name": "stdout",
          "output_type": "stream",
          "text": [
            "Epoch:  8900 Generator loss:  74144.9375 Discriminator loss:  -152291.921875\n",
            "saving the output\n"
          ]
        },
        {
          "name": "stderr",
          "output_type": "stream",
          "text": [
            " 90%|█████████ | 9001/10000 [1:16:34<10:05,  1.65it/s]"
          ]
        },
        {
          "name": "stdout",
          "output_type": "stream",
          "text": [
            "Epoch:  9000 Generator loss:  75522.3125 Discriminator loss:  -155115.84375\n",
            "saving the output\n"
          ]
        },
        {
          "name": "stderr",
          "output_type": "stream",
          "text": [
            " 91%|█████████ | 9101/10000 [1:17:25<07:53,  1.90it/s]"
          ]
        },
        {
          "name": "stdout",
          "output_type": "stream",
          "text": [
            "Epoch:  9100 Generator loss:  76614.421875 Discriminator loss:  -157381.5\n",
            "saving the output\n"
          ]
        },
        {
          "name": "stderr",
          "output_type": "stream",
          "text": [
            " 92%|█████████▏| 9201/10000 [1:18:16<07:36,  1.75it/s]"
          ]
        },
        {
          "name": "stdout",
          "output_type": "stream",
          "text": [
            "Epoch:  9200 Generator loss:  78577.4609375 Discriminator loss:  -161387.09375\n",
            "saving the output\n"
          ]
        },
        {
          "name": "stderr",
          "output_type": "stream",
          "text": [
            " 93%|█████████▎| 9301/10000 [1:19:07<06:33,  1.78it/s]"
          ]
        },
        {
          "name": "stdout",
          "output_type": "stream",
          "text": [
            "Epoch:  9300 Generator loss:  80139.3359375 Discriminator loss:  -164577.3125\n",
            "saving the output\n"
          ]
        },
        {
          "name": "stderr",
          "output_type": "stream",
          "text": [
            " 94%|█████████▍| 9401/10000 [1:19:58<05:32,  1.80it/s]"
          ]
        },
        {
          "name": "stdout",
          "output_type": "stream",
          "text": [
            "Epoch:  9400 Generator loss:  81653.078125 Discriminator loss:  -167679.5625\n",
            "saving the output\n"
          ]
        },
        {
          "name": "stderr",
          "output_type": "stream",
          "text": [
            " 95%|█████████▌| 9501/10000 [1:20:48<04:53,  1.70it/s]"
          ]
        },
        {
          "name": "stdout",
          "output_type": "stream",
          "text": [
            "Epoch:  9500 Generator loss:  83221.0546875 Discriminator loss:  -170894.03125\n",
            "saving the output\n"
          ]
        },
        {
          "name": "stderr",
          "output_type": "stream",
          "text": [
            " 96%|█████████▌| 9601/10000 [1:21:38<03:39,  1.82it/s]"
          ]
        },
        {
          "name": "stdout",
          "output_type": "stream",
          "text": [
            "Epoch:  9600 Generator loss:  84771.6640625 Discriminator loss:  -174096.171875\n",
            "saving the output\n"
          ]
        },
        {
          "name": "stderr",
          "output_type": "stream",
          "text": [
            " 97%|█████████▋| 9701/10000 [1:22:30<02:45,  1.80it/s]"
          ]
        },
        {
          "name": "stdout",
          "output_type": "stream",
          "text": [
            "Epoch:  9700 Generator loss:  86342.6328125 Discriminator loss:  -177325.359375\n",
            "saving the output\n"
          ]
        },
        {
          "name": "stderr",
          "output_type": "stream",
          "text": [
            " 98%|█████████▊| 9801/10000 [1:23:19<01:53,  1.76it/s]"
          ]
        },
        {
          "name": "stdout",
          "output_type": "stream",
          "text": [
            "Epoch:  9800 Generator loss:  87919.46875 Discriminator loss:  -180583.71875\n",
            "saving the output\n"
          ]
        },
        {
          "name": "stderr",
          "output_type": "stream",
          "text": [
            " 99%|█████████▉| 9900/10000 [1:24:10<00:51,  1.93it/s]"
          ]
        },
        {
          "name": "stdout",
          "output_type": "stream",
          "text": [
            "Epoch:  9900 Generator loss:  89503.7421875 Discriminator loss:  -183836.8125\n",
            "saving the output\n"
          ]
        },
        {
          "name": "stderr",
          "output_type": "stream",
          "text": [
            "100%|██████████| 10000/10000 [1:25:00<00:00,  1.96it/s]\n"
          ]
        }
      ],
      "source": [
        "#Training loop\n",
        "from tqdm import tqdm\n",
        "\n",
        "\n",
        "generator.train()\n",
        "critic.train()\n",
        "iters = 0\n",
        "\n",
        "writer_fake = SummaryWriter(f\"logs/fake\")\n",
        "writer_real = SummaryWriter(f\"logs/real\")\n",
        "\n",
        "for epoch in tqdm(range(epochs)):\n",
        "    \n",
        "\n",
        "    for _ in range(ModelArgs.nCritic):\n",
        "        \n",
        "        # count = ModelArgs.batch_size\n",
        "        # for X, y in trainloader:\n",
        "        loss_tot = []\n",
        "        loss_real= torch.tensor(0.0, device=ModelArgs.device)\n",
        "        loss_fake= torch.tensor(0.0, device=ModelArgs.device)\n",
        "        data_iter = iter(trainloader)\n",
        "\n",
        "        X, y = next(data_iter)\n",
        "        \n",
        "        X = X.to(ModelArgs.device)\n",
        "        y = y.to(ModelArgs.device)\n",
        "        \n",
        "\n",
        "        #Train the discriminator\n",
        "\n",
        "        ############################\n",
        "        # (1) Update D network: maximize: log(1 - D(G(z)))\n",
        "        ###########################\n",
        "\n",
        "        current_batch_size = X.shape[0]  #Getting the current batch size\n",
        "\n",
        "        critic_real = critic(X,y).view(-1)\n",
        "        \n",
        "        noise = torch.randn((current_batch_size, ModelArgs.latent_vector_size, 1, 1), device=ModelArgs.device)\n",
        "        \n",
        "        \n",
        "        \n",
        "        fake_label = torch.randint(0, ModelArgs.no_of_lables, (current_batch_size, ), device=ModelArgs.device)\n",
        "        \n",
        "        noise_generated_by_generator = generator(noise, fake_label)\n",
        "\n",
        "        critic_fake = critic(noise_generated_by_generator, fake_label).view(-1)\n",
        "        \n",
        "\n",
        "        loss_d = -(torch.mean(critic_real) - torch.mean(critic_fake))\n",
        "        loss_d_output = loss_d\n",
        "\n",
        "        optimizerC.zero_grad()\n",
        "\n",
        "        # 4. Loss backward\n",
        "        loss_d.backward(retain_graph=True)\n",
        "            \n",
        "        optimizerC.step()\n",
        "        # loss_d.append(loss_tot.item())\n",
        "\n",
        "        # Weight Clipping the parameters of the critic between -c to +c\n",
        "        for p in critic.parameters():\n",
        "            p.clamp(-(ModelArgs.c), ModelArgs.c)\n",
        "\n",
        "    ############################\n",
        "    # (2) Update G network: minimize log(D(G(z)))\n",
        "    ###########################\n",
        "\n",
        "\n",
        "    data_iter = iter(trainloader)\n",
        "    X, y = next(data_iter)\n",
        "        \n",
        "    y = y.to(ModelArgs.device)\n",
        "        \n",
        "    \n",
        "    #1. Forward pass\n",
        "\n",
        "    noise = torch.randn((current_batch_size, ModelArgs.latent_vector_size, 1, 1), device=ModelArgs.device)\n",
        "    noise_generated_by_generator = generator(noise, y)\n",
        "    critic_gen = critic(noise_generated_by_generator, y).view(-1)\n",
        "    \n",
        "    loss_g = -(torch.mean(critic_gen))\n",
        "    loss_g_output = loss_g\n",
        "    # loss_G  += temp\n",
        "        \n",
        "        \n",
        "    # 3. Optimizer zero grad\n",
        "    optimizerG.zero_grad()\n",
        "\n",
        "    # 4. Loss backward\n",
        "    loss_g.backward(retain_graph=True)\n",
        "        \n",
        "    optimizerG.step()\n",
        "    \n",
        "    # loss_g.append(loss.item())\n",
        "\n",
        "    if epoch % 100 == 0:\n",
        "        print(\"Epoch: \", epoch, \"Generator loss: \", loss_g_output.item(), \"Discriminator loss: \", loss_d_output.item())\n",
        "\n",
        "\n",
        "    with torch.no_grad():\n",
        "        if epoch % 100 == 0:\n",
        "            \n",
        "\n",
        "            print('saving the output')\n",
        "           \n",
        "            fake = generator(fixed_noise, y)\n",
        "\n",
        "\n",
        "            img_grid_fake = torchvision.utils.make_grid(fake, normalize=True)\n",
        "            img_grid_real = torchvision.utils.make_grid(X, normalize=True)\n",
        "                \n",
        "            writer_fake.add_image(\n",
        "                        \"Mnist Fake Images\", img_grid_fake, global_step=epoch\n",
        "                    )\n",
        "            writer_real.add_image(\n",
        "                        \"Mnist Real Images\", img_grid_real, global_step=epoch\n",
        "                    )\n"
      ]
    },
    {
      "cell_type": "code",
      "execution_count": 12,
      "metadata": {
        "id": "SjpDdznGQhCu",
        "outputId": "5e51cdf3-03f1-4fac-9ae8-7c062d3d2c9d"
      },
      "outputs": [],
      "source": [
        "#For MNIST\n",
        "import matplotlib.pyplot as plt\n",
        "import matplotlib.animation as animation\n",
        "from IPython.display import HTML\n",
        "import numpy as np\n",
        "\n",
        "plt.figure(figsize=(10,5))\n",
        "plt.title(\"Generator and Critic Loss During Training\")\n",
        "plt.plot(loss_g,label=\"G\")\n",
        "plt.plot(loss_d,label=\"D\")\n",
        "plt.xlabel(\"Iterations\")\n",
        "plt.ylabel(\"Loss\")\n",
        "plt.legend()\n",
        "plt.show()\n",
        "\n"
      ]
    },
    {
      "cell_type": "code",
      "execution_count": null,
      "metadata": {
        "id": "W3Gg1k_bQhCu"
      },
      "outputs": [],
      "source": []
    }
  ],
  "metadata": {
    "colab": {
      "provenance": []
    },
    "kernelspec": {
      "display_name": "Python 3",
      "name": "python3"
    },
    "language_info": {
      "codemirror_mode": {
        "name": "ipython",
        "version": 3
      },
      "file_extension": ".py",
      "mimetype": "text/x-python",
      "name": "python",
      "nbconvert_exporter": "python",
      "pygments_lexer": "ipython3",
      "version": "3.10.14"
    }
  },
  "nbformat": 4,
  "nbformat_minor": 0
}
