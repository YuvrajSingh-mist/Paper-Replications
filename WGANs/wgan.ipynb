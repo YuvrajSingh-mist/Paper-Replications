{
  "cells": [
    {
      "cell_type": "code",
      "execution_count": 194,
      "metadata": {
        "id": "5nP_WUZ9FN-R"
      },
      "outputs": [],
      "source": [
        "import torch\n",
        "from pathlib import Path\n",
        "import torch\n",
        "import torchvision\n",
        "from torch import nn\n",
        "from torchvision import transforms\n",
        "from dataclasses import dataclass\n",
        "from torch.utils.tensorboard import SummaryWriter  "
      ]
    },
    {
      "cell_type": "code",
      "execution_count": 195,
      "metadata": {
        "id": "HOGoxeeJFN-T"
      },
      "outputs": [
        {
          "data": {
            "text/plain": [
              "'cuda'"
            ]
          },
          "execution_count": 195,
          "metadata": {},
          "output_type": "execute_result"
        }
      ],
      "source": [
        "device = \"cuda\" if torch.cuda.is_available() else \"cpu\"\n",
        "# device = 'cpu'\n",
        "device"
      ]
    },
    {
      "cell_type": "code",
      "execution_count": 196,
      "metadata": {
        "id": "iiWhk4i2QhCr"
      },
      "outputs": [],
      "source": [
        "@dataclass\n",
        "class ModelArgs:\n",
        "    latent_vector_size = 100\n",
        "    device = 'cpu'\n",
        "    batch_size = 64\n",
        "    lr = 5e-5\n",
        "    num_classes = 10\n",
        "    img_size = 64\n",
        "    no_of_lables = 10\n",
        "    no_of_channels = 1\n",
        "    c = 1e-2\n",
        "    nCritic = 5\n"
      ]
    },
    {
      "cell_type": "code",
      "execution_count": 197,
      "metadata": {
        "id": "CQ_fOrMNQhCr"
      },
      "outputs": [],
      "source": [
        "ModelArgs.device = device"
      ]
    },
    {
      "cell_type": "code",
      "execution_count": 198,
      "metadata": {},
      "outputs": [],
      "source": [
        "#Transforms for images\n",
        "transforms = torchvision.transforms.Compose([\n",
        "    transforms.Resize(size=(ModelArgs.img_size,ModelArgs.img_size)),\n",
        "    transforms.ToTensor(),\n",
        "    transforms.Normalize((0.5,), (0.5,))\n",
        "\n",
        "])"
      ]
    },
    {
      "cell_type": "code",
      "execution_count": 199,
      "metadata": {
        "colab": {
          "base_uri": "https://localhost:8080/"
        },
        "id": "IjduuQ6CFN-T",
        "outputId": "c6fa2917-3f61-4fd8-8295-3a142d01cce4"
      },
      "outputs": [],
      "source": [
        "#Loading MNIST Dataset\n",
        "import torchvision\n",
        "from torch.utils.data import DataLoader\n",
        "import os\n",
        "\n",
        "data_path = Path('/content/data/')\n",
        "\n",
        "# train_dir = data_path / \"train\"\n",
        "# test_dir = data_path / \"test\"\n",
        "\n",
        "# Load the training set\n",
        "trainset = torchvision.datasets.MNIST(root='./data', train=True, download=True, transform=transforms)\n",
        "trainloader = torch.utils.data.DataLoader(trainset, batch_size=ModelArgs.batch_size, shuffle=True)\n",
        "\n",
        "# Load the test set\n",
        "testset = torchvision.datasets.MNIST(root='./data', train=False, download=True, transform=transforms)\n",
        "testloader = torch.utils.data.DataLoader(testset, batch_size=ModelArgs.batch_size, shuffle=False)"
      ]
    },
    {
      "cell_type": "code",
      "execution_count": 200,
      "metadata": {
        "id": "Mf6_wWp-FN-T"
      },
      "outputs": [],
      "source": [
        "def weights_init(m):\n",
        "    classname = m.__class__.__name__\n",
        "    if classname.find('Conv') != -1:\n",
        "        nn.init.normal_(m.weight.data, 0.0, 0.02)  #mean = 0, std = 0.02\n"
      ]
    },
    {
      "cell_type": "code",
      "execution_count": 201,
      "metadata": {
        "id": "igQOSe-jFN-U"
      },
      "outputs": [],
      "source": [
        "class Generator(nn.Module):\n",
        "    def __init__(\n",
        "        self,\n",
        "        latent_vector_size = 100,\n",
        "        no_of_channels = 1,\n",
        "        kernel_size = (4,4),\n",
        "        stride: int = 2,\n",
        "        number_of_feature_maps: int = 64,\n",
        "        padding: int = 1,\n",
        "        z_out_dimensions: int = 200,\n",
        "        y_out_dimensions: int = 1000,\n",
        "        labels_size: int = 10,\n",
        "        combined_hidden_layer_dimensions: int = 1200,\n",
        "        img_size: int = 1\n",
        "\n",
        "    ):\n",
        "\n",
        "        super().__init__()\n",
        "\n",
        "        # self.linear_z_out = nn.Linear(in_features=latent_vector_size, out_features=z_out_dimensions, device=ModelArgs.device)\n",
        "        # self.linear_y_out = nn.Linear(in_features=ModelArgs.no_of_lables, out_features=y_out_dimensions, device=ModelArgs.device)\n",
        "        # self.combined = z_out_dimensions + y_out_dimensions\n",
        "        # self.combined_layer = nn.Linear(in_features=self.combined, out_features=combined_hidden_layer_dimensions, device=ModelArgs.device)\n",
        "        self.dense = nn.Linear(in_features=latent_vector_size, out_features=img_size * img_size, device=device)\n",
        "        self.combined_hidden_layer_dimensions = latent_vector_size + ModelArgs.no_of_lables\n",
        "        self.embedding = nn.Embedding(num_embeddings=ModelArgs.num_classes, embedding_dim=latent_vector_size, device=device)\n",
        "        # self.wi = weight_initialization()\n",
        "        self.img_size = img_size\n",
        "        self.main = nn.Sequential(\n",
        "\n",
        "\n",
        "            # nn.Linear(in_features=latent_vector_size, out_features=z_out_dimensions, device=ModelArgs.device),\n",
        "            # nn.Linear(in_features=labels_size, out_features=y_out_dimensions, device=ModelArgs.device),\n",
        "            nn.ConvTranspose2d(ModelArgs.latent_vector_size + ModelArgs.latent_vector_size, number_of_feature_maps * 16 , kernel_size=kernel_size, stride=stride, padding=0, bias=False),\n",
        "            nn.BatchNorm2d(number_of_feature_maps * 16),\n",
        "            nn.ReLU(),\n",
        "\n",
        "            #shape = (...,1024, 4, 4)\n",
        "            nn.ConvTranspose2d(number_of_feature_maps * 16, number_of_feature_maps * 8 , kernel_size=kernel_size, stride=stride, padding=padding, bias=False),\n",
        "            nn.BatchNorm2d(number_of_feature_maps * 8),\n",
        "            nn.ReLU(),\n",
        "\n",
        "            #shape = (..., 512, 8, 8)\n",
        "            nn.ConvTranspose2d(number_of_feature_maps * 8, number_of_feature_maps * 4 , kernel_size=kernel_size, stride=stride, padding=padding, bias=False),\n",
        "            nn.ReLU(),\n",
        "            nn.BatchNorm2d(number_of_feature_maps * 4),\n",
        "\n",
        "             #shape = (..., 256, 16, 16)\n",
        "            nn.ConvTranspose2d(number_of_feature_maps * 4, number_of_feature_maps * 2 , kernel_size=kernel_size, stride=stride, padding=padding, bias=False),\n",
        "            nn.ReLU(),\n",
        "            nn.BatchNorm2d(number_of_feature_maps * 2),\n",
        "\n",
        "             #shape = (..., 128, 32, 32)\n",
        "            nn.ConvTranspose2d(number_of_feature_maps * 2, no_of_channels , kernel_size=kernel_size, stride=stride, padding=padding, bias=False),\n",
        "            nn.Tanh()\n",
        "            #shape = (..., 3, 64, 64)\n",
        "        )\n",
        "\n",
        "    def forward(self, x, y):\n",
        "        labels = self.embedding(y)\n",
        "        # print(x.shape)\n",
        "        # print(y.shape)\n",
        "        labels = labels.unsqueeze(2).unsqueeze(3).view(x.shape[0], ModelArgs.latent_vector_size, 1,1)\n",
        "\n",
        "        combined = torch.cat([x, labels], dim=1)\n",
        "        # print(combined.shape)\n",
        "        out = self.main(combined)\n",
        "        return out"
      ]
    },
    {
      "cell_type": "code",
      "execution_count": 166,
      "metadata": {
        "colab": {
          "base_uri": "https://localhost:8080/"
        },
        "id": "_-xlwOgCFN-U",
        "outputId": "22b21844-9096-45bd-f76a-ffc8dc9dd253"
      },
      "outputs": [
        {
          "name": "stdout",
          "output_type": "stream",
          "text": [
            "Generator(\n",
            "  (dense): Linear(in_features=100, out_features=1, bias=True)\n",
            "  (embedding): Embedding(10, 100)\n",
            "  (main): Sequential(\n",
            "    (0): ConvTranspose2d(200, 1024, kernel_size=(4, 4), stride=(2, 2), bias=False)\n",
            "    (1): BatchNorm2d(1024, eps=1e-05, momentum=0.1, affine=True, track_running_stats=True)\n",
            "    (2): ReLU()\n",
            "    (3): ConvTranspose2d(1024, 512, kernel_size=(4, 4), stride=(2, 2), padding=(1, 1), bias=False)\n",
            "    (4): BatchNorm2d(512, eps=1e-05, momentum=0.1, affine=True, track_running_stats=True)\n",
            "    (5): ReLU()\n",
            "    (6): ConvTranspose2d(512, 256, kernel_size=(4, 4), stride=(2, 2), padding=(1, 1), bias=False)\n",
            "    (7): ReLU()\n",
            "    (8): BatchNorm2d(256, eps=1e-05, momentum=0.1, affine=True, track_running_stats=True)\n",
            "    (9): ConvTranspose2d(256, 128, kernel_size=(4, 4), stride=(2, 2), padding=(1, 1), bias=False)\n",
            "    (10): ReLU()\n",
            "    (11): BatchNorm2d(128, eps=1e-05, momentum=0.1, affine=True, track_running_stats=True)\n",
            "    (12): ConvTranspose2d(128, 1, kernel_size=(4, 4), stride=(2, 2), padding=(1, 1), bias=False)\n",
            "    (13): Tanh()\n",
            "  )\n",
            ")\n"
          ]
        }
      ],
      "source": [
        "#Intializing the Generator instance\n",
        "generator = Generator().to(ModelArgs.device)\n",
        "\n",
        "#Applying the weights transformation\n",
        "generator.apply(weights_init)\n",
        "\n",
        "#Printing the structure\n",
        "print(generator)"
      ]
    },
    {
      "cell_type": "code",
      "execution_count": 51,
      "metadata": {
        "colab": {
          "base_uri": "https://localhost:8080/"
        },
        "id": "hlZVuv-oQhCt",
        "outputId": "28ba05d5-6e4a-40ab-8de2-fc5014eae39d"
      },
      "outputs": [
        {
          "data": {
            "text/plain": [
              "torch.Size([128, 1])"
            ]
          },
          "execution_count": 51,
          "metadata": {},
          "output_type": "execute_result"
        }
      ],
      "source": [
        "torch.randint(0, 10, (128, 1), dtype=torch.long, device=ModelArgs.device).shape"
      ]
    },
    {
      "cell_type": "code",
      "execution_count": 76,
      "metadata": {
        "colab": {
          "base_uri": "https://localhost:8080/"
        },
        "id": "8x5GjkITFN-U",
        "outputId": "831c01f2-0e4d-489e-de78-298656893b67"
      },
      "outputs": [
        {
          "name": "stdout",
          "output_type": "stream",
          "text": [
            "torch.Size([64, 100, 1, 1])\n",
            "torch.Size([64])\n"
          ]
        },
        {
          "data": {
            "text/plain": [
              "========================================================================================================================\n",
              "Layer (type (var_name))                  Input Shape          Output Shape         Param #              Trainable\n",
              "========================================================================================================================\n",
              "Generator (Generator)                    [64, 100, 1, 1]      [64, 1, 64, 64]      101                  True\n",
              "├─Embedding (embedding)                  [64]                 [64, 100]            1,000                True\n",
              "├─Sequential (main)                      [64, 200, 1, 1]      [64, 1, 64, 64]      --                   True\n",
              "│    └─ConvTranspose2d (0)               [64, 200, 1, 1]      [64, 1024, 4, 4]     3,276,800            True\n",
              "│    └─BatchNorm2d (1)                   [64, 1024, 4, 4]     [64, 1024, 4, 4]     2,048                True\n",
              "│    └─ReLU (2)                          [64, 1024, 4, 4]     [64, 1024, 4, 4]     --                   --\n",
              "│    └─ConvTranspose2d (3)               [64, 1024, 4, 4]     [64, 512, 8, 8]      8,388,608            True\n",
              "│    └─BatchNorm2d (4)                   [64, 512, 8, 8]      [64, 512, 8, 8]      1,024                True\n",
              "│    └─ReLU (5)                          [64, 512, 8, 8]      [64, 512, 8, 8]      --                   --\n",
              "│    └─ConvTranspose2d (6)               [64, 512, 8, 8]      [64, 256, 16, 16]    2,097,152            True\n",
              "│    └─ReLU (7)                          [64, 256, 16, 16]    [64, 256, 16, 16]    --                   --\n",
              "│    └─BatchNorm2d (8)                   [64, 256, 16, 16]    [64, 256, 16, 16]    512                  True\n",
              "│    └─ConvTranspose2d (9)               [64, 256, 16, 16]    [64, 128, 32, 32]    524,288              True\n",
              "│    └─ReLU (10)                         [64, 128, 32, 32]    [64, 128, 32, 32]    --                   --\n",
              "│    └─BatchNorm2d (11)                  [64, 128, 32, 32]    [64, 128, 32, 32]    256                  True\n",
              "│    └─ConvTranspose2d (12)              [64, 128, 32, 32]    [64, 1, 64, 64]      2,048                True\n",
              "│    └─Tanh (13)                         [64, 1, 64, 64]      [64, 1, 64, 64]      --                   --\n",
              "========================================================================================================================\n",
              "Total params: 14,293,837\n",
              "Trainable params: 14,293,837\n",
              "Non-trainable params: 0\n",
              "Total mult-adds (G): 106.97\n",
              "========================================================================================================================\n",
              "Input size (MB): 0.03\n",
              "Forward/backward pass size (MB): 253.81\n",
              "Params size (MB): 57.17\n",
              "Estimated Total Size (MB): 311.01\n",
              "========================================================================================================================"
            ]
          },
          "execution_count": 76,
          "metadata": {},
          "output_type": "execute_result"
        }
      ],
      "source": [
        "from torchinfo import summary\n",
        "\n",
        "random_data = torch.randn(ModelArgs.batch_size, ModelArgs.latent_vector_size, 1, 1, device=ModelArgs.device)\n",
        "# labels =\n",
        "labels = torch.randint(0, 10, (64,), dtype=torch.long, device=ModelArgs.device)\n",
        "random_data = random_data.to(ModelArgs.device)\n",
        "summary(model=generator,\n",
        "        \n",
        "        # input_size=(128, 100, 10, 1, 1),\n",
        "        input_data=(random_data, labels),\n",
        "        col_names=[\"input_size\", \"output_size\", \"num_params\", \"trainable\"],\n",
        "        col_width=20,\n",
        "        row_settings=[\"var_names\"])"
      ]
    },
    {
      "cell_type": "code",
      "execution_count": 13,
      "metadata": {
        "colab": {
          "base_uri": "https://localhost:8080/"
        },
        "id": "nRkap4OeO-qS",
        "outputId": "c8104443-2f82-4357-f65d-cd87d00a5570"
      },
      "outputs": [
        {
          "data": {
            "text/plain": [
              "(torch.Size([128, 100]), torch.Size([128]))"
            ]
          },
          "execution_count": 13,
          "metadata": {},
          "output_type": "execute_result"
        }
      ],
      "source": [
        "random_data.shape, labels.shape"
      ]
    },
    {
      "cell_type": "code",
      "execution_count": 141,
      "metadata": {
        "id": "OLAsBWTOQhCt"
      },
      "outputs": [
        {
          "name": "stdout",
          "output_type": "stream",
          "text": [
            "torch.Size([64, 1, 64, 64])\n",
            "torch.Size([64])\n"
          ]
        }
      ],
      "source": [
        "\n",
        "for images, labels in trainloader:\n",
        "\n",
        "    print(images.shape)\n",
        "    print(labels.shape)\n",
        "    break\n",
        "\n"
      ]
    },
    {
      "cell_type": "code",
      "execution_count": 202,
      "metadata": {
        "id": "izJWPwLkFN-U"
      },
      "outputs": [],
      "source": [
        "class Critic(nn.Module):\n",
        "    def __init__(\n",
        "        self,\n",
        "        no_of_channels = 1,\n",
        "        kernel_size = (4,4),\n",
        "        stride: int = 2,\n",
        "        number_of_feature_maps: int = 64,\n",
        "        padding: int = 1,\n",
        "        lr_slope=0.2,\n",
        "        num_classes: int = ModelArgs.num_classes,\n",
        "        z_out_dimensions: int = 200,\n",
        "        y_out_dimensions: int = 1000,\n",
        "        labels_size: int = 10,\n",
        "        combined_hidden_layer_dimensions: int = 1200,\n",
        "        latent_vector_size: int = ModelArgs.latent_vector_size,\n",
        "        img_size: int = ModelArgs.img_size\n",
        "    ):\n",
        "\n",
        "        super().__init__()\n",
        "        self.embedding = nn.Embedding(num_embeddings=ModelArgs.num_classes, embedding_dim=ModelArgs.img_size * ModelArgs.img_size, device=ModelArgs.device)\n",
        "\n",
        "\n",
        "        self.main = nn.Sequential(\n",
        "            nn.Conv2d(no_of_channels + 1, number_of_feature_maps * 2 , kernel_size=kernel_size, stride=stride, padding=padding, bias=False),\n",
        "            nn.BatchNorm2d(number_of_feature_maps * 2),\n",
        "            nn.LeakyReLU(negative_slope=lr_slope),\n",
        "\n",
        "                #shape = (...,1024, 32, 32)\n",
        "            nn.Conv2d(number_of_feature_maps * 2, number_of_feature_maps * 4 , kernel_size=kernel_size, stride=stride, padding=padding, bias=False),\n",
        "            nn.BatchNorm2d(number_of_feature_maps * 4),\n",
        "            nn.LeakyReLU(negative_slope=lr_slope),\n",
        "\n",
        "                #shape = (..., 512, 16, 16)\n",
        "            nn.Conv2d(number_of_feature_maps * 4, number_of_feature_maps * 8 , kernel_size=kernel_size, stride=stride, padding=padding, bias=False),\n",
        "            nn.BatchNorm2d(number_of_feature_maps * 8),\n",
        "            nn.LeakyReLU(negative_slope=lr_slope),\n",
        "\n",
        "                #shape = (..., 256, 8, 8)\n",
        "            nn.Conv2d(number_of_feature_maps * 8, number_of_feature_maps * 16 , kernel_size=kernel_size, stride=stride, padding=padding, bias=False),\n",
        "            nn.BatchNorm2d(number_of_feature_maps * 16),\n",
        "            nn.LeakyReLU(negative_slope=lr_slope),\n",
        "            #  shape = (..., 128, 4, 4)\n",
        "\n",
        "            nn.Conv2d(number_of_feature_maps * 16, 1 , kernel_size=kernel_size, stride=4, padding=padding, bias=False),\n",
        "            #shape = (...,1,1)\n",
        "            nn.Flatten(),\n",
        "            # nn.Sigmoid(),\n",
        "         )\n",
        "\n",
        "    def forward(self, x, y):\n",
        "        \n",
        "        y = self.embedding(y)\n",
        "        B,E = y.shape\n",
        "\n",
        "        combined = torch.concat([x, y.unsqueeze(2).unsqueeze(3).view(x.shape[0], ModelArgs.no_of_channels, ModelArgs.img_size, ModelArgs.img_size)], dim=1)\n",
        "\n",
        "        x = self.main(combined)\n",
        "\n",
        "        return x"
      ]
    },
    {
      "cell_type": "code",
      "execution_count": 168,
      "metadata": {},
      "outputs": [],
      "source": [
        "# x.view(B, C, IMG_SIZE*IMG_SIZE)"
      ]
    },
    {
      "cell_type": "code",
      "execution_count": 169,
      "metadata": {
        "colab": {
          "base_uri": "https://localhost:8080/",
          "height": 36
        },
        "id": "2AMYty_pQhCt",
        "outputId": "000a2e4b-33e9-441e-9226-1818a29b0eb2"
      },
      "outputs": [],
      "source": [
        "# ModelArgs.device"
      ]
    },
    {
      "cell_type": "code",
      "execution_count": 170,
      "metadata": {
        "colab": {
          "base_uri": "https://localhost:8080/"
        },
        "id": "ZUQEbynaFN-U",
        "outputId": "9adcde31-f2e4-41b5-aa50-4bbbab863515"
      },
      "outputs": [
        {
          "name": "stdout",
          "output_type": "stream",
          "text": [
            "Critic(\n",
            "  (embedding): Embedding(10, 4096)\n",
            "  (main): Sequential(\n",
            "    (0): Conv2d(2, 128, kernel_size=(4, 4), stride=(2, 2), padding=(1, 1), bias=False)\n",
            "    (1): BatchNorm2d(128, eps=1e-05, momentum=0.1, affine=True, track_running_stats=True)\n",
            "    (2): LeakyReLU(negative_slope=0.2)\n",
            "    (3): Conv2d(128, 256, kernel_size=(4, 4), stride=(2, 2), padding=(1, 1), bias=False)\n",
            "    (4): BatchNorm2d(256, eps=1e-05, momentum=0.1, affine=True, track_running_stats=True)\n",
            "    (5): LeakyReLU(negative_slope=0.2)\n",
            "    (6): Conv2d(256, 512, kernel_size=(4, 4), stride=(2, 2), padding=(1, 1), bias=False)\n",
            "    (7): BatchNorm2d(512, eps=1e-05, momentum=0.1, affine=True, track_running_stats=True)\n",
            "    (8): LeakyReLU(negative_slope=0.2)\n",
            "    (9): Conv2d(512, 1024, kernel_size=(4, 4), stride=(2, 2), padding=(1, 1), bias=False)\n",
            "    (10): BatchNorm2d(1024, eps=1e-05, momentum=0.1, affine=True, track_running_stats=True)\n",
            "    (11): LeakyReLU(negative_slope=0.2)\n",
            "    (12): Conv2d(1024, 1, kernel_size=(4, 4), stride=(4, 4), padding=(1, 1), bias=False)\n",
            "    (13): Flatten(start_dim=1, end_dim=-1)\n",
            "  )\n",
            ")\n"
          ]
        }
      ],
      "source": [
        "#Intializing the Discriminator instance\n",
        "critic = Critic().to(ModelArgs.device)\n",
        "#Apply the wieght intilization function layer by layer\n",
        "critic = critic.apply(weights_init)\n",
        "#Printing the structure\n",
        "print(critic)"
      ]
    },
    {
      "cell_type": "code",
      "execution_count": 172,
      "metadata": {
        "colab": {
          "base_uri": "https://localhost:8080/"
        },
        "id": "9nswZOUxFN-V",
        "outputId": "d6362f39-7a1d-4a23-8d8a-ae8d5c264672"
      },
      "outputs": [
        {
          "data": {
            "text/plain": [
              "========================================================================================================================\n",
              "Layer (type (var_name))                  Input Shape          Output Shape         Param #              Trainable\n",
              "========================================================================================================================\n",
              "Critic (Critic)                          [64, 1, 64, 64]      [64, 1]              1,453,801            True\n",
              "├─Embedding (embedding)                  [64]                 [64, 4096]           40,960               True\n",
              "├─Sequential (main)                      [64, 2, 64, 64]      [64, 1]              --                   True\n",
              "│    └─Conv2d (0)                        [64, 2, 64, 64]      [64, 128, 32, 32]    4,096                True\n",
              "│    └─BatchNorm2d (1)                   [64, 128, 32, 32]    [64, 128, 32, 32]    256                  True\n",
              "│    └─LeakyReLU (2)                     [64, 128, 32, 32]    [64, 128, 32, 32]    --                   --\n",
              "│    └─Conv2d (3)                        [64, 128, 32, 32]    [64, 256, 16, 16]    524,288              True\n",
              "│    └─BatchNorm2d (4)                   [64, 256, 16, 16]    [64, 256, 16, 16]    512                  True\n",
              "│    └─LeakyReLU (5)                     [64, 256, 16, 16]    [64, 256, 16, 16]    --                   --\n",
              "│    └─Conv2d (6)                        [64, 256, 16, 16]    [64, 512, 8, 8]      2,097,152            True\n",
              "│    └─BatchNorm2d (7)                   [64, 512, 8, 8]      [64, 512, 8, 8]      1,024                True\n",
              "│    └─LeakyReLU (8)                     [64, 512, 8, 8]      [64, 512, 8, 8]      --                   --\n",
              "│    └─Conv2d (9)                        [64, 512, 8, 8]      [64, 1024, 4, 4]     8,388,608            True\n",
              "│    └─BatchNorm2d (10)                  [64, 1024, 4, 4]     [64, 1024, 4, 4]     2,048                True\n",
              "│    └─LeakyReLU (11)                    [64, 1024, 4, 4]     [64, 1024, 4, 4]     --                   --\n",
              "│    └─Conv2d (12)                       [64, 1024, 4, 4]     [64, 1, 1, 1]        16,384               True\n",
              "│    └─Flatten (13)                      [64, 1, 1, 1]        [64, 1]              --                   --\n",
              "========================================================================================================================\n",
              "Total params: 12,529,129\n",
              "Trainable params: 12,529,129\n",
              "Non-trainable params: 0\n",
              "Total mult-adds (G): 26.04\n",
              "========================================================================================================================\n",
              "Input size (MB): 1.05\n",
              "Forward/backward pass size (MB): 253.76\n",
              "Params size (MB): 44.30\n",
              "Estimated Total Size (MB): 299.11\n",
              "========================================================================================================================"
            ]
          },
          "execution_count": 172,
          "metadata": {},
          "output_type": "execute_result"
        }
      ],
      "source": [
        "from torchinfo import summary\n",
        "\n",
        "images = torch.randn(64, 1, 64, 64)\n",
        "labels = torch.randint(0, 10, (64,), dtype=torch.long)\n",
        "\n",
        "summary(model=critic,\n",
        "        # input_size=(100, 1, 64, 64, 10),\n",
        "        input_data=(images.to(ModelArgs.device), labels.to(ModelArgs.device)),\n",
        "        col_names=[\"input_size\", \"output_size\", \"num_params\", \"trainable\"],\n",
        "        col_width=20,\n",
        "        row_settings=[\"var_names\"])"
      ]
    },
    {
      "cell_type": "code",
      "execution_count": 20,
      "metadata": {
        "colab": {
          "base_uri": "https://localhost:8080/"
        },
        "id": "HADuDK9Ac_88",
        "outputId": "5e1bb2f4-81bb-4610-ccbb-1aa23228f093"
      },
      "outputs": [
        {
          "data": {
            "text/plain": [
              "(torch.Size([128, 1, 64, 64]), torch.Size([128]))"
            ]
          },
          "execution_count": 20,
          "metadata": {},
          "output_type": "execute_result"
        }
      ],
      "source": [
        "images.shape, labels.shape"
      ]
    },
    {
      "cell_type": "code",
      "execution_count": 21,
      "metadata": {
        "id": "wS1rzq2jnhP9"
      },
      "outputs": [],
      "source": [
        "# labels = labels.float()\n",
        "labels = one_hot_encode(labels)\n",
        "labels = labels.to(ModelArgs.device)"
      ]
    },
    {
      "cell_type": "code",
      "execution_count": 22,
      "metadata": {
        "colab": {
          "base_uri": "https://localhost:8080/"
        },
        "id": "mRiopT6rnniq",
        "outputId": "9d07a838-7987-4f6d-b0cf-d4f5bcbe7d12"
      },
      "outputs": [
        {
          "data": {
            "text/plain": [
              "tensor([[0., 0., 0.,  ..., 0., 1., 0.],\n",
              "        [1., 0., 0.,  ..., 0., 0., 0.],\n",
              "        [0., 0., 0.,  ..., 0., 0., 0.],\n",
              "        ...,\n",
              "        [0., 0., 0.,  ..., 1., 0., 0.],\n",
              "        [0., 0., 0.,  ..., 0., 0., 0.],\n",
              "        [0., 0., 0.,  ..., 0., 0., 0.]], device='cuda:0')"
            ]
          },
          "execution_count": 22,
          "metadata": {},
          "output_type": "execute_result"
        }
      ],
      "source": [
        "labels"
      ]
    },
    {
      "cell_type": "code",
      "execution_count": 220,
      "metadata": {
        "id": "ugXl-J8cFN-V"
      },
      "outputs": [],
      "source": [
        "# epochs = 5 #30\n",
        "# # beta_1 = 0.5\n",
        "# # lr_optimizer = 0.0002\n",
        "# loss_fn = nn.BCELoss()  #BCELoss function\n",
        "\n",
        "generator = Generator().to(ModelArgs.device).apply(weights_init)\n",
        "critic = Critic().to(ModelArgs.device).apply(weights_init)\n",
        "\n",
        "# optimizerD = torch.optim.SGD(params=discriminator.parameters(), momentum=ModelArgs.momentum_initial, lr=ModelArgs.initial_lr) #For discriminator\n",
        "# optimizerG = torch.optim.SGD(params=generator.parameters(), momentum=ModelArgs.momentum_initial, lr=ModelArgs.initial_lr) #For generator\n",
        "\n",
        "\n",
        "epochs = 200 #30\n",
        "\n",
        "\n",
        "optimizerC = torch.optim.RMSprop(params=critic.parameters(), lr=ModelArgs.lr) #For discriminator\n",
        "optimizerG = torch.optim.RMSprop(params=generator.parameters(), lr=ModelArgs.lr) #For generator\n",
        "\n",
        "\n",
        "\n",
        "real_label = 1\n",
        "fake_label = 0\n",
        "\n",
        "\n",
        "loss_g = []\n",
        "loss_d = []\n",
        "img_list = []\n",
        "\n",
        "# # Fixed noise for generating the images\n",
        "# fixed_noise = torch.randn((ModelArgs.batch_size, ModelArgs.latent_vector_size, 1, 1), dtype=torch.float32, device=ModelArgs.device)"
      ]
    },
    {
      "cell_type": "code",
      "execution_count": 221,
      "metadata": {
        "id": "fJps83qfFN-V"
      },
      "outputs": [],
      "source": [
        "import shutil\n",
        "save_images = Path('output_images/MNIST')\n"
      ]
    },
    {
      "cell_type": "code",
      "execution_count": 115,
      "metadata": {
        "colab": {
          "base_uri": "https://localhost:8080/"
        },
        "id": "ZwNpigl9UxjS",
        "outputId": "52eba7f5-ae64-43d0-ef5b-a7fa8790ed04"
      },
      "outputs": [
        {
          "name": "stdout",
          "output_type": "stream",
          "text": [
            "torch.Size([128, 1, 64, 64])\n",
            "torch.Size([128])\n"
          ]
        }
      ],
      "source": [
        "for images, labels in trainloader:\n",
        "  print(images.shape)\n",
        "  print(labels.shape)\n",
        "  break"
      ]
    },
    {
      "cell_type": "code",
      "execution_count": 162,
      "metadata": {},
      "outputs": [
        {
          "data": {
            "text/plain": [
              "tensor([[0., 1., 0.,  ..., 0., 0., 0.],\n",
              "        [0., 0., 0.,  ..., 0., 0., 0.],\n",
              "        [0., 0., 0.,  ..., 0., 0., 0.],\n",
              "        ...,\n",
              "        [0., 0., 0.,  ..., 0., 0., 1.],\n",
              "        [0., 0., 0.,  ..., 0., 0., 0.],\n",
              "        [0., 0., 0.,  ..., 0., 0., 0.]])"
            ]
          },
          "execution_count": 162,
          "metadata": {},
          "output_type": "execute_result"
        }
      ],
      "source": [
        "one_hot_encode(torch.randint(low=0, high=ModelArgs.num_classes, size=(current_batch_size,), device=ModelArgs.device))"
      ]
    },
    {
      "cell_type": "code",
      "execution_count": 222,
      "metadata": {
        "colab": {
          "base_uri": "https://localhost:8080/",
          "height": 332
        },
        "id": "05j9aKXJFN-V",
        "outputId": "65200ebf-480f-4d01-d8f2-c98ee184cec1"
      },
      "outputs": [
        {
          "name": "stdout",
          "output_type": "stream",
          "text": [
            "Iterations:  0 Epoch:  0 Generator loss:  -335.45880126953125 Discriminator loss:  -665.2409057617188\n",
            "saving the output\n",
            "Iterations:  5 Epoch:  5 Generator loss:  -1090.071044921875 Discriminator loss:  -2154.619873046875\n",
            "saving the output\n",
            "Iterations:  10 Epoch:  10 Generator loss:  -1993.0421142578125 Discriminator loss:  -3855.099609375\n",
            "saving the output\n",
            "Iterations:  15 Epoch:  15 Generator loss:  -3043.730712890625 Discriminator loss:  -6025.9111328125\n",
            "saving the output\n",
            "Iterations:  20 Epoch:  20 Generator loss:  -4238.4111328125 Discriminator loss:  -8355.498046875\n",
            "saving the output\n",
            "Iterations:  25 Epoch:  25 Generator loss:  -5578.63818359375 Discriminator loss:  -11042.736328125\n",
            "saving the output\n",
            "Iterations:  30 Epoch:  30 Generator loss:  -7077.38623046875 Discriminator loss:  -13982.146484375\n",
            "saving the output\n",
            "Iterations:  35 Epoch:  35 Generator loss:  -8716.73828125 Discriminator loss:  -17252.47265625\n",
            "saving the output\n"
          ]
        }
      ],
      "source": [
        "#Training loop\n",
        "\n",
        "generator.train()\n",
        "critic.train()\n",
        "iters = 0\n",
        "\n",
        "writer_fake = SummaryWriter(f\"logs/fake\")\n",
        "writer_real = SummaryWriter(f\"logs/real\")\n",
        "\n",
        "for epoch in range(epochs):\n",
        "\n",
        "    current_batch_size = 0\n",
        "    \n",
        "    for _ in range(ModelArgs.nCritic):\n",
        "    \n",
        "    \n",
        "        count = 0\n",
        "        for X, y in trainloader:\n",
        "            \n",
        "            if(count>=ModelArgs.batch_size):\n",
        "                break\n",
        "            # global current_batch_size\n",
        "            \n",
        "            X = X.to(ModelArgs.device)\n",
        "            y = y.to(ModelArgs.device)\n",
        "            \n",
        "            count += 1\n",
        "            #Train the discriminator (with real data)\n",
        "\n",
        "            ############################\n",
        "            # (1) Update D network: maximize: log(1 - D(G(z)))\n",
        "            ###########################\n",
        "            # print(\"noise : \", noise.shape)\n",
        "            # print(\"Labels: \", y.shape)\n",
        "            # print(X.shape)\n",
        "            # print(y.shape)\n",
        "            current_batch_size = X.shape[0]  #Getting the current batch size\n",
        "\n",
        "            critic_real = critic(X,y).view(-1)\n",
        "            \n",
        "            noise = torch.randn((current_batch_size, ModelArgs.latent_vector_size, 1, 1), device=ModelArgs.device)\n",
        "            \n",
        "            # print('generated noise; ', noise.shape)\n",
        "            noise_generated_by_generator = generator(noise, y)\n",
        "            \n",
        "            critic_fake = critic(noise_generated_by_generator, y).view(-1)\n",
        "            loss_tot = -(critic_real.mean() - critic_fake.mean())\n",
        "            \n",
        "            # 3. Optimizer zero grad\n",
        "            optimizerC.zero_grad()\n",
        "\n",
        "            # 4. Loss backward\n",
        "            loss_tot.backward(retain_graph=True)\n",
        "                \n",
        "            optimizerC.step()\n",
        "            loss_d.append(loss_tot.item())\n",
        "\n",
        "            \n",
        "            for p in critic.parameters():\n",
        "                p.clamp(-(ModelArgs.c), ModelArgs.c)\n",
        "\n",
        "    ############################\n",
        "    # (2) Update G network: minimize log(D(G(z)))\n",
        "    ###########################\n",
        "    for X, y in trainloader:\n",
        "        X = X.to(ModelArgs.device)\n",
        "        y = y.to(ModelArgs.device)\n",
        "        \n",
        "        # global current_batch_size\n",
        "        \n",
        "        current_batch_size = X.shape[0]\n",
        "        \n",
        "        #1. Forward pass\n",
        "        noise = torch.randn((current_batch_size, ModelArgs.latent_vector_size, 1, 1), device=ModelArgs.device)\n",
        "        noise_generated_by_generator = generator(noise, y)\n",
        "        critic_gen = critic(noise_generated_by_generator, y).view(-1)\n",
        "        \n",
        "        loss = -(critic_gen.mean())\n",
        "        \n",
        "        # 3. Optimizer zero grad\n",
        "        optimizerG.zero_grad()\n",
        "\n",
        "        # 4. Loss backward\n",
        "        loss.backward(retain_graph=True)\n",
        "            \n",
        "        optimizerG.step()\n",
        "        \n",
        "        loss_g.append(loss.item())\n",
        "\n",
        "    if epoch % 5 == 0:\n",
        "        print(\"Iterations: \", iters, \"Epoch: \", epoch, \"Generator loss: \", loss.item(), \"Discriminator loss: \", loss_tot.item())\n",
        "\n",
        "    #save the output\n",
        "    with torch.no_grad():\n",
        "        if epoch % 5 == 0:\n",
        "            \n",
        "            # global current_batch_size\n",
        "            fixed_noise = torch.randn((current_batch_size, ModelArgs.latent_vector_size, 1, 1), dtype=torch.float32, device=ModelArgs.device)\n",
        "            print('saving the output')\n",
        "            torchvision.utils.save_image(X,'{}/real_images_epoch_{}.png'.format(save_images, epoch),normalize=True)\n",
        "            # global fixed_noise\n",
        "            fake = generator(fixed_noise, y)\n",
        "            torchvision.utils.save_image(fake,'{}/fake_images_epoch_{}.png'.format(save_images, epoch),normalize=True)\n",
        "\n",
        "            img_grid_fake = torchvision.utils.make_grid(fake, normalize=True)\n",
        "            img_grid_real = torchvision.utils.make_grid(X, normalize=True)\n",
        "                \n",
        "            writer_fake.add_image(\n",
        "                        \"Mnist Fake Images\", img_grid_fake, global_step=epoch\n",
        "                    )\n",
        "            writer_real.add_image(\n",
        "                        \"Mnist Real Images\", img_grid_real, global_step=epoch\n",
        "                    )\n",
        "                    \n",
        "\n",
        "            # Check pointing for every epoch\n",
        "            # torch.save(generator.state_dict(), 'weights/CelebA/generator_steps_%d.pth' % (iters))\n",
        "            # torch.save(discriminator.state_dict(), 'weights/CelebA/discriminator_steps_%d.pth' % (iters))\n",
        "\n",
        "\n",
        "        iters += 1\n"
      ]
    },
    {
      "cell_type": "code",
      "execution_count": null,
      "metadata": {
        "id": "SjpDdznGQhCu",
        "outputId": "5e51cdf3-03f1-4fac-9ae8-7c062d3d2c9d"
      },
      "outputs": [
        {
          "data": {
            "image/png": "[encoded data removed]",
            "text/plain": [
              "<Figure size 1000x500 with 1 Axes>"
            ]
          },
          "metadata": {},
          "output_type": "display_data"
        }
      ],
      "source": [
        "#For CelebA\n",
        "import matplotlib.pyplot as plt\n",
        "import matplotlib.animation as animation\n",
        "from IPython.display import HTML\n",
        "import numpy as np\n",
        "\n",
        "plt.figure(figsize=(10,5))\n",
        "plt.title(\"Generator and Discriminator Loss During Training\")\n",
        "plt.plot(loss_g,label=\"G\")\n",
        "plt.plot(loss_d,label=\"D\")\n",
        "plt.xlabel(\"Iterations\")\n",
        "plt.ylabel(\"Loss\")\n",
        "plt.legend()\n",
        "plt.show()\n",
        "\n"
      ]
    },
    {
      "cell_type": "code",
      "execution_count": null,
      "metadata": {
        "id": "ql_-Z82gFN-V",
        "outputId": "5899d729-d1ed-49e1-e78e-88c9e008b728"
      },
      "outputs": [
        {
          "data": {
            "image/png": "[encoded data removed]",
            "text/plain": [
              "<Figure size 1000x500 with 1 Axes>"
            ]
          },
          "metadata": {},
          "output_type": "display_data"
        }
      ],
      "source": [
        "#For CIFAR10\n",
        "import matplotlib.pyplot as plt\n",
        "import matplotlib.animation as animation\n",
        "from IPython.display import HTML\n",
        "import numpy as np\n",
        "\n",
        "plt.figure(figsize=(10,5))\n",
        "plt.title(\"Generator and Discriminator Loss During Training\")\n",
        "plt.plot(loss_g,label=\"G\")\n",
        "plt.plot(loss_d,label=\"D\")\n",
        "plt.xlabel(\"Iterations\")\n",
        "plt.ylabel(\"Loss\")\n",
        "plt.legend()\n",
        "plt.show()\n",
        "\n"
      ]
    },
    {
      "cell_type": "code",
      "execution_count": null,
      "metadata": {
        "id": "W3Gg1k_bQhCu"
      },
      "outputs": [],
      "source": []
    }
  ],
  "metadata": {
    "colab": {
      "provenance": []
    },
    "kernelspec": {
      "display_name": "Python 3",
      "name": "python3"
    },
    "language_info": {
      "codemirror_mode": {
        "name": "ipython",
        "version": 3
      },
      "file_extension": ".py",
      "mimetype": "text/x-python",
      "name": "python",
      "nbconvert_exporter": "python",
      "pygments_lexer": "ipython3",
      "version": "3.10.14"
    }
  },
  "nbformat": 4,
  "nbformat_minor": 0
}
