{
 "cells": [
  {
   "cell_type": "code",
   "execution_count": 4,
   "metadata": {},
   "outputs": [
    {
     "name": "stderr",
     "output_type": "stream",
     "text": [
      "/home/yuvrajsingh/miniconda3/envs/unsloth_env/lib/python3.10/site-packages/torch/cuda/__init__.py:619: UserWarning: Can't initialize NVML\n",
      "  warnings.warn(\"Can't initialize NVML\")\n"
     ]
    }
   ],
   "source": [
    "import torch\n",
    "import torch.nn as nn\n",
    "import torch.nn.functional as F\n",
    "import math\n",
    "from dataclasses import dataclass\n",
    "from torchtune.modules import RMSNorm"
   ]
  },
  {
   "cell_type": "code",
   "execution_count": 6,
   "metadata": {},
   "outputs": [],
   "source": [
    "@dataclass\n",
    "class ModelArgs:\n",
    "    #Hyperparameters\n",
    "\n",
    "    block_size = 512\n",
    "    batch_size = 64\n",
    "    embeddings_dims = 2048\n",
    "    attn_dropout = 0.1\n",
    "    no_of_heads = 32 #IMP needs to be thoroughly calculated\n",
    "    dropout = 0.1\n",
    "    epochs = 100\n",
    "    max_lr = 3e-4\n",
    "    no_of_decoder_layers = 32 #IMP needs to be thoroughly calculated\n",
    "    weight_decay_optim = 0.1\n",
    "    beta_1 = 0.9\n",
    "    beta_2 = 0.95\n",
    "    clip = 1.0\n",
    "    device = 'cuda'"
   ]
  },
  {
   "cell_type": "code",
   "execution_count": 5,
   "metadata": {},
   "outputs": [],
   "source": [
    "class RMENorm(nn.Module):\n",
    "    def __init__(\n",
    "        self,\n",
    "        embeddings_dims: int = ModelArgs.embeddings_dims\n",
    "    ):\n",
    "        self.rmsnorm_layer = RMSNorm(dim=embeddings_dims)\n",
    "        \n",
    "    def forward(x, self):\n",
    "        \n",
    "        x = self.rmsnorm_layer(x)\n",
    "        return x\n",
    "        "
   ]
  },
  {
   "cell_type": "code",
   "execution_count": null,
   "metadata": {},
   "outputs": [],
   "source": []
  },
  {
   "cell_type": "code",
   "execution_count": 8,
   "metadata": {},
   "outputs": [],
   "source": [
    "class RotaryEmbeddings(nn.Module):\n",
    "    def __init__(\n",
    "        self,\n",
    "        embeddings_dims: int = ModelArgs.embeddings_dims,\n",
    "        block_size: int = ModelArgs.batch_size\n",
    "    ):\n",
    "        \n",
    "        self.matrix = torch.ones((block_size, embeddings_dims, embeddings_dims), device=ModelArgs.device, requires_grad=False)\n",
    "        self.theta = 0   \n",
    "        for pos in range(block_size):\n",
    "            for j in range(1, embeddings_dims // 2):\n",
    "                self.theta = 10000 ** (-2*(pos-1) / embeddings_dims)\n",
    "                self.matrix[pos, 2*j + 1, 2*j + 1] = torch.cos((pos* self.theta))\n",
    "                self.matrix[pos, 2*j + 1, j + 1] = -torch.sin((pos* self.theta))\n",
    "                self.matrix[pos, 2*j , 2*j ] = -torch.cos((pos* self.theta))\n",
    "                self.matrix[pos, 2*j + 1, 2*j + 1] = torch.sin((pos* self.theta))\n",
    "      \n",
    "    def forward(self, x):\n",
    "        return self.matrix(x)"
   ]
  },
  {
   "cell_type": "code",
   "execution_count": 9,
   "metadata": {},
   "outputs": [],
   "source": [
    "class RotaryAttentionHead(nn.Module):\n",
    "    def __init__(\n",
    "        self,\n",
    "        embeddings_dims: int = ModelArgs.embeddings_dims,\n",
    "        no_of_heads: int = ModelArgs.no_of_heads\n",
    "    ):\n",
    "        self.head_size = embeddings_dims / no_of_heads\n",
    "        self.query = nn.Linear(in_features=embeddings_dims, out_features=self.head_size, device=ModelArgs.device, bias=False)\n",
    "        self.key = nn.Linear(in_features=embeddings_dims, out_features=self.head_size, device=ModelArgs.device, bias=False)\n",
    "        self.value = nn.Linear(in_features=embeddings_dims, out_features=self.head_size, device=ModelArgs.device, bias=False)\n",
    "        self.rotary_matrix = RotaryEmbeddings(embeddings_dims=embeddings_dims)\n",
    "        \n",
    "    def forward(self,x):\n",
    "        query = self.query(x)\n",
    "        key = self.key(x)\n",
    "        values = self.value(x)\n",
    "        \n",
    "        batch, block_size, embeddings_dims = x.shape\n",
    "        masked = torch.tril((block_size, block_size))\n",
    "        rotary_query = self.rotary_matrix(query)\n",
    "        rotary_key = self.rotary_matrix(key)\n",
    "        weights = rotary_query @ (torch.transpose(rotary_key, dim0=-2, dim1=-1))\n",
    "        weights_masked = torch.masked_fill(weights, masked == 0, float('-inf'))\n",
    "        scaled_weights = weights_masked / (torch.sqrt(self.head_size))\n",
    "        scaled_weights = F.softmax(scaled_weights, dim=-1)\n",
    "        out = scaled_weights @ values\n",
    "        \n",
    "        return out\n",
    "    \n",
    "    \n",
    "    \n",
    "    \n",
    "    \n",
    "    \n",
    "    \n",
    "    "
   ]
  }
 ],
 "metadata": {
  "kernelspec": {
   "display_name": "unsloth_env",
   "language": "python",
   "name": "python3"
  },
  "language_info": {
   "codemirror_mode": {
    "name": "ipython",
    "version": 3
   },
   "file_extension": ".py",
   "mimetype": "text/x-python",
   "name": "python",
   "nbconvert_exporter": "python",
   "pygments_lexer": "ipython3",
   "version": "3.10.14"
  }
 },
 "nbformat": 4,
 "nbformat_minor": 2
}
