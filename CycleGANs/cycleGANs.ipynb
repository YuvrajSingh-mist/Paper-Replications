{
 "cells": [
  {
   "cell_type": "code",
   "execution_count": 1,
   "metadata": {},
   "outputs": [],
   "source": [
    "import torch\n",
    "import torch.nn as nn\n",
    "from dataclasses import dataclass\n",
    "import torchvision\n",
    "from torchvision import transforms\n",
    "from PIL import Image\n",
    "import os\n",
    "from torch.utils.data import Dataset, DataLoader\n",
    "from torch.utils.tensorboard import SummaryWriter  \n",
    "from torchvision.utils import save_image"
   ]
  },
  {
   "cell_type": "code",
   "execution_count": 2,
   "metadata": {},
   "outputs": [
    {
     "data": {
      "text/plain": [
       "'cuda'"
      ]
     },
     "execution_count": 2,
     "metadata": {},
     "output_type": "execute_result"
    }
   ],
   "source": [
    "device = \"cuda\" if torch.cuda.is_available() else \"cpu\"\n",
    "# device = 'cpu'\n",
    "device"
   ]
  },
  {
   "cell_type": "code",
   "execution_count": 8,
   "metadata": {},
   "outputs": [],
   "source": [
    "@dataclass\n",
    "class ModelArgs:\n",
    "    device = 'cpu'\n",
    "    batch_size = 1\n",
    "    lr = 0.0002\n",
    "    img_size = 128\n",
    "    no_of_channels = 3\n",
    "    # kernel_size = (4,4)\n",
    "    stride = 2\n",
    "    # dropout = 0.5\n",
    "    padding = 1\n",
    "    # lr_slope = 0.2\n",
    "    # beta_1 = 0.5\n",
    "    # beta_2 = 0.999\n",
    "    no_of_kernel = 64\n",
    "    lambda_gen = 10"
   ]
  },
  {
   "cell_type": "code",
   "execution_count": 6,
   "metadata": {},
   "outputs": [],
   "source": [
    "ModelArgs.device = device"
   ]
  },
  {
   "cell_type": "code",
   "execution_count": 5,
   "metadata": {},
   "outputs": [],
   "source": [
    "def weights_init(m):\n",
    "    classname = m.__class__.__name__\n",
    "    if classname.find('Conv') != -1:\n",
    "        nn.init.normal_(m.weight.data, 0.0, 0.02)  #mean = 0, std = 0.02\n",
    "        \n",
    "    if classname.find('Conv2D') != -1:\n",
    "        nn.init.normal_(m.weight.data, 0.0, 0.02)  #mean = 0, std = 0.02"
   ]
  },
  {
   "cell_type": "code",
   "execution_count": null,
   "metadata": {},
   "outputs": [],
   "source": [
    "\n",
    "class Generator(nn.Module):\n",
    "    def __init__(self):\n",
    "        super().__init__()\n",
    "        \n",
    "        \n",
    "        self.main = nn.Sequential([\n",
    "            nn.Conv2d(in_channels=ModelArgs.no_of_channels, out_channels=ModelArgs.no_of_kernel, kernel_size=(7,7), stride=1, padding_mode='reflect', device=ModelArgs.device),\n",
    "            nn.InstanceNorm2d(num_features=64, device=ModelArgs.device),\n",
    "            nn.ReLU(),\n",
    "            nn.Conv2d(in_channels=64, out_channels=128, kernel_size=(3,3), stride=2, padding_mode='reflect', device=ModelArgs.device),\n",
    "            nn.InstanceNorm2d(num_features=128, device=ModelArgs.device),\n",
    "            nn.ReLU(),\n",
    "            nn.Conv2d(in_channels=128, out_channels=256, kernel_size=(3,3), stride=2, padding_mode='reflect', device=ModelArgs.device),\n",
    "            nn.InstanceNorm2d(num_features=256, device=ModelArgs.device),\n",
    "            nn.ReLU(),\n",
    "            nn.Conv2d(in_channels=256, out_channels=256, kernel_size=(7,7), stride=1, padding_mode='reflect', device=ModelArgs.device),\n",
    "            nn.InstanceNorm2d(num_features=64, device=ModelArgs.device),\n",
    "            nn.ReLU(),\n",
    "            nn.Conv2d(in_channels=ModelArgs.no_of_channels, out_channels=ModelArgs.no_of_kernel, kernel_size=(7,7), stride=1, padding_mode='reflect', device=ModelArgs.device),\n",
    "            nn.InstanceNorm2d(num_features=64, device=ModelArgs.device),\n",
    "            nn.ReLU(),\n",
    "            nn.Conv2d(in_channels=ModelArgs.no_of_channels, out_channels=ModelArgs.no_of_kernel, kernel_size=(7,7), stride=1, padding_mode='reflect', device=ModelArgs.device),\n",
    "            nn.InstanceNorm2d(num_features=64, device=ModelArgs.device),\n",
    "            nn.ReLU(),\n",
    "            \n",
    "        ])\n",
    "    \n",
    "    def forward(self, x):\n",
    "        \n",
    "        return x"
   ]
  }
 ],
 "metadata": {
  "kernelspec": {
   "display_name": "unsloth_env",
   "language": "python",
   "name": "python3"
  },
  "language_info": {
   "codemirror_mode": {
    "name": "ipython",
    "version": 3
   },
   "file_extension": ".py",
   "mimetype": "text/x-python",
   "name": "python",
   "nbconvert_exporter": "python",
   "pygments_lexer": "ipython3",
   "version": "3.10.14"
  }
 },
 "nbformat": 4,
 "nbformat_minor": 2
}
