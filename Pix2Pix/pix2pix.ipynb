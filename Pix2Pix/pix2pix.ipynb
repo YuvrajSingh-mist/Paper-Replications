{
 "cells": [
  {
   "cell_type": "code",
   "execution_count": 1,
   "metadata": {},
   "outputs": [],
   "source": [
    "import torch\n",
    "import torch.nn as nn\n",
    "from dataclasses import dataclass\n",
    "import torchvision\n",
    "from torchvision import transforms\n",
    "from PIL import Image\n",
    "import os\n",
    "from torch.utils.data import Dataset, DataLoader\n",
    "from torch.utils.tensorboard import SummaryWriter  \n",
    "from torchvision.utils import save_image"
   ]
  },
  {
   "cell_type": "code",
   "execution_count": 2,
   "metadata": {},
   "outputs": [
    {
     "data": {
      "text/plain": [
       "'cuda'"
      ]
     },
     "execution_count": 2,
     "metadata": {},
     "output_type": "execute_result"
    }
   ],
   "source": [
    "device = \"cuda\" if torch.cuda.is_available() else \"cpu\"\n",
    "# device = 'cpu'\n",
    "device"
   ]
  },
  {
   "cell_type": "code",
   "execution_count": 3,
   "metadata": {},
   "outputs": [],
   "source": [
    "@dataclass\n",
    "class ModelArgs:\n",
    "    device = 'cpu'\n",
    "    batch_size = 1\n",
    "    lr = 0.0002\n",
    "    img_size = 256\n",
    "    no_of_channels = 3\n",
    "    kernel_size = (4,4)\n",
    "    stride = 2\n",
    "    dropout = 0.5\n",
    "    padding = 1\n",
    "    lr_slope = 0.2\n",
    "    beta_1 = 0.5\n",
    "    beta_2 = 0.999\n",
    "    lambda_gen = 100"
   ]
  },
  {
   "cell_type": "code",
   "execution_count": 4,
   "metadata": {},
   "outputs": [],
   "source": [
    "ModelArgs.device = device"
   ]
  },
  {
   "cell_type": "code",
   "execution_count": 5,
   "metadata": {},
   "outputs": [],
   "source": [
    "# #Transforms for images\n",
    "# transforms = torchvision.transforms.Compose([\n",
    "#     transforms.Resize(size=(ModelArgs.img_size,ModelArgs.img_size)),\n",
    "#     transforms.ToTensor(),\n",
    "#     transforms.Normalize((0.5,), (0.5,))\n",
    "\n",
    "# ])"
   ]
  },
  {
   "cell_type": "code",
   "execution_count": null,
   "metadata": {},
   "outputs": [],
   "source": []
  },
  {
   "cell_type": "code",
   "execution_count": 6,
   "metadata": {},
   "outputs": [],
   "source": [
    "def weights_init(m):\n",
    "    classname = m.__class__.__name__\n",
    "    if classname.find('Conv') != -1:\n",
    "        nn.init.normal_(m.weight.data, 0.0, 0.02)  #mean = 0, std = 0.02\n"
   ]
  },
  {
   "cell_type": "code",
   "execution_count": 7,
   "metadata": {},
   "outputs": [],
   "source": [
    "import torch\n",
    "import torch.nn as nn\n",
    "\n",
    "class Encoder(nn.Module):\n",
    "    def __init__(self):\n",
    "        super().__init__()\n",
    "\n",
    "        self.main = nn.Sequential(\n",
    "            nn.Conv2d(ModelArgs.no_of_channels, 64, kernel_size=ModelArgs.kernel_size, stride=ModelArgs.stride, padding=ModelArgs.padding, padding_mode='reflect'),\n",
    "            nn.LeakyReLU(negative_slope=ModelArgs.lr_slope),\n",
    "\n",
    "            nn.Conv2d(64, 128, kernel_size=ModelArgs.kernel_size, stride=ModelArgs.stride, padding=ModelArgs.padding, padding_mode='reflect'),\n",
    "            nn.InstanceNorm2d(128, affine=True),\n",
    "            nn.LeakyReLU(negative_slope=ModelArgs.lr_slope),\n",
    "\n",
    "            nn.Conv2d(128, 256, kernel_size=ModelArgs.kernel_size, stride=ModelArgs.stride, padding=ModelArgs.padding, padding_mode='reflect'),\n",
    "            nn.InstanceNorm2d(256, affine=True),\n",
    "            nn.LeakyReLU(negative_slope=ModelArgs.lr_slope),\n",
    "\n",
    "            nn.Conv2d(256, 512, kernel_size=ModelArgs.kernel_size, stride=ModelArgs.stride, padding=ModelArgs.padding, padding_mode='reflect'),\n",
    "            nn.InstanceNorm2d(512, affine=True),\n",
    "            nn.LeakyReLU(negative_slope=ModelArgs.lr_slope),\n",
    "\n",
    "            nn.Conv2d(512, 512, kernel_size=ModelArgs.kernel_size, stride=ModelArgs.stride, padding=ModelArgs.padding, padding_mode='reflect'),\n",
    "            nn.InstanceNorm2d(512, affine=True),\n",
    "            nn.LeakyReLU(negative_slope=ModelArgs.lr_slope),\n",
    "\n",
    "            nn.Conv2d(512, 512, kernel_size=ModelArgs.kernel_size, stride=ModelArgs.stride, padding=ModelArgs.padding, padding_mode='reflect'),\n",
    "            nn.InstanceNorm2d(512, affine=True),\n",
    "            nn.LeakyReLU(negative_slope=ModelArgs.lr_slope),\n",
    "\n",
    "            nn.Conv2d(512, 512, kernel_size=ModelArgs.kernel_size, stride=1, padding=ModelArgs.padding, padding_mode='reflect'),\n",
    "            nn.InstanceNorm2d(512, affine=True),\n",
    "            nn.LeakyReLU(negative_slope=ModelArgs.lr_slope),\n",
    "\n",
    "            nn.Conv2d(512, 512, kernel_size=ModelArgs.kernel_size, stride=1 ,padding=ModelArgs.padding, padding_mode='reflect'),\n",
    "            nn.InstanceNorm2d(512, affine=True),\n",
    "            nn.LeakyReLU(negative_slope=ModelArgs.lr_slope)\n",
    "        )\n",
    "\n",
    "    def forward(self, x):\n",
    "        skip_connection = []\n",
    "        for layer in self.main:\n",
    "            x = layer(x)\n",
    "            if isinstance(layer, nn.LeakyReLU):\n",
    "                skip_connection.append(x)\n",
    "        return x, skip_connection\n"
   ]
  },
  {
   "cell_type": "code",
   "execution_count": 20,
   "metadata": {},
   "outputs": [],
   "source": [
    "random = torch.randn((ModelArgs.batch_size, ModelArgs.no_of_channels, ModelArgs.img_size, ModelArgs.img_size), device=ModelArgs.device)\n",
    "enc = enc.to(ModelArgs.device)\n",
    "x, skip_connection = enc(random)"
   ]
  },
  {
   "cell_type": "code",
   "execution_count": 18,
   "metadata": {},
   "outputs": [
    {
     "data": {
      "text/plain": [
       "========================================================================================================================\n",
       "Layer (type (var_name))                  Input Shape          Output Shape         Param #              Trainable\n",
       "========================================================================================================================\n",
       "Encoder (Encoder)                        [1, 3, 256, 256]     [1, 512, 2, 2]       --                   True\n",
       "├─Sequential (main)                      --                   --                   --                   True\n",
       "│    └─Conv2d (0)                        [1, 3, 256, 256]     [1, 64, 128, 128]    3,136                True\n",
       "│    └─LeakyReLU (1)                     [1, 64, 128, 128]    [1, 64, 128, 128]    --                   --\n",
       "│    └─Conv2d (2)                        [1, 64, 128, 128]    [1, 128, 64, 64]     131,200              True\n",
       "│    └─InstanceNorm2d (3)                [1, 128, 64, 64]     [1, 128, 64, 64]     256                  True\n",
       "│    └─LeakyReLU (4)                     [1, 128, 64, 64]     [1, 128, 64, 64]     --                   --\n",
       "│    └─Conv2d (5)                        [1, 128, 64, 64]     [1, 256, 32, 32]     524,544              True\n",
       "│    └─InstanceNorm2d (6)                [1, 256, 32, 32]     [1, 256, 32, 32]     512                  True\n",
       "│    └─LeakyReLU (7)                     [1, 256, 32, 32]     [1, 256, 32, 32]     --                   --\n",
       "│    └─Conv2d (8)                        [1, 256, 32, 32]     [1, 512, 16, 16]     2,097,664            True\n",
       "│    └─InstanceNorm2d (9)                [1, 512, 16, 16]     [1, 512, 16, 16]     1,024                True\n",
       "│    └─LeakyReLU (10)                    [1, 512, 16, 16]     [1, 512, 16, 16]     --                   --\n",
       "│    └─Conv2d (11)                       [1, 512, 16, 16]     [1, 512, 8, 8]       4,194,816            True\n",
       "│    └─InstanceNorm2d (12)               [1, 512, 8, 8]       [1, 512, 8, 8]       1,024                True\n",
       "│    └─LeakyReLU (13)                    [1, 512, 8, 8]       [1, 512, 8, 8]       --                   --\n",
       "│    └─Conv2d (14)                       [1, 512, 8, 8]       [1, 512, 4, 4]       4,194,816            True\n",
       "│    └─InstanceNorm2d (15)               [1, 512, 4, 4]       [1, 512, 4, 4]       1,024                True\n",
       "│    └─LeakyReLU (16)                    [1, 512, 4, 4]       [1, 512, 4, 4]       --                   --\n",
       "│    └─Conv2d (17)                       [1, 512, 4, 4]       [1, 512, 3, 3]       4,194,816            True\n",
       "│    └─InstanceNorm2d (18)               [1, 512, 3, 3]       [1, 512, 3, 3]       1,024                True\n",
       "│    └─LeakyReLU (19)                    [1, 512, 3, 3]       [1, 512, 3, 3]       --                   --\n",
       "│    └─Conv2d (20)                       [1, 512, 3, 3]       [1, 512, 2, 2]       4,194,816            True\n",
       "│    └─InstanceNorm2d (21)               [1, 512, 2, 2]       [1, 512, 2, 2]       1,024                True\n",
       "│    └─LeakyReLU (22)                    [1, 512, 2, 2]       [1, 512, 2, 2]       --                   --\n",
       "========================================================================================================================\n",
       "Total params: 19,541,696\n",
       "Trainable params: 19,541,696\n",
       "Non-trainable params: 0\n",
       "Total mult-adds (G): 2.05\n",
       "========================================================================================================================\n",
       "Input size (MB): 0.79\n",
       "Forward/backward pass size (MB): 23.83\n",
       "Params size (MB): 78.17\n",
       "Estimated Total Size (MB): 102.78\n",
       "========================================================================================================================"
      ]
     },
     "execution_count": 18,
     "metadata": {},
     "output_type": "execute_result"
    }
   ],
   "source": [
    "from torchinfo import summary\n",
    "\n",
    "# images = torch.randn(64, 1, 64, 64)\n",
    "# labels = torch.randint(0, 10, (64,), dtype=torch.long)\n",
    "enc = Encoder()\n",
    "summary(model=enc,\n",
    "        input_size=(ModelArgs.batch_size, ModelArgs.no_of_channels, ModelArgs.img_size, ModelArgs.img_size),\n",
    "        # input_data=(images.to(ModelArgs.device), labels.to(ModelArgs.device)),\n",
    "        col_names=[\"input_size\", \"output_size\", \"num_params\", \"trainable\"],\n",
    "        col_width=20,\n",
    "        row_settings=[\"var_names\"])"
   ]
  },
  {
   "cell_type": "code",
   "execution_count": 8,
   "metadata": {},
   "outputs": [],
   "source": [
    "class Decoder(nn.Module):\n",
    "    def __init__(self):\n",
    "        \n",
    "        super().__init__()\n",
    "        \n",
    "        self.main = nn.Sequential(\n",
    "            \n",
    "            # nn.Upsample(size=(3,3)),\n",
    "            nn.ConvTranspose2d(512, 512, kernel_size=ModelArgs.kernel_size, stride=1, padding=ModelArgs.padding),\n",
    "            nn.InstanceNorm2d(512*2,affine=True),\n",
    "            nn.Dropout(p=ModelArgs.dropout),\n",
    "            nn.ReLU(),\n",
    "            # print(\"DOnE\"),\n",
    "            \n",
    "            # nn.Upsample(size=(4,4)),\n",
    "            nn.ConvTranspose2d(512*2, 512, kernel_size=ModelArgs.kernel_size, stride=1, padding=ModelArgs.padding),\n",
    "            nn.InstanceNorm2d(512*2,affine=True),\n",
    "            nn.Dropout(p=ModelArgs.dropout),\n",
    "            nn.ReLU(),\n",
    "               \n",
    "            # nn.Upsample(size=(8,8)),\n",
    "            nn.ConvTranspose2d(512*2, 512, kernel_size=ModelArgs.kernel_size, stride=ModelArgs.stride, padding=ModelArgs.padding),\n",
    "            nn.InstanceNorm2d(512*2,affine=True),\n",
    "            nn.Dropout(p=ModelArgs.dropout),\n",
    "            nn.ReLU(),\n",
    "            \n",
    "            # nn.Upsample(size=(16,16)),\n",
    "            nn.ConvTranspose2d(512*2, 512, kernel_size=ModelArgs.kernel_size, stride=ModelArgs.stride, padding=ModelArgs.padding),\n",
    "            nn.InstanceNorm2d(512*2,affine=True),\n",
    "            # nn.Dropout(p=ModelArgs.dropout),\n",
    "            nn.ReLU(),\n",
    "            \n",
    "            # nn.Upsample(size=(32,32)),\n",
    "            nn.ConvTranspose2d(512*2, 256, kernel_size=ModelArgs.kernel_size, stride=ModelArgs.stride,padding=ModelArgs.padding),\n",
    "            nn.InstanceNorm2d(256*2,affine=True),\n",
    "            nn.ReLU(),\n",
    "            \n",
    "            # nn.Upsample(size=(64,64)),\n",
    "            nn.ConvTranspose2d(256*2, 128, kernel_size=ModelArgs.kernel_size, stride=ModelArgs.stride,padding=ModelArgs.padding),\n",
    "            nn.InstanceNorm2d(128*2,affine=True),\n",
    "            nn.ReLU(),\n",
    "\n",
    "            # nn.Upsample(size=(128,128)),\n",
    "            nn.ConvTranspose2d(128*2, 64, kernel_size=ModelArgs.kernel_size, stride=ModelArgs.stride,padding=ModelArgs.padding),\n",
    "            nn.InstanceNorm2d(64*2,affine=True),\n",
    "            nn.ReLU(),\n",
    "            \n",
    "            # nn.Upsample(size=(256,256)),\n",
    "            # nn.Conv2d(256*2, 128, kernel_size=ModelArgs.kernel_size, padding=ModelArgs.padding),\n",
    "            # nn.InstanceNorm2d(128,affine=True),\n",
    "            # nn.ReLU(),\n",
    "            \n",
    "            \n",
    "            nn.ConvTranspose2d(64*2, ModelArgs.no_of_channels, kernel_size=ModelArgs.kernel_size, stride=ModelArgs.stride, padding=ModelArgs.padding),\n",
    "            nn.Tanh(),\n",
    "        )\n",
    "        \n",
    "    def forward(self, x, skip_connection):\n",
    "        \n",
    "        skip_connection = skip_connection[-2::-1]\n",
    "        count = 0\n",
    "        for idx, layer in enumerate(self.main):\n",
    "            \n",
    "            # print(\"Original: \", x.shape)\n",
    "            if (isinstance(layer, nn.Conv2d) or isinstance(layer, nn.ConvTranspose2d)) and count < len(skip_connection):\n",
    "                \n",
    "                # print(f\"Before applying layer{layer}\", x.shape)\n",
    "                x = layer(x)\n",
    "                # print(f\"After applying layer{layer}:\", x.shape)\n",
    "                # print(\"Skip connection:\",skip_connection[count].shape)\n",
    "                x = torch.concat([x, skip_connection[count]], dim=1)\n",
    "                # print(\"Final: \", x.shape)\n",
    "                # print(count)\n",
    "                count += 1\n",
    "            else:\n",
    "                # print(f\"Before applying layer{layer}\", x.shape)\n",
    "                x = layer(x)\n",
    "                # print(f\"After applying layer{layer}:\", x.shape)\n",
    "        return x\n"
   ]
  },
  {
   "cell_type": "code",
   "execution_count": 24,
   "metadata": {},
   "outputs": [
    {
     "data": {
      "text/plain": [
       "========================================================================================================================\n",
       "Layer (type (var_name))                  Input Shape          Output Shape         Param #              Trainable\n",
       "========================================================================================================================\n",
       "Decoder (Decoder)                        [1, 512, 2, 2]       [1, 3, 256, 256]     --                   True\n",
       "├─Sequential (main)                      --                   --                   --                   True\n",
       "│    └─ConvTranspose2d (0)               [1, 512, 2, 2]       [1, 512, 3, 3]       4,194,816            True\n",
       "│    └─InstanceNorm2d (1)                [1, 1024, 3, 3]      [1, 1024, 3, 3]      2,048                True\n",
       "│    └─Dropout (2)                       [1, 1024, 3, 3]      [1, 1024, 3, 3]      --                   --\n",
       "│    └─ReLU (3)                          [1, 1024, 3, 3]      [1, 1024, 3, 3]      --                   --\n",
       "│    └─ConvTranspose2d (4)               [1, 1024, 3, 3]      [1, 512, 4, 4]       8,389,120            True\n",
       "│    └─InstanceNorm2d (5)                [1, 1024, 4, 4]      [1, 1024, 4, 4]      2,048                True\n",
       "│    └─Dropout (6)                       [1, 1024, 4, 4]      [1, 1024, 4, 4]      --                   --\n",
       "│    └─ReLU (7)                          [1, 1024, 4, 4]      [1, 1024, 4, 4]      --                   --\n",
       "│    └─ConvTranspose2d (8)               [1, 1024, 4, 4]      [1, 512, 8, 8]       8,389,120            True\n",
       "│    └─InstanceNorm2d (9)                [1, 1024, 8, 8]      [1, 1024, 8, 8]      2,048                True\n",
       "│    └─Dropout (10)                      [1, 1024, 8, 8]      [1, 1024, 8, 8]      --                   --\n",
       "│    └─ReLU (11)                         [1, 1024, 8, 8]      [1, 1024, 8, 8]      --                   --\n",
       "│    └─ConvTranspose2d (12)              [1, 1024, 8, 8]      [1, 512, 16, 16]     8,389,120            True\n",
       "│    └─InstanceNorm2d (13)               [1, 1024, 16, 16]    [1, 1024, 16, 16]    2,048                True\n",
       "│    └─ReLU (14)                         [1, 1024, 16, 16]    [1, 1024, 16, 16]    --                   --\n",
       "│    └─ConvTranspose2d (15)              [1, 1024, 16, 16]    [1, 256, 32, 32]     4,194,560            True\n",
       "│    └─InstanceNorm2d (16)               [1, 512, 32, 32]     [1, 512, 32, 32]     1,024                True\n",
       "│    └─ReLU (17)                         [1, 512, 32, 32]     [1, 512, 32, 32]     --                   --\n",
       "│    └─ConvTranspose2d (18)              [1, 512, 32, 32]     [1, 128, 64, 64]     1,048,704            True\n",
       "│    └─InstanceNorm2d (19)               [1, 256, 64, 64]     [1, 256, 64, 64]     512                  True\n",
       "│    └─ReLU (20)                         [1, 256, 64, 64]     [1, 256, 64, 64]     --                   --\n",
       "│    └─ConvTranspose2d (21)              [1, 256, 64, 64]     [1, 64, 128, 128]    262,208              True\n",
       "│    └─InstanceNorm2d (22)               [1, 128, 128, 128]   [1, 128, 128, 128]   256                  True\n",
       "│    └─ReLU (23)                         [1, 128, 128, 128]   [1, 128, 128, 128]   --                   --\n",
       "│    └─ConvTranspose2d (24)              [1, 128, 128, 128]   [1, 3, 256, 256]     6,147                True\n",
       "│    └─Tanh (25)                         [1, 3, 256, 256]     [1, 3, 256, 256]     --                   --\n",
       "========================================================================================================================\n",
       "Total params: 34,883,779\n",
       "Trainable params: 34,883,779\n",
       "Non-trainable params: 0\n",
       "Total mult-adds (G): 16.15\n",
       "========================================================================================================================\n",
       "Input size (MB): 8.06\n",
       "Forward/backward pass size (MB): 49.85\n",
       "Params size (MB): 139.54\n",
       "Estimated Total Size (MB): 197.45\n",
       "========================================================================================================================"
      ]
     },
     "execution_count": 24,
     "metadata": {},
     "output_type": "execute_result"
    }
   ],
   "source": [
    "from torchinfo import summary\n",
    "\n",
    "# images = torch.randn(64, 1, 64, 64)\n",
    "# labels = torch.ran\\dint(0, 10, (64,), dtype=torch.long)\n",
    "dec = Decoder()\n",
    "dec = dec.to(ModelArgs.device)\n",
    "summary(model=dec,\n",
    "        input_data=(x, skip_connection),\n",
    "        # input_data=(images.to(ModelArgs.device), labels.to(ModelArgs.device)),\n",
    "        col_names=[\"input_size\", \"output_size\", \"num_params\", \"trainable\"],\n",
    "        col_width=20,\n",
    "        row_settings=[\"var_names\"])"
   ]
  },
  {
   "cell_type": "code",
   "execution_count": 11,
   "metadata": {},
   "outputs": [],
   "source": [
    "class UNet(nn.Module):\n",
    "    def __init__(\n",
    "        self\n",
    "    ):\n",
    "        super().__init__()\n",
    "        \n",
    "        self.encoder = Encoder()\n",
    "        self.decoder = Decoder()\n",
    "        \n",
    "    def forward(self, x):\n",
    "        \n",
    "        x, skip_connection = self.encoder(x)\n",
    "        x = self.decoder(x, skip_connection)\n",
    "        return x"
   ]
  },
  {
   "cell_type": "code",
   "execution_count": 12,
   "metadata": {},
   "outputs": [
    {
     "name": "stdout",
     "output_type": "stream",
     "text": [
      "UNet(\n",
      "  (encoder): Encoder(\n",
      "    (main): Sequential(\n",
      "      (0): Conv2d(3, 64, kernel_size=(4, 4), stride=(2, 2), padding=(1, 1), padding_mode=reflect)\n",
      "      (1): LeakyReLU(negative_slope=0.2)\n",
      "      (2): Conv2d(64, 128, kernel_size=(4, 4), stride=(2, 2), padding=(1, 1), padding_mode=reflect)\n",
      "      (3): InstanceNorm2d(128, eps=1e-05, momentum=0.1, affine=True, track_running_stats=False)\n",
      "      (4): LeakyReLU(negative_slope=0.2)\n",
      "      (5): Conv2d(128, 256, kernel_size=(4, 4), stride=(2, 2), padding=(1, 1), padding_mode=reflect)\n",
      "      (6): InstanceNorm2d(256, eps=1e-05, momentum=0.1, affine=True, track_running_stats=False)\n",
      "      (7): LeakyReLU(negative_slope=0.2)\n",
      "      (8): Conv2d(256, 512, kernel_size=(4, 4), stride=(2, 2), padding=(1, 1), padding_mode=reflect)\n",
      "      (9): InstanceNorm2d(512, eps=1e-05, momentum=0.1, affine=True, track_running_stats=False)\n",
      "      (10): LeakyReLU(negative_slope=0.2)\n",
      "      (11): Conv2d(512, 512, kernel_size=(4, 4), stride=(2, 2), padding=(1, 1), padding_mode=reflect)\n",
      "      (12): InstanceNorm2d(512, eps=1e-05, momentum=0.1, affine=True, track_running_stats=False)\n",
      "      (13): LeakyReLU(negative_slope=0.2)\n",
      "      (14): Conv2d(512, 512, kernel_size=(4, 4), stride=(2, 2), padding=(1, 1), padding_mode=reflect)\n",
      "      (15): InstanceNorm2d(512, eps=1e-05, momentum=0.1, affine=True, track_running_stats=False)\n",
      "      (16): LeakyReLU(negative_slope=0.2)\n",
      "      (17): Conv2d(512, 512, kernel_size=(4, 4), stride=(1, 1), padding=(1, 1), padding_mode=reflect)\n",
      "      (18): InstanceNorm2d(512, eps=1e-05, momentum=0.1, affine=True, track_running_stats=False)\n",
      "      (19): LeakyReLU(negative_slope=0.2)\n",
      "      (20): Conv2d(512, 512, kernel_size=(4, 4), stride=(1, 1), padding=(1, 1), padding_mode=reflect)\n",
      "      (21): InstanceNorm2d(512, eps=1e-05, momentum=0.1, affine=True, track_running_stats=False)\n",
      "      (22): LeakyReLU(negative_slope=0.2)\n",
      "    )\n",
      "  )\n",
      "  (decoder): Decoder(\n",
      "    (main): Sequential(\n",
      "      (0): ConvTranspose2d(512, 512, kernel_size=(4, 4), stride=(1, 1), padding=(1, 1))\n",
      "      (1): InstanceNorm2d(1024, eps=1e-05, momentum=0.1, affine=True, track_running_stats=False)\n",
      "      (2): Dropout(p=0.5, inplace=False)\n",
      "      (3): ReLU()\n",
      "      (4): ConvTranspose2d(1024, 512, kernel_size=(4, 4), stride=(1, 1), padding=(1, 1))\n",
      "      (5): InstanceNorm2d(1024, eps=1e-05, momentum=0.1, affine=True, track_running_stats=False)\n",
      "      (6): Dropout(p=0.5, inplace=False)\n",
      "      (7): ReLU()\n",
      "      (8): ConvTranspose2d(1024, 512, kernel_size=(4, 4), stride=(2, 2), padding=(1, 1))\n",
      "      (9): InstanceNorm2d(1024, eps=1e-05, momentum=0.1, affine=True, track_running_stats=False)\n",
      "      (10): Dropout(p=0.5, inplace=False)\n",
      "      (11): ReLU()\n",
      "      (12): ConvTranspose2d(1024, 512, kernel_size=(4, 4), stride=(2, 2), padding=(1, 1))\n",
      "      (13): InstanceNorm2d(1024, eps=1e-05, momentum=0.1, affine=True, track_running_stats=False)\n",
      "      (14): ReLU()\n",
      "      (15): ConvTranspose2d(1024, 256, kernel_size=(4, 4), stride=(2, 2), padding=(1, 1))\n",
      "      (16): InstanceNorm2d(512, eps=1e-05, momentum=0.1, affine=True, track_running_stats=False)\n",
      "      (17): ReLU()\n",
      "      (18): ConvTranspose2d(512, 128, kernel_size=(4, 4), stride=(2, 2), padding=(1, 1))\n",
      "      (19): InstanceNorm2d(256, eps=1e-05, momentum=0.1, affine=True, track_running_stats=False)\n",
      "      (20): ReLU()\n",
      "      (21): ConvTranspose2d(256, 64, kernel_size=(4, 4), stride=(2, 2), padding=(1, 1))\n",
      "      (22): InstanceNorm2d(128, eps=1e-05, momentum=0.1, affine=True, track_running_stats=False)\n",
      "      (23): ReLU()\n",
      "      (24): ConvTranspose2d(128, 3, kernel_size=(4, 4), stride=(2, 2), padding=(1, 1))\n",
      "      (25): Tanh()\n",
      "    )\n",
      "  )\n",
      ")\n"
     ]
    }
   ],
   "source": [
    "#Intializing the Discriminator instance\n",
    "unet = UNet().to(ModelArgs.device)\n",
    "#Apply the wieght intilization function layer by layer\n",
    "unet = unet.apply(weights_init)\n",
    "#Printing the structure\n",
    "print(unet)"
   ]
  },
  {
   "cell_type": "code",
   "execution_count": 13,
   "metadata": {},
   "outputs": [
    {
     "data": {
      "text/plain": [
       "========================================================================================================================\n",
       "Layer (type (var_name))                  Input Shape          Output Shape         Param #              Trainable\n",
       "========================================================================================================================\n",
       "UNet (UNet)                              [1, 3, 256, 256]     [1, 3, 256, 256]     --                   True\n",
       "├─Encoder (encoder)                      [1, 3, 256, 256]     [1, 512, 2, 2]       --                   True\n",
       "│    └─Sequential (main)                 --                   --                   --                   True\n",
       "│    │    └─Conv2d (0)                   [1, 3, 256, 256]     [1, 64, 128, 128]    3,136                True\n",
       "│    │    └─LeakyReLU (1)                [1, 64, 128, 128]    [1, 64, 128, 128]    --                   --\n",
       "│    │    └─Conv2d (2)                   [1, 64, 128, 128]    [1, 128, 64, 64]     131,200              True\n",
       "│    │    └─InstanceNorm2d (3)           [1, 128, 64, 64]     [1, 128, 64, 64]     256                  True\n",
       "│    │    └─LeakyReLU (4)                [1, 128, 64, 64]     [1, 128, 64, 64]     --                   --\n",
       "│    │    └─Conv2d (5)                   [1, 128, 64, 64]     [1, 256, 32, 32]     524,544              True\n",
       "│    │    └─InstanceNorm2d (6)           [1, 256, 32, 32]     [1, 256, 32, 32]     512                  True\n",
       "│    │    └─LeakyReLU (7)                [1, 256, 32, 32]     [1, 256, 32, 32]     --                   --\n",
       "│    │    └─Conv2d (8)                   [1, 256, 32, 32]     [1, 512, 16, 16]     2,097,664            True\n",
       "│    │    └─InstanceNorm2d (9)           [1, 512, 16, 16]     [1, 512, 16, 16]     1,024                True\n",
       "│    │    └─LeakyReLU (10)               [1, 512, 16, 16]     [1, 512, 16, 16]     --                   --\n",
       "│    │    └─Conv2d (11)                  [1, 512, 16, 16]     [1, 512, 8, 8]       4,194,816            True\n",
       "│    │    └─InstanceNorm2d (12)          [1, 512, 8, 8]       [1, 512, 8, 8]       1,024                True\n",
       "│    │    └─LeakyReLU (13)               [1, 512, 8, 8]       [1, 512, 8, 8]       --                   --\n",
       "│    │    └─Conv2d (14)                  [1, 512, 8, 8]       [1, 512, 4, 4]       4,194,816            True\n",
       "│    │    └─InstanceNorm2d (15)          [1, 512, 4, 4]       [1, 512, 4, 4]       1,024                True\n",
       "│    │    └─LeakyReLU (16)               [1, 512, 4, 4]       [1, 512, 4, 4]       --                   --\n",
       "│    │    └─Conv2d (17)                  [1, 512, 4, 4]       [1, 512, 3, 3]       4,194,816            True\n",
       "│    │    └─InstanceNorm2d (18)          [1, 512, 3, 3]       [1, 512, 3, 3]       1,024                True\n",
       "│    │    └─LeakyReLU (19)               [1, 512, 3, 3]       [1, 512, 3, 3]       --                   --\n",
       "│    │    └─Conv2d (20)                  [1, 512, 3, 3]       [1, 512, 2, 2]       4,194,816            True\n",
       "│    │    └─InstanceNorm2d (21)          [1, 512, 2, 2]       [1, 512, 2, 2]       1,024                True\n",
       "│    │    └─LeakyReLU (22)               [1, 512, 2, 2]       [1, 512, 2, 2]       --                   --\n",
       "├─Decoder (decoder)                      [1, 512, 2, 2]       [1, 3, 256, 256]     --                   True\n",
       "│    └─Sequential (main)                 --                   --                   --                   True\n",
       "│    │    └─ConvTranspose2d (0)          [1, 512, 2, 2]       [1, 512, 3, 3]       4,194,816            True\n",
       "│    │    └─InstanceNorm2d (1)           [1, 1024, 3, 3]      [1, 1024, 3, 3]      2,048                True\n",
       "│    │    └─Dropout (2)                  [1, 1024, 3, 3]      [1, 1024, 3, 3]      --                   --\n",
       "│    │    └─ReLU (3)                     [1, 1024, 3, 3]      [1, 1024, 3, 3]      --                   --\n",
       "│    │    └─ConvTranspose2d (4)          [1, 1024, 3, 3]      [1, 512, 4, 4]       8,389,120            True\n",
       "│    │    └─InstanceNorm2d (5)           [1, 1024, 4, 4]      [1, 1024, 4, 4]      2,048                True\n",
       "│    │    └─Dropout (6)                  [1, 1024, 4, 4]      [1, 1024, 4, 4]      --                   --\n",
       "│    │    └─ReLU (7)                     [1, 1024, 4, 4]      [1, 1024, 4, 4]      --                   --\n",
       "│    │    └─ConvTranspose2d (8)          [1, 1024, 4, 4]      [1, 512, 8, 8]       8,389,120            True\n",
       "│    │    └─InstanceNorm2d (9)           [1, 1024, 8, 8]      [1, 1024, 8, 8]      2,048                True\n",
       "│    │    └─Dropout (10)                 [1, 1024, 8, 8]      [1, 1024, 8, 8]      --                   --\n",
       "│    │    └─ReLU (11)                    [1, 1024, 8, 8]      [1, 1024, 8, 8]      --                   --\n",
       "│    │    └─ConvTranspose2d (12)         [1, 1024, 8, 8]      [1, 512, 16, 16]     8,389,120            True\n",
       "│    │    └─InstanceNorm2d (13)          [1, 1024, 16, 16]    [1, 1024, 16, 16]    2,048                True\n",
       "│    │    └─ReLU (14)                    [1, 1024, 16, 16]    [1, 1024, 16, 16]    --                   --\n",
       "│    │    └─ConvTranspose2d (15)         [1, 1024, 16, 16]    [1, 256, 32, 32]     4,194,560            True\n",
       "│    │    └─InstanceNorm2d (16)          [1, 512, 32, 32]     [1, 512, 32, 32]     1,024                True\n",
       "│    │    └─ReLU (17)                    [1, 512, 32, 32]     [1, 512, 32, 32]     --                   --\n",
       "│    │    └─ConvTranspose2d (18)         [1, 512, 32, 32]     [1, 128, 64, 64]     1,048,704            True\n",
       "│    │    └─InstanceNorm2d (19)          [1, 256, 64, 64]     [1, 256, 64, 64]     512                  True\n",
       "│    │    └─ReLU (20)                    [1, 256, 64, 64]     [1, 256, 64, 64]     --                   --\n",
       "│    │    └─ConvTranspose2d (21)         [1, 256, 64, 64]     [1, 64, 128, 128]    262,208              True\n",
       "│    │    └─InstanceNorm2d (22)          [1, 128, 128, 128]   [1, 128, 128, 128]   256                  True\n",
       "│    │    └─ReLU (23)                    [1, 128, 128, 128]   [1, 128, 128, 128]   --                   --\n",
       "│    │    └─ConvTranspose2d (24)         [1, 128, 128, 128]   [1, 3, 256, 256]     6,147                True\n",
       "│    │    └─Tanh (25)                    [1, 3, 256, 256]     [1, 3, 256, 256]     --                   --\n",
       "========================================================================================================================\n",
       "Total params: 54,425,475\n",
       "Trainable params: 54,425,475\n",
       "Non-trainable params: 0\n",
       "Total mult-adds (G): 18.20\n",
       "========================================================================================================================\n",
       "Input size (MB): 0.79\n",
       "Forward/backward pass size (MB): 73.68\n",
       "Params size (MB): 217.70\n",
       "Estimated Total Size (MB): 292.17\n",
       "========================================================================================================================"
      ]
     },
     "execution_count": 13,
     "metadata": {},
     "output_type": "execute_result"
    }
   ],
   "source": [
    "\n",
    "from torchinfo import summary\n",
    "\n",
    "# images = torch.randn(ModelArgs.batch_size, ModelArgs.no_of_channels, ModelArgs.img_size, ModelArgs.img_size)\n",
    "# labels = torch.randint(0, 10, (64,), dtype=torch.long)\n",
    "\n",
    "summary(model=unet,\n",
    "        input_size=(ModelArgs.batch_size, ModelArgs.no_of_channels, ModelArgs.img_size, ModelArgs.img_size),\n",
    "        # input_data=(images.to(ModelArgs.device), labels.to(ModelArgs.device)),\n",
    "        col_names=[\"input_size\", \"output_size\", \"num_params\", \"trainable\"],\n",
    "        col_width=20,\n",
    "        row_settings=[\"var_names\"])\n"
   ]
  },
  {
   "cell_type": "code",
   "execution_count": 14,
   "metadata": {},
   "outputs": [],
   "source": [
    "class Discriminator(nn.Module):\n",
    "    def __init__(self):\n",
    "        super().__init__()\n",
    "        \n",
    "        self.main = nn.Sequential(\n",
    "            nn.Conv2d(ModelArgs.no_of_channels*2, 64, kernel_size=ModelArgs.kernel_size, stride=ModelArgs.stride, padding=ModelArgs.padding, padding_mode='reflect'),\n",
    "            nn.LeakyReLU(negative_slope=ModelArgs.lr_slope),\n",
    "                \n",
    "            nn.Conv2d(64, 128, kernel_size=ModelArgs.kernel_size, stride=ModelArgs.stride, padding=ModelArgs.padding, padding_mode='reflect'),\n",
    "            nn.InstanceNorm2d(128, affine=True),\n",
    "            nn.LeakyReLU(negative_slope=ModelArgs.lr_slope),\n",
    "               \n",
    "            nn.Conv2d(128, 256, kernel_size=ModelArgs.kernel_size, stride=ModelArgs.stride, padding=ModelArgs.padding, padding_mode='reflect'),\n",
    "            nn.InstanceNorm2d(256, affine=True),\n",
    "            nn.LeakyReLU(negative_slope=ModelArgs.lr_slope),\n",
    "              \n",
    "            nn.Conv2d(256, 512, kernel_size=ModelArgs.kernel_size, stride=1, padding=ModelArgs.padding, padding_mode='reflect'),\n",
    "            nn.InstanceNorm2d(512, affine=True),\n",
    "            nn.LeakyReLU(negative_slope=ModelArgs.lr_slope),\n",
    "            \n",
    "            nn.Conv2d(512, 1, kernel_size=ModelArgs.kernel_size, stride=1, padding=ModelArgs.padding, padding_mode='reflect'),\n",
    "\n",
    "            nn.Sigmoid()\n",
    "        )\n",
    "        \n",
    "    def forward(self, x, y):\n",
    "        res = torch.concat([x, y], dim=1)\n",
    "        return self.main(res)\n"
   ]
  },
  {
   "cell_type": "code",
   "execution_count": 26,
   "metadata": {},
   "outputs": [
    {
     "name": "stdout",
     "output_type": "stream",
     "text": [
      "Discriminator(\n",
      "  (main): Sequential(\n",
      "    (0): Conv2d(6, 64, kernel_size=(4, 4), stride=(2, 2), padding=(1, 1), padding_mode=reflect)\n",
      "    (1): LeakyReLU(negative_slope=0.2)\n",
      "    (2): Conv2d(64, 128, kernel_size=(4, 4), stride=(2, 2), padding=(1, 1), padding_mode=reflect)\n",
      "    (3): InstanceNorm2d(128, eps=1e-05, momentum=0.1, affine=True, track_running_stats=False)\n",
      "    (4): LeakyReLU(negative_slope=0.2)\n",
      "    (5): Conv2d(128, 256, kernel_size=(4, 4), stride=(2, 2), padding=(1, 1), padding_mode=reflect)\n",
      "    (6): InstanceNorm2d(256, eps=1e-05, momentum=0.1, affine=True, track_running_stats=False)\n",
      "    (7): LeakyReLU(negative_slope=0.2)\n",
      "    (8): Conv2d(256, 512, kernel_size=(4, 4), stride=(1, 1), padding=(1, 1), padding_mode=reflect)\n",
      "    (9): InstanceNorm2d(512, eps=1e-05, momentum=0.1, affine=True, track_running_stats=False)\n",
      "    (10): LeakyReLU(negative_slope=0.2)\n",
      "    (11): Conv2d(512, 1, kernel_size=(4, 4), stride=(1, 1), padding=(1, 1), padding_mode=reflect)\n",
      "    (12): Sigmoid()\n",
      "  )\n",
      ")\n"
     ]
    }
   ],
   "source": [
    "#Intializing the Discriminator instance\n",
    "discriminator = Discriminator().to(ModelArgs.device)\n",
    "#Apply the wieght intilization function layer by layer\n",
    "discriminator = discriminator.apply(weights_init)\n",
    "#Printing the structure\n",
    "print(discriminator)"
   ]
  },
  {
   "cell_type": "code",
   "execution_count": 27,
   "metadata": {},
   "outputs": [
    {
     "data": {
      "text/plain": [
       "========================================================================================================================\n",
       "Layer (type (var_name))                  Input Shape          Output Shape         Param #              Trainable\n",
       "========================================================================================================================\n",
       "Discriminator (Discriminator)            [1, 3, 256, 256]     [1, 1, 30, 30]       --                   True\n",
       "├─Sequential (main)                      [1, 6, 256, 256]     [1, 1, 30, 30]       --                   True\n",
       "│    └─Conv2d (0)                        [1, 6, 256, 256]     [1, 64, 128, 128]    6,208                True\n",
       "│    └─LeakyReLU (1)                     [1, 64, 128, 128]    [1, 64, 128, 128]    --                   --\n",
       "│    └─Conv2d (2)                        [1, 64, 128, 128]    [1, 128, 64, 64]     131,200              True\n",
       "│    └─InstanceNorm2d (3)                [1, 128, 64, 64]     [1, 128, 64, 64]     256                  True\n",
       "│    └─LeakyReLU (4)                     [1, 128, 64, 64]     [1, 128, 64, 64]     --                   --\n",
       "│    └─Conv2d (5)                        [1, 128, 64, 64]     [1, 256, 32, 32]     524,544              True\n",
       "│    └─InstanceNorm2d (6)                [1, 256, 32, 32]     [1, 256, 32, 32]     512                  True\n",
       "│    └─LeakyReLU (7)                     [1, 256, 32, 32]     [1, 256, 32, 32]     --                   --\n",
       "│    └─Conv2d (8)                        [1, 256, 32, 32]     [1, 512, 31, 31]     2,097,664            True\n",
       "│    └─InstanceNorm2d (9)                [1, 512, 31, 31]     [1, 512, 31, 31]     1,024                True\n",
       "│    └─LeakyReLU (10)                    [1, 512, 31, 31]     [1, 512, 31, 31]     --                   --\n",
       "│    └─Conv2d (11)                       [1, 512, 31, 31]     [1, 1, 30, 30]       8,193                True\n",
       "│    └─Sigmoid (12)                      [1, 1, 30, 30]       [1, 1, 30, 30]       --                   --\n",
       "========================================================================================================================\n",
       "Total params: 2,769,601\n",
       "Trainable params: 2,769,601\n",
       "Non-trainable params: 0\n",
       "Total mult-adds (G): 3.20\n",
       "========================================================================================================================\n",
       "Input size (MB): 1.57\n",
       "Forward/backward pass size (MB): 28.85\n",
       "Params size (MB): 11.08\n",
       "Estimated Total Size (MB): 41.50\n",
       "========================================================================================================================"
      ]
     },
     "execution_count": 27,
     "metadata": {},
     "output_type": "execute_result"
    }
   ],
   "source": [
    "from torchinfo import summary\n",
    "\n",
    "real_A = torch.randn(ModelArgs.batch_size, ModelArgs.no_of_channels, ModelArgs.img_size, ModelArgs.img_size)\n",
    "real_B = torch.randn(ModelArgs.batch_size, ModelArgs.no_of_channels, ModelArgs.img_size, ModelArgs.img_size)\n",
    "# labels = torch.randint(0, 10, (64,), dtype=torch.long)\n",
    "\n",
    "summary(model=discriminator,\n",
    "        # input_size=(ModelArgs.batch_size, ModelArgs.no_of_channels, ModelArgs.img_size, ModelArgs.img_size),\n",
    "        input_data=(real_A.to(ModelArgs.device), real_B.to(ModelArgs.device)),\n",
    "        col_names=[\"input_size\", \"output_size\", \"num_params\", \"trainable\"],\n",
    "        col_width=20,\n",
    "        row_settings=[\"var_names\"])"
   ]
  },
  {
   "cell_type": "code",
   "execution_count": 15,
   "metadata": {},
   "outputs": [],
   "source": [
    "unet = UNet().to(ModelArgs.device).apply(weights_init)\n",
    "discriminator = Discriminator().to(ModelArgs.device).apply(weights_init)\n",
    "\n",
    "loss_fn = nn.BCELoss()  #BCELoss function\n",
    "epochs = 200 #30\n",
    "\n",
    "\n",
    "optimizerG = torch.optim.Adam(params=unet.parameters(), lr=ModelArgs.lr, betas=(ModelArgs.beta_1, ModelArgs.beta_2)) #For discriminator\n",
    "optimizerD = torch.optim.Adam(params=discriminator.parameters(), lr=ModelArgs.lr,  betas=(ModelArgs.beta_1, ModelArgs.beta_2)) #For generator\n",
    "\n",
    "\n",
    "\n",
    "real_label = 1\n",
    "fake_label = 0\n",
    "\n",
    "\n",
    "loss_g = []\n",
    "loss_d = []\n",
    "img_list = []\n"
   ]
  },
  {
   "cell_type": "code",
   "execution_count": 16,
   "metadata": {},
   "outputs": [],
   "source": [
    "#Preparing the dataset\n",
    "\n",
    "# https://github.com/phillipi/pix2pix/tree/master/datasets"
   ]
  },
  {
   "cell_type": "code",
   "execution_count": 17,
   "metadata": {},
   "outputs": [],
   "source": [
    "#Config\n",
    "import torch\n",
    "import albumentations as A\n",
    "from albumentations.pytorch import ToTensorV2\n",
    "\n",
    "\n",
    "both_transform = A.Compose(\n",
    "    [A.Resize(width=ModelArgs.img_size, height=ModelArgs.img_size),], additional_targets={\"image0\": \"image\"},\n",
    ")\n",
    "\n",
    "transform_only_input = A.Compose(\n",
    "    [\n",
    "        A.HorizontalFlip(p=0.5),\n",
    "        A.ColorJitter(p=0.2),\n",
    "        # A.Normalize(mean=[0.5, 0.5, 0.5], std=[0.5, 0.5, 0.5], max_pixel_value=255.0,),\n",
    "        A.ToFloat(max_value=ModelArgs.img_size),\n",
    "        ToTensorV2(),\n",
    "    ]\n",
    ")\n",
    "\n",
    "transform_only_mask = A.Compose(\n",
    "    [\n",
    "        # A.Normalize(mean=[0.5, 0.5, 0.5], std=[0.5, 0.5, 0.5], max_pixel_value=255.0,),\n",
    "        A.ToFloat(max_value=ModelArgs.img_size),\n",
    "        ToTensorV2(),\n",
    "    ]\n",
    ")"
   ]
  },
  {
   "cell_type": "code",
   "execution_count": 18,
   "metadata": {},
   "outputs": [],
   "source": [
    "import numpy as np\n",
    "class Aerial2MapDataset(Dataset):\n",
    "    \n",
    "    def __init__(self, root_dir) -> None:\n",
    "        super().__init__()\n",
    "        self.train_path = root_dir\n",
    "        self.dir = os.listdir(self.train_path)\n",
    "        \n",
    "    def __len__(self):\n",
    "        return len(self.dir)\n",
    "    \n",
    "    def __getitem__(self, index):    \n",
    "        \n",
    "        current_img = self.dir[index]\n",
    "        img_path = os.path.join(self.train_path, current_img) \n",
    "        img = np.array(Image.open(img_path))\n",
    "        input = img[:, :600, :]\n",
    "        mask = img[:, 600:, :]\n",
    "        augmentataions = both_transform(image = input, image0 = mask)\n",
    "        input = augmentataions['image']\n",
    "        mask = augmentataions['image0']\n",
    "        \n",
    "        input_transformed = transform_only_input(image = input)['image']\n",
    "        mask_transformed = transform_only_mask(image = mask)['image']\n",
    "        \n",
    "        return input_transformed, mask_transformed"
   ]
  },
  {
   "cell_type": "code",
   "execution_count": 19,
   "metadata": {},
   "outputs": [],
   "source": [
    "#Creating dataloaders\n",
    "dir = 'data/maps/train'\n",
    "train = Aerial2MapDataset(dir)\n",
    "trainloader = DataLoader(train, batch_size=ModelArgs.batch_size, shuffle=True)\n",
    "val_dir = 'data/maps/val'\n",
    "val = Aerial2MapDataset(val_dir)\n",
    "valloader = DataLoader(val, batch_size=ModelArgs.batch_size, shuffle=False)\n"
   ]
  },
  {
   "cell_type": "code",
   "execution_count": 20,
   "metadata": {},
   "outputs": [],
   "source": [
    "from pathlib  import Path\n",
    "save_images = Path('generated_images/')\n",
    "# enc = Encoder()"
   ]
  },
  {
   "cell_type": "code",
   "execution_count": 21,
   "metadata": {},
   "outputs": [
    {
     "data": {
      "image/png": "[encoded data removed]",
      "text/plain": [
       "<Figure size 640x480 with 1 Axes>"
      ]
     },
     "metadata": {},
     "output_type": "display_data"
    }
   ],
   "source": [
    "import matplotlib.pyplot as plt\n",
    "import numpy as np\n",
    "\n",
    "for X, y in trainloader:\n",
    "    imageX = X[0]\n",
    "    # imagey = y[0]\n",
    "\n",
    "    imageX = imageX.permute(1, 2, 0).numpy()\n",
    "    # imagey = imagey.permute(1, 2, 0).numpy()\n",
    "    # Plot the image\n",
    "    plt.imshow(imageX)\n",
    "    # plt.imshow(imagey)\n",
    "    plt.show()\n",
    "    plt.show()\n",
    "    break\n"
   ]
  },
  {
   "cell_type": "code",
   "execution_count": 22,
   "metadata": {},
   "outputs": [
    {
     "name": "stderr",
     "output_type": "stream",
     "text": [
      "  0%|          | 0/200 [00:00<?, ?it/s]"
     ]
    },
    {
     "name": "stdout",
     "output_type": "stream",
     "text": [
      "Iterations:  0 Epoch:  0 Generator loss:  83.75187683105469 Discriminator loss:  0.7039205431938171\n",
      "saving the output\n",
      "Iterations:  500 Epoch:  0 Generator loss:  10.83897876739502 Discriminator loss:  0.9554570317268372\n",
      "saving the output\n",
      "Iterations:  1000 Epoch:  0 Generator loss:  9.843153953552246 Discriminator loss:  0.5596585273742676\n",
      "saving the output\n"
     ]
    },
    {
     "name": "stderr",
     "output_type": "stream",
     "text": [
      "  0%|          | 1/200 [01:47<5:56:08, 107.38s/it]"
     ]
    },
    {
     "name": "stdout",
     "output_type": "stream",
     "text": [
      "Iterations:  1500 Epoch:  1 Generator loss:  5.342258930206299 Discriminator loss:  0.7175567150115967\n",
      "saving the output\n",
      "Iterations:  2000 Epoch:  1 Generator loss:  4.7650933265686035 Discriminator loss:  0.7378393411636353\n",
      "saving the output\n"
     ]
    },
    {
     "name": "stderr",
     "output_type": "stream",
     "text": [
      "  1%|          | 2/200 [03:50<6:25:43, 116.89s/it]"
     ]
    },
    {
     "name": "stdout",
     "output_type": "stream",
     "text": [
      "Iterations:  2500 Epoch:  2 Generator loss:  4.046691417694092 Discriminator loss:  0.5904740691184998\n",
      "saving the output\n",
      "Iterations:  3000 Epoch:  2 Generator loss:  6.641479969024658 Discriminator loss:  0.256919801235199\n",
      "saving the output\n"
     ]
    },
    {
     "name": "stderr",
     "output_type": "stream",
     "text": [
      "  2%|▏         | 3/200 [05:57<6:37:44, 121.14s/it]"
     ]
    },
    {
     "name": "stdout",
     "output_type": "stream",
     "text": [
      "Iterations:  3500 Epoch:  3 Generator loss:  5.978009223937988 Discriminator loss:  0.320709764957428\n",
      "saving the output\n",
      "Iterations:  4000 Epoch:  3 Generator loss:  6.364668369293213 Discriminator loss:  0.16073954105377197\n",
      "saving the output\n"
     ]
    },
    {
     "name": "stderr",
     "output_type": "stream",
     "text": [
      "  2%|▏         | 4/200 [08:01<6:39:57, 122.44s/it]"
     ]
    },
    {
     "name": "stdout",
     "output_type": "stream",
     "text": [
      "Iterations:  4500 Epoch:  4 Generator loss:  8.773744583129883 Discriminator loss:  0.2698599398136139\n",
      "saving the output\n",
      "Iterations:  5000 Epoch:  4 Generator loss:  8.656087875366211 Discriminator loss:  0.17114245891571045\n",
      "saving the output\n"
     ]
    },
    {
     "name": "stderr",
     "output_type": "stream",
     "text": [
      "  2%|▎         | 5/200 [10:07<6:41:40, 123.59s/it]"
     ]
    },
    {
     "name": "stdout",
     "output_type": "stream",
     "text": [
      "Iterations:  5500 Epoch:  5 Generator loss:  5.592310428619385 Discriminator loss:  0.7625845670700073\n",
      "saving the output\n",
      "Iterations:  6000 Epoch:  5 Generator loss:  6.299828052520752 Discriminator loss:  0.6957265138626099\n",
      "saving the output\n",
      "Iterations:  6500 Epoch:  5 Generator loss:  5.610584259033203 Discriminator loss:  0.283901572227478\n",
      "saving the output\n"
     ]
    },
    {
     "name": "stderr",
     "output_type": "stream",
     "text": [
      "  3%|▎         | 6/200 [12:09<6:38:25, 123.22s/it]"
     ]
    },
    {
     "name": "stdout",
     "output_type": "stream",
     "text": [
      "Iterations:  7000 Epoch:  6 Generator loss:  3.776212692260742 Discriminator loss:  0.3274754285812378\n",
      "saving the output\n",
      "Iterations:  7500 Epoch:  6 Generator loss:  4.606759548187256 Discriminator loss:  0.33326467871665955\n",
      "saving the output\n"
     ]
    },
    {
     "name": "stderr",
     "output_type": "stream",
     "text": [
      "  4%|▎         | 7/200 [14:12<6:35:48, 123.05s/it]"
     ]
    },
    {
     "name": "stdout",
     "output_type": "stream",
     "text": [
      "Iterations:  8000 Epoch:  7 Generator loss:  6.621406078338623 Discriminator loss:  0.2215677946805954\n",
      "saving the output\n",
      "Iterations:  8500 Epoch:  7 Generator loss:  5.410435199737549 Discriminator loss:  0.23142105340957642\n",
      "saving the output\n"
     ]
    },
    {
     "name": "stderr",
     "output_type": "stream",
     "text": [
      "  4%|▍         | 8/200 [16:13<6:32:13, 122.57s/it]"
     ]
    },
    {
     "name": "stdout",
     "output_type": "stream",
     "text": [
      "Iterations:  9000 Epoch:  8 Generator loss:  8.540616989135742 Discriminator loss:  0.2290811389684677\n",
      "saving the output\n",
      "Iterations:  9500 Epoch:  8 Generator loss:  7.238128185272217 Discriminator loss:  0.15590059757232666\n",
      "saving the output\n"
     ]
    },
    {
     "name": "stderr",
     "output_type": "stream",
     "text": [
      "  4%|▍         | 9/200 [18:13<6:26:57, 121.56s/it]"
     ]
    },
    {
     "name": "stdout",
     "output_type": "stream",
     "text": [
      "Iterations:  10000 Epoch:  9 Generator loss:  7.646239280700684 Discriminator loss:  0.10787440836429596\n",
      "saving the output\n",
      "Iterations:  10500 Epoch:  9 Generator loss:  5.168174743652344 Discriminator loss:  0.10713286697864532\n",
      "saving the output\n"
     ]
    },
    {
     "name": "stderr",
     "output_type": "stream",
     "text": [
      "  5%|▌         | 10/200 [20:12<6:22:44, 120.87s/it]"
     ]
    },
    {
     "name": "stdout",
     "output_type": "stream",
     "text": [
      "Iterations:  11000 Epoch:  10 Generator loss:  5.178112506866455 Discriminator loss:  0.5236691236495972\n",
      "saving the output\n",
      "Iterations:  11500 Epoch:  10 Generator loss:  5.313735008239746 Discriminator loss:  0.16280174255371094\n",
      "saving the output\n",
      "Iterations:  12000 Epoch:  10 Generator loss:  9.749462127685547 Discriminator loss:  0.3590596318244934\n",
      "saving the output\n"
     ]
    },
    {
     "name": "stderr",
     "output_type": "stream",
     "text": [
      "  6%|▌         | 11/200 [22:08<6:15:47, 119.30s/it]"
     ]
    },
    {
     "name": "stdout",
     "output_type": "stream",
     "text": [
      "Iterations:  12500 Epoch:  11 Generator loss:  9.80942440032959 Discriminator loss:  0.1558782309293747\n",
      "saving the output\n",
      "Iterations:  13000 Epoch:  11 Generator loss:  4.280190944671631 Discriminator loss:  0.42022189497947693\n",
      "saving the output\n"
     ]
    },
    {
     "name": "stderr",
     "output_type": "stream",
     "text": [
      "  6%|▌         | 12/200 [23:59<6:06:03, 116.83s/it]"
     ]
    },
    {
     "name": "stdout",
     "output_type": "stream",
     "text": [
      "Iterations:  13500 Epoch:  12 Generator loss:  7.323391914367676 Discriminator loss:  0.281328022480011\n",
      "saving the output\n",
      "Iterations:  14000 Epoch:  12 Generator loss:  5.962327003479004 Discriminator loss:  0.2115054726600647\n",
      "saving the output\n"
     ]
    },
    {
     "name": "stderr",
     "output_type": "stream",
     "text": [
      "  6%|▋         | 13/200 [25:51<5:59:31, 115.36s/it]"
     ]
    },
    {
     "name": "stdout",
     "output_type": "stream",
     "text": [
      "Iterations:  14500 Epoch:  13 Generator loss:  6.852650165557861 Discriminator loss:  0.5475685000419617\n",
      "saving the output\n",
      "Iterations:  15000 Epoch:  13 Generator loss:  5.53062105178833 Discriminator loss:  0.05937762185931206\n",
      "saving the output\n"
     ]
    },
    {
     "name": "stderr",
     "output_type": "stream",
     "text": [
      "  7%|▋         | 14/200 [27:41<5:52:36, 113.75s/it]"
     ]
    },
    {
     "name": "stdout",
     "output_type": "stream",
     "text": [
      "Iterations:  15500 Epoch:  14 Generator loss:  5.698197841644287 Discriminator loss:  0.14300064742565155\n",
      "saving the output\n",
      "Iterations:  16000 Epoch:  14 Generator loss:  2.827953815460205 Discriminator loss:  0.4022987484931946\n",
      "saving the output\n"
     ]
    },
    {
     "name": "stderr",
     "output_type": "stream",
     "text": [
      "  8%|▊         | 15/200 [29:34<5:49:47, 113.44s/it]"
     ]
    },
    {
     "name": "stdout",
     "output_type": "stream",
     "text": [
      "Iterations:  16500 Epoch:  15 Generator loss:  5.7316765785217285 Discriminator loss:  0.21676018834114075\n",
      "saving the output\n",
      "Iterations:  17000 Epoch:  15 Generator loss:  6.447990417480469 Discriminator loss:  0.12926581501960754\n",
      "saving the output\n",
      "Iterations:  17500 Epoch:  15 Generator loss:  5.044898986816406 Discriminator loss:  0.1373240053653717\n",
      "saving the output\n"
     ]
    },
    {
     "name": "stderr",
     "output_type": "stream",
     "text": [
      "  8%|▊         | 16/200 [31:24<5:45:09, 112.55s/it]"
     ]
    },
    {
     "name": "stdout",
     "output_type": "stream",
     "text": [
      "Iterations:  18000 Epoch:  16 Generator loss:  5.407029151916504 Discriminator loss:  0.27367904782295227\n",
      "saving the output\n",
      "Iterations:  18500 Epoch:  16 Generator loss:  4.685589790344238 Discriminator loss:  0.11859769374132156\n",
      "saving the output\n"
     ]
    },
    {
     "name": "stderr",
     "output_type": "stream",
     "text": [
      "  8%|▊         | 17/200 [33:16<5:42:10, 112.19s/it]"
     ]
    },
    {
     "name": "stdout",
     "output_type": "stream",
     "text": [
      "Iterations:  19000 Epoch:  17 Generator loss:  6.049241065979004 Discriminator loss:  0.05691239610314369\n",
      "saving the output\n",
      "Iterations:  19500 Epoch:  17 Generator loss:  8.111766815185547 Discriminator loss:  0.10228505730628967\n",
      "saving the output\n"
     ]
    },
    {
     "name": "stderr",
     "output_type": "stream",
     "text": [
      "  9%|▉         | 18/200 [35:07<5:39:19, 111.86s/it]"
     ]
    },
    {
     "name": "stdout",
     "output_type": "stream",
     "text": [
      "Iterations:  20000 Epoch:  18 Generator loss:  5.256300926208496 Discriminator loss:  0.0659218281507492\n",
      "saving the output\n",
      "Iterations:  20500 Epoch:  18 Generator loss:  8.36664867401123 Discriminator loss:  0.17717395722866058\n",
      "saving the output\n"
     ]
    },
    {
     "name": "stderr",
     "output_type": "stream",
     "text": [
      " 10%|▉         | 19/200 [36:55<5:34:05, 110.75s/it]"
     ]
    },
    {
     "name": "stdout",
     "output_type": "stream",
     "text": [
      "Iterations:  21000 Epoch:  19 Generator loss:  7.848537445068359 Discriminator loss:  0.3546498715877533\n",
      "saving the output\n",
      "Iterations:  21500 Epoch:  19 Generator loss:  6.719961166381836 Discriminator loss:  0.27005502581596375\n",
      "saving the output\n"
     ]
    },
    {
     "name": "stderr",
     "output_type": "stream",
     "text": [
      " 10%|█         | 20/200 [38:48<5:34:00, 111.34s/it]"
     ]
    },
    {
     "name": "stdout",
     "output_type": "stream",
     "text": [
      "Iterations:  22000 Epoch:  20 Generator loss:  6.806140899658203 Discriminator loss:  0.09911160916090012\n",
      "saving the output\n",
      "Iterations:  22500 Epoch:  20 Generator loss:  8.520115852355957 Discriminator loss:  0.0528159961104393\n",
      "saving the output\n",
      "Iterations:  23000 Epoch:  20 Generator loss:  9.067113876342773 Discriminator loss:  0.05556546896696091\n",
      "saving the output\n"
     ]
    },
    {
     "name": "stderr",
     "output_type": "stream",
     "text": [
      " 10%|█         | 21/200 [40:40<5:32:58, 111.61s/it]"
     ]
    },
    {
     "name": "stdout",
     "output_type": "stream",
     "text": [
      "Iterations:  23500 Epoch:  21 Generator loss:  8.461891174316406 Discriminator loss:  0.05752094089984894\n",
      "saving the output\n",
      "Iterations:  24000 Epoch:  21 Generator loss:  6.568536281585693 Discriminator loss:  0.04734485223889351\n",
      "saving the output\n"
     ]
    },
    {
     "name": "stderr",
     "output_type": "stream",
     "text": [
      " 11%|█         | 22/200 [42:29<5:28:41, 110.80s/it]"
     ]
    },
    {
     "name": "stdout",
     "output_type": "stream",
     "text": [
      "Iterations:  24500 Epoch:  22 Generator loss:  7.15248966217041 Discriminator loss:  0.04690929874777794\n",
      "saving the output\n",
      "Iterations:  25000 Epoch:  22 Generator loss:  9.012413024902344 Discriminator loss:  0.0681469663977623\n",
      "saving the output\n"
     ]
    },
    {
     "name": "stderr",
     "output_type": "stream",
     "text": [
      " 12%|█▏        | 23/200 [44:20<5:27:00, 110.85s/it]"
     ]
    },
    {
     "name": "stdout",
     "output_type": "stream",
     "text": [
      "Iterations:  25500 Epoch:  23 Generator loss:  6.282900810241699 Discriminator loss:  0.18057847023010254\n",
      "saving the output\n",
      "Iterations:  26000 Epoch:  23 Generator loss:  6.524898529052734 Discriminator loss:  0.023056726902723312\n",
      "saving the output\n"
     ]
    },
    {
     "name": "stderr",
     "output_type": "stream",
     "text": [
      " 12%|█▏        | 24/200 [46:08<5:23:09, 110.17s/it]"
     ]
    },
    {
     "name": "stdout",
     "output_type": "stream",
     "text": [
      "Iterations:  26500 Epoch:  24 Generator loss:  8.743719100952148 Discriminator loss:  0.12005443871021271\n",
      "saving the output\n",
      "Iterations:  27000 Epoch:  24 Generator loss:  8.365750312805176 Discriminator loss:  0.07307443767786026\n",
      "saving the output\n"
     ]
    },
    {
     "name": "stderr",
     "output_type": "stream",
     "text": [
      " 12%|█▎        | 25/200 [47:59<5:21:52, 110.35s/it]"
     ]
    },
    {
     "name": "stdout",
     "output_type": "stream",
     "text": [
      "Iterations:  27500 Epoch:  25 Generator loss:  6.279455184936523 Discriminator loss:  0.2935660183429718\n",
      "saving the output\n",
      "Iterations:  28000 Epoch:  25 Generator loss:  7.797280788421631 Discriminator loss:  0.01183395553380251\n",
      "saving the output\n"
     ]
    },
    {
     "name": "stderr",
     "output_type": "stream",
     "text": [
      " 13%|█▎        | 26/200 [49:52<5:22:12, 111.10s/it]"
     ]
    },
    {
     "name": "stdout",
     "output_type": "stream",
     "text": [
      "Iterations:  28500 Epoch:  26 Generator loss:  5.780092239379883 Discriminator loss:  0.5707388520240784\n",
      "saving the output\n",
      "Iterations:  29000 Epoch:  26 Generator loss:  6.9212846755981445 Discriminator loss:  0.029645835980772972\n",
      "saving the output\n",
      "Iterations:  29500 Epoch:  26 Generator loss:  3.603928565979004 Discriminator loss:  0.07150782644748688\n",
      "saving the output\n"
     ]
    },
    {
     "name": "stderr",
     "output_type": "stream",
     "text": [
      " 14%|█▎        | 27/200 [51:42<5:19:32, 110.83s/it]"
     ]
    },
    {
     "name": "stdout",
     "output_type": "stream",
     "text": [
      "Iterations:  30000 Epoch:  27 Generator loss:  5.686677932739258 Discriminator loss:  0.043028026819229126\n",
      "saving the output\n",
      "Iterations:  30500 Epoch:  27 Generator loss:  9.09469985961914 Discriminator loss:  0.03226940333843231\n",
      "saving the output\n"
     ]
    },
    {
     "name": "stderr",
     "output_type": "stream",
     "text": [
      " 14%|█▍        | 28/200 [53:35<5:19:07, 111.32s/it]"
     ]
    },
    {
     "name": "stdout",
     "output_type": "stream",
     "text": [
      "Iterations:  31000 Epoch:  28 Generator loss:  9.608678817749023 Discriminator loss:  0.032340534031391144\n",
      "saving the output\n",
      "Iterations:  31500 Epoch:  28 Generator loss:  6.806182861328125 Discriminator loss:  0.01714424416422844\n",
      "saving the output\n"
     ]
    },
    {
     "name": "stderr",
     "output_type": "stream",
     "text": [
      " 14%|█▍        | 29/200 [55:25<5:16:26, 111.03s/it]"
     ]
    },
    {
     "name": "stdout",
     "output_type": "stream",
     "text": [
      "Iterations:  32000 Epoch:  29 Generator loss:  6.622133731842041 Discriminator loss:  0.04911479353904724\n",
      "saving the output\n",
      "Iterations:  32500 Epoch:  29 Generator loss:  6.8601861000061035 Discriminator loss:  0.05047444999217987\n",
      "saving the output\n"
     ]
    },
    {
     "name": "stderr",
     "output_type": "stream",
     "text": [
      " 15%|█▌        | 30/200 [57:16<5:14:42, 111.07s/it]"
     ]
    },
    {
     "name": "stdout",
     "output_type": "stream",
     "text": [
      "Iterations:  33000 Epoch:  30 Generator loss:  6.933774948120117 Discriminator loss:  0.009700455702841282\n",
      "saving the output\n",
      "Iterations:  33500 Epoch:  30 Generator loss:  4.739424705505371 Discriminator loss:  0.11085118353366852\n",
      "saving the output\n"
     ]
    },
    {
     "name": "stderr",
     "output_type": "stream",
     "text": [
      " 16%|█▌        | 31/200 [59:05<5:11:02, 110.43s/it]"
     ]
    },
    {
     "name": "stdout",
     "output_type": "stream",
     "text": [
      "Iterations:  34000 Epoch:  31 Generator loss:  6.324375152587891 Discriminator loss:  0.12150955945253372\n",
      "saving the output\n",
      "Iterations:  34500 Epoch:  31 Generator loss:  5.120615005493164 Discriminator loss:  0.05106298625469208\n",
      "saving the output\n",
      "Iterations:  35000 Epoch:  31 Generator loss:  7.396641731262207 Discriminator loss:  0.06874392181634903\n",
      "saving the output\n"
     ]
    },
    {
     "name": "stderr",
     "output_type": "stream",
     "text": [
      " 16%|█▌        | 32/200 [1:00:59<5:12:02, 111.44s/it]"
     ]
    },
    {
     "name": "stdout",
     "output_type": "stream",
     "text": [
      "Iterations:  35500 Epoch:  32 Generator loss:  5.411343097686768 Discriminator loss:  0.052848972380161285\n",
      "saving the output\n",
      "Iterations:  36000 Epoch:  32 Generator loss:  9.192113876342773 Discriminator loss:  0.09377516061067581\n",
      "saving the output\n"
     ]
    },
    {
     "name": "stderr",
     "output_type": "stream",
     "text": [
      " 16%|█▋        | 33/200 [1:02:51<5:10:27, 111.54s/it]"
     ]
    },
    {
     "name": "stdout",
     "output_type": "stream",
     "text": [
      "Iterations:  36500 Epoch:  33 Generator loss:  8.093558311462402 Discriminator loss:  0.061685577034950256\n",
      "saving the output\n",
      "Iterations:  37000 Epoch:  33 Generator loss:  5.625912666320801 Discriminator loss:  0.21353955566883087\n",
      "saving the output\n"
     ]
    },
    {
     "name": "stderr",
     "output_type": "stream",
     "text": [
      " 17%|█▋        | 34/200 [1:04:41<5:07:49, 111.26s/it]"
     ]
    },
    {
     "name": "stdout",
     "output_type": "stream",
     "text": [
      "Iterations:  37500 Epoch:  34 Generator loss:  6.054295063018799 Discriminator loss:  0.047382425516843796\n",
      "saving the output\n",
      "Iterations:  38000 Epoch:  34 Generator loss:  8.078104019165039 Discriminator loss:  0.016556723043322563\n",
      "saving the output\n"
     ]
    },
    {
     "name": "stderr",
     "output_type": "stream",
     "text": [
      " 18%|█▊        | 35/200 [1:06:33<5:06:07, 111.32s/it]"
     ]
    },
    {
     "name": "stdout",
     "output_type": "stream",
     "text": [
      "Iterations:  38500 Epoch:  35 Generator loss:  4.269482135772705 Discriminator loss:  0.08247905969619751\n",
      "saving the output\n",
      "Iterations:  39000 Epoch:  35 Generator loss:  7.26639461517334 Discriminator loss:  0.133999302983284\n",
      "saving the output\n"
     ]
    },
    {
     "name": "stderr",
     "output_type": "stream",
     "text": [
      " 18%|█▊        | 36/200 [1:08:24<5:04:00, 111.22s/it]"
     ]
    },
    {
     "name": "stdout",
     "output_type": "stream",
     "text": [
      "Iterations:  39500 Epoch:  36 Generator loss:  7.2749433517456055 Discriminator loss:  0.044954441487789154\n",
      "saving the output\n",
      "Iterations:  40000 Epoch:  36 Generator loss:  5.951778888702393 Discriminator loss:  0.4048209488391876\n",
      "saving the output\n",
      "Iterations:  40500 Epoch:  36 Generator loss:  6.077204704284668 Discriminator loss:  0.07169743627309799\n",
      "saving the output\n"
     ]
    },
    {
     "name": "stderr",
     "output_type": "stream",
     "text": [
      " 18%|█▊        | 37/200 [1:10:16<5:02:48, 111.46s/it]"
     ]
    },
    {
     "name": "stdout",
     "output_type": "stream",
     "text": [
      "Iterations:  41000 Epoch:  37 Generator loss:  6.799302101135254 Discriminator loss:  0.012126468122005463\n",
      "saving the output\n",
      "Iterations:  41500 Epoch:  37 Generator loss:  6.170685768127441 Discriminator loss:  0.06198114529252052\n",
      "saving the output\n"
     ]
    },
    {
     "name": "stderr",
     "output_type": "stream",
     "text": [
      " 19%|█▉        | 38/200 [1:12:05<4:58:57, 110.72s/it]"
     ]
    },
    {
     "name": "stdout",
     "output_type": "stream",
     "text": [
      "Iterations:  42000 Epoch:  38 Generator loss:  6.215989589691162 Discriminator loss:  0.05905861407518387\n",
      "saving the output\n",
      "Iterations:  42500 Epoch:  38 Generator loss:  7.914500713348389 Discriminator loss:  0.021916409954428673\n",
      "saving the output\n"
     ]
    },
    {
     "name": "stderr",
     "output_type": "stream",
     "text": [
      " 20%|█▉        | 39/200 [1:13:57<4:58:48, 111.36s/it]"
     ]
    },
    {
     "name": "stdout",
     "output_type": "stream",
     "text": [
      "Iterations:  43000 Epoch:  39 Generator loss:  6.619028091430664 Discriminator loss:  0.2546430230140686\n",
      "saving the output\n",
      "Iterations:  43500 Epoch:  39 Generator loss:  7.233001708984375 Discriminator loss:  0.034534528851509094\n",
      "saving the output\n"
     ]
    },
    {
     "name": "stderr",
     "output_type": "stream",
     "text": [
      " 20%|██        | 40/200 [1:15:48<4:55:56, 110.98s/it]"
     ]
    },
    {
     "name": "stdout",
     "output_type": "stream",
     "text": [
      "Iterations:  44000 Epoch:  40 Generator loss:  8.07421875 Discriminator loss:  0.03690766170620918\n",
      "saving the output\n",
      "Iterations:  44500 Epoch:  40 Generator loss:  7.7892866134643555 Discriminator loss:  0.060614801943302155\n",
      "saving the output\n"
     ]
    },
    {
     "name": "stderr",
     "output_type": "stream",
     "text": [
      " 20%|██        | 41/200 [1:17:40<4:55:10, 111.38s/it]"
     ]
    },
    {
     "name": "stdout",
     "output_type": "stream",
     "text": [
      "Iterations:  45000 Epoch:  41 Generator loss:  8.589282989501953 Discriminator loss:  0.08691684156656265\n",
      "saving the output\n",
      "Iterations:  45500 Epoch:  41 Generator loss:  10.99944019317627 Discriminator loss:  0.02728245221078396\n",
      "saving the output\n",
      "Iterations:  46000 Epoch:  41 Generator loss:  8.551020622253418 Discriminator loss:  0.06277833878993988\n",
      "saving the output\n"
     ]
    },
    {
     "name": "stderr",
     "output_type": "stream",
     "text": [
      " 21%|██        | 42/200 [1:19:29<4:51:45, 110.80s/it]"
     ]
    },
    {
     "name": "stdout",
     "output_type": "stream",
     "text": [
      "Iterations:  46500 Epoch:  42 Generator loss:  5.409415245056152 Discriminator loss:  0.034538716077804565\n",
      "saving the output\n",
      "Iterations:  47000 Epoch:  42 Generator loss:  6.580872058868408 Discriminator loss:  0.020680921152234077\n",
      "saving the output\n"
     ]
    },
    {
     "name": "stderr",
     "output_type": "stream",
     "text": [
      " 22%|██▏       | 43/200 [1:21:20<4:49:56, 110.80s/it]"
     ]
    },
    {
     "name": "stdout",
     "output_type": "stream",
     "text": [
      "Iterations:  47500 Epoch:  43 Generator loss:  4.907678127288818 Discriminator loss:  0.06254750490188599\n",
      "saving the output\n",
      "Iterations:  48000 Epoch:  43 Generator loss:  7.217616081237793 Discriminator loss:  0.02329476922750473\n",
      "saving the output\n"
     ]
    },
    {
     "name": "stderr",
     "output_type": "stream",
     "text": [
      " 22%|██▏       | 44/200 [1:23:13<4:49:38, 111.40s/it]"
     ]
    },
    {
     "name": "stdout",
     "output_type": "stream",
     "text": [
      "Iterations:  48500 Epoch:  44 Generator loss:  7.2928786277771 Discriminator loss:  0.03664514794945717\n",
      "saving the output\n",
      "Iterations:  49000 Epoch:  44 Generator loss:  7.98463773727417 Discriminator loss:  0.02669677697122097\n",
      "saving the output\n"
     ]
    },
    {
     "name": "stderr",
     "output_type": "stream",
     "text": [
      " 22%|██▎       | 45/200 [1:25:03<4:47:04, 111.13s/it]"
     ]
    },
    {
     "name": "stdout",
     "output_type": "stream",
     "text": [
      "Iterations:  49500 Epoch:  45 Generator loss:  6.671917915344238 Discriminator loss:  0.036848150193691254\n",
      "saving the output\n",
      "Iterations:  50000 Epoch:  45 Generator loss:  7.789425849914551 Discriminator loss:  0.08228743076324463\n",
      "saving the output\n"
     ]
    },
    {
     "name": "stderr",
     "output_type": "stream",
     "text": [
      " 23%|██▎       | 46/200 [1:26:56<4:46:07, 111.48s/it]"
     ]
    },
    {
     "name": "stdout",
     "output_type": "stream",
     "text": [
      "Iterations:  50500 Epoch:  46 Generator loss:  6.796608924865723 Discriminator loss:  0.19659216701984406\n",
      "saving the output\n",
      "Iterations:  51000 Epoch:  46 Generator loss:  6.781185626983643 Discriminator loss:  0.058826643973588943\n",
      "saving the output\n",
      "Iterations:  51500 Epoch:  46 Generator loss:  9.42552375793457 Discriminator loss:  0.03342457115650177\n",
      "saving the output\n"
     ]
    },
    {
     "name": "stderr",
     "output_type": "stream",
     "text": [
      " 24%|██▎       | 47/200 [1:28:46<4:43:40, 111.25s/it]"
     ]
    },
    {
     "name": "stdout",
     "output_type": "stream",
     "text": [
      "Iterations:  52000 Epoch:  47 Generator loss:  7.026267051696777 Discriminator loss:  0.03425368294119835\n",
      "saving the output\n",
      "Iterations:  52500 Epoch:  47 Generator loss:  6.562072277069092 Discriminator loss:  0.2652299702167511\n",
      "saving the output\n"
     ]
    },
    {
     "name": "stderr",
     "output_type": "stream",
     "text": [
      " 24%|██▍       | 48/200 [1:30:38<4:41:59, 111.31s/it]"
     ]
    },
    {
     "name": "stdout",
     "output_type": "stream",
     "text": [
      "Iterations:  53000 Epoch:  48 Generator loss:  3.6221508979797363 Discriminator loss:  0.2662387192249298\n",
      "saving the output\n",
      "Iterations:  53500 Epoch:  48 Generator loss:  7.580875873565674 Discriminator loss:  0.01848570443689823\n",
      "saving the output\n"
     ]
    },
    {
     "name": "stderr",
     "output_type": "stream",
     "text": [
      " 24%|██▍       | 49/200 [1:32:27<4:38:10, 110.53s/it]"
     ]
    },
    {
     "name": "stdout",
     "output_type": "stream",
     "text": [
      "Iterations:  54000 Epoch:  49 Generator loss:  9.519166946411133 Discriminator loss:  0.02484005317091942\n",
      "saving the output\n",
      "Iterations:  54500 Epoch:  49 Generator loss:  5.690535068511963 Discriminator loss:  0.09764964878559113\n",
      "saving the output\n"
     ]
    },
    {
     "name": "stderr",
     "output_type": "stream",
     "text": [
      " 25%|██▌       | 50/200 [1:34:19<4:37:41, 111.08s/it]"
     ]
    },
    {
     "name": "stdout",
     "output_type": "stream",
     "text": [
      "Iterations:  55000 Epoch:  50 Generator loss:  7.322561264038086 Discriminator loss:  0.02289423905313015\n",
      "saving the output\n",
      "Iterations:  55500 Epoch:  50 Generator loss:  4.979272842407227 Discriminator loss:  0.023021509870886803\n",
      "saving the output\n"
     ]
    },
    {
     "name": "stderr",
     "output_type": "stream",
     "text": [
      " 26%|██▌       | 51/200 [1:36:09<4:34:56, 110.71s/it]"
     ]
    },
    {
     "name": "stdout",
     "output_type": "stream",
     "text": [
      "Iterations:  56000 Epoch:  51 Generator loss:  9.399587631225586 Discriminator loss:  0.026049330830574036\n",
      "saving the output\n",
      "Iterations:  56500 Epoch:  51 Generator loss:  6.370345115661621 Discriminator loss:  0.02086295560002327\n",
      "saving the output\n"
     ]
    },
    {
     "name": "stderr",
     "output_type": "stream",
     "text": [
      " 26%|██▌       | 52/200 [1:38:00<4:33:44, 110.98s/it]"
     ]
    },
    {
     "name": "stdout",
     "output_type": "stream",
     "text": [
      "Iterations:  57000 Epoch:  52 Generator loss:  8.71065902709961 Discriminator loss:  0.01684824749827385\n",
      "saving the output\n",
      "Iterations:  57500 Epoch:  52 Generator loss:  8.344430923461914 Discriminator loss:  0.01049867458641529\n",
      "saving the output\n",
      "Iterations:  58000 Epoch:  52 Generator loss:  5.198055267333984 Discriminator loss:  0.03947984427213669\n",
      "saving the output\n"
     ]
    },
    {
     "name": "stderr",
     "output_type": "stream",
     "text": [
      " 26%|██▋       | 53/200 [1:39:50<4:31:08, 110.67s/it]"
     ]
    },
    {
     "name": "stdout",
     "output_type": "stream",
     "text": [
      "Iterations:  58500 Epoch:  53 Generator loss:  6.7921037673950195 Discriminator loss:  0.01618885062634945\n",
      "saving the output\n",
      "Iterations:  59000 Epoch:  53 Generator loss:  6.894698143005371 Discriminator loss:  0.1685618907213211\n",
      "saving the output\n"
     ]
    },
    {
     "name": "stderr",
     "output_type": "stream",
     "text": [
      " 27%|██▋       | 54/200 [1:41:40<4:28:39, 110.41s/it]"
     ]
    },
    {
     "name": "stdout",
     "output_type": "stream",
     "text": [
      "Iterations:  59500 Epoch:  54 Generator loss:  7.6744184494018555 Discriminator loss:  0.11014197766780853\n",
      "saving the output\n",
      "Iterations:  60000 Epoch:  54 Generator loss:  6.141111373901367 Discriminator loss:  0.05177281051874161\n",
      "saving the output\n"
     ]
    },
    {
     "name": "stderr",
     "output_type": "stream",
     "text": [
      " 28%|██▊       | 55/200 [1:43:30<4:26:31, 110.28s/it]"
     ]
    },
    {
     "name": "stdout",
     "output_type": "stream",
     "text": [
      "Iterations:  60500 Epoch:  55 Generator loss:  10.402681350708008 Discriminator loss:  0.009586871601641178\n",
      "saving the output\n",
      "Iterations:  61000 Epoch:  55 Generator loss:  9.424013137817383 Discriminator loss:  0.027971412986516953\n",
      "saving the output\n"
     ]
    },
    {
     "name": "stderr",
     "output_type": "stream",
     "text": [
      " 28%|██▊       | 56/200 [1:45:20<4:24:09, 110.07s/it]"
     ]
    },
    {
     "name": "stdout",
     "output_type": "stream",
     "text": [
      "Iterations:  61500 Epoch:  56 Generator loss:  6.226119041442871 Discriminator loss:  0.12714621424674988\n",
      "saving the output\n",
      "Iterations:  62000 Epoch:  56 Generator loss:  7.958732604980469 Discriminator loss:  0.024021172896027565\n",
      "saving the output\n"
     ]
    },
    {
     "name": "stderr",
     "output_type": "stream",
     "text": [
      " 28%|██▊       | 57/200 [1:47:10<4:22:41, 110.22s/it]"
     ]
    },
    {
     "name": "stdout",
     "output_type": "stream",
     "text": [
      "Iterations:  62500 Epoch:  57 Generator loss:  7.881805419921875 Discriminator loss:  0.060130465775728226\n",
      "saving the output\n",
      "Iterations:  63000 Epoch:  57 Generator loss:  7.585508346557617 Discriminator loss:  0.05257517844438553\n",
      "saving the output\n",
      "Iterations:  63500 Epoch:  57 Generator loss:  8.068987846374512 Discriminator loss:  0.050765737891197205\n",
      "saving the output\n"
     ]
    },
    {
     "name": "stderr",
     "output_type": "stream",
     "text": [
      " 29%|██▉       | 58/200 [1:49:02<4:21:59, 110.70s/it]"
     ]
    },
    {
     "name": "stdout",
     "output_type": "stream",
     "text": [
      "Iterations:  64000 Epoch:  58 Generator loss:  10.072380065917969 Discriminator loss:  0.09014613926410675\n",
      "saving the output\n",
      "Iterations:  64500 Epoch:  58 Generator loss:  6.671736717224121 Discriminator loss:  0.0562870055437088\n",
      "saving the output\n"
     ]
    },
    {
     "name": "stderr",
     "output_type": "stream",
     "text": [
      " 30%|██▉       | 59/200 [1:50:54<4:20:53, 111.02s/it]"
     ]
    },
    {
     "name": "stdout",
     "output_type": "stream",
     "text": [
      "Iterations:  65000 Epoch:  59 Generator loss:  6.055968761444092 Discriminator loss:  0.12596732378005981\n",
      "saving the output\n",
      "Iterations:  65500 Epoch:  59 Generator loss:  7.957114219665527 Discriminator loss:  0.03151588514447212\n",
      "saving the output\n"
     ]
    },
    {
     "name": "stderr",
     "output_type": "stream",
     "text": [
      " 30%|███       | 60/200 [1:52:38<4:14:21, 109.01s/it]"
     ]
    },
    {
     "name": "stdout",
     "output_type": "stream",
     "text": [
      "Iterations:  66000 Epoch:  60 Generator loss:  9.913172721862793 Discriminator loss:  0.07933885604143143\n",
      "saving the output\n",
      "Iterations:  66500 Epoch:  60 Generator loss:  7.988312721252441 Discriminator loss:  0.02025214582681656\n",
      "saving the output\n"
     ]
    },
    {
     "name": "stderr",
     "output_type": "stream",
     "text": [
      " 30%|███       | 61/200 [1:54:25<4:10:44, 108.23s/it]"
     ]
    },
    {
     "name": "stdout",
     "output_type": "stream",
     "text": [
      "Iterations:  67000 Epoch:  61 Generator loss:  9.673952102661133 Discriminator loss:  0.01668166182935238\n",
      "saving the output\n",
      "Iterations:  67500 Epoch:  61 Generator loss:  9.08202075958252 Discriminator loss:  0.012791089713573456\n",
      "saving the output\n"
     ]
    },
    {
     "name": "stderr",
     "output_type": "stream",
     "text": [
      " 31%|███       | 62/200 [1:56:12<4:08:37, 108.10s/it]"
     ]
    },
    {
     "name": "stdout",
     "output_type": "stream",
     "text": [
      "Iterations:  68000 Epoch:  62 Generator loss:  9.880929946899414 Discriminator loss:  0.044258780777454376\n",
      "saving the output\n",
      "Iterations:  68500 Epoch:  62 Generator loss:  8.82491397857666 Discriminator loss:  0.012100298888981342\n",
      "saving the output\n",
      "Iterations:  69000 Epoch:  62 Generator loss:  6.461591720581055 Discriminator loss:  0.01651102304458618\n",
      "saving the output\n"
     ]
    },
    {
     "name": "stderr",
     "output_type": "stream",
     "text": [
      " 32%|███▏      | 63/200 [1:58:05<4:09:44, 109.38s/it]"
     ]
    },
    {
     "name": "stdout",
     "output_type": "stream",
     "text": [
      "Iterations:  69500 Epoch:  63 Generator loss:  7.768218040466309 Discriminator loss:  0.23123522102832794\n",
      "saving the output\n",
      "Iterations:  70000 Epoch:  63 Generator loss:  11.397248268127441 Discriminator loss:  0.04202668368816376\n",
      "saving the output\n"
     ]
    },
    {
     "name": "stderr",
     "output_type": "stream",
     "text": [
      " 32%|███▏      | 64/200 [1:59:54<4:08:01, 109.42s/it]"
     ]
    },
    {
     "name": "stdout",
     "output_type": "stream",
     "text": [
      "Iterations:  70500 Epoch:  64 Generator loss:  10.268515586853027 Discriminator loss:  0.01243589073419571\n",
      "saving the output\n",
      "Iterations:  71000 Epoch:  64 Generator loss:  5.759803295135498 Discriminator loss:  0.01878645084798336\n",
      "saving the output\n"
     ]
    },
    {
     "name": "stderr",
     "output_type": "stream",
     "text": [
      " 32%|███▎      | 65/200 [2:01:44<4:06:26, 109.53s/it]"
     ]
    },
    {
     "name": "stdout",
     "output_type": "stream",
     "text": [
      "Iterations:  71500 Epoch:  65 Generator loss:  6.546440601348877 Discriminator loss:  0.09653377532958984\n",
      "saving the output\n",
      "Iterations:  72000 Epoch:  65 Generator loss:  5.191305160522461 Discriminator loss:  0.04059785231947899\n",
      "saving the output\n"
     ]
    },
    {
     "name": "stderr",
     "output_type": "stream",
     "text": [
      " 33%|███▎      | 66/200 [2:03:33<4:04:24, 109.44s/it]"
     ]
    },
    {
     "name": "stdout",
     "output_type": "stream",
     "text": [
      "Iterations:  72500 Epoch:  66 Generator loss:  5.601597309112549 Discriminator loss:  0.16576838493347168\n",
      "saving the output\n",
      "Iterations:  73000 Epoch:  66 Generator loss:  7.077064514160156 Discriminator loss:  0.010151066817343235\n",
      "saving the output\n"
     ]
    },
    {
     "name": "stderr",
     "output_type": "stream",
     "text": [
      " 34%|███▎      | 67/200 [2:05:19<4:00:00, 108.27s/it]"
     ]
    },
    {
     "name": "stdout",
     "output_type": "stream",
     "text": [
      "Iterations:  73500 Epoch:  67 Generator loss:  7.931463718414307 Discriminator loss:  0.020045431330800056\n",
      "saving the output\n",
      "Iterations:  74000 Epoch:  67 Generator loss:  8.339520454406738 Discriminator loss:  0.024458907544612885\n",
      "saving the output\n",
      "Iterations:  74500 Epoch:  67 Generator loss:  8.161299705505371 Discriminator loss:  0.03672843798995018\n",
      "saving the output\n"
     ]
    },
    {
     "name": "stderr",
     "output_type": "stream",
     "text": [
      " 34%|███▍      | 68/200 [2:07:10<3:59:53, 109.04s/it]"
     ]
    },
    {
     "name": "stdout",
     "output_type": "stream",
     "text": [
      "Iterations:  75000 Epoch:  68 Generator loss:  9.4618501663208 Discriminator loss:  0.08043624460697174\n",
      "saving the output\n",
      "Iterations:  75500 Epoch:  68 Generator loss:  13.373943328857422 Discriminator loss:  0.010326401330530643\n",
      "saving the output\n"
     ]
    },
    {
     "name": "stderr",
     "output_type": "stream",
     "text": [
      " 34%|███▍      | 69/200 [2:09:00<3:59:10, 109.54s/it]"
     ]
    },
    {
     "name": "stdout",
     "output_type": "stream",
     "text": [
      "Iterations:  76000 Epoch:  69 Generator loss:  8.656570434570312 Discriminator loss:  0.05398356541991234\n",
      "saving the output\n",
      "Iterations:  76500 Epoch:  69 Generator loss:  12.176553726196289 Discriminator loss:  0.02004975825548172\n",
      "saving the output\n"
     ]
    },
    {
     "name": "stderr",
     "output_type": "stream",
     "text": [
      " 35%|███▌      | 70/200 [2:10:49<3:56:56, 109.35s/it]"
     ]
    },
    {
     "name": "stdout",
     "output_type": "stream",
     "text": [
      "Iterations:  77000 Epoch:  70 Generator loss:  9.478293418884277 Discriminator loss:  0.046417463570833206\n",
      "saving the output\n",
      "Iterations:  77500 Epoch:  70 Generator loss:  8.557939529418945 Discriminator loss:  0.094144806265831\n",
      "saving the output\n"
     ]
    },
    {
     "name": "stderr",
     "output_type": "stream",
     "text": [
      " 36%|███▌      | 71/200 [2:12:39<3:55:33, 109.56s/it]"
     ]
    },
    {
     "name": "stdout",
     "output_type": "stream",
     "text": [
      "Iterations:  78000 Epoch:  71 Generator loss:  7.892962455749512 Discriminator loss:  0.31735700368881226\n",
      "saving the output\n",
      "Iterations:  78500 Epoch:  71 Generator loss:  10.142900466918945 Discriminator loss:  0.00634266110137105\n",
      "saving the output\n"
     ]
    },
    {
     "name": "stderr",
     "output_type": "stream",
     "text": [
      " 36%|███▌      | 72/200 [2:14:26<3:52:01, 108.76s/it]"
     ]
    },
    {
     "name": "stdout",
     "output_type": "stream",
     "text": [
      "Iterations:  79000 Epoch:  72 Generator loss:  7.425325870513916 Discriminator loss:  0.09619647264480591\n",
      "saving the output\n",
      "Iterations:  79500 Epoch:  72 Generator loss:  10.294519424438477 Discriminator loss:  0.01748303882777691\n",
      "saving the output\n",
      "Iterations:  80000 Epoch:  72 Generator loss:  8.370429992675781 Discriminator loss:  0.0442974679172039\n",
      "saving the output\n"
     ]
    },
    {
     "name": "stderr",
     "output_type": "stream",
     "text": [
      " 36%|███▋      | 73/200 [2:16:14<3:49:41, 108.51s/it]"
     ]
    },
    {
     "name": "stdout",
     "output_type": "stream",
     "text": [
      "Iterations:  80500 Epoch:  73 Generator loss:  8.812653541564941 Discriminator loss:  0.009866944514214993\n",
      "saving the output\n",
      "Iterations:  81000 Epoch:  73 Generator loss:  5.233015060424805 Discriminator loss:  0.30346202850341797\n",
      "saving the output\n"
     ]
    },
    {
     "name": "stderr",
     "output_type": "stream",
     "text": [
      " 37%|███▋      | 74/200 [2:18:04<3:48:57, 109.03s/it]"
     ]
    },
    {
     "name": "stdout",
     "output_type": "stream",
     "text": [
      "Iterations:  81500 Epoch:  74 Generator loss:  9.20102310180664 Discriminator loss:  0.017190536484122276\n",
      "saving the output\n",
      "Iterations:  82000 Epoch:  74 Generator loss:  20.139739990234375 Discriminator loss:  0.004356938414275646\n",
      "saving the output\n"
     ]
    },
    {
     "name": "stderr",
     "output_type": "stream",
     "text": [
      " 38%|███▊      | 75/200 [2:19:51<3:45:50, 108.41s/it]"
     ]
    },
    {
     "name": "stdout",
     "output_type": "stream",
     "text": [
      "Iterations:  82500 Epoch:  75 Generator loss:  16.896896362304688 Discriminator loss:  3.596240503611625e-06\n",
      "saving the output\n",
      "Iterations:  83000 Epoch:  75 Generator loss:  14.153632164001465 Discriminator loss:  0.003304415149614215\n",
      "saving the output\n"
     ]
    },
    {
     "name": "stderr",
     "output_type": "stream",
     "text": [
      " 38%|███▊      | 76/200 [2:21:40<3:44:22, 108.57s/it]"
     ]
    },
    {
     "name": "stdout",
     "output_type": "stream",
     "text": [
      "Iterations:  83500 Epoch:  76 Generator loss:  9.85753345489502 Discriminator loss:  0.02852349355816841\n",
      "saving the output\n",
      "Iterations:  84000 Epoch:  76 Generator loss:  8.398286819458008 Discriminator loss:  0.20067621767520905\n",
      "saving the output\n"
     ]
    },
    {
     "name": "stderr",
     "output_type": "stream",
     "text": [
      " 38%|███▊      | 77/200 [2:23:28<3:41:43, 108.16s/it]"
     ]
    },
    {
     "name": "stdout",
     "output_type": "stream",
     "text": [
      "Iterations:  84500 Epoch:  77 Generator loss:  15.16966438293457 Discriminator loss:  0.0008336750324815512\n",
      "saving the output\n",
      "Iterations:  85000 Epoch:  77 Generator loss:  15.770729064941406 Discriminator loss:  3.9064965676516294e-05\n",
      "saving the output\n"
     ]
    },
    {
     "name": "stderr",
     "output_type": "stream",
     "text": [
      " 39%|███▉      | 78/200 [2:25:16<3:39:51, 108.12s/it]"
     ]
    },
    {
     "name": "stdout",
     "output_type": "stream",
     "text": [
      "Iterations:  85500 Epoch:  78 Generator loss:  22.767807006835938 Discriminator loss:  5.2264899750298355e-06\n",
      "saving the output\n",
      "Iterations:  86000 Epoch:  78 Generator loss:  10.786834716796875 Discriminator loss:  0.004481888841837645\n",
      "saving the output\n",
      "Iterations:  86500 Epoch:  78 Generator loss:  11.570856094360352 Discriminator loss:  0.0006545624928548932\n",
      "saving the output\n"
     ]
    },
    {
     "name": "stderr",
     "output_type": "stream",
     "text": [
      " 40%|███▉      | 79/200 [2:27:03<3:37:45, 107.98s/it]"
     ]
    },
    {
     "name": "stdout",
     "output_type": "stream",
     "text": [
      "Iterations:  87000 Epoch:  79 Generator loss:  18.257164001464844 Discriminator loss:  0.0003158685576636344\n",
      "saving the output\n",
      "Iterations:  87500 Epoch:  79 Generator loss:  9.657706260681152 Discriminator loss:  0.01990078203380108\n",
      "saving the output\n"
     ]
    },
    {
     "name": "stderr",
     "output_type": "stream",
     "text": [
      " 40%|████      | 80/200 [2:28:50<3:35:10, 107.59s/it]"
     ]
    },
    {
     "name": "stdout",
     "output_type": "stream",
     "text": [
      "Iterations:  88000 Epoch:  80 Generator loss:  11.963088989257812 Discriminator loss:  0.020610326901078224\n",
      "saving the output\n",
      "Iterations:  88500 Epoch:  80 Generator loss:  10.175487518310547 Discriminator loss:  0.02297690510749817\n",
      "saving the output\n"
     ]
    },
    {
     "name": "stderr",
     "output_type": "stream",
     "text": [
      " 40%|████      | 81/200 [2:30:38<3:33:32, 107.67s/it]"
     ]
    },
    {
     "name": "stdout",
     "output_type": "stream",
     "text": [
      "Iterations:  89000 Epoch:  81 Generator loss:  8.209280967712402 Discriminator loss:  0.024482056498527527\n",
      "saving the output\n",
      "Iterations:  89500 Epoch:  81 Generator loss:  12.14295768737793 Discriminator loss:  0.004225478041917086\n",
      "saving the output\n"
     ]
    },
    {
     "name": "stderr",
     "output_type": "stream",
     "text": [
      " 41%|████      | 82/200 [2:32:25<3:31:30, 107.55s/it]"
     ]
    },
    {
     "name": "stdout",
     "output_type": "stream",
     "text": [
      "Iterations:  90000 Epoch:  82 Generator loss:  12.71084976196289 Discriminator loss:  0.0011922928970307112\n",
      "saving the output\n",
      "Iterations:  90500 Epoch:  82 Generator loss:  21.850139617919922 Discriminator loss:  0.000611213908996433\n",
      "saving the output\n"
     ]
    },
    {
     "name": "stderr",
     "output_type": "stream",
     "text": [
      " 42%|████▏     | 83/200 [2:34:15<3:31:04, 108.24s/it]"
     ]
    },
    {
     "name": "stdout",
     "output_type": "stream",
     "text": [
      "Iterations:  91000 Epoch:  83 Generator loss:  17.731552124023438 Discriminator loss:  0.007733000908046961\n",
      "saving the output\n",
      "Iterations:  91500 Epoch:  83 Generator loss:  15.906885147094727 Discriminator loss:  0.0002045689179794863\n",
      "saving the output\n",
      "Iterations:  92000 Epoch:  83 Generator loss:  22.051727294921875 Discriminator loss:  3.815759555436671e-05\n",
      "saving the output\n"
     ]
    },
    {
     "name": "stderr",
     "output_type": "stream",
     "text": [
      " 42%|████▏     | 84/200 [2:36:03<3:29:28, 108.35s/it]"
     ]
    },
    {
     "name": "stdout",
     "output_type": "stream",
     "text": [
      "Iterations:  92500 Epoch:  84 Generator loss:  20.7127685546875 Discriminator loss:  0.0028670800384134054\n",
      "saving the output\n",
      "Iterations:  93000 Epoch:  84 Generator loss:  14.750038146972656 Discriminator loss:  0.0026874756440520287\n",
      "saving the output\n"
     ]
    },
    {
     "name": "stderr",
     "output_type": "stream",
     "text": [
      " 42%|████▎     | 85/200 [2:37:54<3:28:43, 108.90s/it]"
     ]
    },
    {
     "name": "stdout",
     "output_type": "stream",
     "text": [
      "Iterations:  93500 Epoch:  85 Generator loss:  15.180255889892578 Discriminator loss:  0.00042850521276704967\n",
      "saving the output\n",
      "Iterations:  94000 Epoch:  85 Generator loss:  15.835844039916992 Discriminator loss:  0.0004313297104090452\n",
      "saving the output\n"
     ]
    },
    {
     "name": "stderr",
     "output_type": "stream",
     "text": [
      " 43%|████▎     | 86/200 [2:39:41<3:26:06, 108.48s/it]"
     ]
    },
    {
     "name": "stdout",
     "output_type": "stream",
     "text": [
      "Iterations:  94500 Epoch:  86 Generator loss:  19.102230072021484 Discriminator loss:  0.0009159233304671943\n",
      "saving the output\n",
      "Iterations:  95000 Epoch:  86 Generator loss:  16.929452896118164 Discriminator loss:  5.559694272960769e-06\n",
      "saving the output\n"
     ]
    },
    {
     "name": "stderr",
     "output_type": "stream",
     "text": [
      " 44%|████▎     | 87/200 [2:41:33<3:26:06, 109.44s/it]"
     ]
    },
    {
     "name": "stdout",
     "output_type": "stream",
     "text": [
      "Iterations:  95500 Epoch:  87 Generator loss:  20.43312644958496 Discriminator loss:  0.001993238925933838\n",
      "saving the output\n",
      "Iterations:  96000 Epoch:  87 Generator loss:  17.24042510986328 Discriminator loss:  6.963106716284528e-05\n",
      "saving the output\n"
     ]
    },
    {
     "name": "stderr",
     "output_type": "stream",
     "text": [
      " 44%|████▍     | 88/200 [2:43:21<3:23:38, 109.09s/it]"
     ]
    },
    {
     "name": "stdout",
     "output_type": "stream",
     "text": [
      "Iterations:  96500 Epoch:  88 Generator loss:  20.075422286987305 Discriminator loss:  0.0007758861756883562\n",
      "saving the output\n",
      "Iterations:  97000 Epoch:  88 Generator loss:  11.157782554626465 Discriminator loss:  0.1280011683702469\n",
      "saving the output\n",
      "Iterations:  97500 Epoch:  88 Generator loss:  14.078516006469727 Discriminator loss:  0.011400025337934494\n",
      "saving the output\n"
     ]
    },
    {
     "name": "stderr",
     "output_type": "stream",
     "text": [
      " 44%|████▍     | 89/200 [2:45:11<3:22:06, 109.25s/it]"
     ]
    },
    {
     "name": "stdout",
     "output_type": "stream",
     "text": [
      "Iterations:  98000 Epoch:  89 Generator loss:  18.891765594482422 Discriminator loss:  0.02053224667906761\n",
      "saving the output\n",
      "Iterations:  98500 Epoch:  89 Generator loss:  15.754075050354004 Discriminator loss:  0.0006438701529987156\n",
      "saving the output\n"
     ]
    },
    {
     "name": "stderr",
     "output_type": "stream",
     "text": [
      " 45%|████▌     | 90/200 [2:47:01<3:20:38, 109.44s/it]"
     ]
    },
    {
     "name": "stdout",
     "output_type": "stream",
     "text": [
      "Iterations:  99000 Epoch:  90 Generator loss:  14.748644828796387 Discriminator loss:  0.006871298886835575\n",
      "saving the output\n",
      "Iterations:  99500 Epoch:  90 Generator loss:  11.97589111328125 Discriminator loss:  0.007254767697304487\n",
      "saving the output\n"
     ]
    },
    {
     "name": "stderr",
     "output_type": "stream",
     "text": [
      " 46%|████▌     | 91/200 [2:48:48<3:17:51, 108.91s/it]"
     ]
    },
    {
     "name": "stdout",
     "output_type": "stream",
     "text": [
      "Iterations:  100000 Epoch:  91 Generator loss:  19.377567291259766 Discriminator loss:  1.5602699932060204e-05\n",
      "saving the output\n",
      "Iterations:  100500 Epoch:  91 Generator loss:  12.961721420288086 Discriminator loss:  0.00029152119532227516\n",
      "saving the output\n"
     ]
    },
    {
     "name": "stderr",
     "output_type": "stream",
     "text": [
      " 46%|████▌     | 92/200 [2:50:36<3:15:17, 108.49s/it]"
     ]
    },
    {
     "name": "stdout",
     "output_type": "stream",
     "text": [
      "Iterations:  101000 Epoch:  92 Generator loss:  13.52735710144043 Discriminator loss:  3.1663970730733126e-05\n",
      "saving the output\n",
      "Iterations:  101500 Epoch:  92 Generator loss:  19.863941192626953 Discriminator loss:  0.008069303818047047\n",
      "saving the output\n"
     ]
    },
    {
     "name": "stderr",
     "output_type": "stream",
     "text": [
      " 46%|████▋     | 93/200 [2:52:23<3:12:54, 108.17s/it]"
     ]
    },
    {
     "name": "stdout",
     "output_type": "stream",
     "text": [
      "Iterations:  102000 Epoch:  93 Generator loss:  10.974818229675293 Discriminator loss:  0.03003976121544838\n",
      "saving the output\n",
      "Iterations:  102500 Epoch:  93 Generator loss:  16.37773323059082 Discriminator loss:  1.0423878848087043e-05\n",
      "saving the output\n",
      "Iterations:  103000 Epoch:  93 Generator loss:  11.663265228271484 Discriminator loss:  0.009026538580656052\n",
      "saving the output\n"
     ]
    },
    {
     "name": "stderr",
     "output_type": "stream",
     "text": [
      " 47%|████▋     | 94/200 [2:54:11<3:10:48, 108.01s/it]"
     ]
    },
    {
     "name": "stdout",
     "output_type": "stream",
     "text": [
      "Iterations:  103500 Epoch:  94 Generator loss:  14.376457214355469 Discriminator loss:  8.21502399048768e-05\n",
      "saving the output\n",
      "Iterations:  104000 Epoch:  94 Generator loss:  15.499567031860352 Discriminator loss:  8.374427125090733e-05\n",
      "saving the output\n"
     ]
    },
    {
     "name": "stderr",
     "output_type": "stream",
     "text": [
      " 48%|████▊     | 95/200 [2:56:00<3:09:43, 108.42s/it]"
     ]
    },
    {
     "name": "stdout",
     "output_type": "stream",
     "text": [
      "Iterations:  104500 Epoch:  95 Generator loss:  15.624828338623047 Discriminator loss:  0.018251296132802963\n",
      "saving the output\n",
      "Iterations:  105000 Epoch:  95 Generator loss:  15.83316707611084 Discriminator loss:  9.494600089965388e-05\n",
      "saving the output\n"
     ]
    },
    {
     "name": "stderr",
     "output_type": "stream",
     "text": [
      " 48%|████▊     | 96/200 [2:57:50<3:08:39, 108.85s/it]"
     ]
    },
    {
     "name": "stdout",
     "output_type": "stream",
     "text": [
      "Iterations:  105500 Epoch:  96 Generator loss:  12.883126258850098 Discriminator loss:  0.0027954799588769674\n",
      "saving the output\n",
      "Iterations:  106000 Epoch:  96 Generator loss:  16.05842399597168 Discriminator loss:  0.12719595432281494\n",
      "saving the output\n"
     ]
    },
    {
     "name": "stderr",
     "output_type": "stream",
     "text": [
      " 48%|████▊     | 97/200 [2:59:45<3:09:47, 110.56s/it]"
     ]
    },
    {
     "name": "stdout",
     "output_type": "stream",
     "text": [
      "Iterations:  106500 Epoch:  97 Generator loss:  15.851101875305176 Discriminator loss:  0.045159291476011276\n",
      "saving the output\n",
      "Iterations:  107000 Epoch:  97 Generator loss:  18.052366256713867 Discriminator loss:  8.755329326959327e-05\n",
      "saving the output\n"
     ]
    },
    {
     "name": "stderr",
     "output_type": "stream",
     "text": [
      " 49%|████▉     | 98/200 [3:01:41<3:10:49, 112.25s/it]"
     ]
    },
    {
     "name": "stdout",
     "output_type": "stream",
     "text": [
      "Iterations:  107500 Epoch:  98 Generator loss:  11.71098518371582 Discriminator loss:  0.0015069559449329972\n",
      "saving the output\n",
      "Iterations:  108000 Epoch:  98 Generator loss:  11.234979629516602 Discriminator loss:  0.003168534254655242\n",
      "saving the output\n",
      "Iterations:  108500 Epoch:  98 Generator loss:  10.038833618164062 Discriminator loss:  0.011534217745065689\n",
      "saving the output\n"
     ]
    },
    {
     "name": "stderr",
     "output_type": "stream",
     "text": [
      " 50%|████▉     | 99/200 [3:03:31<3:07:39, 111.48s/it]"
     ]
    },
    {
     "name": "stdout",
     "output_type": "stream",
     "text": [
      "Iterations:  109000 Epoch:  99 Generator loss:  10.641927719116211 Discriminator loss:  0.0021384451538324356\n",
      "saving the output\n",
      "Iterations:  109500 Epoch:  99 Generator loss:  17.944927215576172 Discriminator loss:  0.025479810312390327\n",
      "saving the output\n"
     ]
    },
    {
     "name": "stderr",
     "output_type": "stream",
     "text": [
      " 50%|█████     | 100/200 [3:05:22<3:05:59, 111.60s/it]"
     ]
    },
    {
     "name": "stdout",
     "output_type": "stream",
     "text": [
      "Iterations:  110000 Epoch:  100 Generator loss:  11.042086601257324 Discriminator loss:  0.008797110058367252\n",
      "saving the output\n",
      "Iterations:  110500 Epoch:  100 Generator loss:  12.412042617797852 Discriminator loss:  0.001102158334106207\n",
      "saving the output\n"
     ]
    },
    {
     "name": "stderr",
     "output_type": "stream",
     "text": [
      " 50%|█████     | 101/200 [3:07:08<3:01:10, 109.80s/it]"
     ]
    },
    {
     "name": "stdout",
     "output_type": "stream",
     "text": [
      "Iterations:  111000 Epoch:  101 Generator loss:  9.161961555480957 Discriminator loss:  0.014838405884802341\n",
      "saving the output\n",
      "Iterations:  111500 Epoch:  101 Generator loss:  18.625762939453125 Discriminator loss:  0.00031669018790125847\n",
      "saving the output\n"
     ]
    },
    {
     "name": "stderr",
     "output_type": "stream",
     "text": [
      " 51%|█████     | 102/200 [3:08:59<2:59:44, 110.04s/it]"
     ]
    },
    {
     "name": "stdout",
     "output_type": "stream",
     "text": [
      "Iterations:  112000 Epoch:  102 Generator loss:  9.139901161193848 Discriminator loss:  0.03316434100270271\n",
      "saving the output\n",
      "Iterations:  112500 Epoch:  102 Generator loss:  6.550443649291992 Discriminator loss:  0.6138962507247925\n",
      "saving the output\n"
     ]
    },
    {
     "name": "stderr",
     "output_type": "stream",
     "text": [
      " 52%|█████▏    | 103/200 [3:10:50<2:58:47, 110.60s/it]"
     ]
    },
    {
     "name": "stdout",
     "output_type": "stream",
     "text": [
      "Iterations:  113000 Epoch:  103 Generator loss:  10.928133010864258 Discriminator loss:  0.0031668965239077806\n",
      "saving the output\n",
      "Iterations:  113500 Epoch:  103 Generator loss:  10.15194034576416 Discriminator loss:  0.0036551032681018114\n",
      "saving the output\n"
     ]
    },
    {
     "name": "stderr",
     "output_type": "stream",
     "text": [
      " 52%|█████▏    | 104/200 [3:12:42<2:57:13, 110.77s/it]"
     ]
    },
    {
     "name": "stdout",
     "output_type": "stream",
     "text": [
      "Iterations:  114000 Epoch:  104 Generator loss:  8.667779922485352 Discriminator loss:  0.03353262320160866\n",
      "saving the output\n",
      "Iterations:  114500 Epoch:  104 Generator loss:  14.200674057006836 Discriminator loss:  0.005493605509400368\n",
      "saving the output\n",
      "Iterations:  115000 Epoch:  104 Generator loss:  11.012813568115234 Discriminator loss:  0.007443707436323166\n",
      "saving the output\n"
     ]
    },
    {
     "name": "stderr",
     "output_type": "stream",
     "text": [
      " 52%|█████▎    | 105/200 [3:14:34<2:56:08, 111.25s/it]"
     ]
    },
    {
     "name": "stdout",
     "output_type": "stream",
     "text": [
      "Iterations:  115500 Epoch:  105 Generator loss:  12.630532264709473 Discriminator loss:  0.0035359039902687073\n",
      "saving the output\n",
      "Iterations:  116000 Epoch:  105 Generator loss:  18.536865234375 Discriminator loss:  0.0002123695012414828\n",
      "saving the output\n"
     ]
    },
    {
     "name": "stderr",
     "output_type": "stream",
     "text": [
      " 53%|█████▎    | 106/200 [3:16:25<2:54:20, 111.28s/it]"
     ]
    },
    {
     "name": "stdout",
     "output_type": "stream",
     "text": [
      "Iterations:  116500 Epoch:  106 Generator loss:  11.112871170043945 Discriminator loss:  0.014127026312053204\n",
      "saving the output\n",
      "Iterations:  117000 Epoch:  106 Generator loss:  18.806718826293945 Discriminator loss:  0.025574825704097748\n",
      "saving the output\n"
     ]
    },
    {
     "name": "stderr",
     "output_type": "stream",
     "text": [
      " 54%|█████▎    | 107/200 [3:18:18<2:52:54, 111.55s/it]"
     ]
    },
    {
     "name": "stdout",
     "output_type": "stream",
     "text": [
      "Iterations:  117500 Epoch:  107 Generator loss:  14.01613998413086 Discriminator loss:  0.03822965919971466\n",
      "saving the output\n",
      "Iterations:  118000 Epoch:  107 Generator loss:  11.529525756835938 Discriminator loss:  0.006321657914668322\n",
      "saving the output\n"
     ]
    },
    {
     "name": "stderr",
     "output_type": "stream",
     "text": [
      " 54%|█████▍    | 108/200 [3:20:11<2:52:01, 112.19s/it]"
     ]
    },
    {
     "name": "stdout",
     "output_type": "stream",
     "text": [
      "Iterations:  118500 Epoch:  108 Generator loss:  10.89507007598877 Discriminator loss:  0.0013411841355264187\n",
      "saving the output\n",
      "Iterations:  119000 Epoch:  108 Generator loss:  11.793157577514648 Discriminator loss:  0.0011383940000087023\n",
      "saving the output\n"
     ]
    },
    {
     "name": "stderr",
     "output_type": "stream",
     "text": [
      " 55%|█████▍    | 109/200 [3:22:04<2:50:19, 112.30s/it]"
     ]
    },
    {
     "name": "stdout",
     "output_type": "stream",
     "text": [
      "Iterations:  119500 Epoch:  109 Generator loss:  10.084601402282715 Discriminator loss:  0.010027577169239521\n",
      "saving the output\n",
      "Iterations:  120000 Epoch:  109 Generator loss:  18.147781372070312 Discriminator loss:  0.0006955359713174403\n",
      "saving the output\n",
      "Iterations:  120500 Epoch:  109 Generator loss:  8.558401107788086 Discriminator loss:  0.08167997002601624\n",
      "saving the output\n"
     ]
    },
    {
     "name": "stderr",
     "output_type": "stream",
     "text": [
      " 55%|█████▌    | 110/200 [3:23:54<2:47:39, 111.77s/it]"
     ]
    },
    {
     "name": "stdout",
     "output_type": "stream",
     "text": [
      "Iterations:  121000 Epoch:  110 Generator loss:  8.921289443969727 Discriminator loss:  0.15873195230960846\n",
      "saving the output\n",
      "Iterations:  121500 Epoch:  110 Generator loss:  20.862682342529297 Discriminator loss:  9.614321925255354e-07\n",
      "saving the output\n"
     ]
    },
    {
     "name": "stderr",
     "output_type": "stream",
     "text": [
      " 56%|█████▌    | 111/200 [3:25:51<2:48:05, 113.32s/it]"
     ]
    },
    {
     "name": "stdout",
     "output_type": "stream",
     "text": [
      "Iterations:  122000 Epoch:  111 Generator loss:  21.037437438964844 Discriminator loss:  2.473819040460512e-05\n",
      "saving the output\n",
      "Iterations:  122500 Epoch:  111 Generator loss:  10.431640625 Discriminator loss:  0.010106279514729977\n",
      "saving the output\n"
     ]
    },
    {
     "name": "stderr",
     "output_type": "stream",
     "text": [
      " 56%|█████▌    | 112/200 [3:27:45<2:46:10, 113.30s/it]"
     ]
    },
    {
     "name": "stdout",
     "output_type": "stream",
     "text": [
      "Iterations:  123000 Epoch:  112 Generator loss:  26.00503158569336 Discriminator loss:  1.1008551155100577e-06\n",
      "saving the output\n",
      "Iterations:  123500 Epoch:  112 Generator loss:  10.51343822479248 Discriminator loss:  0.0028496268205344677\n",
      "saving the output\n"
     ]
    },
    {
     "name": "stderr",
     "output_type": "stream",
     "text": [
      " 56%|█████▋    | 113/200 [3:29:38<2:44:33, 113.49s/it]"
     ]
    },
    {
     "name": "stdout",
     "output_type": "stream",
     "text": [
      "Iterations:  124000 Epoch:  113 Generator loss:  12.38020133972168 Discriminator loss:  0.003925044555217028\n",
      "saving the output\n",
      "Iterations:  124500 Epoch:  113 Generator loss:  17.98140525817871 Discriminator loss:  8.817180059850216e-05\n",
      "saving the output\n"
     ]
    },
    {
     "name": "stderr",
     "output_type": "stream",
     "text": [
      " 57%|█████▋    | 114/200 [3:31:33<2:43:17, 113.92s/it]"
     ]
    },
    {
     "name": "stdout",
     "output_type": "stream",
     "text": [
      "Iterations:  125000 Epoch:  114 Generator loss:  13.55582046508789 Discriminator loss:  0.06346787512302399\n",
      "saving the output\n",
      "Iterations:  125500 Epoch:  114 Generator loss:  13.26333236694336 Discriminator loss:  0.0073095811530947685\n",
      "saving the output\n",
      "Iterations:  126000 Epoch:  114 Generator loss:  6.17825984954834 Discriminator loss:  0.35388630628585815\n",
      "saving the output\n"
     ]
    },
    {
     "name": "stderr",
     "output_type": "stream",
     "text": [
      " 57%|█████▊    | 115/200 [3:34:07<2:38:15, 111.71s/it]\n"
     ]
    },
    {
     "ename": "KeyboardInterrupt",
     "evalue": "",
     "output_type": "error",
     "traceback": [
      "\u001b[0;31m---------------------------------------------------------------------------\u001b[0m",
      "\u001b[0;31mKeyboardInterrupt\u001b[0m                         Traceback (most recent call last)",
      "Cell \u001b[0;32mIn[22], line 19\u001b[0m\n\u001b[1;32m     14\u001b[0m writer_real \u001b[38;5;241m=\u001b[39m SummaryWriter(\u001b[38;5;124mf\u001b[39m\u001b[38;5;124m\"\u001b[39m\u001b[38;5;124mlogs/real\u001b[39m\u001b[38;5;124m\"\u001b[39m)\n\u001b[1;32m     17\u001b[0m \u001b[38;5;28;01mfor\u001b[39;00m epoch \u001b[38;5;129;01min\u001b[39;00m tqdm(\u001b[38;5;28mrange\u001b[39m(epochs)):\n\u001b[0;32m---> 19\u001b[0m     \u001b[38;5;28;01mfor\u001b[39;00m X, y \u001b[38;5;129;01min\u001b[39;00m trainloader:\n\u001b[1;32m     22\u001b[0m         X \u001b[38;5;241m=\u001b[39m X\u001b[38;5;241m.\u001b[39mto(ModelArgs\u001b[38;5;241m.\u001b[39mdevice)\n\u001b[1;32m     23\u001b[0m         y \u001b[38;5;241m=\u001b[39m y\u001b[38;5;241m.\u001b[39mto(ModelArgs\u001b[38;5;241m.\u001b[39mdevice)\n",
      "File \u001b[0;32m~/miniconda3/envs/unsloth_env/lib/python3.10/site-packages/torch/utils/data/dataloader.py:631\u001b[0m, in \u001b[0;36m_BaseDataLoaderIter.__next__\u001b[0;34m(self)\u001b[0m\n\u001b[1;32m    628\u001b[0m \u001b[38;5;28;01mif\u001b[39;00m \u001b[38;5;28mself\u001b[39m\u001b[38;5;241m.\u001b[39m_sampler_iter \u001b[38;5;129;01mis\u001b[39;00m \u001b[38;5;28;01mNone\u001b[39;00m:\n\u001b[1;32m    629\u001b[0m     \u001b[38;5;66;03m# TODO(https://github.com/pytorch/pytorch/issues/76750)\u001b[39;00m\n\u001b[1;32m    630\u001b[0m     \u001b[38;5;28mself\u001b[39m\u001b[38;5;241m.\u001b[39m_reset()  \u001b[38;5;66;03m# type: ignore[call-arg]\u001b[39;00m\n\u001b[0;32m--> 631\u001b[0m data \u001b[38;5;241m=\u001b[39m \u001b[38;5;28;43mself\u001b[39;49m\u001b[38;5;241;43m.\u001b[39;49m\u001b[43m_next_data\u001b[49m\u001b[43m(\u001b[49m\u001b[43m)\u001b[49m\n\u001b[1;32m    632\u001b[0m \u001b[38;5;28mself\u001b[39m\u001b[38;5;241m.\u001b[39m_num_yielded \u001b[38;5;241m+\u001b[39m\u001b[38;5;241m=\u001b[39m \u001b[38;5;241m1\u001b[39m\n\u001b[1;32m    633\u001b[0m \u001b[38;5;28;01mif\u001b[39;00m \u001b[38;5;28mself\u001b[39m\u001b[38;5;241m.\u001b[39m_dataset_kind \u001b[38;5;241m==\u001b[39m _DatasetKind\u001b[38;5;241m.\u001b[39mIterable \u001b[38;5;129;01mand\u001b[39;00m \\\n\u001b[1;32m    634\u001b[0m         \u001b[38;5;28mself\u001b[39m\u001b[38;5;241m.\u001b[39m_IterableDataset_len_called \u001b[38;5;129;01mis\u001b[39;00m \u001b[38;5;129;01mnot\u001b[39;00m \u001b[38;5;28;01mNone\u001b[39;00m \u001b[38;5;129;01mand\u001b[39;00m \\\n\u001b[1;32m    635\u001b[0m         \u001b[38;5;28mself\u001b[39m\u001b[38;5;241m.\u001b[39m_num_yielded \u001b[38;5;241m>\u001b[39m \u001b[38;5;28mself\u001b[39m\u001b[38;5;241m.\u001b[39m_IterableDataset_len_called:\n",
      "File \u001b[0;32m~/miniconda3/envs/unsloth_env/lib/python3.10/site-packages/torch/utils/data/dataloader.py:675\u001b[0m, in \u001b[0;36m_SingleProcessDataLoaderIter._next_data\u001b[0;34m(self)\u001b[0m\n\u001b[1;32m    673\u001b[0m \u001b[38;5;28;01mdef\u001b[39;00m \u001b[38;5;21m_next_data\u001b[39m(\u001b[38;5;28mself\u001b[39m):\n\u001b[1;32m    674\u001b[0m     index \u001b[38;5;241m=\u001b[39m \u001b[38;5;28mself\u001b[39m\u001b[38;5;241m.\u001b[39m_next_index()  \u001b[38;5;66;03m# may raise StopIteration\u001b[39;00m\n\u001b[0;32m--> 675\u001b[0m     data \u001b[38;5;241m=\u001b[39m \u001b[38;5;28;43mself\u001b[39;49m\u001b[38;5;241;43m.\u001b[39;49m\u001b[43m_dataset_fetcher\u001b[49m\u001b[38;5;241;43m.\u001b[39;49m\u001b[43mfetch\u001b[49m\u001b[43m(\u001b[49m\u001b[43mindex\u001b[49m\u001b[43m)\u001b[49m  \u001b[38;5;66;03m# may raise StopIteration\u001b[39;00m\n\u001b[1;32m    676\u001b[0m     \u001b[38;5;28;01mif\u001b[39;00m \u001b[38;5;28mself\u001b[39m\u001b[38;5;241m.\u001b[39m_pin_memory:\n\u001b[1;32m    677\u001b[0m         data \u001b[38;5;241m=\u001b[39m _utils\u001b[38;5;241m.\u001b[39mpin_memory\u001b[38;5;241m.\u001b[39mpin_memory(data, \u001b[38;5;28mself\u001b[39m\u001b[38;5;241m.\u001b[39m_pin_memory_device)\n",
      "File \u001b[0;32m~/miniconda3/envs/unsloth_env/lib/python3.10/site-packages/torch/utils/data/_utils/fetch.py:51\u001b[0m, in \u001b[0;36m_MapDatasetFetcher.fetch\u001b[0;34m(self, possibly_batched_index)\u001b[0m\n\u001b[1;32m     49\u001b[0m         data \u001b[38;5;241m=\u001b[39m \u001b[38;5;28mself\u001b[39m\u001b[38;5;241m.\u001b[39mdataset\u001b[38;5;241m.\u001b[39m__getitems__(possibly_batched_index)\n\u001b[1;32m     50\u001b[0m     \u001b[38;5;28;01melse\u001b[39;00m:\n\u001b[0;32m---> 51\u001b[0m         data \u001b[38;5;241m=\u001b[39m [\u001b[38;5;28mself\u001b[39m\u001b[38;5;241m.\u001b[39mdataset[idx] \u001b[38;5;28;01mfor\u001b[39;00m idx \u001b[38;5;129;01min\u001b[39;00m possibly_batched_index]\n\u001b[1;32m     52\u001b[0m \u001b[38;5;28;01melse\u001b[39;00m:\n\u001b[1;32m     53\u001b[0m     data \u001b[38;5;241m=\u001b[39m \u001b[38;5;28mself\u001b[39m\u001b[38;5;241m.\u001b[39mdataset[possibly_batched_index]\n",
      "File \u001b[0;32m~/miniconda3/envs/unsloth_env/lib/python3.10/site-packages/torch/utils/data/_utils/fetch.py:51\u001b[0m, in \u001b[0;36m<listcomp>\u001b[0;34m(.0)\u001b[0m\n\u001b[1;32m     49\u001b[0m         data \u001b[38;5;241m=\u001b[39m \u001b[38;5;28mself\u001b[39m\u001b[38;5;241m.\u001b[39mdataset\u001b[38;5;241m.\u001b[39m__getitems__(possibly_batched_index)\n\u001b[1;32m     50\u001b[0m     \u001b[38;5;28;01melse\u001b[39;00m:\n\u001b[0;32m---> 51\u001b[0m         data \u001b[38;5;241m=\u001b[39m [\u001b[38;5;28;43mself\u001b[39;49m\u001b[38;5;241;43m.\u001b[39;49m\u001b[43mdataset\u001b[49m\u001b[43m[\u001b[49m\u001b[43midx\u001b[49m\u001b[43m]\u001b[49m \u001b[38;5;28;01mfor\u001b[39;00m idx \u001b[38;5;129;01min\u001b[39;00m possibly_batched_index]\n\u001b[1;32m     52\u001b[0m \u001b[38;5;28;01melse\u001b[39;00m:\n\u001b[1;32m     53\u001b[0m     data \u001b[38;5;241m=\u001b[39m \u001b[38;5;28mself\u001b[39m\u001b[38;5;241m.\u001b[39mdataset[possibly_batched_index]\n",
      "Cell \u001b[0;32mIn[18], line 16\u001b[0m, in \u001b[0;36mAerial2MapDataset.__getitem__\u001b[0;34m(self, index)\u001b[0m\n\u001b[1;32m     14\u001b[0m current_img \u001b[38;5;241m=\u001b[39m \u001b[38;5;28mself\u001b[39m\u001b[38;5;241m.\u001b[39mdir[index]\n\u001b[1;32m     15\u001b[0m img_path \u001b[38;5;241m=\u001b[39m os\u001b[38;5;241m.\u001b[39mpath\u001b[38;5;241m.\u001b[39mjoin(\u001b[38;5;28mself\u001b[39m\u001b[38;5;241m.\u001b[39mtrain_path, current_img) \n\u001b[0;32m---> 16\u001b[0m img \u001b[38;5;241m=\u001b[39m np\u001b[38;5;241m.\u001b[39marray(\u001b[43mImage\u001b[49m\u001b[38;5;241;43m.\u001b[39;49m\u001b[43mopen\u001b[49m\u001b[43m(\u001b[49m\u001b[43mimg_path\u001b[49m\u001b[43m)\u001b[49m)\n\u001b[1;32m     17\u001b[0m \u001b[38;5;28minput\u001b[39m \u001b[38;5;241m=\u001b[39m img[:, :\u001b[38;5;241m600\u001b[39m, :]\n\u001b[1;32m     18\u001b[0m mask \u001b[38;5;241m=\u001b[39m img[:, \u001b[38;5;241m600\u001b[39m:, :]\n",
      "File \u001b[0;32m~/miniconda3/envs/unsloth_env/lib/python3.10/site-packages/PIL/Image.py:3431\u001b[0m, in \u001b[0;36mopen\u001b[0;34m(fp, mode, formats)\u001b[0m\n\u001b[1;32m   3428\u001b[0m     filename \u001b[38;5;241m=\u001b[39m os\u001b[38;5;241m.\u001b[39mpath\u001b[38;5;241m.\u001b[39mrealpath(os\u001b[38;5;241m.\u001b[39mfspath(fp))\n\u001b[1;32m   3430\u001b[0m \u001b[38;5;28;01mif\u001b[39;00m filename:\n\u001b[0;32m-> 3431\u001b[0m     fp \u001b[38;5;241m=\u001b[39m \u001b[43mbuiltins\u001b[49m\u001b[38;5;241;43m.\u001b[39;49m\u001b[43mopen\u001b[49m\u001b[43m(\u001b[49m\u001b[43mfilename\u001b[49m\u001b[43m,\u001b[49m\u001b[43m \u001b[49m\u001b[38;5;124;43m\"\u001b[39;49m\u001b[38;5;124;43mrb\u001b[39;49m\u001b[38;5;124;43m\"\u001b[39;49m\u001b[43m)\u001b[49m\n\u001b[1;32m   3432\u001b[0m     exclusive_fp \u001b[38;5;241m=\u001b[39m \u001b[38;5;28;01mTrue\u001b[39;00m\n\u001b[1;32m   3433\u001b[0m \u001b[38;5;28;01melse\u001b[39;00m:\n",
      "\u001b[0;31mKeyboardInterrupt\u001b[0m: "
     ]
    }
   ],
   "source": [
    "#Training loop\n",
    "\n",
    "\n",
    "import random\n",
    "from tqdm import tqdm\n",
    "\n",
    "\n",
    "unet.train()\n",
    "discriminator.train()\n",
    "\n",
    "iters = 0\n",
    "\n",
    "writer_fake = SummaryWriter(f\"logs/fake\")\n",
    "writer_real = SummaryWriter(f\"logs/real\")\n",
    "\n",
    "\n",
    "for epoch in tqdm(range(epochs)):\n",
    "\n",
    "    for X, y in trainloader:\n",
    "\n",
    "    \n",
    "        X = X.to(ModelArgs.device)\n",
    "        y = y.to(ModelArgs.device)\n",
    "        \n",
    "        # print(X.shape)\n",
    "        # print(y.shape)\n",
    "        \n",
    "        #Train the discriminator (with real data)\n",
    "\n",
    "        ############################\n",
    "        # (1) Update D network: maximize: log(1 - D(G(z)))\n",
    "        ###########################\n",
    "        \n",
    "        #Enabling the discriminators trainable ability \n",
    "        for params in discriminator.parameters():\n",
    "            params.requires_grad_ = True            \n",
    "            \n",
    "        current_batch_size = X.shape[0]  #Getting the current batch size\n",
    "        \n",
    "        real_data = torch.ones((current_batch_size,), device=ModelArgs.device, dtype=torch.float32)\n",
    "\n",
    "        # 1. Forward pass\n",
    "        y_pred = discriminator(X, y).mean(dim=[2,3]).squeeze(dim=1)\n",
    "        # print(y_pred)\n",
    "        # print(y_pred.shape)\n",
    "        # 2. Calculate  and accumulate loss\n",
    "        loss_real = loss_fn(y_pred, real_data)\n",
    "\n",
    "        # 3. Optimizer zero grad\n",
    "        optimizerD.zero_grad()\n",
    "\n",
    "       \n",
    "        # loss_real.backward()\n",
    "\n",
    "\n",
    "        #Train the discriminator (with fake data)\n",
    "\n",
    "        # noise = torch.randn((batch_size, latent_vector_size, 1, 1), device=device)\n",
    "        fake_data = torch.zeros(( current_batch_size,), device=ModelArgs.device, dtype=torch.float32)\n",
    "        mask_generated_by_generator = unet(X)\n",
    "\n",
    "        #1. Forward pass\n",
    "        y_pred = discriminator(X,mask_generated_by_generator.detach()).mean(dim=[2,3]).squeeze(dim=1)\n",
    "\n",
    "\n",
    "        # 2. Calculate  and accumulate loss\n",
    "        loss_fake = loss_fn(y_pred, fake_data)\n",
    "\n",
    "\n",
    "        #Accumulating total discriminator loss\n",
    "        discriminator_combined_loss = (loss_real + loss_fake) * 0.5\n",
    "        loss_d.append(discriminator_combined_loss.item())\n",
    "\n",
    "         # 4. Loss backward\n",
    "        discriminator_combined_loss.backward()\n",
    "        \n",
    "         # 5. Optimizer step\n",
    "        optimizerD.step()\n",
    "\n",
    "\n",
    "        ############################\n",
    "        # (2) Update G network: maximize log(D(G(z)))\n",
    "        ###########################\n",
    "        \n",
    "        #Disabling the discriminators trainable ability \n",
    "        for params in discriminator.parameters():\n",
    "            params.requires_grad_ = False\n",
    "            \n",
    "        # mask_generated_by_generator = unet(X)\n",
    "        labels = torch.ones((current_batch_size,), device=ModelArgs.device, dtype=torch.float32)\n",
    "\n",
    "        #1. Forward pass\n",
    "        y_pred = discriminator(X, mask_generated_by_generator).mean(dim=[2,3]).squeeze(dim=1)\n",
    "        # y_pred = torch.argmax(probs, dim=1).type(torch.float32)\n",
    "\n",
    "\n",
    "        #2. Calculate and accumulate loss\n",
    "        loss_gen = loss_fn(y_pred,labels) + ModelArgs.lambda_gen * (nn.functional.l1_loss(mask_generated_by_generator, y))\n",
    "\n",
    "\n",
    "        # 3. Optimizer zero grad\n",
    "        optimizerG.zero_grad()\n",
    "\n",
    "        # 4. Loss backward\n",
    "        loss_gen.backward()\n",
    "\n",
    "        # 5. Optimizer step\n",
    "        optimizerG.step()\n",
    "\n",
    "        loss_g.append(loss_gen.item())\n",
    "\n",
    "\n",
    "        if iters % 500 == 0:\n",
    "            print(\"Iterations: \", iters, \"Epoch: \", epoch, \"Generator loss: \", loss_gen.item(), \"Discriminator loss: \", discriminator_combined_loss.item())\n",
    "\n",
    "        #save the output\n",
    "        # with torch.inference_mode():\n",
    "            \n",
    "            \n",
    "            \n",
    "        if iters % 500 == 0:\n",
    "            \n",
    "            print('saving the output')\n",
    "            torchvision.utils.save_image(y,'{}/real_images_iters_{}.png'.format(save_images, iters),normalize=True)\n",
    "            fake = unet(X)\n",
    "            torchvision.utils.save_image(fake,'{}/fake_images_iters_{}.png'.format(save_images, iters),normalize=True)\n",
    "\n",
    "            img_grid_fake = torchvision.utils.make_grid(fake, normalize=True)\n",
    "            img_grid_real = torchvision.utils.make_grid(y, normalize=True)\n",
    "            # img_grid_map = torchvision.utils.make_grid(X, normalize=True)\n",
    "                \n",
    "            writer_fake.add_image(\n",
    "                        \"Map2erial Fake Images\", img_grid_fake, global_step=iters\n",
    "                    )\n",
    "            writer_real.add_image(\n",
    "                        \"Map2Aerial Mask Images\", img_grid_real, global_step=iters\n",
    "                    )\n",
    "            \n",
    "            # writer_real.add_image(\n",
    "            #             \"Map2Aerial Aerial Images\", img_grid_map, global_step=iters\n",
    "            #         )\n",
    "                    \n",
    "\n",
    "            # Check pointing for every epoch\n",
    "            # torch.save(generator.state_dict(), 'weights/CelebA/generator_steps_%d.pth' % (iters))\n",
    "            # torch.save(discriminator.state_dict(), 'weights/CelebA/discriminator_steps_%d.pth' % (iters))\n",
    "\n",
    "\n",
    "        iters += 1\n"
   ]
  },
  {
   "cell_type": "code",
   "execution_count": null,
   "metadata": {},
   "outputs": [],
   "source": [
    "#For MNIST\n",
    "import matplotlib.pyplot as plt\n",
    "import matplotlib.animation as animation\n",
    "from IPython.display import HTML\n",
    "import numpy as np\n",
    "\n",
    "plt.figure(figsize=(10,5))\n",
    "plt.title(\"Generator and Discriminator Loss During Training\")\n",
    "plt.plot(loss_g,label=\"G\")\n",
    "plt.plot(loss_d,label=\"D\")\n",
    "plt.xlabel(\"Iterations\")\n",
    "plt.ylabel(\"Loss\")\n",
    "plt.legend()\n",
    "plt.show()\n",
    "\n"
   ]
  }
 ],
 "metadata": {
  "kernelspec": {
   "display_name": "unsloth_env",
   "language": "python",
   "name": "python3"
  },
  "language_info": {
   "codemirror_mode": {
    "name": "ipython",
    "version": 3
   },
   "file_extension": ".py",
   "mimetype": "text/x-python",
   "name": "python",
   "nbconvert_exporter": "python",
   "pygments_lexer": "ipython3",
   "version": "3.10.14"
  }
 },
 "nbformat": 4,
 "nbformat_minor": 2
}
