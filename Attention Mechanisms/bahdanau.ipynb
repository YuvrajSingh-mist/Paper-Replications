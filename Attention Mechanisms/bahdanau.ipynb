{
 "cells": [
  {
   "cell_type": "code",
   "execution_count": null,
   "metadata": {},
   "outputs": [],
   "source": [
    "# !pip install torch==2.3.0 torchtext==0.18.0\n",
    "import torch\n",
    "import torch.nn as nn"
   ]
  },
  {
   "cell_type": "code",
   "execution_count": null,
   "metadata": {},
   "outputs": [],
   "source": [
    "from dataclasses import dataclass\n",
    "\n",
    "\n",
    "@dataclass\n",
    "class ModelArgs:\n",
    "    device = 'cuda'\n",
    "    no_of_neurons = 128\n",
    "    block_size = 32\n",
    "    batch_size = 32\n",
    "    en_vocab_size = None\n",
    "    de_vocab_size = None\n",
    "    dropout = 0.1\n",
    "    epoch = 50\n",
    "    max_lr = 1e-4\n",
    "    embedding_dims = 1024\n",
    "    num_layers = 4\n",
    "    hidden_dim = 4*embedding_dims"
   ]
  },
  {
   "cell_type": "code",
   "execution_count": null,
   "metadata": {},
   "outputs": [],
   "source": [
    "class BandhanauAttention(nn.Module):\n",
    "    def __init__(self, hidden_size):\n",
    "        super(BandhanauAttention, self).__init__()\n",
    "        self.linear_layer_1 = nn.Linear(2 * ModelArgs.no_of_neurons, ModelArgs.hidden_dim, device=ModelArgs.device)\n",
    "        self.linear_layer_2 = nn.Linear(ModelArgs.hidden_dim, ModelArgs.embedding_dims, device=ModelArgs.device)\n",
    "\n",
    "    def forward(self, st_1, ht):\n",
    "        # print(\"inside att st: \", st_1.shape)\n",
    "        # print(\"inside att ht: \", ht.shape)\n",
    "        st_1 = st_1.expand(-1, ht.shape[1], -1)\n",
    "        combined = torch.cat([st_1, ht], dim=-1)\n",
    "        out = self.linear_layer_1(combined)\n",
    "        out = torch.nn.functional.tanh(out)\n",
    "        out = self.linear_layer_2(out)\n",
    "        attention_weights = torch.nn.functional.softmax(out, dim=1)\n",
    "        # print(\"attn: \", attention_weights.shape)\n",
    "        # print((attention_weights * ModelArgs.block_size).shape)\n",
    "        # print(torch.sum((attention_weights * ModelArgs.block_size), dim=1).shape)\n",
    "        context_vector = torch.sum(attention_weights * ModelArgs.block_size, dim=1)\n",
    "        return context_vector, attention_weights"
   ]
  }
 ],
 "metadata": {
  "kernelspec": {
   "display_name": "mt",
   "language": "python",
   "name": "python3"
  },
  "language_info": {
   "name": "python",
   "version": "3.11.11"
  }
 },
 "nbformat": 4,
 "nbformat_minor": 2
}
