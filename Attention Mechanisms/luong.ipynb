{
 "cells": [
  {
   "cell_type": "code",
   "execution_count": 1,
   "metadata": {},
   "outputs": [],
   "source": [
    "import torch\n"
   ]
  },
  {
   "cell_type": "code",
   "execution_count": 2,
   "metadata": {},
   "outputs": [],
   "source": [
    "import torch.nn as nn"
   ]
  },
  {
   "cell_type": "code",
   "execution_count": 3,
   "metadata": {},
   "outputs": [],
   "source": [
    "from dataclasses import dataclass\n",
    "\n",
    "\n",
    "@dataclass\n",
    "class ModelArgs:\n",
    "    device = 'cuda'\n",
    "    no_of_neurons = 128\n",
    "    block_size = 32\n",
    "    batch_size = 32\n",
    "    en_vocab_size = None\n",
    "    de_vocab_size = None\n",
    "    dropout = 0.1\n",
    "    epoch = 50\n",
    "    max_lr = 1e-4\n",
    "    embedding_dims = 1024\n",
    "    num_layers = 4\n",
    "    hidden_dim = 4*embedding_dims"
   ]
  },
  {
   "cell_type": "code",
   "execution_count": null,
   "metadata": {},
   "outputs": [],
   "source": [
    "class LuongAttention(nn.Module):\n",
    "    def __init__(self, hidden_size):\n",
    "        super(LuongAttention, self).__init__()\n",
    "\n",
    "\n",
    "    def forward(self, st, ht):\n",
    "        # print(\"inside att st: \", st.shape)\n",
    "        # print(\"inside att ht: \", ht.shape)\n",
    "        st = st.expand(-1, ht.shape[1], -1)\n",
    "        \n",
    "        # dot = torch.dot(st, ht, )\n",
    "        dot = torch.sum(st * ht, dim=-1)\n",
    "  \n",
    "        attention_weights = torch.nn.functional.softmax(dot, dim=1)\n",
    "        # print(\"attn: \", attention_weights.shape)\n",
    "\n",
    "       \n",
    "        attention_weights = attention_weights.unsqueeze(-1) #Batch size ,Timesteps , embeddings_dimensions\n",
    "\n",
    "        out = attention_weights * ht  # Shape: (batch_size, timesteps, hidden_size)\n",
    "\n",
    "        context_vector = torch.sum(out, dim=1)\n",
    "        return context_vector, attention_weights"
   ]
  }
 ],
 "metadata": {
  "kernelspec": {
   "display_name": "mt",
   "language": "python",
   "name": "python3"
  },
  "language_info": {
   "codemirror_mode": {
    "name": "ipython",
    "version": 3
   },
   "file_extension": ".py",
   "mimetype": "text/x-python",
   "name": "python",
   "nbconvert_exporter": "python",
   "pygments_lexer": "ipython3",
   "version": "3.11.11"
  }
 },
 "nbformat": 4,
 "nbformat_minor": 2
}
